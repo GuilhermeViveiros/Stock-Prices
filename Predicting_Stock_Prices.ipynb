{
  "nbformat": 4,
  "nbformat_minor": 0,
  "metadata": {
    "kernelspec": {
      "name": "python3",
      "display_name": "Python 3",
      "language": "python"
    },
    "language_info": {
      "name": "python",
      "version": "3.6.6",
      "mimetype": "text/x-python",
      "codemirror_mode": {
        "name": "ipython",
        "version": 3
      },
      "pygments_lexer": "ipython3",
      "nbconvert_exporter": "python",
      "file_extension": ".py"
    },
    "colab": {
      "name": "Predicting Stock Prices.ipynb",
      "provenance": [],
      "collapsed_sections": [],
      "toc_visible": true
    }
  },
  "cells": [
    {
      "cell_type": "code",
      "metadata": {
        "id": "gX-811gCxFDe",
        "colab_type": "code",
        "outputId": "897885d7-5b4c-4968-de5c-955b77008316",
        "colab": {
          "base_uri": "https://localhost:8080/",
          "height": 125
        }
      },
      "source": [
        "from google.colab import drive\n",
        "drive.mount('/content/drive')"
      ],
      "execution_count": 1,
      "outputs": [
        {
          "output_type": "stream",
          "text": [
            "Go to this URL in a browser: https://accounts.google.com/o/oauth2/auth?client_id=947318989803-6bn6qk8qdgf4n4g3pfee6491hc0brc4i.apps.googleusercontent.com&redirect_uri=urn%3aietf%3awg%3aoauth%3a2.0%3aoob&response_type=code&scope=email%20https%3a%2f%2fwww.googleapis.com%2fauth%2fdocs.test%20https%3a%2f%2fwww.googleapis.com%2fauth%2fdrive%20https%3a%2f%2fwww.googleapis.com%2fauth%2fdrive.photos.readonly%20https%3a%2f%2fwww.googleapis.com%2fauth%2fpeopleapi.readonly\n",
            "\n",
            "Enter your authorization code:\n",
            "··········\n",
            "Mounted at /content/drive\n"
          ],
          "name": "stdout"
        }
      ]
    },
    {
      "cell_type": "markdown",
      "metadata": {
        "id": "LkfNge6XwzmX",
        "colab_type": "text"
      },
      "source": [
        "## This notebook was made too predict sotck prices with traditional machine learning algorithms and deep learning\n",
        "\n",
        "### To run this notebook ensure that you have already the dataset provided by kaggle -> daily-historical-stock-prices-1970-2018\n",
        "## if you are running on local machine or google colab skip this part\n",
        "\n",
        "> ensure that you have the folder : \n",
        "1. /kaggle/input/daily-historical-stock-prices-1970-2018/historical_stock_prices.csv\n",
        "2. /kaggle/input/daily-historical-stock-prices-1970-2018/historical_stocks.csv"
      ]
    },
    {
      "cell_type": "code",
      "metadata": {
        "_cell_guid": "b1076dfc-b9ad-4769-8c92-a6c4dae69d19",
        "_uuid": "8f2839f25d086af736a60e9eeb907d3b93b6e0e5",
        "trusted": true,
        "id": "fTH4iatNwzmY",
        "colab_type": "code",
        "outputId": "f2499482-d502-448a-968f-c526e0b9f480",
        "colab": {
          "base_uri": "https://localhost:8080/",
          "height": 72
        }
      },
      "source": [
        "import numpy as np # linear algebra\n",
        "import pandas as pd # data processing, CSV file I/O (e.g. pd.read_csv)\n",
        "import matplotlib.pyplot as plt #ploting graphics\n",
        "import seaborn as sns\n",
        "import os\n",
        "for dirname, _, filenames in os.walk('/kaggle/input'):\n",
        "    for filename in filenames:\n",
        "        print(os.path.join(dirname, filename))\n",
        "\n",
        "# Any results you write to the current directory are saved as output."
      ],
      "execution_count": 2,
      "outputs": [
        {
          "output_type": "stream",
          "text": [
            "/usr/local/lib/python3.6/dist-packages/statsmodels/tools/_testing.py:19: FutureWarning: pandas.util.testing is deprecated. Use the functions in the public API at pandas.testing instead.\n",
            "  import pandas.util.testing as tm\n"
          ],
          "name": "stderr"
        }
      ]
    },
    {
      "cell_type": "code",
      "metadata": {
        "id": "A-Sj2CR3xZ0x",
        "colab_type": "code",
        "outputId": "5a651b17-259c-496c-ebc3-b0e0bffb1ba1",
        "colab": {
          "base_uri": "https://localhost:8080/",
          "height": 52
        }
      },
      "source": [
        "#if your using colab\n",
        "!unzip drive/My\\ Drive/historical_stock_prices.csv.zip "
      ],
      "execution_count": 3,
      "outputs": [
        {
          "output_type": "stream",
          "text": [
            "Archive:  drive/My Drive/historical_stock_prices.csv.zip\n",
            "  inflating: historical_stock_prices.csv  \n"
          ],
          "name": "stdout"
        }
      ]
    },
    {
      "cell_type": "markdown",
      "metadata": {
        "id": "Tk5_2Vw6wzme",
        "colab_type": "text"
      },
      "source": [
        "Starting by visualizing data;"
      ]
    },
    {
      "cell_type": "code",
      "metadata": {
        "_cell_guid": "79c7e3d0-c299-4dcb-8224-4455121ee9b0",
        "_uuid": "d629ff2d2480ee46fbb7e2d37f6b5fab8052498a",
        "trusted": true,
        "id": "P70U7TOLwzmf",
        "colab_type": "code",
        "colab": {}
      },
      "source": [
        "missing_values = [\"n/a\", \"na\", \"--\"]\n",
        "\n",
        "#colab\n",
        "stocks = pd.read_csv('/content/drive/My Drive/historical_stocks.csv',na_values = missing_values)\n",
        "\n",
        "#kaggle\n",
        "#stocks = pd.read_csv('/content/drive/My Drive/historical_stocks.csv',na_values = missing_values)"
      ],
      "execution_count": 0,
      "outputs": []
    },
    {
      "cell_type": "markdown",
      "metadata": {
        "id": "n2XepOjEwzmi",
        "colab_type": "text"
      },
      "source": [
        "Let's start with a small preview of the corresponding dataframe read previously;"
      ]
    },
    {
      "cell_type": "code",
      "metadata": {
        "trusted": true,
        "id": "w357Mm3Rwzmj",
        "colab_type": "code",
        "outputId": "de009d4c-65dc-4362-b0bf-e36ab692652f",
        "colab": {
          "base_uri": "https://localhost:8080/",
          "height": 197
        }
      },
      "source": [
        "stocks.head()"
      ],
      "execution_count": 5,
      "outputs": [
        {
          "output_type": "execute_result",
          "data": {
            "text/html": [
              "<div>\n",
              "<style scoped>\n",
              "    .dataframe tbody tr th:only-of-type {\n",
              "        vertical-align: middle;\n",
              "    }\n",
              "\n",
              "    .dataframe tbody tr th {\n",
              "        vertical-align: top;\n",
              "    }\n",
              "\n",
              "    .dataframe thead th {\n",
              "        text-align: right;\n",
              "    }\n",
              "</style>\n",
              "<table border=\"1\" class=\"dataframe\">\n",
              "  <thead>\n",
              "    <tr style=\"text-align: right;\">\n",
              "      <th></th>\n",
              "      <th>ticker</th>\n",
              "      <th>exchange</th>\n",
              "      <th>name</th>\n",
              "      <th>sector</th>\n",
              "      <th>industry</th>\n",
              "    </tr>\n",
              "  </thead>\n",
              "  <tbody>\n",
              "    <tr>\n",
              "      <th>0</th>\n",
              "      <td>PIH</td>\n",
              "      <td>NASDAQ</td>\n",
              "      <td>1347 PROPERTY INSURANCE HOLDINGS, INC.</td>\n",
              "      <td>FINANCE</td>\n",
              "      <td>PROPERTY-CASUALTY INSURERS</td>\n",
              "    </tr>\n",
              "    <tr>\n",
              "      <th>1</th>\n",
              "      <td>PIHPP</td>\n",
              "      <td>NASDAQ</td>\n",
              "      <td>1347 PROPERTY INSURANCE HOLDINGS, INC.</td>\n",
              "      <td>FINANCE</td>\n",
              "      <td>PROPERTY-CASUALTY INSURERS</td>\n",
              "    </tr>\n",
              "    <tr>\n",
              "      <th>2</th>\n",
              "      <td>TURN</td>\n",
              "      <td>NASDAQ</td>\n",
              "      <td>180 DEGREE CAPITAL CORP.</td>\n",
              "      <td>FINANCE</td>\n",
              "      <td>FINANCE/INVESTORS SERVICES</td>\n",
              "    </tr>\n",
              "    <tr>\n",
              "      <th>3</th>\n",
              "      <td>FLWS</td>\n",
              "      <td>NASDAQ</td>\n",
              "      <td>1-800 FLOWERS.COM, INC.</td>\n",
              "      <td>CONSUMER SERVICES</td>\n",
              "      <td>OTHER SPECIALTY STORES</td>\n",
              "    </tr>\n",
              "    <tr>\n",
              "      <th>4</th>\n",
              "      <td>FCCY</td>\n",
              "      <td>NASDAQ</td>\n",
              "      <td>1ST CONSTITUTION BANCORP (NJ)</td>\n",
              "      <td>FINANCE</td>\n",
              "      <td>SAVINGS INSTITUTIONS</td>\n",
              "    </tr>\n",
              "  </tbody>\n",
              "</table>\n",
              "</div>"
            ],
            "text/plain": [
              "  ticker exchange  ...             sector                    industry\n",
              "0    PIH   NASDAQ  ...            FINANCE  PROPERTY-CASUALTY INSURERS\n",
              "1  PIHPP   NASDAQ  ...            FINANCE  PROPERTY-CASUALTY INSURERS\n",
              "2   TURN   NASDAQ  ...            FINANCE  FINANCE/INVESTORS SERVICES\n",
              "3   FLWS   NASDAQ  ...  CONSUMER SERVICES      OTHER SPECIALTY STORES\n",
              "4   FCCY   NASDAQ  ...            FINANCE        SAVINGS INSTITUTIONS\n",
              "\n",
              "[5 rows x 5 columns]"
            ]
          },
          "metadata": {
            "tags": []
          },
          "execution_count": 5
        }
      ]
    },
    {
      "cell_type": "code",
      "metadata": {
        "trusted": true,
        "id": "71LiLw62wzmm",
        "colab_type": "code",
        "outputId": "ff9744db-8a87-4f62-a740-e45d14eb8925",
        "colab": {
          "base_uri": "https://localhost:8080/",
          "height": 34
        }
      },
      "source": [
        "stocks.columns"
      ],
      "execution_count": 6,
      "outputs": [
        {
          "output_type": "execute_result",
          "data": {
            "text/plain": [
              "Index(['ticker', 'exchange', 'name', 'sector', 'industry'], dtype='object')"
            ]
          },
          "metadata": {
            "tags": []
          },
          "execution_count": 6
        }
      ]
    },
    {
      "cell_type": "code",
      "metadata": {
        "trusted": true,
        "id": "xWxuiEzdwzmp",
        "colab_type": "code",
        "outputId": "4ab14613-c9a0-4734-f4a1-b3b146d78554",
        "colab": {
          "base_uri": "https://localhost:8080/",
          "height": 167
        }
      },
      "source": [
        "stocks.describe()"
      ],
      "execution_count": 7,
      "outputs": [
        {
          "output_type": "execute_result",
          "data": {
            "text/html": [
              "<div>\n",
              "<style scoped>\n",
              "    .dataframe tbody tr th:only-of-type {\n",
              "        vertical-align: middle;\n",
              "    }\n",
              "\n",
              "    .dataframe tbody tr th {\n",
              "        vertical-align: top;\n",
              "    }\n",
              "\n",
              "    .dataframe thead th {\n",
              "        text-align: right;\n",
              "    }\n",
              "</style>\n",
              "<table border=\"1\" class=\"dataframe\">\n",
              "  <thead>\n",
              "    <tr style=\"text-align: right;\">\n",
              "      <th></th>\n",
              "      <th>ticker</th>\n",
              "      <th>exchange</th>\n",
              "      <th>name</th>\n",
              "      <th>sector</th>\n",
              "      <th>industry</th>\n",
              "    </tr>\n",
              "  </thead>\n",
              "  <tbody>\n",
              "    <tr>\n",
              "      <th>count</th>\n",
              "      <td>6460</td>\n",
              "      <td>6460</td>\n",
              "      <td>6460</td>\n",
              "      <td>5020</td>\n",
              "      <td>5020</td>\n",
              "    </tr>\n",
              "    <tr>\n",
              "      <th>unique</th>\n",
              "      <td>6460</td>\n",
              "      <td>2</td>\n",
              "      <td>5462</td>\n",
              "      <td>13</td>\n",
              "      <td>136</td>\n",
              "    </tr>\n",
              "    <tr>\n",
              "      <th>top</th>\n",
              "      <td>AMPH</td>\n",
              "      <td>NASDAQ</td>\n",
              "      <td>BANK OF AMERICA CORPORATION</td>\n",
              "      <td>FINANCE</td>\n",
              "      <td>MAJOR PHARMACEUTICALS</td>\n",
              "    </tr>\n",
              "    <tr>\n",
              "      <th>freq</th>\n",
              "      <td>1</td>\n",
              "      <td>3308</td>\n",
              "      <td>16</td>\n",
              "      <td>1022</td>\n",
              "      <td>419</td>\n",
              "    </tr>\n",
              "  </tbody>\n",
              "</table>\n",
              "</div>"
            ],
            "text/plain": [
              "       ticker exchange  ...   sector               industry\n",
              "count    6460     6460  ...     5020                   5020\n",
              "unique   6460        2  ...       13                    136\n",
              "top      AMPH   NASDAQ  ...  FINANCE  MAJOR PHARMACEUTICALS\n",
              "freq        1     3308  ...     1022                    419\n",
              "\n",
              "[4 rows x 5 columns]"
            ]
          },
          "metadata": {
            "tags": []
          },
          "execution_count": 7
        }
      ]
    },
    {
      "cell_type": "markdown",
      "metadata": {
        "id": "1eti1HYtwzmt",
        "colab_type": "text"
      },
      "source": [
        "We realize there are 5 columns and this dataset:\n",
        "\n",
        "- 'ticker' corresponds to the name of the share\n",
        "- 'exchange' corresponds to the type of exchange made \n",
        "- 'name' refers the company's name\n",
        "- 'sector' refers to the actual sector where the given company operates\n",
        "- 'industry' specifies the type of services that can be provided\n",
        "\n",
        "We also know that this dataset contains missing values :\n",
        "\n",
        "> We have missing values on columns 'sector' and 'industry'\n"
      ]
    },
    {
      "cell_type": "code",
      "metadata": {
        "trusted": true,
        "id": "La6rmJvCwzmt",
        "colab_type": "code",
        "outputId": "bce482bc-7551-4329-e647-533af659c502",
        "colab": {
          "base_uri": "https://localhost:8080/",
          "height": 34
        }
      },
      "source": [
        "stocks.shape"
      ],
      "execution_count": 8,
      "outputs": [
        {
          "output_type": "execute_result",
          "data": {
            "text/plain": [
              "(6460, 5)"
            ]
          },
          "metadata": {
            "tags": []
          },
          "execution_count": 8
        }
      ]
    },
    {
      "cell_type": "code",
      "metadata": {
        "trusted": true,
        "id": "RFnm9LEPwzmy",
        "colab_type": "code",
        "outputId": "c66f472b-0315-4eb3-f43b-8e0b29e12ddb",
        "colab": {
          "base_uri": "https://localhost:8080/",
          "height": 34
        }
      },
      "source": [
        "stocks['ticker'].unique().size"
      ],
      "execution_count": 9,
      "outputs": [
        {
          "output_type": "execute_result",
          "data": {
            "text/plain": [
              "6460"
            ]
          },
          "metadata": {
            "tags": []
          },
          "execution_count": 9
        }
      ]
    },
    {
      "cell_type": "markdown",
      "metadata": {
        "id": "Rz-F5-8Awzm2",
        "colab_type": "text"
      },
      "source": [
        "> We realize there are 6460 entries to the table, where the unique identifiers are the share's names, meaning that a company's name can show up twice if it has, throughout the established period of time, changed the name of it's stocks. We will note that, for having to change the type of exchange, the companies also changed the name of the shares;\n",
        "\n",
        "> One example of this is:"
      ]
    },
    {
      "cell_type": "code",
      "metadata": {
        "trusted": true,
        "id": "u_XPCzCtwzm2",
        "colab_type": "code",
        "outputId": "ad4523a1-4798-4f87-80eb-eb9f27b745b8",
        "colab": {
          "base_uri": "https://localhost:8080/",
          "height": 107
        }
      },
      "source": [
        "stocks[stocks['name'] == \"1347 PROPERTY INSURANCE HOLDINGS, INC.\"]"
      ],
      "execution_count": 10,
      "outputs": [
        {
          "output_type": "execute_result",
          "data": {
            "text/html": [
              "<div>\n",
              "<style scoped>\n",
              "    .dataframe tbody tr th:only-of-type {\n",
              "        vertical-align: middle;\n",
              "    }\n",
              "\n",
              "    .dataframe tbody tr th {\n",
              "        vertical-align: top;\n",
              "    }\n",
              "\n",
              "    .dataframe thead th {\n",
              "        text-align: right;\n",
              "    }\n",
              "</style>\n",
              "<table border=\"1\" class=\"dataframe\">\n",
              "  <thead>\n",
              "    <tr style=\"text-align: right;\">\n",
              "      <th></th>\n",
              "      <th>ticker</th>\n",
              "      <th>exchange</th>\n",
              "      <th>name</th>\n",
              "      <th>sector</th>\n",
              "      <th>industry</th>\n",
              "    </tr>\n",
              "  </thead>\n",
              "  <tbody>\n",
              "    <tr>\n",
              "      <th>0</th>\n",
              "      <td>PIH</td>\n",
              "      <td>NASDAQ</td>\n",
              "      <td>1347 PROPERTY INSURANCE HOLDINGS, INC.</td>\n",
              "      <td>FINANCE</td>\n",
              "      <td>PROPERTY-CASUALTY INSURERS</td>\n",
              "    </tr>\n",
              "    <tr>\n",
              "      <th>1</th>\n",
              "      <td>PIHPP</td>\n",
              "      <td>NASDAQ</td>\n",
              "      <td>1347 PROPERTY INSURANCE HOLDINGS, INC.</td>\n",
              "      <td>FINANCE</td>\n",
              "      <td>PROPERTY-CASUALTY INSURERS</td>\n",
              "    </tr>\n",
              "  </tbody>\n",
              "</table>\n",
              "</div>"
            ],
            "text/plain": [
              "  ticker exchange  ...   sector                    industry\n",
              "0    PIH   NASDAQ  ...  FINANCE  PROPERTY-CASUALTY INSURERS\n",
              "1  PIHPP   NASDAQ  ...  FINANCE  PROPERTY-CASUALTY INSURERS\n",
              "\n",
              "[2 rows x 5 columns]"
            ]
          },
          "metadata": {
            "tags": []
          },
          "execution_count": 10
        }
      ]
    },
    {
      "cell_type": "markdown",
      "metadata": {
        "id": "BAum3l_Iwzm5",
        "colab_type": "text"
      },
      "source": [
        "## Missing values treatment\n",
        "\n",
        "#### The first step is to identify if the companies switched their share name; in the case they did, they can then contain the sector and industry present on another row\n",
        "\n",
        "> Right now we have the following missing values:\n",
        "\n",
        "1. ticker         0\n",
        "2. exchange       0\n",
        "3. name           0\n",
        "4. sector      1440\n",
        "5. industry    1440\n",
        "\n",
        "> In a 6459 rows × 5 columns matrix\n"
      ]
    },
    {
      "cell_type": "markdown",
      "metadata": {
        "id": "F3vUDcWYwzm6",
        "colab_type": "text"
      },
      "source": [
        "> We want all rows that present null values, so we can obtain the names of the companies that do."
      ]
    },
    {
      "cell_type": "code",
      "metadata": {
        "trusted": true,
        "id": "uQIsLaa3wzm6",
        "colab_type": "code",
        "outputId": "2ec88ca4-b2e4-4877-e3d3-138ffa4f4e91",
        "colab": {
          "base_uri": "https://localhost:8080/",
          "height": 406
        }
      },
      "source": [
        "null_data = stocks[stocks.isnull().any(axis=1)]\n",
        "null_data"
      ],
      "execution_count": 11,
      "outputs": [
        {
          "output_type": "execute_result",
          "data": {
            "text/html": [
              "<div>\n",
              "<style scoped>\n",
              "    .dataframe tbody tr th:only-of-type {\n",
              "        vertical-align: middle;\n",
              "    }\n",
              "\n",
              "    .dataframe tbody tr th {\n",
              "        vertical-align: top;\n",
              "    }\n",
              "\n",
              "    .dataframe thead th {\n",
              "        text-align: right;\n",
              "    }\n",
              "</style>\n",
              "<table border=\"1\" class=\"dataframe\">\n",
              "  <thead>\n",
              "    <tr style=\"text-align: right;\">\n",
              "      <th></th>\n",
              "      <th>ticker</th>\n",
              "      <th>exchange</th>\n",
              "      <th>name</th>\n",
              "      <th>sector</th>\n",
              "      <th>industry</th>\n",
              "    </tr>\n",
              "  </thead>\n",
              "  <tbody>\n",
              "    <tr>\n",
              "      <th>19</th>\n",
              "      <td>ABP</td>\n",
              "      <td>NASDAQ</td>\n",
              "      <td>ABPRO CORPORATION</td>\n",
              "      <td>NaN</td>\n",
              "      <td>NaN</td>\n",
              "    </tr>\n",
              "    <tr>\n",
              "      <th>42</th>\n",
              "      <td>SQZZ</td>\n",
              "      <td>NASDAQ</td>\n",
              "      <td>ACTIVE ALTS CONTRARIAN ETF</td>\n",
              "      <td>NaN</td>\n",
              "      <td>NaN</td>\n",
              "    </tr>\n",
              "    <tr>\n",
              "      <th>62</th>\n",
              "      <td>ACT</td>\n",
              "      <td>NASDAQ</td>\n",
              "      <td>ADVISORSHARES VICE ETF</td>\n",
              "      <td>NaN</td>\n",
              "      <td>NaN</td>\n",
              "    </tr>\n",
              "    <tr>\n",
              "      <th>100</th>\n",
              "      <td>ABDC</td>\n",
              "      <td>NASDAQ</td>\n",
              "      <td>ALCENTRA CAPITAL CORP.</td>\n",
              "      <td>NaN</td>\n",
              "      <td>NaN</td>\n",
              "    </tr>\n",
              "    <tr>\n",
              "      <th>124</th>\n",
              "      <td>SMCP</td>\n",
              "      <td>NASDAQ</td>\n",
              "      <td>ALPHAMARK ACTIVELY MANAGED SMALL CAP ETF</td>\n",
              "      <td>NaN</td>\n",
              "      <td>NaN</td>\n",
              "    </tr>\n",
              "    <tr>\n",
              "      <th>...</th>\n",
              "      <td>...</td>\n",
              "      <td>...</td>\n",
              "      <td>...</td>\n",
              "      <td>...</td>\n",
              "      <td>...</td>\n",
              "    </tr>\n",
              "    <tr>\n",
              "      <th>6393</th>\n",
              "      <td>WIA</td>\n",
              "      <td>NYSE</td>\n",
              "      <td>WESTERN ASSET/CLAYMORE U.S. TREASURY INFLATION...</td>\n",
              "      <td>NaN</td>\n",
              "      <td>NaN</td>\n",
              "    </tr>\n",
              "    <tr>\n",
              "      <th>6431</th>\n",
              "      <td>XFLT</td>\n",
              "      <td>NYSE</td>\n",
              "      <td>XAI OCTAGON FLOATING RATE &amp; ALTERNATIVE INCOME...</td>\n",
              "      <td>NaN</td>\n",
              "      <td>NaN</td>\n",
              "    </tr>\n",
              "    <tr>\n",
              "      <th>6451</th>\n",
              "      <td>ZB^A</td>\n",
              "      <td>NYSE</td>\n",
              "      <td>ZIONS BANCORPORATION</td>\n",
              "      <td>NaN</td>\n",
              "      <td>NaN</td>\n",
              "    </tr>\n",
              "    <tr>\n",
              "      <th>6452</th>\n",
              "      <td>ZB^G</td>\n",
              "      <td>NYSE</td>\n",
              "      <td>ZIONS BANCORPORATION</td>\n",
              "      <td>NaN</td>\n",
              "      <td>NaN</td>\n",
              "    </tr>\n",
              "    <tr>\n",
              "      <th>6453</th>\n",
              "      <td>ZB^H</td>\n",
              "      <td>NYSE</td>\n",
              "      <td>ZIONS BANCORPORATION</td>\n",
              "      <td>NaN</td>\n",
              "      <td>NaN</td>\n",
              "    </tr>\n",
              "  </tbody>\n",
              "</table>\n",
              "<p>1440 rows × 5 columns</p>\n",
              "</div>"
            ],
            "text/plain": [
              "     ticker exchange  ... sector industry\n",
              "19      ABP   NASDAQ  ...    NaN      NaN\n",
              "42     SQZZ   NASDAQ  ...    NaN      NaN\n",
              "62      ACT   NASDAQ  ...    NaN      NaN\n",
              "100    ABDC   NASDAQ  ...    NaN      NaN\n",
              "124    SMCP   NASDAQ  ...    NaN      NaN\n",
              "...     ...      ...  ...    ...      ...\n",
              "6393    WIA     NYSE  ...    NaN      NaN\n",
              "6431   XFLT     NYSE  ...    NaN      NaN\n",
              "6451   ZB^A     NYSE  ...    NaN      NaN\n",
              "6452   ZB^G     NYSE  ...    NaN      NaN\n",
              "6453   ZB^H     NYSE  ...    NaN      NaN\n",
              "\n",
              "[1440 rows x 5 columns]"
            ]
          },
          "metadata": {
            "tags": []
          },
          "execution_count": 11
        }
      ]
    },
    {
      "cell_type": "markdown",
      "metadata": {
        "id": "JegBnfKUwzm9",
        "colab_type": "text"
      },
      "source": [
        "> We realize that, by standard, all rows that do not have sector, do not have industry either and vice-versa."
      ]
    },
    {
      "cell_type": "markdown",
      "metadata": {
        "id": "ytkz51DCwzm-",
        "colab_type": "text"
      },
      "source": [
        "### This function checks for companies that changed their ticker name\n",
        "\n",
        "> If any did, we check if there are some other instances of that same company where the sector and industry information is present."
      ]
    },
    {
      "cell_type": "code",
      "metadata": {
        "trusted": true,
        "id": "J5-Aq6fuwzm-",
        "colab_type": "code",
        "colab": {}
      },
      "source": [
        "pd.options.mode.chained_assignment = None\n",
        "names = null_data['name'].unique()\n",
        "\n",
        "for companie in names:\n",
        "    \n",
        "    data = stocks[stocks['name'] == companie]\n",
        "    \n",
        "    for index,row in data.iterrows():\n",
        "        \n",
        "        if(not pd.isnull(row['sector'])):\n",
        "            \n",
        "            sector = row['sector']\n",
        "            industry = row['industry']\n",
        "            \n",
        "            tmp = stocks[stocks['name'] == row['name']]\n",
        "            tmp[\"sector\"] = tmp[\"sector\"].fillna(sector)\n",
        "            tmp['industry'] = tmp['industry'].fillna(industry)\n",
        "            stocks[stocks['name'] == row['name']] = tmp\n"
      ],
      "execution_count": 0,
      "outputs": []
    },
    {
      "cell_type": "code",
      "metadata": {
        "trusted": true,
        "id": "u1h7J4wCwznB",
        "colab_type": "code",
        "outputId": "13b7f058-6209-4063-814c-08092d08320c",
        "colab": {
          "base_uri": "https://localhost:8080/",
          "height": 123
        }
      },
      "source": [
        "stocks.isnull().sum()"
      ],
      "execution_count": 13,
      "outputs": [
        {
          "output_type": "execute_result",
          "data": {
            "text/plain": [
              "ticker         0\n",
              "exchange       0\n",
              "name           0\n",
              "sector      1018\n",
              "industry    1018\n",
              "dtype: int64"
            ]
          },
          "metadata": {
            "tags": []
          },
          "execution_count": 13
        }
      ]
    },
    {
      "cell_type": "markdown",
      "metadata": {
        "id": "_YJkspxgwznG",
        "colab_type": "text"
      },
      "source": [
        "> After this operation, we remain with a 6459 rows × 5 columns matrix, but we have different numbers of missing values, respectively:\n",
        "\n",
        "1. ticker         0\n",
        "2. exchange       0\n",
        "3. name           0\n",
        "4. sector      1018\n",
        "5. industry    1018\n",
        "6. dtype: int64"
      ]
    },
    {
      "cell_type": "markdown",
      "metadata": {
        "id": "BOhqeRWCwznH",
        "colab_type": "text"
      },
      "source": [
        "### In this part, all remaining missing values will be removed from the dataset, mainly for the reason that there is not sufficient information that allows us to fill these values, given the variety of sector and industries existant.\n",
        "> We now have a 5442 rows × 5 columns matrix"
      ]
    },
    {
      "cell_type": "code",
      "metadata": {
        "trusted": true,
        "id": "YBRL2KDCwznH",
        "colab_type": "code",
        "outputId": "c6798c74-613a-4f19-df38-946409120a20",
        "colab": {
          "base_uri": "https://localhost:8080/",
          "height": 123
        }
      },
      "source": [
        "bad_tickers = stocks[stocks.isnull().any(axis=1)]\n",
        "\n",
        "\n",
        "stocks = stocks.dropna(how='any',axis=0) \n",
        "stocks.isnull().sum()"
      ],
      "execution_count": 14,
      "outputs": [
        {
          "output_type": "execute_result",
          "data": {
            "text/plain": [
              "ticker      0\n",
              "exchange    0\n",
              "name        0\n",
              "sector      0\n",
              "industry    0\n",
              "dtype: int64"
            ]
          },
          "metadata": {
            "tags": []
          },
          "execution_count": 14
        }
      ]
    },
    {
      "cell_type": "markdown",
      "metadata": {
        "id": "LVtd9uV6wznK",
        "colab_type": "text"
      },
      "source": [
        "> Now we only have 5442 tickers"
      ]
    },
    {
      "cell_type": "code",
      "metadata": {
        "trusted": true,
        "id": "bJqNIdA_wznL",
        "colab_type": "code",
        "outputId": "1393ca4e-6b4d-41ce-c07c-ad4f011ed0d5",
        "colab": {
          "base_uri": "https://localhost:8080/",
          "height": 34
        }
      },
      "source": [
        "stocks['ticker'].unique().size"
      ],
      "execution_count": 15,
      "outputs": [
        {
          "output_type": "execute_result",
          "data": {
            "text/plain": [
              "5442"
            ]
          },
          "metadata": {
            "tags": []
          },
          "execution_count": 15
        }
      ]
    },
    {
      "cell_type": "markdown",
      "metadata": {
        "id": "galPB_H6wznP",
        "colab_type": "text"
      },
      "source": [
        "# Dataset exploration\n",
        "\n",
        "> Predominant sectors\n",
        "\n",
        "> Predominant industries\n",
        "\n",
        "> Types of stock exchanges on which we operate"
      ]
    },
    {
      "cell_type": "code",
      "metadata": {
        "trusted": true,
        "id": "sbrvhXj7wznQ",
        "colab_type": "code",
        "outputId": "3d757529-c0f1-47ab-91a9-afe62a621cb4",
        "colab": {
          "base_uri": "https://localhost:8080/",
          "height": 34
        }
      },
      "source": [
        "stocks['name'].unique().size"
      ],
      "execution_count": 16,
      "outputs": [
        {
          "output_type": "execute_result",
          "data": {
            "text/plain": [
              "4551"
            ]
          },
          "metadata": {
            "tags": []
          },
          "execution_count": 16
        }
      ]
    },
    {
      "cell_type": "code",
      "metadata": {
        "trusted": true,
        "id": "BFQ3eNczwznV",
        "colab_type": "code",
        "outputId": "4209e546-afcf-4076-cbcd-6a536986db79",
        "colab": {
          "base_uri": "https://localhost:8080/",
          "height": 70
        }
      },
      "source": [
        "stocks['exchange'].value_counts()"
      ],
      "execution_count": 17,
      "outputs": [
        {
          "output_type": "execute_result",
          "data": {
            "text/plain": [
              "NASDAQ    2855\n",
              "NYSE      2587\n",
              "Name: exchange, dtype: int64"
            ]
          },
          "metadata": {
            "tags": []
          },
          "execution_count": 17
        }
      ]
    },
    {
      "cell_type": "markdown",
      "metadata": {
        "id": "eDTrOhizwzna",
        "colab_type": "text"
      },
      "source": [
        "The number of shares in each type of exchange is rather balanced, which is good for the purpose of ML.\n",
        "We cannot make any assumptions regarding the distribution of types of exchanges due to the fact that we do not have enough information (right now). There is a chronological order to the types of exchange regarding each company that cannot be verified because there is no time stamp."
      ]
    },
    {
      "cell_type": "code",
      "metadata": {
        "trusted": true,
        "id": "9ArXGD6Kwzna",
        "colab_type": "code",
        "outputId": "1d64d7a2-3075-479f-d55c-a41091e2a663",
        "colab": {
          "base_uri": "https://localhost:8080/",
          "height": 332
        }
      },
      "source": [
        "stocks['exchange'].value_counts().plot(kind='bar', title='Types of exchanges')"
      ],
      "execution_count": 18,
      "outputs": [
        {
          "output_type": "execute_result",
          "data": {
            "text/plain": [
              "<matplotlib.axes._subplots.AxesSubplot at 0x7f4964a40f28>"
            ]
          },
          "metadata": {
            "tags": []
          },
          "execution_count": 18
        },
        {
          "output_type": "display_data",
          "data": {
            "image/png": "[encoded data removed]",
            "text/plain": [
              "<Figure size 432x288 with 1 Axes>"
            ]
          },
          "metadata": {
            "tags": [],
            "needs_background": "light"
          }
        }
      ]
    },
    {
      "cell_type": "code",
      "metadata": {
        "trusted": true,
        "id": "s0plLLCzwznd",
        "colab_type": "code",
        "outputId": "dc330b5f-129f-4aaa-976e-f7989493b73c",
        "colab": {
          "base_uri": "https://localhost:8080/",
          "height": 265
        }
      },
      "source": [
        "stocks['sector'].value_counts()"
      ],
      "execution_count": 19,
      "outputs": [
        {
          "output_type": "execute_result",
          "data": {
            "text/plain": [
              "FINANCE                  1222\n",
              "CONSUMER SERVICES         959\n",
              "HEALTH CARE               784\n",
              "TECHNOLOGY                609\n",
              "CAPITAL GOODS             356\n",
              "ENERGY                    295\n",
              "PUBLIC UTILITIES          287\n",
              "BASIC INDUSTRIES          276\n",
              "CONSUMER NON-DURABLES     226\n",
              "CONSUMER DURABLES         147\n",
              "MISCELLANEOUS             142\n",
              "TRANSPORTATION            138\n",
              "SECTOR                      1\n",
              "Name: sector, dtype: int64"
            ]
          },
          "metadata": {
            "tags": []
          },
          "execution_count": 19
        }
      ]
    },
    {
      "cell_type": "code",
      "metadata": {
        "trusted": true,
        "id": "rfvhE2Gswznf",
        "colab_type": "code",
        "outputId": "da278ff9-d0b0-43c9-c974-5f9649e871e4",
        "colab": {
          "base_uri": "https://localhost:8080/",
          "height": 34
        }
      },
      "source": [
        "stocks = stocks[stocks['sector'] != 'SECTOR']\n",
        "stocks.shape\n",
        "#remover a linha dummy"
      ],
      "execution_count": 20,
      "outputs": [
        {
          "output_type": "execute_result",
          "data": {
            "text/plain": [
              "(5441, 5)"
            ]
          },
          "metadata": {
            "tags": []
          },
          "execution_count": 20
        }
      ]
    },
    {
      "cell_type": "code",
      "metadata": {
        "trusted": true,
        "id": "ZTAPKtvLwzni",
        "colab_type": "code",
        "outputId": "05a21cce-0a39-43af-fca3-662a644280cf",
        "colab": {
          "base_uri": "https://localhost:8080/",
          "height": 298
        }
      },
      "source": [
        "stocks['sector'].value_counts().plot(kind='barh', title='Sectors')"
      ],
      "execution_count": 21,
      "outputs": [
        {
          "output_type": "execute_result",
          "data": {
            "text/plain": [
              "<matplotlib.axes._subplots.AxesSubplot at 0x7f4964979198>"
            ]
          },
          "metadata": {
            "tags": []
          },
          "execution_count": 21
        },
        {
          "output_type": "display_data",
          "data": {
            "image/png": "[encoded data removed]",
            "text/plain": [
              "<Figure size 432x288 with 1 Axes>"
            ]
          },
          "metadata": {
            "tags": [],
            "needs_background": "light"
          }
        }
      ]
    },
    {
      "cell_type": "markdown",
      "metadata": {
        "id": "N8B8CXDxwznm",
        "colab_type": "text"
      },
      "source": [
        "We realize the, throughout the dataset, the Finances sector dominates the sector column, up there with Consumer services and Health care. We can also consider technology, if we allow such leverage."
      ]
    },
    {
      "cell_type": "code",
      "metadata": {
        "trusted": true,
        "id": "wJAHnR98wznm",
        "colab_type": "code",
        "outputId": "1d11d0fb-5f2e-4e14-a267-ce7491e34080",
        "colab": {
          "base_uri": "https://localhost:8080/",
          "height": 282
        }
      },
      "source": [
        "ax=stocks['sector'].value_counts().plot(kind='pie', title='Sectors', )\n",
        "ax.set_ylabel('')"
      ],
      "execution_count": 22,
      "outputs": [
        {
          "output_type": "execute_result",
          "data": {
            "text/plain": [
              "Text(0, 0.5, '')"
            ]
          },
          "metadata": {
            "tags": []
          },
          "execution_count": 22
        },
        {
          "output_type": "display_data",
          "data": {
            "image/png": "[encoded data removed]",
            "text/plain": [
              "<Figure size 432x288 with 1 Axes>"
            ]
          },
          "metadata": {
            "tags": []
          }
        }
      ]
    },
    {
      "cell_type": "markdown",
      "metadata": {
        "id": "CLvknD5kwznp",
        "colab_type": "text"
      },
      "source": [
        "##  Industry"
      ]
    },
    {
      "cell_type": "code",
      "metadata": {
        "trusted": true,
        "id": "GkO5B441wznq",
        "colab_type": "code",
        "outputId": "e49a095c-aa8d-4246-ac7d-0fca1db52380",
        "colab": {
          "base_uri": "https://localhost:8080/",
          "height": 230
        }
      },
      "source": [
        "stocks['industry'].value_counts()"
      ],
      "execution_count": 23,
      "outputs": [
        {
          "output_type": "execute_result",
          "data": {
            "text/plain": [
              "MAJOR BANKS                                        444\n",
              "MAJOR PHARMACEUTICALS                              419\n",
              "REAL ESTATE INVESTMENT TRUSTS                      377\n",
              "BUSINESS SERVICES                                  248\n",
              "OIL & GAS PRODUCTION                               162\n",
              "                                                  ... \n",
              "GENERAL BLDG CONTRACTORS - NONRESIDENTIAL BLDGS      1\n",
              "TOBACCO                                              1\n",
              "CONSUMER: GREETING CARDS                             1\n",
              "PRECISION INSTRUMENTS                                1\n",
              "TOOLS/HARDWARE                                       1\n",
              "Name: industry, Length: 135, dtype: int64"
            ]
          },
          "metadata": {
            "tags": []
          },
          "execution_count": 23
        }
      ]
    },
    {
      "cell_type": "code",
      "metadata": {
        "trusted": true,
        "id": "cK8ZfOyRwznt",
        "colab_type": "code",
        "outputId": "31b6f81a-91a3-4d04-8730-3673d3ddb619",
        "colab": {
          "base_uri": "https://localhost:8080/",
          "height": 282
        }
      },
      "source": [
        "absolute_frequency_top10 = stocks['industry'].value_counts()[:10].copy()\n",
        "absolute_frequency_top10 = absolute_frequency_top10.rename('')\n",
        "absolute_frequency_top10.plot(kind='barh')"
      ],
      "execution_count": 24,
      "outputs": [
        {
          "output_type": "execute_result",
          "data": {
            "text/plain": [
              "<matplotlib.axes._subplots.AxesSubplot at 0x7f496442cb00>"
            ]
          },
          "metadata": {
            "tags": []
          },
          "execution_count": 24
        },
        {
          "output_type": "display_data",
          "data": {
            "image/png": "[encoded data removed]",
            "text/plain": [
              "<Figure size 432x288 with 1 Axes>"
            ]
          },
          "metadata": {
            "tags": [],
            "needs_background": "light"
          }
        }
      ]
    },
    {
      "cell_type": "markdown",
      "metadata": {
        "id": "GUGJFvfywznx",
        "colab_type": "text"
      },
      "source": [
        "We can observe two major industries ruling the dataset by a considerable margin: Major Pharmaceuticals and Major Banks."
      ]
    },
    {
      "cell_type": "code",
      "metadata": {
        "trusted": true,
        "id": "FzdIKMy-wzny",
        "colab_type": "code",
        "outputId": "50caf1fe-dcca-49de-9cd0-8061476deb7c",
        "colab": {
          "base_uri": "https://localhost:8080/",
          "height": 265
        }
      },
      "source": [
        "absolute_frequency_top10.plot(kind='pie')"
      ],
      "execution_count": 25,
      "outputs": [
        {
          "output_type": "execute_result",
          "data": {
            "text/plain": [
              "<matplotlib.axes._subplots.AxesSubplot at 0x7f49649def60>"
            ]
          },
          "metadata": {
            "tags": []
          },
          "execution_count": 25
        },
        {
          "output_type": "display_data",
          "data": {
            "image/png": "[encoded data removed]",
            "text/plain": [
              "<Figure size 432x288 with 1 Axes>"
            ]
          },
          "metadata": {
            "tags": []
          }
        }
      ]
    },
    {
      "cell_type": "markdown",
      "metadata": {
        "id": "LKytyH1xwzn0",
        "colab_type": "text"
      },
      "source": [
        "## Let's dive down on the rate of changing in terms of share name.\n",
        "### As we said earlier, a company with the same name can have several shares names changed through time."
      ]
    },
    {
      "cell_type": "code",
      "metadata": {
        "trusted": true,
        "id": "dL1MteWswzn1",
        "colab_type": "code",
        "colab": {}
      },
      "source": [
        "dif_exchange_x_ticker_exchange = stocks.groupby(['name','sector','industry'])['ticker'].agg(ticker_exchange=('ticker','count'), exchange=('exchange','count'))\n",
        "dif_exchange_x_ticker= stocks.groupby(['name','sector','industry'])['ticker'].agg(ticker_exchange=('ticker','count'))\n",
        "change_on = dif_exchange_x_ticker[dif_exchange_x_ticker['ticker_exchange'] >=2].sort_values(by='ticker_exchange', ascending=False).apply(lambda x : x-1)\n",
        "change_off = dif_exchange_x_ticker[dif_exchange_x_ticker['ticker_exchange'] < 2].apply(lambda x : x-1)"
      ],
      "execution_count": 0,
      "outputs": []
    },
    {
      "cell_type": "code",
      "metadata": {
        "trusted": true,
        "id": "0Nf_MHJywzn3",
        "colab_type": "code",
        "outputId": "aad6f19b-a171-4534-aba0-065d1654c48a",
        "colab": {
          "base_uri": "https://localhost:8080/",
          "height": 436
        }
      },
      "source": [
        "dif_exchange_x_ticker_exchange"
      ],
      "execution_count": 27,
      "outputs": [
        {
          "output_type": "execute_result",
          "data": {
            "text/html": [
              "<div>\n",
              "<style scoped>\n",
              "    .dataframe tbody tr th:only-of-type {\n",
              "        vertical-align: middle;\n",
              "    }\n",
              "\n",
              "    .dataframe tbody tr th {\n",
              "        vertical-align: top;\n",
              "    }\n",
              "\n",
              "    .dataframe thead th {\n",
              "        text-align: right;\n",
              "    }\n",
              "</style>\n",
              "<table border=\"1\" class=\"dataframe\">\n",
              "  <thead>\n",
              "    <tr style=\"text-align: right;\">\n",
              "      <th></th>\n",
              "      <th></th>\n",
              "      <th></th>\n",
              "      <th>ticker_exchange</th>\n",
              "      <th>exchange</th>\n",
              "    </tr>\n",
              "    <tr>\n",
              "      <th>name</th>\n",
              "      <th>sector</th>\n",
              "      <th>industry</th>\n",
              "      <th></th>\n",
              "      <th></th>\n",
              "    </tr>\n",
              "  </thead>\n",
              "  <tbody>\n",
              "    <tr>\n",
              "      <th>1-800 FLOWERS.COM, INC.</th>\n",
              "      <th>CONSUMER SERVICES</th>\n",
              "      <th>OTHER SPECIALTY STORES</th>\n",
              "      <td>1</td>\n",
              "      <td>1</td>\n",
              "    </tr>\n",
              "    <tr>\n",
              "      <th>1347 PROPERTY INSURANCE HOLDINGS, INC.</th>\n",
              "      <th>FINANCE</th>\n",
              "      <th>PROPERTY-CASUALTY INSURERS</th>\n",
              "      <td>2</td>\n",
              "      <td>2</td>\n",
              "    </tr>\n",
              "    <tr>\n",
              "      <th>180 DEGREE CAPITAL CORP.</th>\n",
              "      <th>FINANCE</th>\n",
              "      <th>FINANCE/INVESTORS SERVICES</th>\n",
              "      <td>1</td>\n",
              "      <td>1</td>\n",
              "    </tr>\n",
              "    <tr>\n",
              "      <th>1ST CONSTITUTION BANCORP (NJ)</th>\n",
              "      <th>FINANCE</th>\n",
              "      <th>SAVINGS INSTITUTIONS</th>\n",
              "      <td>1</td>\n",
              "      <td>1</td>\n",
              "    </tr>\n",
              "    <tr>\n",
              "      <th>1ST SOURCE CORPORATION</th>\n",
              "      <th>FINANCE</th>\n",
              "      <th>MAJOR BANKS</th>\n",
              "      <td>1</td>\n",
              "      <td>1</td>\n",
              "    </tr>\n",
              "    <tr>\n",
              "      <th>...</th>\n",
              "      <th>...</th>\n",
              "      <th>...</th>\n",
              "      <td>...</td>\n",
              "      <td>...</td>\n",
              "    </tr>\n",
              "    <tr>\n",
              "      <th>ZUMIEZ INC.</th>\n",
              "      <th>CONSUMER SERVICES</th>\n",
              "      <th>CLOTHING/SHOE/ACCESSORY STORES</th>\n",
              "      <td>1</td>\n",
              "      <td>1</td>\n",
              "    </tr>\n",
              "    <tr>\n",
              "      <th>ZUORA, INC.</th>\n",
              "      <th>TECHNOLOGY</th>\n",
              "      <th>COMPUTER SOFTWARE: PREPACKAGED SOFTWARE</th>\n",
              "      <td>1</td>\n",
              "      <td>1</td>\n",
              "    </tr>\n",
              "    <tr>\n",
              "      <th>ZYMEWORKS INC.</th>\n",
              "      <th>HEALTH CARE</th>\n",
              "      <th>MAJOR PHARMACEUTICALS</th>\n",
              "      <td>1</td>\n",
              "      <td>1</td>\n",
              "    </tr>\n",
              "    <tr>\n",
              "      <th>ZYNERBA PHARMACEUTICALS, INC.</th>\n",
              "      <th>HEALTH CARE</th>\n",
              "      <th>MAJOR PHARMACEUTICALS</th>\n",
              "      <td>1</td>\n",
              "      <td>1</td>\n",
              "    </tr>\n",
              "    <tr>\n",
              "      <th>ZYNGA INC.</th>\n",
              "      <th>TECHNOLOGY</th>\n",
              "      <th>EDP SERVICES</th>\n",
              "      <td>1</td>\n",
              "      <td>1</td>\n",
              "    </tr>\n",
              "  </tbody>\n",
              "</table>\n",
              "<p>4554 rows × 2 columns</p>\n",
              "</div>"
            ],
            "text/plain": [
              "                                                                                                  ticker_exchange  exchange\n",
              "name                                   sector            industry                                                          \n",
              "1-800 FLOWERS.COM, INC.                CONSUMER SERVICES OTHER SPECIALTY STORES                                 1         1\n",
              "1347 PROPERTY INSURANCE HOLDINGS, INC. FINANCE           PROPERTY-CASUALTY INSURERS                             2         2\n",
              "180 DEGREE CAPITAL CORP.               FINANCE           FINANCE/INVESTORS SERVICES                             1         1\n",
              "1ST CONSTITUTION BANCORP (NJ)          FINANCE           SAVINGS INSTITUTIONS                                   1         1\n",
              "1ST SOURCE CORPORATION                 FINANCE           MAJOR BANKS                                            1         1\n",
              "...                                                                                                           ...       ...\n",
              "ZUMIEZ INC.                            CONSUMER SERVICES CLOTHING/SHOE/ACCESSORY STORES                         1         1\n",
              "ZUORA, INC.                            TECHNOLOGY        COMPUTER SOFTWARE: PREPACKAGED SOFTWARE                1         1\n",
              "ZYMEWORKS INC.                         HEALTH CARE       MAJOR PHARMACEUTICALS                                  1         1\n",
              "ZYNERBA PHARMACEUTICALS, INC.          HEALTH CARE       MAJOR PHARMACEUTICALS                                  1         1\n",
              "ZYNGA INC.                             TECHNOLOGY        EDP SERVICES                                           1         1\n",
              "\n",
              "[4554 rows x 2 columns]"
            ]
          },
          "metadata": {
            "tags": []
          },
          "execution_count": 27
        }
      ]
    },
    {
      "cell_type": "code",
      "metadata": {
        "trusted": true,
        "id": "a9_kgXOowzn6",
        "colab_type": "code",
        "outputId": "bccda68a-cb75-4ae7-e261-269283711867",
        "colab": {
          "base_uri": "https://localhost:8080/",
          "height": 70
        }
      },
      "source": [
        "dif_exchange_x_ticker_exchange[dif_exchange_x_ticker_exchange['exchange'] == dif_exchange_x_ticker_exchange['ticker_exchange']].count()"
      ],
      "execution_count": 28,
      "outputs": [
        {
          "output_type": "execute_result",
          "data": {
            "text/plain": [
              "ticker_exchange    4554\n",
              "exchange           4554\n",
              "dtype: int64"
            ]
          },
          "metadata": {
            "tags": []
          },
          "execution_count": 28
        }
      ]
    },
    {
      "cell_type": "markdown",
      "metadata": {
        "id": "Fro2c5uKwzn9",
        "colab_type": "text"
      },
      "source": [
        "By the operation above, we see that the number of ticker names and types of exchange are the same, which tells us, by knowing that there are not equal tickers in the dataset, that change to/from either type of exchange requires rebranding of the share, so we can simply identify it by the ticker, like we did priviously. We may also consider that the ticker name might be changed for marketing purposes and maintaining it's type of exchange.\n",
        "\n",
        "It is worth noting that we will not include the type of exchange as we consider that it doesn't add information: **for now**,we do not have dates of these changes nor the info regarding if the shares still exist or not, so we cannot identify if there's some sort of shitf in favor of any of the types of exchange. So we won't be using type of exchange on the rest of this topic."
      ]
    },
    {
      "cell_type": "code",
      "metadata": {
        "trusted": true,
        "id": "mkS9AbRBwzn-",
        "colab_type": "code",
        "outputId": "9e89e6ab-ee79-4cfe-ec05-6e865e598bc7",
        "colab": {
          "base_uri": "https://localhost:8080/",
          "height": 436
        }
      },
      "source": [
        "change_off"
      ],
      "execution_count": 29,
      "outputs": [
        {
          "output_type": "execute_result",
          "data": {
            "text/html": [
              "<div>\n",
              "<style scoped>\n",
              "    .dataframe tbody tr th:only-of-type {\n",
              "        vertical-align: middle;\n",
              "    }\n",
              "\n",
              "    .dataframe tbody tr th {\n",
              "        vertical-align: top;\n",
              "    }\n",
              "\n",
              "    .dataframe thead th {\n",
              "        text-align: right;\n",
              "    }\n",
              "</style>\n",
              "<table border=\"1\" class=\"dataframe\">\n",
              "  <thead>\n",
              "    <tr style=\"text-align: right;\">\n",
              "      <th></th>\n",
              "      <th></th>\n",
              "      <th></th>\n",
              "      <th>ticker_exchange</th>\n",
              "    </tr>\n",
              "    <tr>\n",
              "      <th>name</th>\n",
              "      <th>sector</th>\n",
              "      <th>industry</th>\n",
              "      <th></th>\n",
              "    </tr>\n",
              "  </thead>\n",
              "  <tbody>\n",
              "    <tr>\n",
              "      <th>1-800 FLOWERS.COM, INC.</th>\n",
              "      <th>CONSUMER SERVICES</th>\n",
              "      <th>OTHER SPECIALTY STORES</th>\n",
              "      <td>0</td>\n",
              "    </tr>\n",
              "    <tr>\n",
              "      <th>180 DEGREE CAPITAL CORP.</th>\n",
              "      <th>FINANCE</th>\n",
              "      <th>FINANCE/INVESTORS SERVICES</th>\n",
              "      <td>0</td>\n",
              "    </tr>\n",
              "    <tr>\n",
              "      <th>1ST CONSTITUTION BANCORP (NJ)</th>\n",
              "      <th>FINANCE</th>\n",
              "      <th>SAVINGS INSTITUTIONS</th>\n",
              "      <td>0</td>\n",
              "    </tr>\n",
              "    <tr>\n",
              "      <th>1ST SOURCE CORPORATION</th>\n",
              "      <th>FINANCE</th>\n",
              "      <th>MAJOR BANKS</th>\n",
              "      <td>0</td>\n",
              "    </tr>\n",
              "    <tr>\n",
              "      <th>21VIANET GROUP, INC.</th>\n",
              "      <th>TECHNOLOGY</th>\n",
              "      <th>COMPUTER SOFTWARE: PROGRAMMING, DATA PROCESSING</th>\n",
              "      <td>0</td>\n",
              "    </tr>\n",
              "    <tr>\n",
              "      <th>...</th>\n",
              "      <th>...</th>\n",
              "      <th>...</th>\n",
              "      <td>...</td>\n",
              "    </tr>\n",
              "    <tr>\n",
              "      <th>ZUMIEZ INC.</th>\n",
              "      <th>CONSUMER SERVICES</th>\n",
              "      <th>CLOTHING/SHOE/ACCESSORY STORES</th>\n",
              "      <td>0</td>\n",
              "    </tr>\n",
              "    <tr>\n",
              "      <th>ZUORA, INC.</th>\n",
              "      <th>TECHNOLOGY</th>\n",
              "      <th>COMPUTER SOFTWARE: PREPACKAGED SOFTWARE</th>\n",
              "      <td>0</td>\n",
              "    </tr>\n",
              "    <tr>\n",
              "      <th>ZYMEWORKS INC.</th>\n",
              "      <th>HEALTH CARE</th>\n",
              "      <th>MAJOR PHARMACEUTICALS</th>\n",
              "      <td>0</td>\n",
              "    </tr>\n",
              "    <tr>\n",
              "      <th>ZYNERBA PHARMACEUTICALS, INC.</th>\n",
              "      <th>HEALTH CARE</th>\n",
              "      <th>MAJOR PHARMACEUTICALS</th>\n",
              "      <td>0</td>\n",
              "    </tr>\n",
              "    <tr>\n",
              "      <th>ZYNGA INC.</th>\n",
              "      <th>TECHNOLOGY</th>\n",
              "      <th>EDP SERVICES</th>\n",
              "      <td>0</td>\n",
              "    </tr>\n",
              "  </tbody>\n",
              "</table>\n",
              "<p>4086 rows × 1 columns</p>\n",
              "</div>"
            ],
            "text/plain": [
              "                                                                                                 ticker_exchange\n",
              "name                          sector            industry                                                        \n",
              "1-800 FLOWERS.COM, INC.       CONSUMER SERVICES OTHER SPECIALTY STORES                                         0\n",
              "180 DEGREE CAPITAL CORP.      FINANCE           FINANCE/INVESTORS SERVICES                                     0\n",
              "1ST CONSTITUTION BANCORP (NJ) FINANCE           SAVINGS INSTITUTIONS                                           0\n",
              "1ST SOURCE CORPORATION        FINANCE           MAJOR BANKS                                                    0\n",
              "21VIANET GROUP, INC.          TECHNOLOGY        COMPUTER SOFTWARE: PROGRAMMING, DATA PROCESSING                0\n",
              "...                                                                                                          ...\n",
              "ZUMIEZ INC.                   CONSUMER SERVICES CLOTHING/SHOE/ACCESSORY STORES                                 0\n",
              "ZUORA, INC.                   TECHNOLOGY        COMPUTER SOFTWARE: PREPACKAGED SOFTWARE                        0\n",
              "ZYMEWORKS INC.                HEALTH CARE       MAJOR PHARMACEUTICALS                                          0\n",
              "ZYNERBA PHARMACEUTICALS, INC. HEALTH CARE       MAJOR PHARMACEUTICALS                                          0\n",
              "ZYNGA INC.                    TECHNOLOGY        EDP SERVICES                                                   0\n",
              "\n",
              "[4086 rows x 1 columns]"
            ]
          },
          "metadata": {
            "tags": []
          },
          "execution_count": 29
        }
      ]
    },
    {
      "cell_type": "code",
      "metadata": {
        "trusted": true,
        "id": "Y7zfqcl_wzoB",
        "colab_type": "code",
        "outputId": "1c5075f4-d6b2-4579-be9e-5f2f15f02723",
        "colab": {
          "base_uri": "https://localhost:8080/",
          "height": 436
        }
      },
      "source": [
        "change_on"
      ],
      "execution_count": 30,
      "outputs": [
        {
          "output_type": "execute_result",
          "data": {
            "text/html": [
              "<div>\n",
              "<style scoped>\n",
              "    .dataframe tbody tr th:only-of-type {\n",
              "        vertical-align: middle;\n",
              "    }\n",
              "\n",
              "    .dataframe tbody tr th {\n",
              "        vertical-align: top;\n",
              "    }\n",
              "\n",
              "    .dataframe thead th {\n",
              "        text-align: right;\n",
              "    }\n",
              "</style>\n",
              "<table border=\"1\" class=\"dataframe\">\n",
              "  <thead>\n",
              "    <tr style=\"text-align: right;\">\n",
              "      <th></th>\n",
              "      <th></th>\n",
              "      <th></th>\n",
              "      <th>ticker_exchange</th>\n",
              "    </tr>\n",
              "    <tr>\n",
              "      <th>name</th>\n",
              "      <th>sector</th>\n",
              "      <th>industry</th>\n",
              "      <th></th>\n",
              "    </tr>\n",
              "  </thead>\n",
              "  <tbody>\n",
              "    <tr>\n",
              "      <th>BANK OF AMERICA CORPORATION</th>\n",
              "      <th>FINANCE</th>\n",
              "      <th>MAJOR BANKS</th>\n",
              "      <td>15</td>\n",
              "    </tr>\n",
              "    <tr>\n",
              "      <th>WELLS FARGO &amp; COMPANY</th>\n",
              "      <th>FINANCE</th>\n",
              "      <th>MAJOR BANKS</th>\n",
              "      <td>14</td>\n",
              "    </tr>\n",
              "    <tr>\n",
              "      <th>PUBLIC STORAGE</th>\n",
              "      <th>CONSUMER SERVICES</th>\n",
              "      <th>REAL ESTATE INVESTMENT TRUSTS</th>\n",
              "      <td>13</td>\n",
              "    </tr>\n",
              "    <tr>\n",
              "      <th>BARCLAYS PLC</th>\n",
              "      <th>FINANCE</th>\n",
              "      <th>COMMERCIAL BANKS</th>\n",
              "      <td>12</td>\n",
              "    </tr>\n",
              "    <tr>\n",
              "      <th>CREDIT SUISSE AG</th>\n",
              "      <th>FINANCE</th>\n",
              "      <th>INVESTMENT BANKERS/BROKERS/SERVICE</th>\n",
              "      <td>11</td>\n",
              "    </tr>\n",
              "    <tr>\n",
              "      <th>...</th>\n",
              "      <th>...</th>\n",
              "      <th>...</th>\n",
              "      <td>...</td>\n",
              "    </tr>\n",
              "    <tr>\n",
              "      <th>BANK OF NEW YORK MELLON CORPORATION (THE)</th>\n",
              "      <th>FINANCE</th>\n",
              "      <th>MAJOR BANKS</th>\n",
              "      <td>1</td>\n",
              "    </tr>\n",
              "    <tr>\n",
              "      <th>HOVNANIAN ENTERPRISES INC</th>\n",
              "      <th>CAPITAL GOODS</th>\n",
              "      <th>HOMEBUILDING</th>\n",
              "      <td>1</td>\n",
              "    </tr>\n",
              "    <tr>\n",
              "      <th>HOSTESS BRANDS, INC.</th>\n",
              "      <th>CONSUMER NON-DURABLES</th>\n",
              "      <th>PACKAGED FOODS</th>\n",
              "      <td>1</td>\n",
              "    </tr>\n",
              "    <tr>\n",
              "      <th>HOEGH LNG PARTNERS LP</th>\n",
              "      <th>CONSUMER SERVICES</th>\n",
              "      <th>MARINE TRANSPORTATION</th>\n",
              "      <td>1</td>\n",
              "    </tr>\n",
              "    <tr>\n",
              "      <th>1347 PROPERTY INSURANCE HOLDINGS, INC.</th>\n",
              "      <th>FINANCE</th>\n",
              "      <th>PROPERTY-CASUALTY INSURERS</th>\n",
              "      <td>1</td>\n",
              "    </tr>\n",
              "  </tbody>\n",
              "</table>\n",
              "<p>468 rows × 1 columns</p>\n",
              "</div>"
            ],
            "text/plain": [
              "                                                                                                    ticker_exchange\n",
              "name                                      sector                industry                                           \n",
              "BANK OF AMERICA CORPORATION               FINANCE               MAJOR BANKS                                      15\n",
              "WELLS FARGO & COMPANY                     FINANCE               MAJOR BANKS                                      14\n",
              "PUBLIC STORAGE                            CONSUMER SERVICES     REAL ESTATE INVESTMENT TRUSTS                    13\n",
              "BARCLAYS PLC                              FINANCE               COMMERCIAL BANKS                                 12\n",
              "CREDIT SUISSE AG                          FINANCE               INVESTMENT BANKERS/BROKERS/SERVICE               11\n",
              "...                                                                                                             ...\n",
              "BANK OF NEW YORK MELLON CORPORATION (THE) FINANCE               MAJOR BANKS                                       1\n",
              "HOVNANIAN ENTERPRISES INC                 CAPITAL GOODS         HOMEBUILDING                                      1\n",
              "HOSTESS BRANDS, INC.                      CONSUMER NON-DURABLES PACKAGED FOODS                                    1\n",
              "HOEGH LNG PARTNERS LP                     CONSUMER SERVICES     MARINE TRANSPORTATION                             1\n",
              "1347 PROPERTY INSURANCE HOLDINGS, INC.    FINANCE               PROPERTY-CASUALTY INSURERS                        1\n",
              "\n",
              "[468 rows x 1 columns]"
            ]
          },
          "metadata": {
            "tags": []
          },
          "execution_count": 30
        }
      ]
    },
    {
      "cell_type": "markdown",
      "metadata": {
        "id": "v0nmjBsXwzoE",
        "colab_type": "text"
      },
      "source": [
        "We produced two distinct dataframes, grouped by the companies' names, sectors and industries,respectively, and contemplate the number of changes on ticker:\n",
        "> The first one regards to the companies that did not make any changes, going by the name 'change_off'\n",
        "\n",
        "> The second one regards to the companies that made name changes in the past, going by the name 'change_on'\n"
      ]
    },
    {
      "cell_type": "code",
      "metadata": {
        "trusted": true,
        "id": "lS3sUXutwzoF",
        "colab_type": "code",
        "outputId": "7ef9380c-c4f1-4918-eb3f-2126a27be14e",
        "colab": {
          "base_uri": "https://localhost:8080/",
          "height": 281
        }
      },
      "source": [
        "ax=change_on.groupby('sector').mean().sort_values(by='ticker_exchange',ascending=False).plot(kind='barh',y='ticker_exchange',legend=False, title ='Sectors')\n",
        "#ax.set_ylabel('')"
      ],
      "execution_count": 31,
      "outputs": [
        {
          "output_type": "display_data",
          "data": {
            "image/png": "[encoded data removed]",
            "text/plain": [
              "<Figure size 432x288 with 1 Axes>"
            ]
          },
          "metadata": {
            "tags": [],
            "needs_background": "light"
          }
        }
      ]
    },
    {
      "cell_type": "markdown",
      "metadata": {
        "id": "Z8YNAlkpwzoH",
        "colab_type": "text"
      },
      "source": [
        "We identify that companies on the Finances sector show a mean higher regarding the rebranding of their tickers, followed closely by Transportation and Consumer Services"
      ]
    },
    {
      "cell_type": "code",
      "metadata": {
        "trusted": true,
        "id": "X2Ro_ZT7wzoI",
        "colab_type": "code",
        "outputId": "bb8512da-e5e9-4c2d-a95a-463d432d1e25",
        "colab": {
          "base_uri": "https://localhost:8080/",
          "height": 281
        }
      },
      "source": [
        "ax=change_on.groupby('industry').mean().sort_values(by='ticker_exchange',ascending=False)[:10].plot(kind='barh',y='ticker_exchange',legend=False, title ='Top 10 Industries')\n",
        "#ax.set_ylabel('')"
      ],
      "execution_count": 32,
      "outputs": [
        {
          "output_type": "display_data",
          "data": {
            "image/png": "[encoded data removed]",
            "text/plain": [
              "<Figure size 432x288 with 1 Axes>"
            ]
          },
          "metadata": {
            "tags": [],
            "needs_background": "light"
          }
        }
      ]
    },
    {
      "cell_type": "markdown",
      "metadata": {
        "id": "_D3Z-o8GwzoM",
        "colab_type": "text"
      },
      "source": [
        "Industry wise, we can see that Finances show up big again, equal with Farming/Seeds/Milling. Investment Bankers/Brokers/Service follow right away."
      ]
    },
    {
      "cell_type": "markdown",
      "metadata": {
        "id": "xEBqK-7YwzoM",
        "colab_type": "text"
      },
      "source": [
        "We conclude the the shallow analysis of the first component of the Stock Prices dataset."
      ]
    },
    {
      "cell_type": "markdown",
      "metadata": {
        "id": "LGmZZM_UwzoN",
        "colab_type": "text"
      },
      "source": [
        "# Let's now explore the stock prices"
      ]
    },
    {
      "cell_type": "code",
      "metadata": {
        "trusted": true,
        "id": "F4yRqZrzwzoO",
        "colab_type": "code",
        "outputId": "92b83aeb-018e-47b1-935d-2a0e6aa35086",
        "colab": {
          "base_uri": "https://localhost:8080/",
          "height": 406
        }
      },
      "source": [
        "stock_prices = pd.read_csv('/content/historical_stock_prices.csv')\n",
        "stock_prices"
      ],
      "execution_count": 33,
      "outputs": [
        {
          "output_type": "execute_result",
          "data": {
            "text/html": [
              "<div>\n",
              "<style scoped>\n",
              "    .dataframe tbody tr th:only-of-type {\n",
              "        vertical-align: middle;\n",
              "    }\n",
              "\n",
              "    .dataframe tbody tr th {\n",
              "        vertical-align: top;\n",
              "    }\n",
              "\n",
              "    .dataframe thead th {\n",
              "        text-align: right;\n",
              "    }\n",
              "</style>\n",
              "<table border=\"1\" class=\"dataframe\">\n",
              "  <thead>\n",
              "    <tr style=\"text-align: right;\">\n",
              "      <th></th>\n",
              "      <th>ticker</th>\n",
              "      <th>open</th>\n",
              "      <th>close</th>\n",
              "      <th>adj_close</th>\n",
              "      <th>low</th>\n",
              "      <th>high</th>\n",
              "      <th>volume</th>\n",
              "      <th>date</th>\n",
              "    </tr>\n",
              "  </thead>\n",
              "  <tbody>\n",
              "    <tr>\n",
              "      <th>0</th>\n",
              "      <td>AHH</td>\n",
              "      <td>11.50</td>\n",
              "      <td>11.58</td>\n",
              "      <td>8.493155</td>\n",
              "      <td>11.25</td>\n",
              "      <td>11.68</td>\n",
              "      <td>4633900</td>\n",
              "      <td>2013-05-08</td>\n",
              "    </tr>\n",
              "    <tr>\n",
              "      <th>1</th>\n",
              "      <td>AHH</td>\n",
              "      <td>11.66</td>\n",
              "      <td>11.55</td>\n",
              "      <td>8.471151</td>\n",
              "      <td>11.50</td>\n",
              "      <td>11.66</td>\n",
              "      <td>275800</td>\n",
              "      <td>2013-05-09</td>\n",
              "    </tr>\n",
              "    <tr>\n",
              "      <th>2</th>\n",
              "      <td>AHH</td>\n",
              "      <td>11.55</td>\n",
              "      <td>11.60</td>\n",
              "      <td>8.507822</td>\n",
              "      <td>11.50</td>\n",
              "      <td>11.60</td>\n",
              "      <td>277100</td>\n",
              "      <td>2013-05-10</td>\n",
              "    </tr>\n",
              "    <tr>\n",
              "      <th>3</th>\n",
              "      <td>AHH</td>\n",
              "      <td>11.63</td>\n",
              "      <td>11.65</td>\n",
              "      <td>8.544494</td>\n",
              "      <td>11.55</td>\n",
              "      <td>11.65</td>\n",
              "      <td>147400</td>\n",
              "      <td>2013-05-13</td>\n",
              "    </tr>\n",
              "    <tr>\n",
              "      <th>4</th>\n",
              "      <td>AHH</td>\n",
              "      <td>11.60</td>\n",
              "      <td>11.53</td>\n",
              "      <td>8.456484</td>\n",
              "      <td>11.50</td>\n",
              "      <td>11.60</td>\n",
              "      <td>184100</td>\n",
              "      <td>2013-05-14</td>\n",
              "    </tr>\n",
              "    <tr>\n",
              "      <th>...</th>\n",
              "      <td>...</td>\n",
              "      <td>...</td>\n",
              "      <td>...</td>\n",
              "      <td>...</td>\n",
              "      <td>...</td>\n",
              "      <td>...</td>\n",
              "      <td>...</td>\n",
              "      <td>...</td>\n",
              "    </tr>\n",
              "    <tr>\n",
              "      <th>20973884</th>\n",
              "      <td>NZF</td>\n",
              "      <td>14.60</td>\n",
              "      <td>14.59</td>\n",
              "      <td>14.590000</td>\n",
              "      <td>14.58</td>\n",
              "      <td>14.62</td>\n",
              "      <td>137500</td>\n",
              "      <td>2018-08-20</td>\n",
              "    </tr>\n",
              "    <tr>\n",
              "      <th>20973885</th>\n",
              "      <td>NZF</td>\n",
              "      <td>14.60</td>\n",
              "      <td>14.58</td>\n",
              "      <td>14.580000</td>\n",
              "      <td>14.57</td>\n",
              "      <td>14.61</td>\n",
              "      <td>151200</td>\n",
              "      <td>2018-08-21</td>\n",
              "    </tr>\n",
              "    <tr>\n",
              "      <th>20973886</th>\n",
              "      <td>NZF</td>\n",
              "      <td>14.58</td>\n",
              "      <td>14.59</td>\n",
              "      <td>14.590000</td>\n",
              "      <td>14.57</td>\n",
              "      <td>14.63</td>\n",
              "      <td>185400</td>\n",
              "      <td>2018-08-22</td>\n",
              "    </tr>\n",
              "    <tr>\n",
              "      <th>20973887</th>\n",
              "      <td>NZF</td>\n",
              "      <td>14.60</td>\n",
              "      <td>14.57</td>\n",
              "      <td>14.570000</td>\n",
              "      <td>14.57</td>\n",
              "      <td>14.64</td>\n",
              "      <td>135600</td>\n",
              "      <td>2018-08-23</td>\n",
              "    </tr>\n",
              "    <tr>\n",
              "      <th>20973888</th>\n",
              "      <td>NZF</td>\n",
              "      <td>14.60</td>\n",
              "      <td>14.69</td>\n",
              "      <td>14.690000</td>\n",
              "      <td>14.59</td>\n",
              "      <td>14.69</td>\n",
              "      <td>180900</td>\n",
              "      <td>2018-08-24</td>\n",
              "    </tr>\n",
              "  </tbody>\n",
              "</table>\n",
              "<p>20973889 rows × 8 columns</p>\n",
              "</div>"
            ],
            "text/plain": [
              "         ticker   open  close  adj_close    low   high   volume        date\n",
              "0           AHH  11.50  11.58   8.493155  11.25  11.68  4633900  2013-05-08\n",
              "1           AHH  11.66  11.55   8.471151  11.50  11.66   275800  2013-05-09\n",
              "2           AHH  11.55  11.60   8.507822  11.50  11.60   277100  2013-05-10\n",
              "3           AHH  11.63  11.65   8.544494  11.55  11.65   147400  2013-05-13\n",
              "4           AHH  11.60  11.53   8.456484  11.50  11.60   184100  2013-05-14\n",
              "...         ...    ...    ...        ...    ...    ...      ...         ...\n",
              "20973884    NZF  14.60  14.59  14.590000  14.58  14.62   137500  2018-08-20\n",
              "20973885    NZF  14.60  14.58  14.580000  14.57  14.61   151200  2018-08-21\n",
              "20973886    NZF  14.58  14.59  14.590000  14.57  14.63   185400  2018-08-22\n",
              "20973887    NZF  14.60  14.57  14.570000  14.57  14.64   135600  2018-08-23\n",
              "20973888    NZF  14.60  14.69  14.690000  14.59  14.69   180900  2018-08-24\n",
              "\n",
              "[20973889 rows x 8 columns]"
            ]
          },
          "metadata": {
            "tags": []
          },
          "execution_count": 33
        }
      ]
    },
    {
      "cell_type": "markdown",
      "metadata": {
        "id": "3rGHgWnFwzoV",
        "colab_type": "text"
      },
      "source": [
        "Short explanation about the dataset\n",
        "\n",
        "- 'ticker' corresponds to the name of the share\n",
        "- 'open' describe the open price of that share in a specific day\n",
        "- 'close' describe the final share price in the end of a day\n",
        "- 'adj-close' it´s a tricky column, describes the ajudsted price of a share, thats normally different from the close price\n",
        " > An example of this, is when a stock splits occur. \n",
        "A stock split it's a current way used for compannies to sell more stocks, by diving the price in (x), lets say x = 2, then if one share = 10€, then, when stock split occurs, let say with a split=2, the share is equal to 5€, but in the end this 2 shares represent the same as 1 share, e.g, imagine that the companny have 10 shares, if you buy 1 share you have 1% of the company, in a stock split(split=2), if you buy 2 shares you only have 1% of the comapnny two.\n",
        "\n",
        " > A stock's price is typically affected by supply and demand of market participants. However, some corporate actions, such as stock splits, dividends / distributions and rights offerings can affect a stock's price and adjustments are needed to arrive at a technically accurate reflection of the true value of that stock.\n",
        "\n",
        "- 'low' is the lowest value paid for that share\n",
        "- 'high' is the highest value paid for that share\n",
        "- 'volume' of shares purchased in that day\n",
        "- 'date' represents the date (year-month-day)"
      ]
    },
    {
      "cell_type": "markdown",
      "metadata": {
        "id": "3UHeIsTpwzoV",
        "colab_type": "text"
      },
      "source": [
        "> As we can notice by the table above, this dataset doesn't contain any missing value\n",
        "\n",
        "> We can also conclude that the open-close and low-hight columns have there values very close.\n",
        "\n",
        "> This is a common scenario in the market, the stock prices only differ a few cents."
      ]
    },
    {
      "cell_type": "code",
      "metadata": {
        "trusted": true,
        "id": "HuVaFIEZwzoW",
        "colab_type": "code",
        "outputId": "daf34798-a83b-4343-ec92-ca51e2eec125",
        "colab": {
          "base_uri": "https://localhost:8080/",
          "height": 287
        }
      },
      "source": [
        "stock_prices.describe()"
      ],
      "execution_count": 34,
      "outputs": [
        {
          "output_type": "execute_result",
          "data": {
            "text/html": [
              "<div>\n",
              "<style scoped>\n",
              "    .dataframe tbody tr th:only-of-type {\n",
              "        vertical-align: middle;\n",
              "    }\n",
              "\n",
              "    .dataframe tbody tr th {\n",
              "        vertical-align: top;\n",
              "    }\n",
              "\n",
              "    .dataframe thead th {\n",
              "        text-align: right;\n",
              "    }\n",
              "</style>\n",
              "<table border=\"1\" class=\"dataframe\">\n",
              "  <thead>\n",
              "    <tr style=\"text-align: right;\">\n",
              "      <th></th>\n",
              "      <th>open</th>\n",
              "      <th>close</th>\n",
              "      <th>adj_close</th>\n",
              "      <th>low</th>\n",
              "      <th>high</th>\n",
              "      <th>volume</th>\n",
              "    </tr>\n",
              "  </thead>\n",
              "  <tbody>\n",
              "    <tr>\n",
              "      <th>count</th>\n",
              "      <td>2.097389e+07</td>\n",
              "      <td>2.097389e+07</td>\n",
              "      <td>2.097389e+07</td>\n",
              "      <td>2.097389e+07</td>\n",
              "      <td>2.097389e+07</td>\n",
              "      <td>2.097389e+07</td>\n",
              "    </tr>\n",
              "    <tr>\n",
              "      <th>mean</th>\n",
              "      <td>7.605823e+01</td>\n",
              "      <td>7.611403e+01</td>\n",
              "      <td>1.481184e+14</td>\n",
              "      <td>7.422064e+01</td>\n",
              "      <td>7.803857e+01</td>\n",
              "      <td>1.227043e+06</td>\n",
              "    </tr>\n",
              "    <tr>\n",
              "      <th>std</th>\n",
              "      <td>2.849639e+03</td>\n",
              "      <td>2.870159e+03</td>\n",
              "      <td>4.574674e+16</td>\n",
              "      <td>2.746059e+03</td>\n",
              "      <td>2.997937e+03</td>\n",
              "      <td>1.316686e+07</td>\n",
              "    </tr>\n",
              "    <tr>\n",
              "      <th>min</th>\n",
              "      <td>4.000000e-04</td>\n",
              "      <td>2.000000e-04</td>\n",
              "      <td>2.282650e-09</td>\n",
              "      <td>1.000000e-04</td>\n",
              "      <td>4.000000e-04</td>\n",
              "      <td>1.000000e+00</td>\n",
              "    </tr>\n",
              "    <tr>\n",
              "      <th>25%</th>\n",
              "      <td>7.500000e+00</td>\n",
              "      <td>7.500000e+00</td>\n",
              "      <td>4.620000e+00</td>\n",
              "      <td>7.360000e+00</td>\n",
              "      <td>7.630000e+00</td>\n",
              "      <td>2.210000e+04</td>\n",
              "    </tr>\n",
              "    <tr>\n",
              "      <th>50%</th>\n",
              "      <td>1.545000e+01</td>\n",
              "      <td>1.545000e+01</td>\n",
              "      <td>1.138199e+01</td>\n",
              "      <td>1.524000e+01</td>\n",
              "      <td>1.566000e+01</td>\n",
              "      <td>1.260000e+05</td>\n",
              "    </tr>\n",
              "    <tr>\n",
              "      <th>75%</th>\n",
              "      <td>2.972000e+01</td>\n",
              "      <td>2.972000e+01</td>\n",
              "      <td>2.472046e+01</td>\n",
              "      <td>2.928000e+01</td>\n",
              "      <td>3.010000e+01</td>\n",
              "      <td>6.074000e+05</td>\n",
              "    </tr>\n",
              "    <tr>\n",
              "      <th>max</th>\n",
              "      <td>2.034000e+06</td>\n",
              "      <td>1.779750e+06</td>\n",
              "      <td>1.894962e+19</td>\n",
              "      <td>1.440000e+06</td>\n",
              "      <td>2.070000e+06</td>\n",
              "      <td>4.483504e+09</td>\n",
              "    </tr>\n",
              "  </tbody>\n",
              "</table>\n",
              "</div>"
            ],
            "text/plain": [
              "               open         close  ...          high        volume\n",
              "count  2.097389e+07  2.097389e+07  ...  2.097389e+07  2.097389e+07\n",
              "mean   7.605823e+01  7.611403e+01  ...  7.803857e+01  1.227043e+06\n",
              "std    2.849639e+03  2.870159e+03  ...  2.997937e+03  1.316686e+07\n",
              "min    4.000000e-04  2.000000e-04  ...  4.000000e-04  1.000000e+00\n",
              "25%    7.500000e+00  7.500000e+00  ...  7.630000e+00  2.210000e+04\n",
              "50%    1.545000e+01  1.545000e+01  ...  1.566000e+01  1.260000e+05\n",
              "75%    2.972000e+01  2.972000e+01  ...  3.010000e+01  6.074000e+05\n",
              "max    2.034000e+06  1.779750e+06  ...  2.070000e+06  4.483504e+09\n",
              "\n",
              "[8 rows x 6 columns]"
            ]
          },
          "metadata": {
            "tags": []
          },
          "execution_count": 34
        }
      ]
    },
    {
      "cell_type": "markdown",
      "metadata": {
        "id": "EKT6_7Rjwzop",
        "colab_type": "text"
      },
      "source": [
        "# Correlation analysis"
      ]
    },
    {
      "cell_type": "code",
      "metadata": {
        "trusted": true,
        "id": "LNuQtWYWwzoq",
        "colab_type": "code",
        "outputId": "9f54aa8b-32b4-491d-b557-94e993dca372",
        "colab": {
          "base_uri": "https://localhost:8080/",
          "height": 752
        }
      },
      "source": [
        "correlation = stock_prices.corr()\n",
        "plt.figure(figsize=(16,12))\n",
        "plt.title('Correlation heatmap')\n",
        "ax = sns.heatmap(correlation, square=True, annot=True, fmt='.6f', linecolor='white')\n",
        "ax.set_xticklabels(ax.get_xticklabels(), rotation=90)\n",
        "ax.set_yticklabels(ax.get_yticklabels(), rotation=30)           \n",
        "plt.show()"
      ],
      "execution_count": 35,
      "outputs": [
        {
          "output_type": "display_data",
          "data": {
            "image/png": "[encoded data removed]",
            "text/plain": [
              "<Figure size 1152x864 with 2 Axes>"
            ]
          },
          "metadata": {
            "tags": [],
            "needs_background": "light"
          }
        }
      ]
    },
    {
      "cell_type": "markdown",
      "metadata": {
        "id": "hg-DwnXtwzou",
        "colab_type": "text"
      },
      "source": [
        ">As we can expect,due to the nature of the concept of adjusted closing price, the adj_close feature isn't very corrolated with any other.\n",
        "\n",
        ">With this task, we intend to predict the values of the adjusted closing price for some company, based on historical records and price variatons. Note that we are limited buy the detail and information provided from this dataset, as we are aware that there is a lot more to know about stock prices. Many factors could be embeded in this case but we chose not to due to the vast amount of possibilites. We also consider this dataset rich enough to provide good results regarding prediction."
      ]
    },
    {
      "cell_type": "markdown",
      "metadata": {
        "id": "FdkNCRJSwzov",
        "colab_type": "text"
      },
      "source": [
        "## Let's check the rate of volumes and the mean,variance and standart deviation of the ajd_close price\n",
        "\n",
        "### As we can notice, the ajudsted close price is the key to a good trader. We want to build serveral machine learning algorithms that can accurately predict this column."
      ]
    },
    {
      "cell_type": "code",
      "metadata": {
        "trusted": true,
        "id": "xi4IAxuawzow",
        "colab_type": "code",
        "colab": {}
      },
      "source": [
        "stock_adj_mean = stock_prices.groupby(['ticker'])['volume'].agg(Volume_of_trades=('Volume','sum'), Count_Ticker=('ticker','count'),Mean_adj_close =('adj_close', 'mean'))\n",
        "stock_adj_var = stock_prices.groupby(['ticker'])['volume'].agg(Var_adj_close =('adj_close', 'var'))\n",
        "stock_adj_std = stock_prices.groupby(['ticker'])['volume'].agg(Std_adj_close =('adj_close', 'std'))\n",
        "\n",
        "\n",
        "stocks_adj_close = stock_adj_mean.join(stock_adj_var, how = 'left', lsuffix = 'ticker').join(stock_adj_std, how = 'left', lsuffix = 'ticker')"
      ],
      "execution_count": 0,
      "outputs": []
    },
    {
      "cell_type": "code",
      "metadata": {
        "trusted": true,
        "id": "4UGH2kgnwzoz",
        "colab_type": "code",
        "outputId": "7ebc9e7b-1dbd-4c77-f122-2379265f9adc",
        "colab": {
          "base_uri": "https://localhost:8080/",
          "height": 436
        }
      },
      "source": [
        "stocks_adj_close"
      ],
      "execution_count": 37,
      "outputs": [
        {
          "output_type": "execute_result",
          "data": {
            "text/html": [
              "<div>\n",
              "<style scoped>\n",
              "    .dataframe tbody tr th:only-of-type {\n",
              "        vertical-align: middle;\n",
              "    }\n",
              "\n",
              "    .dataframe tbody tr th {\n",
              "        vertical-align: top;\n",
              "    }\n",
              "\n",
              "    .dataframe thead th {\n",
              "        text-align: right;\n",
              "    }\n",
              "</style>\n",
              "<table border=\"1\" class=\"dataframe\">\n",
              "  <thead>\n",
              "    <tr style=\"text-align: right;\">\n",
              "      <th></th>\n",
              "      <th>Volume_of_trades</th>\n",
              "      <th>Count_Ticker</th>\n",
              "      <th>Mean_adj_close</th>\n",
              "      <th>Var_adj_close</th>\n",
              "      <th>Std_adj_close</th>\n",
              "    </tr>\n",
              "    <tr>\n",
              "      <th>ticker</th>\n",
              "      <th></th>\n",
              "      <th></th>\n",
              "      <th></th>\n",
              "      <th></th>\n",
              "      <th></th>\n",
              "    </tr>\n",
              "  </thead>\n",
              "  <tbody>\n",
              "    <tr>\n",
              "      <th>A</th>\n",
              "      <td>18000650300</td>\n",
              "      <td>4722</td>\n",
              "      <td>3.812082e+06</td>\n",
              "      <td>6.380635e+12</td>\n",
              "      <td>2.525992e+06</td>\n",
              "    </tr>\n",
              "    <tr>\n",
              "      <th>AA</th>\n",
              "      <td>36347414100</td>\n",
              "      <td>12273</td>\n",
              "      <td>2.961575e+06</td>\n",
              "      <td>2.092626e+13</td>\n",
              "      <td>4.574523e+06</td>\n",
              "    </tr>\n",
              "    <tr>\n",
              "      <th>AABA</th>\n",
              "      <td>128688111700</td>\n",
              "      <td>5632</td>\n",
              "      <td>2.284945e+07</td>\n",
              "      <td>4.443794e+14</td>\n",
              "      <td>2.108031e+07</td>\n",
              "    </tr>\n",
              "    <tr>\n",
              "      <th>AAC</th>\n",
              "      <td>26540200</td>\n",
              "      <td>155</td>\n",
              "      <td>1.712271e+05</td>\n",
              "      <td>2.339867e+10</td>\n",
              "      <td>1.529662e+05</td>\n",
              "    </tr>\n",
              "    <tr>\n",
              "      <th>AAL</th>\n",
              "      <td>24310877700</td>\n",
              "      <td>3251</td>\n",
              "      <td>7.477969e+06</td>\n",
              "      <td>3.614027e+13</td>\n",
              "      <td>6.011678e+06</td>\n",
              "    </tr>\n",
              "    <tr>\n",
              "      <th>...</th>\n",
              "      <td>...</td>\n",
              "      <td>...</td>\n",
              "      <td>...</td>\n",
              "      <td>...</td>\n",
              "      <td>...</td>\n",
              "    </tr>\n",
              "    <tr>\n",
              "      <th>ZTS</th>\n",
              "      <td>5072412900</td>\n",
              "      <td>1402</td>\n",
              "      <td>3.617984e+06</td>\n",
              "      <td>1.104259e+13</td>\n",
              "      <td>3.323039e+06</td>\n",
              "    </tr>\n",
              "    <tr>\n",
              "      <th>ZUMZ</th>\n",
              "      <td>1521606500</td>\n",
              "      <td>3350</td>\n",
              "      <td>4.542109e+05</td>\n",
              "      <td>1.989288e+11</td>\n",
              "      <td>4.460143e+05</td>\n",
              "    </tr>\n",
              "    <tr>\n",
              "      <th>ZUO</th>\n",
              "      <td>111821500</td>\n",
              "      <td>95</td>\n",
              "      <td>1.177068e+06</td>\n",
              "      <td>2.120118e+12</td>\n",
              "      <td>1.456063e+06</td>\n",
              "    </tr>\n",
              "    <tr>\n",
              "      <th>ZYME</th>\n",
              "      <td>20819400</td>\n",
              "      <td>335</td>\n",
              "      <td>6.214746e+04</td>\n",
              "      <td>1.675123e+10</td>\n",
              "      <td>1.294265e+05</td>\n",
              "    </tr>\n",
              "    <tr>\n",
              "      <th>ZYNE</th>\n",
              "      <td>283411600</td>\n",
              "      <td>771</td>\n",
              "      <td>3.675896e+05</td>\n",
              "      <td>5.165037e+11</td>\n",
              "      <td>7.186819e+05</td>\n",
              "    </tr>\n",
              "  </tbody>\n",
              "</table>\n",
              "<p>5685 rows × 5 columns</p>\n",
              "</div>"
            ],
            "text/plain": [
              "        Volume_of_trades  Count_Ticker  ...  Var_adj_close  Std_adj_close\n",
              "ticker                                  ...                              \n",
              "A            18000650300          4722  ...   6.380635e+12   2.525992e+06\n",
              "AA           36347414100         12273  ...   2.092626e+13   4.574523e+06\n",
              "AABA        128688111700          5632  ...   4.443794e+14   2.108031e+07\n",
              "AAC             26540200           155  ...   2.339867e+10   1.529662e+05\n",
              "AAL          24310877700          3251  ...   3.614027e+13   6.011678e+06\n",
              "...                  ...           ...  ...            ...            ...\n",
              "ZTS           5072412900          1402  ...   1.104259e+13   3.323039e+06\n",
              "ZUMZ          1521606500          3350  ...   1.989288e+11   4.460143e+05\n",
              "ZUO            111821500            95  ...   2.120118e+12   1.456063e+06\n",
              "ZYME            20819400           335  ...   1.675123e+10   1.294265e+05\n",
              "ZYNE           283411600           771  ...   5.165037e+11   7.186819e+05\n",
              "\n",
              "[5685 rows x 5 columns]"
            ]
          },
          "metadata": {
            "tags": []
          },
          "execution_count": 37
        }
      ]
    },
    {
      "cell_type": "markdown",
      "metadata": {
        "id": "nTj14ydSwzo2",
        "colab_type": "text"
      },
      "source": [
        "## As we can see by the table, some companies appear more than others.\n",
        "### We will try to predict the adjusted close price for the companies that have more tickets/rows on the dataset, meaning we are choosing the companies with more data, for more potentially accurate predictions"
      ]
    },
    {
      "cell_type": "code",
      "metadata": {
        "trusted": true,
        "id": "aUHrwef1wzo2",
        "colab_type": "code",
        "outputId": "ff7c9195-465a-4fc0-ab2e-9d4e3f99cffe",
        "colab": {
          "base_uri": "https://localhost:8080/",
          "height": 287
        }
      },
      "source": [
        "stocks_adj_close.describe()"
      ],
      "execution_count": 38,
      "outputs": [
        {
          "output_type": "execute_result",
          "data": {
            "text/html": [
              "<div>\n",
              "<style scoped>\n",
              "    .dataframe tbody tr th:only-of-type {\n",
              "        vertical-align: middle;\n",
              "    }\n",
              "\n",
              "    .dataframe tbody tr th {\n",
              "        vertical-align: top;\n",
              "    }\n",
              "\n",
              "    .dataframe thead th {\n",
              "        text-align: right;\n",
              "    }\n",
              "</style>\n",
              "<table border=\"1\" class=\"dataframe\">\n",
              "  <thead>\n",
              "    <tr style=\"text-align: right;\">\n",
              "      <th></th>\n",
              "      <th>Volume_of_trades</th>\n",
              "      <th>Count_Ticker</th>\n",
              "      <th>Mean_adj_close</th>\n",
              "      <th>Var_adj_close</th>\n",
              "      <th>Std_adj_close</th>\n",
              "    </tr>\n",
              "  </thead>\n",
              "  <tbody>\n",
              "    <tr>\n",
              "      <th>count</th>\n",
              "      <td>5.685000e+03</td>\n",
              "      <td>5685.000000</td>\n",
              "      <td>5.685000e+03</td>\n",
              "      <td>5.684000e+03</td>\n",
              "      <td>5.684000e+03</td>\n",
              "    </tr>\n",
              "    <tr>\n",
              "      <th>mean</th>\n",
              "      <td>4.526977e+09</td>\n",
              "      <td>3689.338434</td>\n",
              "      <td>9.140485e+05</td>\n",
              "      <td>1.014622e+14</td>\n",
              "      <td>1.098775e+06</td>\n",
              "    </tr>\n",
              "    <tr>\n",
              "      <th>std</th>\n",
              "      <td>3.468412e+10</td>\n",
              "      <td>2973.716495</td>\n",
              "      <td>9.430167e+06</td>\n",
              "      <td>6.870001e+15</td>\n",
              "      <td>1.001362e+07</td>\n",
              "    </tr>\n",
              "    <tr>\n",
              "      <th>min</th>\n",
              "      <td>6.000000e+02</td>\n",
              "      <td>1.000000</td>\n",
              "      <td>2.000000e+02</td>\n",
              "      <td>0.000000e+00</td>\n",
              "      <td>0.000000e+00</td>\n",
              "    </tr>\n",
              "    <tr>\n",
              "      <th>25%</th>\n",
              "      <td>8.620490e+07</td>\n",
              "      <td>1104.000000</td>\n",
              "      <td>4.679925e+04</td>\n",
              "      <td>6.366286e+09</td>\n",
              "      <td>7.978900e+04</td>\n",
              "    </tr>\n",
              "    <tr>\n",
              "      <th>50%</th>\n",
              "      <td>3.941124e+08</td>\n",
              "      <td>2978.000000</td>\n",
              "      <td>1.739812e+05</td>\n",
              "      <td>9.008156e+10</td>\n",
              "      <td>3.001359e+05</td>\n",
              "    </tr>\n",
              "    <tr>\n",
              "      <th>75%</th>\n",
              "      <td>1.807450e+09</td>\n",
              "      <td>5735.000000</td>\n",
              "      <td>5.696173e+05</td>\n",
              "      <td>7.144775e+11</td>\n",
              "      <td>8.452677e+05</td>\n",
              "    </tr>\n",
              "    <tr>\n",
              "      <th>max</th>\n",
              "      <td>2.037690e+12</td>\n",
              "      <td>12274.000000</td>\n",
              "      <td>6.771986e+08</td>\n",
              "      <td>5.178087e+17</td>\n",
              "      <td>7.195893e+08</td>\n",
              "    </tr>\n",
              "  </tbody>\n",
              "</table>\n",
              "</div>"
            ],
            "text/plain": [
              "       Volume_of_trades  Count_Ticker  ...  Var_adj_close  Std_adj_close\n",
              "count      5.685000e+03   5685.000000  ...   5.684000e+03   5.684000e+03\n",
              "mean       4.526977e+09   3689.338434  ...   1.014622e+14   1.098775e+06\n",
              "std        3.468412e+10   2973.716495  ...   6.870001e+15   1.001362e+07\n",
              "min        6.000000e+02      1.000000  ...   0.000000e+00   0.000000e+00\n",
              "25%        8.620490e+07   1104.000000  ...   6.366286e+09   7.978900e+04\n",
              "50%        3.941124e+08   2978.000000  ...   9.008156e+10   3.001359e+05\n",
              "75%        1.807450e+09   5735.000000  ...   7.144775e+11   8.452677e+05\n",
              "max        2.037690e+12  12274.000000  ...   5.178087e+17   7.195893e+08\n",
              "\n",
              "[8 rows x 5 columns]"
            ]
          },
          "metadata": {
            "tags": []
          },
          "execution_count": 38
        }
      ]
    },
    {
      "cell_type": "code",
      "metadata": {
        "trusted": true,
        "id": "PzKe30fewzo4",
        "colab_type": "code",
        "outputId": "fb23ad22-a63d-4004-be84-edc73e2dc1a8",
        "colab": {
          "base_uri": "https://localhost:8080/",
          "height": 230
        }
      },
      "source": [
        "stocks_adj_close_top_10 = stocks_adj_close['Count_Ticker'].sort_values(ascending = False)[:10].copy()\n",
        "stocks_adj_close_top_10 = stocks_adj_close_top_10.rename('')\n",
        "stocks_adj_close_top_10"
      ],
      "execution_count": 39,
      "outputs": [
        {
          "output_type": "execute_result",
          "data": {
            "text/plain": [
              "ticker\n",
              "HPQ     12274\n",
              "BA      12274\n",
              "IP      12274\n",
              "CAT     12274\n",
              "AEP     12274\n",
              "NAV     12274\n",
              "DIS     12274\n",
              "ARNC    12274\n",
              "JNJ     12274\n",
              "FL      12274\n",
              "Name: , dtype: int64"
            ]
          },
          "metadata": {
            "tags": []
          },
          "execution_count": 39
        }
      ]
    },
    {
      "cell_type": "markdown",
      "metadata": {
        "id": "WyGqYypmwzo7",
        "colab_type": "text"
      },
      "source": [
        "## We want to predict the stock prices to a specific company.\n",
        "### So the first step it's to make a dataframe with a unique ticker.\n",
        "\n",
        "# Let's start by making an algorithm to predict the ajudsted close price of the HPQ"
      ]
    },
    {
      "cell_type": "code",
      "metadata": {
        "trusted": true,
        "id": "2vwJmFGRwzo8",
        "colab_type": "code",
        "outputId": "0a05f7ec-5a43-4a5d-a496-6c94bc49b7da",
        "colab": {
          "base_uri": "https://localhost:8080/",
          "height": 647
        }
      },
      "source": [
        "def companny_stocks(ticker):\n",
        "    return stock_prices[stock_prices[\"ticker\"] == ticker]\n",
        "\n",
        "df = companny_stocks(\"HPQ\")\n",
        "df = df.drop([\"ticker\"],axis=1)\n",
        "df[60:80]"
      ],
      "execution_count": 57,
      "outputs": [
        {
          "output_type": "execute_result",
          "data": {
            "text/html": [
              "<div>\n",
              "<style scoped>\n",
              "    .dataframe tbody tr th:only-of-type {\n",
              "        vertical-align: middle;\n",
              "    }\n",
              "\n",
              "    .dataframe tbody tr th {\n",
              "        vertical-align: top;\n",
              "    }\n",
              "\n",
              "    .dataframe thead th {\n",
              "        text-align: right;\n",
              "    }\n",
              "</style>\n",
              "<table border=\"1\" class=\"dataframe\">\n",
              "  <thead>\n",
              "    <tr style=\"text-align: right;\">\n",
              "      <th></th>\n",
              "      <th>open</th>\n",
              "      <th>close</th>\n",
              "      <th>adj_close</th>\n",
              "      <th>low</th>\n",
              "      <th>high</th>\n",
              "      <th>volume</th>\n",
              "      <th>date</th>\n",
              "    </tr>\n",
              "  </thead>\n",
              "  <tbody>\n",
              "    <tr>\n",
              "      <th>14222912</th>\n",
              "      <td>0.313103</td>\n",
              "      <td>0.313990</td>\n",
              "      <td>0.018849</td>\n",
              "      <td>0.310442</td>\n",
              "      <td>0.313990</td>\n",
              "      <td>1282400</td>\n",
              "      <td>1970-03-31</td>\n",
              "    </tr>\n",
              "    <tr>\n",
              "      <th>14222913</th>\n",
              "      <td>0.313990</td>\n",
              "      <td>0.321973</td>\n",
              "      <td>0.019329</td>\n",
              "      <td>0.313103</td>\n",
              "      <td>0.321973</td>\n",
              "      <td>2578900</td>\n",
              "      <td>1970-04-01</td>\n",
              "    </tr>\n",
              "    <tr>\n",
              "      <th>14222914</th>\n",
              "      <td>0.321973</td>\n",
              "      <td>0.320199</td>\n",
              "      <td>0.019222</td>\n",
              "      <td>0.317538</td>\n",
              "      <td>0.325521</td>\n",
              "      <td>12218400</td>\n",
              "      <td>1970-04-02</td>\n",
              "    </tr>\n",
              "    <tr>\n",
              "      <th>14222915</th>\n",
              "      <td>0.320199</td>\n",
              "      <td>0.318425</td>\n",
              "      <td>0.019116</td>\n",
              "      <td>0.315764</td>\n",
              "      <td>0.320199</td>\n",
              "      <td>3833200</td>\n",
              "      <td>1970-04-03</td>\n",
              "    </tr>\n",
              "    <tr>\n",
              "      <th>14222925</th>\n",
              "      <td>0.318425</td>\n",
              "      <td>0.297138</td>\n",
              "      <td>0.017838</td>\n",
              "      <td>0.295364</td>\n",
              "      <td>0.318425</td>\n",
              "      <td>6031700</td>\n",
              "      <td>1970-04-06</td>\n",
              "    </tr>\n",
              "    <tr>\n",
              "      <th>14222926</th>\n",
              "      <td>0.297138</td>\n",
              "      <td>0.290929</td>\n",
              "      <td>0.017465</td>\n",
              "      <td>0.285607</td>\n",
              "      <td>0.298025</td>\n",
              "      <td>3311800</td>\n",
              "      <td>1970-04-07</td>\n",
              "    </tr>\n",
              "    <tr>\n",
              "      <th>14222927</th>\n",
              "      <td>0.290929</td>\n",
              "      <td>0.297138</td>\n",
              "      <td>0.017838</td>\n",
              "      <td>0.290929</td>\n",
              "      <td>0.298912</td>\n",
              "      <td>2381600</td>\n",
              "      <td>1970-04-08</td>\n",
              "    </tr>\n",
              "    <tr>\n",
              "      <th>14222928</th>\n",
              "      <td>0.297138</td>\n",
              "      <td>0.297138</td>\n",
              "      <td>0.017838</td>\n",
              "      <td>0.295364</td>\n",
              "      <td>0.300685</td>\n",
              "      <td>3339900</td>\n",
              "      <td>1970-04-09</td>\n",
              "    </tr>\n",
              "    <tr>\n",
              "      <th>14222941</th>\n",
              "      <td>0.297138</td>\n",
              "      <td>0.304233</td>\n",
              "      <td>0.018264</td>\n",
              "      <td>0.296251</td>\n",
              "      <td>0.305120</td>\n",
              "      <td>1916600</td>\n",
              "      <td>1970-04-10</td>\n",
              "    </tr>\n",
              "    <tr>\n",
              "      <th>14222951</th>\n",
              "      <td>0.304233</td>\n",
              "      <td>0.303346</td>\n",
              "      <td>0.018210</td>\n",
              "      <td>0.303346</td>\n",
              "      <td>0.305120</td>\n",
              "      <td>930100</td>\n",
              "      <td>1970-04-13</td>\n",
              "    </tr>\n",
              "    <tr>\n",
              "      <th>14222963</th>\n",
              "      <td>0.303346</td>\n",
              "      <td>0.306007</td>\n",
              "      <td>0.018370</td>\n",
              "      <td>0.300685</td>\n",
              "      <td>0.306007</td>\n",
              "      <td>1958800</td>\n",
              "      <td>1970-04-14</td>\n",
              "    </tr>\n",
              "    <tr>\n",
              "      <th>14222973</th>\n",
              "      <td>0.306007</td>\n",
              "      <td>0.298912</td>\n",
              "      <td>0.017944</td>\n",
              "      <td>0.298912</td>\n",
              "      <td>0.312216</td>\n",
              "      <td>2071600</td>\n",
              "      <td>1970-04-15</td>\n",
              "    </tr>\n",
              "    <tr>\n",
              "      <th>14222985</th>\n",
              "      <td>0.298025</td>\n",
              "      <td>0.290042</td>\n",
              "      <td>0.017412</td>\n",
              "      <td>0.289155</td>\n",
              "      <td>0.298025</td>\n",
              "      <td>2198400</td>\n",
              "      <td>1970-04-16</td>\n",
              "    </tr>\n",
              "    <tr>\n",
              "      <th>14222995</th>\n",
              "      <td>0.288268</td>\n",
              "      <td>0.287381</td>\n",
              "      <td>0.017252</td>\n",
              "      <td>0.285607</td>\n",
              "      <td>0.288268</td>\n",
              "      <td>1916600</td>\n",
              "      <td>1970-04-17</td>\n",
              "    </tr>\n",
              "    <tr>\n",
              "      <th>14223006</th>\n",
              "      <td>0.287381</td>\n",
              "      <td>0.285607</td>\n",
              "      <td>0.017145</td>\n",
              "      <td>0.284720</td>\n",
              "      <td>0.288268</td>\n",
              "      <td>3100400</td>\n",
              "      <td>1970-04-20</td>\n",
              "    </tr>\n",
              "    <tr>\n",
              "      <th>14223016</th>\n",
              "      <td>0.285607</td>\n",
              "      <td>0.283833</td>\n",
              "      <td>0.017039</td>\n",
              "      <td>0.283833</td>\n",
              "      <td>0.287381</td>\n",
              "      <td>1522000</td>\n",
              "      <td>1970-04-21</td>\n",
              "    </tr>\n",
              "    <tr>\n",
              "      <th>14223028</th>\n",
              "      <td>0.283833</td>\n",
              "      <td>0.272302</td>\n",
              "      <td>0.016347</td>\n",
              "      <td>0.270528</td>\n",
              "      <td>0.284720</td>\n",
              "      <td>1789700</td>\n",
              "      <td>1970-04-22</td>\n",
              "    </tr>\n",
              "    <tr>\n",
              "      <th>14223038</th>\n",
              "      <td>0.272302</td>\n",
              "      <td>0.272302</td>\n",
              "      <td>0.016347</td>\n",
              "      <td>0.269641</td>\n",
              "      <td>0.274963</td>\n",
              "      <td>1789700</td>\n",
              "      <td>1970-04-23</td>\n",
              "    </tr>\n",
              "    <tr>\n",
              "      <th>14223051</th>\n",
              "      <td>0.272302</td>\n",
              "      <td>0.279398</td>\n",
              "      <td>0.016773</td>\n",
              "      <td>0.272302</td>\n",
              "      <td>0.279398</td>\n",
              "      <td>2578900</td>\n",
              "      <td>1970-04-24</td>\n",
              "    </tr>\n",
              "    <tr>\n",
              "      <th>14223061</th>\n",
              "      <td>0.277624</td>\n",
              "      <td>0.274963</td>\n",
              "      <td>0.016507</td>\n",
              "      <td>0.273189</td>\n",
              "      <td>0.277624</td>\n",
              "      <td>2254800</td>\n",
              "      <td>1970-04-27</td>\n",
              "    </tr>\n",
              "  </tbody>\n",
              "</table>\n",
              "</div>"
            ],
            "text/plain": [
              "              open     close  adj_close  ...      high    volume        date\n",
              "14222912  0.313103  0.313990   0.018849  ...  0.313990   1282400  1970-03-31\n",
              "14222913  0.313990  0.321973   0.019329  ...  0.321973   2578900  1970-04-01\n",
              "14222914  0.321973  0.320199   0.019222  ...  0.325521  12218400  1970-04-02\n",
              "14222915  0.320199  0.318425   0.019116  ...  0.320199   3833200  1970-04-03\n",
              "14222925  0.318425  0.297138   0.017838  ...  0.318425   6031700  1970-04-06\n",
              "14222926  0.297138  0.290929   0.017465  ...  0.298025   3311800  1970-04-07\n",
              "14222927  0.290929  0.297138   0.017838  ...  0.298912   2381600  1970-04-08\n",
              "14222928  0.297138  0.297138   0.017838  ...  0.300685   3339900  1970-04-09\n",
              "14222941  0.297138  0.304233   0.018264  ...  0.305120   1916600  1970-04-10\n",
              "14222951  0.304233  0.303346   0.018210  ...  0.305120    930100  1970-04-13\n",
              "14222963  0.303346  0.306007   0.018370  ...  0.306007   1958800  1970-04-14\n",
              "14222973  0.306007  0.298912   0.017944  ...  0.312216   2071600  1970-04-15\n",
              "14222985  0.298025  0.290042   0.017412  ...  0.298025   2198400  1970-04-16\n",
              "14222995  0.288268  0.287381   0.017252  ...  0.288268   1916600  1970-04-17\n",
              "14223006  0.287381  0.285607   0.017145  ...  0.288268   3100400  1970-04-20\n",
              "14223016  0.285607  0.283833   0.017039  ...  0.287381   1522000  1970-04-21\n",
              "14223028  0.283833  0.272302   0.016347  ...  0.284720   1789700  1970-04-22\n",
              "14223038  0.272302  0.272302   0.016347  ...  0.274963   1789700  1970-04-23\n",
              "14223051  0.272302  0.279398   0.016773  ...  0.279398   2578900  1970-04-24\n",
              "14223061  0.277624  0.274963   0.016507  ...  0.277624   2254800  1970-04-27\n",
              "\n",
              "[20 rows x 7 columns]"
            ]
          },
          "metadata": {
            "tags": []
          },
          "execution_count": 57
        }
      ]
    },
    {
      "cell_type": "markdown",
      "metadata": {
        "id": "DIBlfAZMwzo-",
        "colab_type": "text"
      },
      "source": [
        "> As we can see by the image, we can't conclude that the days with more volumes are related to the difference between then open and close price of this stock compannie, as we said early, this is a very variated problem, we can't find any dependencies here that can help us to \"make\" new features more correlated to the adj_close."
      ]
    },
    {
      "cell_type": "code",
      "metadata": {
        "trusted": true,
        "id": "rcnY5o0qwzo_",
        "colab_type": "code",
        "outputId": "036f4a98-f350-46e3-c520-982ed8c232a2",
        "colab": {
          "base_uri": "https://localhost:8080/",
          "height": 347
        }
      },
      "source": [
        "df.sort_values(by = 'volume', ascending = False)[0:10]"
      ],
      "execution_count": 58,
      "outputs": [
        {
          "output_type": "execute_result",
          "data": {
            "text/html": [
              "<div>\n",
              "<style scoped>\n",
              "    .dataframe tbody tr th:only-of-type {\n",
              "        vertical-align: middle;\n",
              "    }\n",
              "\n",
              "    .dataframe tbody tr th {\n",
              "        vertical-align: top;\n",
              "    }\n",
              "\n",
              "    .dataframe thead th {\n",
              "        text-align: right;\n",
              "    }\n",
              "</style>\n",
              "<table border=\"1\" class=\"dataframe\">\n",
              "  <thead>\n",
              "    <tr style=\"text-align: right;\">\n",
              "      <th></th>\n",
              "      <th>open</th>\n",
              "      <th>close</th>\n",
              "      <th>adj_close</th>\n",
              "      <th>low</th>\n",
              "      <th>high</th>\n",
              "      <th>volume</th>\n",
              "      <th>date</th>\n",
              "    </tr>\n",
              "  </thead>\n",
              "  <tbody>\n",
              "    <tr>\n",
              "      <th>14311291</th>\n",
              "      <td>19.741144</td>\n",
              "      <td>19.346048</td>\n",
              "      <td>13.910851</td>\n",
              "      <td>19.268847</td>\n",
              "      <td>19.909174</td>\n",
              "      <td>442012300</td>\n",
              "      <td>2010-08-09</td>\n",
              "    </tr>\n",
              "    <tr>\n",
              "      <th>14317660</th>\n",
              "      <td>5.286104</td>\n",
              "      <td>5.317893</td>\n",
              "      <td>4.153480</td>\n",
              "      <td>5.154405</td>\n",
              "      <td>5.476839</td>\n",
              "      <td>340591200</td>\n",
              "      <td>2012-11-20</td>\n",
              "    </tr>\n",
              "    <tr>\n",
              "      <th>14305336</th>\n",
              "      <td>20.158947</td>\n",
              "      <td>20.104450</td>\n",
              "      <td>13.913208</td>\n",
              "      <td>19.650318</td>\n",
              "      <td>20.821980</td>\n",
              "      <td>312113000</td>\n",
              "      <td>2008-05-13</td>\n",
              "    </tr>\n",
              "    <tr>\n",
              "      <th>14317267</th>\n",
              "      <td>7.824705</td>\n",
              "      <td>6.771117</td>\n",
              "      <td>5.288505</td>\n",
              "      <td>6.743869</td>\n",
              "      <td>7.879201</td>\n",
              "      <td>310536600</td>\n",
              "      <td>2012-10-03</td>\n",
              "    </tr>\n",
              "    <tr>\n",
              "      <th>14318305</th>\n",
              "      <td>8.269754</td>\n",
              "      <td>8.719346</td>\n",
              "      <td>6.955170</td>\n",
              "      <td>8.224341</td>\n",
              "      <td>9.005449</td>\n",
              "      <td>293423300</td>\n",
              "      <td>2013-02-22</td>\n",
              "    </tr>\n",
              "    <tr>\n",
              "      <th>14314059</th>\n",
              "      <td>10.717529</td>\n",
              "      <td>10.717529</td>\n",
              "      <td>7.866162</td>\n",
              "      <td>10.331517</td>\n",
              "      <td>10.903724</td>\n",
              "      <td>283937900</td>\n",
              "      <td>2011-08-19</td>\n",
              "    </tr>\n",
              "    <tr>\n",
              "      <th>14296714</th>\n",
              "      <td>10.036330</td>\n",
              "      <td>9.777475</td>\n",
              "      <td>6.320040</td>\n",
              "      <td>9.545867</td>\n",
              "      <td>10.108992</td>\n",
              "      <td>224995900</td>\n",
              "      <td>2005-02-09</td>\n",
              "    </tr>\n",
              "    <tr>\n",
              "      <th>14313319</th>\n",
              "      <td>17.061762</td>\n",
              "      <td>16.762035</td>\n",
              "      <td>12.210326</td>\n",
              "      <td>16.366940</td>\n",
              "      <td>17.102634</td>\n",
              "      <td>221134000</td>\n",
              "      <td>2011-05-17</td>\n",
              "    </tr>\n",
              "    <tr>\n",
              "      <th>14312741</th>\n",
              "      <td>19.836512</td>\n",
              "      <td>19.795641</td>\n",
              "      <td>14.359287</td>\n",
              "      <td>19.332424</td>\n",
              "      <td>19.854677</td>\n",
              "      <td>212846600</td>\n",
              "      <td>2011-02-23</td>\n",
              "    </tr>\n",
              "    <tr>\n",
              "      <th>14314057</th>\n",
              "      <td>13.560400</td>\n",
              "      <td>13.401453</td>\n",
              "      <td>9.836040</td>\n",
              "      <td>13.006358</td>\n",
              "      <td>15.440509</td>\n",
              "      <td>211412900</td>\n",
              "      <td>2011-08-18</td>\n",
              "    </tr>\n",
              "  </tbody>\n",
              "</table>\n",
              "</div>"
            ],
            "text/plain": [
              "               open      close  adj_close  ...       high     volume        date\n",
              "14311291  19.741144  19.346048  13.910851  ...  19.909174  442012300  2010-08-09\n",
              "14317660   5.286104   5.317893   4.153480  ...   5.476839  340591200  2012-11-20\n",
              "14305336  20.158947  20.104450  13.913208  ...  20.821980  312113000  2008-05-13\n",
              "14317267   7.824705   6.771117   5.288505  ...   7.879201  310536600  2012-10-03\n",
              "14318305   8.269754   8.719346   6.955170  ...   9.005449  293423300  2013-02-22\n",
              "14314059  10.717529  10.717529   7.866162  ...  10.903724  283937900  2011-08-19\n",
              "14296714  10.036330   9.777475   6.320040  ...  10.108992  224995900  2005-02-09\n",
              "14313319  17.061762  16.762035  12.210326  ...  17.102634  221134000  2011-05-17\n",
              "14312741  19.836512  19.795641  14.359287  ...  19.854677  212846600  2011-02-23\n",
              "14314057  13.560400  13.401453   9.836040  ...  15.440509  211412900  2011-08-18\n",
              "\n",
              "[10 rows x 7 columns]"
            ]
          },
          "metadata": {
            "tags": []
          },
          "execution_count": 58
        }
      ]
    },
    {
      "cell_type": "markdown",
      "metadata": {
        "id": "2CIPbaaLwzpB",
        "colab_type": "text"
      },
      "source": [
        "> Data corresponding to the company with the HPQ ticker\n",
        "\n",
        "> All rows are ordered by date, we can see that there are some hops, for example from 1970-04-24 to 1970-04-27, as we can see in the last two rows of this dataset, but these hops are derived from the wekends, where the trading market is closed and sometimes holidays."
      ]
    },
    {
      "cell_type": "code",
      "metadata": {
        "trusted": true,
        "id": "FWFJBBMTwzpC",
        "colab_type": "code",
        "outputId": "6fd710ac-b455-4a39-a5ef-f21f20c09744",
        "colab": {
          "base_uri": "https://localhost:8080/",
          "height": 287
        }
      },
      "source": [
        "df = df.drop([\"date\"],axis=1)\n",
        "df.describe()"
      ],
      "execution_count": 59,
      "outputs": [
        {
          "output_type": "execute_result",
          "data": {
            "text/html": [
              "<div>\n",
              "<style scoped>\n",
              "    .dataframe tbody tr th:only-of-type {\n",
              "        vertical-align: middle;\n",
              "    }\n",
              "\n",
              "    .dataframe tbody tr th {\n",
              "        vertical-align: top;\n",
              "    }\n",
              "\n",
              "    .dataframe thead th {\n",
              "        text-align: right;\n",
              "    }\n",
              "</style>\n",
              "<table border=\"1\" class=\"dataframe\">\n",
              "  <thead>\n",
              "    <tr style=\"text-align: right;\">\n",
              "      <th></th>\n",
              "      <th>open</th>\n",
              "      <th>close</th>\n",
              "      <th>adj_close</th>\n",
              "      <th>low</th>\n",
              "      <th>high</th>\n",
              "      <th>volume</th>\n",
              "    </tr>\n",
              "  </thead>\n",
              "  <tbody>\n",
              "    <tr>\n",
              "      <th>count</th>\n",
              "      <td>12274.000000</td>\n",
              "      <td>12274.000000</td>\n",
              "      <td>12274.000000</td>\n",
              "      <td>12274.000000</td>\n",
              "      <td>12274.000000</td>\n",
              "      <td>1.227400e+04</td>\n",
              "    </tr>\n",
              "    <tr>\n",
              "      <th>mean</th>\n",
              "      <td>8.056883</td>\n",
              "      <td>8.063258</td>\n",
              "      <td>4.899850</td>\n",
              "      <td>7.949466</td>\n",
              "      <td>8.174336</td>\n",
              "      <td>1.678352e+07</td>\n",
              "    </tr>\n",
              "    <tr>\n",
              "      <th>std</th>\n",
              "      <td>7.510812</td>\n",
              "      <td>7.517546</td>\n",
              "      <td>5.869501</td>\n",
              "      <td>7.407970</td>\n",
              "      <td>7.622849</td>\n",
              "      <td>1.806805e+07</td>\n",
              "    </tr>\n",
              "    <tr>\n",
              "      <th>min</th>\n",
              "      <td>0.140142</td>\n",
              "      <td>0.137482</td>\n",
              "      <td>0.008253</td>\n",
              "      <td>0.137482</td>\n",
              "      <td>0.141916</td>\n",
              "      <td>1.510000e+04</td>\n",
              "    </tr>\n",
              "    <tr>\n",
              "      <th>25%</th>\n",
              "      <td>1.284344</td>\n",
              "      <td>1.287892</td>\n",
              "      <td>0.090425</td>\n",
              "      <td>1.270152</td>\n",
              "      <td>1.302083</td>\n",
              "      <td>5.971800e+06</td>\n",
              "    </tr>\n",
              "    <tr>\n",
              "      <th>50%</th>\n",
              "      <td>4.672599</td>\n",
              "      <td>4.669051</td>\n",
              "      <td>1.210172</td>\n",
              "      <td>4.605188</td>\n",
              "      <td>4.718721</td>\n",
              "      <td>1.180180e+07</td>\n",
              "    </tr>\n",
              "    <tr>\n",
              "      <th>75%</th>\n",
              "      <td>13.836853</td>\n",
              "      <td>13.836853</td>\n",
              "      <td>8.975129</td>\n",
              "      <td>13.627384</td>\n",
              "      <td>14.039310</td>\n",
              "      <td>2.208455e+07</td>\n",
              "    </tr>\n",
              "    <tr>\n",
              "      <th>max</th>\n",
              "      <td>34.826294</td>\n",
              "      <td>35.422344</td>\n",
              "      <td>24.629999</td>\n",
              "      <td>33.293598</td>\n",
              "      <td>35.422344</td>\n",
              "      <td>4.420123e+08</td>\n",
              "    </tr>\n",
              "  </tbody>\n",
              "</table>\n",
              "</div>"
            ],
            "text/plain": [
              "               open         close  ...          high        volume\n",
              "count  12274.000000  12274.000000  ...  12274.000000  1.227400e+04\n",
              "mean       8.056883      8.063258  ...      8.174336  1.678352e+07\n",
              "std        7.510812      7.517546  ...      7.622849  1.806805e+07\n",
              "min        0.140142      0.137482  ...      0.141916  1.510000e+04\n",
              "25%        1.284344      1.287892  ...      1.302083  5.971800e+06\n",
              "50%        4.672599      4.669051  ...      4.718721  1.180180e+07\n",
              "75%       13.836853     13.836853  ...     14.039310  2.208455e+07\n",
              "max       34.826294     35.422344  ...     35.422344  4.420123e+08\n",
              "\n",
              "[8 rows x 6 columns]"
            ]
          },
          "metadata": {
            "tags": []
          },
          "execution_count": 59
        }
      ]
    },
    {
      "cell_type": "markdown",
      "metadata": {
        "id": "vyOm9YQWwzpF",
        "colab_type": "text"
      },
      "source": [
        "### This companie have the NYSE Exhange and is Sector is Technology"
      ]
    },
    {
      "cell_type": "code",
      "metadata": {
        "trusted": true,
        "id": "DuoUXD0gwzpF",
        "colab_type": "code",
        "outputId": "00e4d9e6-6b34-4d50-a46f-378c9fdc2304",
        "colab": {
          "base_uri": "https://localhost:8080/",
          "height": 77
        }
      },
      "source": [
        "stocks[stocks['ticker'] == 'HPQ']"
      ],
      "execution_count": 60,
      "outputs": [
        {
          "output_type": "execute_result",
          "data": {
            "text/html": [
              "<div>\n",
              "<style scoped>\n",
              "    .dataframe tbody tr th:only-of-type {\n",
              "        vertical-align: middle;\n",
              "    }\n",
              "\n",
              "    .dataframe tbody tr th {\n",
              "        vertical-align: top;\n",
              "    }\n",
              "\n",
              "    .dataframe thead th {\n",
              "        text-align: right;\n",
              "    }\n",
              "</style>\n",
              "<table border=\"1\" class=\"dataframe\">\n",
              "  <thead>\n",
              "    <tr style=\"text-align: right;\">\n",
              "      <th></th>\n",
              "      <th>ticker</th>\n",
              "      <th>exchange</th>\n",
              "      <th>name</th>\n",
              "      <th>sector</th>\n",
              "      <th>industry</th>\n",
              "    </tr>\n",
              "  </thead>\n",
              "  <tbody>\n",
              "    <tr>\n",
              "      <th>4757</th>\n",
              "      <td>HPQ</td>\n",
              "      <td>NYSE</td>\n",
              "      <td>HP INC.</td>\n",
              "      <td>TECHNOLOGY</td>\n",
              "      <td>COMPUTER MANUFACTURING</td>\n",
              "    </tr>\n",
              "  </tbody>\n",
              "</table>\n",
              "</div>"
            ],
            "text/plain": [
              "     ticker exchange     name      sector                industry\n",
              "4757    HPQ     NYSE  HP INC.  TECHNOLOGY  COMPUTER MANUFACTURING"
            ]
          },
          "metadata": {
            "tags": []
          },
          "execution_count": 60
        }
      ]
    },
    {
      "cell_type": "markdown",
      "metadata": {
        "id": "5tlUXuKZ7emm",
        "colab_type": "text"
      },
      "source": [
        "## Importante\n",
        "## Acrescentamos uma nova feature, a feature que queremos prever\n",
        "\n",
        "> Dado a variação de stock prices, em vez de se tentar prever o closed ou adj_close price, decide-se interpretra o problema de outra forma. \n",
        "\n",
        "> Criamos uma nova feature, respetivamente **variation_info**, que representa a variação, positiva ou negativa do closed price entre o respetivo dia e o dia seguinte.\n",
        "\n",
        "> Ou seja o nosso modelo vai tentar detetar qual o tipo de variação que irá ocorrer o melhor possível, ou seja, se os stocks prices vão descer ou subir, e para além disso vai tentar prever qual a variação numérica correspondente.\n",
        "\n",
        "> Desta forma, mesmo que os resultados não sejam muito precisos conseguimos ter uma noção do que vai acontecer ao preço, respetivamente se vai descer ou subir."
      ]
    },
    {
      "cell_type": "markdown",
      "metadata": {
        "id": "UCWeVMBB8Tes",
        "colab_type": "text"
      },
      "source": [
        "> Função que cria adiciona a nova feature para uma determinada empresa correspondente à variação entre closed prices do dia atual e do dia seguinte."
      ]
    },
    {
      "cell_type": "code",
      "metadata": {
        "trusted": true,
        "id": "RiEKy4iZwzoZ",
        "colab_type": "code",
        "colab": {}
      },
      "source": [
        "#Last row have 0 in variation, cause we dont have the next row, should we remove it?\n",
        "\n",
        "#Mudar frase\n",
        "#Variação é entre o atual e o de amanhã, para qd fizermos a previsão termos o modelo a inferir cenas corretas\n",
        "\n",
        "def make_variation_info_for_company(df):\n",
        "\n",
        "  variation_info = []\n",
        "  variation_info.append(0)\n",
        "  tmp = 0\n",
        "\n",
        "  for index,row in df.iterrows():\n",
        "  \n",
        "    if(tmp == 0):\n",
        "        close_price = row[1]\n",
        "        tmp+=1\n",
        "    \n",
        "    else:\n",
        "      variation = row[1] - close_price\n",
        "      close_price = row[1]\n",
        "      variation_info.append(variation)\n",
        "  \n",
        "  df.insert(2, \"Variation_info\", variation_info, True)\n",
        "\n",
        "make_variation_info_for_company(df)"
      ],
      "execution_count": 0,
      "outputs": []
    },
    {
      "cell_type": "code",
      "metadata": {
        "id": "TzrsRjTeHA8x",
        "colab_type": "code",
        "outputId": "ca382dd2-ba43-406e-b5d9-78c0e5eb59ec",
        "colab": {
          "base_uri": "https://localhost:8080/",
          "height": 197
        }
      },
      "source": [
        "df.head()"
      ],
      "execution_count": 62,
      "outputs": [
        {
          "output_type": "execute_result",
          "data": {
            "text/html": [
              "<div>\n",
              "<style scoped>\n",
              "    .dataframe tbody tr th:only-of-type {\n",
              "        vertical-align: middle;\n",
              "    }\n",
              "\n",
              "    .dataframe tbody tr th {\n",
              "        vertical-align: top;\n",
              "    }\n",
              "\n",
              "    .dataframe thead th {\n",
              "        text-align: right;\n",
              "    }\n",
              "</style>\n",
              "<table border=\"1\" class=\"dataframe\">\n",
              "  <thead>\n",
              "    <tr style=\"text-align: right;\">\n",
              "      <th></th>\n",
              "      <th>open</th>\n",
              "      <th>close</th>\n",
              "      <th>Variation_info</th>\n",
              "      <th>adj_close</th>\n",
              "      <th>low</th>\n",
              "      <th>high</th>\n",
              "      <th>volume</th>\n",
              "    </tr>\n",
              "  </thead>\n",
              "  <tbody>\n",
              "    <tr>\n",
              "      <th>14222797</th>\n",
              "      <td>0.365435</td>\n",
              "      <td>0.363217</td>\n",
              "      <td>0.000000</td>\n",
              "      <td>0.021705</td>\n",
              "      <td>0.361443</td>\n",
              "      <td>0.365435</td>\n",
              "      <td>1324700</td>\n",
              "    </tr>\n",
              "    <tr>\n",
              "      <th>14222798</th>\n",
              "      <td>0.363661</td>\n",
              "      <td>0.373861</td>\n",
              "      <td>0.010644</td>\n",
              "      <td>0.022341</td>\n",
              "      <td>0.363661</td>\n",
              "      <td>0.375192</td>\n",
              "      <td>4368700</td>\n",
              "    </tr>\n",
              "    <tr>\n",
              "      <th>14222799</th>\n",
              "      <td>0.373861</td>\n",
              "      <td>0.369870</td>\n",
              "      <td>-0.003991</td>\n",
              "      <td>0.022103</td>\n",
              "      <td>0.369870</td>\n",
              "      <td>0.374305</td>\n",
              "      <td>2395700</td>\n",
              "    </tr>\n",
              "    <tr>\n",
              "      <th>14222800</th>\n",
              "      <td>0.370313</td>\n",
              "      <td>0.370757</td>\n",
              "      <td>0.000887</td>\n",
              "      <td>0.022156</td>\n",
              "      <td>0.370313</td>\n",
              "      <td>0.372087</td>\n",
              "      <td>1014600</td>\n",
              "    </tr>\n",
              "    <tr>\n",
              "      <th>14222801</th>\n",
              "      <td>0.370757</td>\n",
              "      <td>0.374305</td>\n",
              "      <td>0.003548</td>\n",
              "      <td>0.022368</td>\n",
              "      <td>0.370313</td>\n",
              "      <td>0.379183</td>\n",
              "      <td>3325900</td>\n",
              "    </tr>\n",
              "  </tbody>\n",
              "</table>\n",
              "</div>"
            ],
            "text/plain": [
              "              open     close  Variation_info  ...       low      high   volume\n",
              "14222797  0.365435  0.363217        0.000000  ...  0.361443  0.365435  1324700\n",
              "14222798  0.363661  0.373861        0.010644  ...  0.363661  0.375192  4368700\n",
              "14222799  0.373861  0.369870       -0.003991  ...  0.369870  0.374305  2395700\n",
              "14222800  0.370313  0.370757        0.000887  ...  0.370313  0.372087  1014600\n",
              "14222801  0.370757  0.374305        0.003548  ...  0.370313  0.379183  3325900\n",
              "\n",
              "[5 rows x 7 columns]"
            ]
          },
          "metadata": {
            "tags": []
          },
          "execution_count": 62
        }
      ]
    },
    {
      "cell_type": "code",
      "metadata": {
        "id": "UY_9Bdln_VUy",
        "colab_type": "code",
        "outputId": "47872c25-3ae9-46d6-fbab-2610a8a954d8",
        "colab": {
          "base_uri": "https://localhost:8080/",
          "height": 287
        }
      },
      "source": [
        "df.describe()"
      ],
      "execution_count": 63,
      "outputs": [
        {
          "output_type": "execute_result",
          "data": {
            "text/html": [
              "<div>\n",
              "<style scoped>\n",
              "    .dataframe tbody tr th:only-of-type {\n",
              "        vertical-align: middle;\n",
              "    }\n",
              "\n",
              "    .dataframe tbody tr th {\n",
              "        vertical-align: top;\n",
              "    }\n",
              "\n",
              "    .dataframe thead th {\n",
              "        text-align: right;\n",
              "    }\n",
              "</style>\n",
              "<table border=\"1\" class=\"dataframe\">\n",
              "  <thead>\n",
              "    <tr style=\"text-align: right;\">\n",
              "      <th></th>\n",
              "      <th>open</th>\n",
              "      <th>close</th>\n",
              "      <th>Variation_info</th>\n",
              "      <th>adj_close</th>\n",
              "      <th>low</th>\n",
              "      <th>high</th>\n",
              "      <th>volume</th>\n",
              "    </tr>\n",
              "  </thead>\n",
              "  <tbody>\n",
              "    <tr>\n",
              "      <th>count</th>\n",
              "      <td>12274.000000</td>\n",
              "      <td>12274.000000</td>\n",
              "      <td>12274.000000</td>\n",
              "      <td>12274.000000</td>\n",
              "      <td>12274.000000</td>\n",
              "      <td>12274.000000</td>\n",
              "      <td>1.227400e+04</td>\n",
              "    </tr>\n",
              "    <tr>\n",
              "      <th>mean</th>\n",
              "      <td>8.056883</td>\n",
              "      <td>8.063258</td>\n",
              "      <td>0.001938</td>\n",
              "      <td>4.899850</td>\n",
              "      <td>7.949466</td>\n",
              "      <td>8.174336</td>\n",
              "      <td>1.678352e+07</td>\n",
              "    </tr>\n",
              "    <tr>\n",
              "      <th>std</th>\n",
              "      <td>7.510812</td>\n",
              "      <td>7.517546</td>\n",
              "      <td>0.265847</td>\n",
              "      <td>5.869501</td>\n",
              "      <td>7.407970</td>\n",
              "      <td>7.622849</td>\n",
              "      <td>1.806805e+07</td>\n",
              "    </tr>\n",
              "    <tr>\n",
              "      <th>min</th>\n",
              "      <td>0.140142</td>\n",
              "      <td>0.137482</td>\n",
              "      <td>-4.952883</td>\n",
              "      <td>0.008253</td>\n",
              "      <td>0.137482</td>\n",
              "      <td>0.141916</td>\n",
              "      <td>1.510000e+04</td>\n",
              "    </tr>\n",
              "    <tr>\n",
              "      <th>25%</th>\n",
              "      <td>1.284344</td>\n",
              "      <td>1.287892</td>\n",
              "      <td>-0.042575</td>\n",
              "      <td>0.090425</td>\n",
              "      <td>1.270152</td>\n",
              "      <td>1.302083</td>\n",
              "      <td>5.971800e+06</td>\n",
              "    </tr>\n",
              "    <tr>\n",
              "      <th>50%</th>\n",
              "      <td>4.672599</td>\n",
              "      <td>4.669051</td>\n",
              "      <td>0.000000</td>\n",
              "      <td>1.210172</td>\n",
              "      <td>4.605188</td>\n",
              "      <td>4.718721</td>\n",
              "      <td>1.180180e+07</td>\n",
              "    </tr>\n",
              "    <tr>\n",
              "      <th>75%</th>\n",
              "      <td>13.836853</td>\n",
              "      <td>13.836853</td>\n",
              "      <td>0.049954</td>\n",
              "      <td>8.975129</td>\n",
              "      <td>13.627384</td>\n",
              "      <td>14.039310</td>\n",
              "      <td>2.208455e+07</td>\n",
              "    </tr>\n",
              "    <tr>\n",
              "      <th>max</th>\n",
              "      <td>34.826294</td>\n",
              "      <td>35.422344</td>\n",
              "      <td>3.193121</td>\n",
              "      <td>24.629999</td>\n",
              "      <td>33.293598</td>\n",
              "      <td>35.422344</td>\n",
              "      <td>4.420123e+08</td>\n",
              "    </tr>\n",
              "  </tbody>\n",
              "</table>\n",
              "</div>"
            ],
            "text/plain": [
              "               open         close  ...          high        volume\n",
              "count  12274.000000  12274.000000  ...  12274.000000  1.227400e+04\n",
              "mean       8.056883      8.063258  ...      8.174336  1.678352e+07\n",
              "std        7.510812      7.517546  ...      7.622849  1.806805e+07\n",
              "min        0.140142      0.137482  ...      0.141916  1.510000e+04\n",
              "25%        1.284344      1.287892  ...      1.302083  5.971800e+06\n",
              "50%        4.672599      4.669051  ...      4.718721  1.180180e+07\n",
              "75%       13.836853     13.836853  ...     14.039310  2.208455e+07\n",
              "max       34.826294     35.422344  ...     35.422344  4.420123e+08\n",
              "\n",
              "[8 rows x 7 columns]"
            ]
          },
          "metadata": {
            "tags": []
          },
          "execution_count": 63
        }
      ]
    },
    {
      "cell_type": "markdown",
      "metadata": {
        "id": "vSgBtzYkwzpK",
        "colab_type": "text"
      },
      "source": [
        "# Machine Learning algorithms"
      ]
    },
    {
      "cell_type": "markdown",
      "metadata": {
        "id": "EN1eIC7swzpL",
        "colab_type": "text"
      },
      "source": [
        "1. Linear Regression\n",
        "2. Support Vectors Classifers for Regression SVR\n",
        "3. Decisions Tree / Random Forest\n",
        "4. Recurrent Neural Networks (RNN) / LSTM\n",
        "\n"
      ]
    },
    {
      "cell_type": "markdown",
      "metadata": {
        "id": "JxZYfykMwzpL",
        "colab_type": "text"
      },
      "source": [
        "> First lets prepare the small dataset corresponding to the comapny HPQ:\n",
        "\n",
        "> The adj_close price column it's the label column and the rest of the features are independent variables\n",
        "\n",
        "> Lets normalize all the variables, and then make a x_train and y_train\n"
      ]
    },
    {
      "cell_type": "code",
      "metadata": {
        "trusted": true,
        "id": "7gJCUdBDwzpM",
        "colab_type": "code",
        "outputId": "472173b0-e92f-4d40-d27f-821aa90ca3e0",
        "colab": {
          "base_uri": "https://localhost:8080/",
          "height": 204
        }
      },
      "source": [
        "def show_distribution(df):\n",
        "    plt.figure(figsize=(70, 3))\n",
        "    i = 0\n",
        "    \n",
        "    for feature in df:\n",
        "        plt.subplot(1, 20, i+1)\n",
        "        plt.plot(df[feature])\n",
        "        plt.xlabel(feature)\n",
        "        i += 1\n",
        "    plt.show()\n",
        "\n",
        "show_distribution(df)"
      ],
      "execution_count": 64,
      "outputs": [
        {
          "output_type": "display_data",
          "data": {
            "image/png": "[encoded data removed]",
            "text/plain": [
              "<Figure size 5040x216 with 7 Axes>"
            ]
          },
          "metadata": {
            "tags": [],
            "needs_background": "light"
          }
        }
      ]
    },
    {
      "cell_type": "markdown",
      "metadata": {
        "id": "5W6_K8-8wzpT",
        "colab_type": "text"
      },
      "source": [
        ">As we can see, all these distributions are very similar, but none of them is close to a normal distribution, so we will normalize the data using the min-max normalizer."
      ]
    },
    {
      "cell_type": "markdown",
      "metadata": {
        "id": "8z2hL_yHwzpU",
        "colab_type": "text"
      },
      "source": [
        "# Normalizing and splitting the data"
      ]
    },
    {
      "cell_type": "code",
      "metadata": {
        "trusted": true,
        "id": "Y5pbyY3LwzpX",
        "colab_type": "code",
        "colab": {}
      },
      "source": [
        "from sklearn.preprocessing import MinMaxScaler\n",
        "\n",
        "scaler = MinMaxScaler()\n",
        "\n",
        "x = df.iloc[:,[0,1,3,4,5,6]]\n",
        "y = df.iloc[:,[2]].to_numpy()\n",
        "x = scaler.fit_transform(x)"
      ],
      "execution_count": 0,
      "outputs": []
    },
    {
      "cell_type": "markdown",
      "metadata": {
        "id": "a8hDSymvwzpa",
        "colab_type": "text"
      },
      "source": [
        "# Spliting the data\n",
        "\n",
        "## Should we use Time Series Split?\n",
        "## For now im justing using 10% of the final data to represent the test set and another 10% for validation purposes"
      ]
    },
    {
      "cell_type": "code",
      "metadata": {
        "trusted": true,
        "id": "ir9KKb4Swzpa",
        "colab_type": "code",
        "outputId": "1c8691e6-c1f7-4b2d-fd54-6d0cd6f864ac",
        "colab": {
          "base_uri": "https://localhost:8080/",
          "height": 212
        }
      },
      "source": [
        "#10% equivale 1227\n",
        "\n",
        "from sklearn.model_selection import train_test_split\n",
        "\n",
        "x_train, x_test, y_train, y_test = train_test_split(\n",
        "      x, y, test_size=0.2, random_state=42,shuffle=False)\n",
        "\n",
        "x_test, x_val, y_test, y_val = train_test_split(\n",
        "      x_test, y_test, test_size=0.5, random_state=42,shuffle=False)\n",
        "\n",
        "\n",
        "print(\" --------- Info about the datasets shape --------- \")\n",
        "print(\"Train set have a shape of \" + str(x_train.shape))\n",
        "print(\"Train label have a shape of \" + str(y_train.shape))\n",
        "print(\"\\n\")\n",
        "print(\"Val set have a shape of \" + str(x_val.shape))\n",
        "print(\"Val label have a shape of \" + str(y_val.shape))\n",
        "print(\"\\n\")\n",
        "print(\"Test set have a shape of \" + str(x_test.shape))\n",
        "print(\"Test label have a shape of \" + str(y_test.shape))"
      ],
      "execution_count": 66,
      "outputs": [
        {
          "output_type": "stream",
          "text": [
            " --------- Info about the datasets shape --------- \n",
            "Train set have a shape of (9819, 6)\n",
            "Train label have a shape of (9819, 1)\n",
            "\n",
            "\n",
            "Val set have a shape of (1228, 6)\n",
            "Val label have a shape of (1228, 1)\n",
            "\n",
            "\n",
            "Test set have a shape of (1227, 6)\n",
            "Test label have a shape of (1227, 1)\n"
          ],
          "name": "stdout"
        }
      ]
    },
    {
      "cell_type": "code",
      "metadata": {
        "trusted": true,
        "id": "9v61yURtwzph",
        "colab_type": "code",
        "outputId": "568d00b8-3e96-4cb0-c487-003ae8c07134",
        "colab": {
          "base_uri": "https://localhost:8080/",
          "height": 674
        }
      },
      "source": [
        "print(\"Info about the values on y train :\")\n",
        "print(pd.DataFrame(y_train).describe())\n",
        "\n",
        "print(\"\\n\")\n",
        "\n",
        "print(\"Info about the values on y val :\")\n",
        "print(pd.DataFrame(y_val).describe())\n",
        "\n",
        "print(\"\\n\")\n",
        "\n",
        "print(\"As we can see by this columns the test as a lower mean that the training set\")\n",
        "print(\"Info about the values on y test :\")\n",
        "print(pd.DataFrame(y_test).describe())\n",
        "\n",
        "print(\"\\n\")"
      ],
      "execution_count": 67,
      "outputs": [
        {
          "output_type": "stream",
          "text": [
            "Info about the values on y train :\n",
            "                 0\n",
            "count  9819.000000\n",
            "mean      0.001565\n",
            "std       0.258383\n",
            "min      -4.952883\n",
            "25%      -0.028383\n",
            "50%       0.000000\n",
            "75%       0.035479\n",
            "max       3.193121\n",
            "\n",
            "\n",
            "Info about the values on y val :\n",
            "                 0\n",
            "count  1228.000000\n",
            "mean      0.011308\n",
            "std       0.271627\n",
            "min      -2.000000\n",
            "25%      -0.118074\n",
            "50%       0.010000\n",
            "75%       0.145323\n",
            "max       1.586585\n",
            "\n",
            "\n",
            "As we can see by this columns the test as a lower mean that the training set\n",
            "Info about the values on y test :\n",
            "                 0\n",
            "count  1227.000000\n",
            "mean     -0.004456\n",
            "std       0.314461\n",
            "min      -2.683924\n",
            "25%      -0.145322\n",
            "50%       0.004541\n",
            "75%       0.168028\n",
            "max       1.648501\n",
            "\n",
            "\n"
          ],
          "name": "stdout"
        }
      ]
    },
    {
      "cell_type": "markdown",
      "metadata": {
        "id": "n0UaZPHlwzpq",
        "colab_type": "text"
      },
      "source": [
        "# Linear Regression"
      ]
    },
    {
      "cell_type": "markdown",
      "metadata": {
        "id": "6uXKSWmnwzpq",
        "colab_type": "text"
      },
      "source": [
        "> Best so far:\n",
        "\n",
        "    Train RMSE: 0.11181508720815861\n",
        "    \n",
        "    Validation RMSE: 0.08294200344270668\n",
        "\n",
        "    Test RMSE: 0.18634031732139042\n",
        "\n",
        "> With fit_intercept = True and normalize = False"
      ]
    },
    {
      "cell_type": "code",
      "metadata": {
        "trusted": true,
        "id": "ZkSRtRmDwzpq",
        "colab_type": "code",
        "colab": {}
      },
      "source": [
        "from sklearn.model_selection import cross_validate\n",
        "from sklearn.linear_model import LinearRegression, Lasso\n",
        "from sklearn import metrics\n",
        "from sklearn.svm import SVR\n",
        "from sklearn.model_selection import GridSearchCV"
      ],
      "execution_count": 0,
      "outputs": []
    },
    {
      "cell_type": "markdown",
      "metadata": {
        "id": "9c40wARlwzps",
        "colab_type": "text"
      },
      "source": [
        "We start off with a simples linear regression;\n",
        "This implementation uses a 5 fold cross validation on a single model;\n",
        "We consider linear regression as an introduction to the problem because we believe it might not perform as well as we'd like, so the effort put in this algorithm will be reduced in comparison with others."
      ]
    },
    {
      "cell_type": "code",
      "metadata": {
        "trusted": true,
        "id": "qT5fTWeFwzps",
        "colab_type": "code",
        "outputId": "586f35f1-31a8-49c0-8d52-069e173830f8",
        "colab": {
          "base_uri": "https://localhost:8080/",
          "height": 52
        }
      },
      "source": [
        "x_train[0]"
      ],
      "execution_count": 71,
      "outputs": [
        {
          "output_type": "execute_result",
          "data": {
            "text/plain": [
              "array([0.00649517, 0.00639753, 0.00054635, 0.00675477, 0.00633548,\n",
              "       0.00296291])"
            ]
          },
          "metadata": {
            "tags": []
          },
          "execution_count": 71
        }
      ]
    },
    {
      "cell_type": "code",
      "metadata": {
        "trusted": true,
        "id": "iJ6faSi-wzpu",
        "colab_type": "code",
        "outputId": "5d36b6e4-d2b6-4b46-f7b8-9eabefdcbb47",
        "colab": {
          "base_uri": "https://localhost:8080/",
          "height": 70
        }
      },
      "source": [
        "from sklearn.metrics import mean_squared_error\n",
        "\n",
        "#We already have the x_train normalized\n",
        "regression_linear_model = LinearRegression(normalize = True)\n",
        "\n",
        "scores = cross_validate(regression_linear_model, x_train, y_train, cv=5,\n",
        "                        scoring=('neg_root_mean_squared_error'),\n",
        "                        return_train_score=True,return_estimator=True)\n",
        "\n",
        "train_rmse = (scores['train_score']*-1).mean()\n",
        "val_rmse = (scores['test_score']*-1).mean()\n",
        "\n",
        "\n",
        "print('Train RMSE: {}'.format(train_rmse))\n",
        "print('Validation RMSE: {}'.format(val_rmse))\n",
        "\n",
        "regr_model = scores['estimator'][0]\n",
        "\n",
        "y_pred = regr_model.predict(x_test)\n",
        "\n",
        "test_rmse = np.sqrt(mean_squared_error(y_test,y_pred))\n",
        "\n",
        "print('Test RMSE: {}'.format(test_rmse))"
      ],
      "execution_count": 72,
      "outputs": [
        {
          "output_type": "stream",
          "text": [
            "Train RMSE: 0.11181508720815861\n",
            "Validation RMSE: 0.08294200344270668\n",
            "Test RMSE: 0.18634031732139042\n"
          ],
          "name": "stdout"
        }
      ]
    },
    {
      "cell_type": "code",
      "metadata": {
        "id": "E_qJOZqLHBhX",
        "colab_type": "code",
        "outputId": "d48676ab-428a-4eb6-c71d-6697b7ee2862",
        "colab": {
          "base_uri": "https://localhost:8080/",
          "height": 87
        }
      },
      "source": [
        "coefs = regression_linear_model.fit(x_train, y_train).coef_[0]\n",
        "print(\"This are the estimated coefficients for the regression model: \\n\")\n",
        "print(coefs)"
      ],
      "execution_count": 73,
      "outputs": [
        {
          "output_type": "stream",
          "text": [
            "This are the estimated coefficients for the regression model: \n",
            "\n",
            "[-3.75446781e+01  3.69803361e+01 -1.35865250e-01  2.44950627e+00\n",
            " -1.23488826e+00 -2.59405128e-02]\n"
          ],
          "name": "stdout"
        }
      ]
    },
    {
      "cell_type": "markdown",
      "metadata": {
        "id": "hbNjFJewwzpv",
        "colab_type": "text"
      },
      "source": [
        "By analyzing the values of the root mean squared error metric, we realize the model is having a troubles in is performance. We consider there is overfitting and that RMSE close to 0.31 can't be quite useful in the task. We also know that SGD regressor, Ridge and Lasso models could potentially yield better results, if brought up together with some hyperparameter tunning."
      ]
    },
    {
      "cell_type": "markdown",
      "metadata": {
        "id": "GAn3UKfAwzpw",
        "colab_type": "text"
      },
      "source": [
        ">comparison result as a bar graph using the below script\n",
        "\n",
        ">**Note**: As the number of records is huge, for representation purpose we use just 30 records."
      ]
    },
    {
      "cell_type": "code",
      "metadata": {
        "trusted": true,
        "id": "_dIqIyAewzpw",
        "colab_type": "code",
        "outputId": "bc3f3dbd-5abb-4a45-fab3-d290c7566b4d",
        "colab": {
          "base_uri": "https://localhost:8080/",
          "height": 594
        }
      },
      "source": [
        "result = pd.DataFrame({'Actual': y_test.flatten(), 'Predicted': y_pred.flatten()})\n",
        "\n",
        "result1 = result.head(30)\n",
        "result1.plot(kind='bar',figsize=(16,10))\n",
        "plt.grid(which='major', linestyle='-', linewidth='0.5', color='green')\n",
        "plt.grid(which='minor', linestyle=':', linewidth='0.5', color='black')\n",
        "plt.show()"
      ],
      "execution_count": 74,
      "outputs": [
        {
          "output_type": "display_data",
          "data": {
            "image/png": "[encoded data removed]",
            "text/plain": [
              "<Figure size 1152x720 with 1 Axes>"
            ]
          },
          "metadata": {
            "tags": [],
            "needs_background": "light"
          }
        }
      ]
    },
    {
      "cell_type": "markdown",
      "metadata": {
        "id": "Z3f_Fhfcwzpy",
        "colab_type": "text"
      },
      "source": [
        "On a superficial view, we can still consider it's performance acceptable. Although, we demand some better and more accurate results. \n",
        "We will follow it up with SVMs. "
      ]
    },
    {
      "cell_type": "markdown",
      "metadata": {
        "id": "erT_6xbtwzpy",
        "colab_type": "text"
      },
      "source": [
        "For the SVMs, we chose some parameters that could be used on hypertunning. We do realize that there are move parameters to be tunned (such as gamma for the specified kernel), but due to time and hardware limitations, we comprised them into a list of the more relevant ones for the task."
      ]
    },
    {
      "cell_type": "markdown",
      "metadata": {
        "id": "fLh80fvOwzpz",
        "colab_type": "text"
      },
      "source": [
        "> Best so far: \n",
        "\n",
        "    Train RMSE: 1.7043357622582236\n",
        "    \n",
        "    Validation RMSE: 1.713339053064854\n",
        "    \n",
        "    Test RMSE: 1.6827817262354443"
      ]
    },
    {
      "cell_type": "code",
      "metadata": {
        "trusted": true,
        "id": "fG2pGUoNwzpz",
        "colab_type": "code",
        "colab": {}
      },
      "source": [
        "param_grid = {\n",
        "    'kernel' : ['linear','poly','rbf'],\n",
        "    'C' : [0.01, 0.1, 1, 10],\n",
        "    'epsilon' : [0.001, 0.01, 0.1, 1, 10]\n",
        "}"
      ],
      "execution_count": 0,
      "outputs": []
    },
    {
      "cell_type": "code",
      "metadata": {
        "trusted": true,
        "id": "hXXHlDCCwzp1",
        "colab_type": "code",
        "colab": {}
      },
      "source": [
        "svm_model = SVR()\n",
        "clf = GridSearchCV(svm_model, param_grid,cv=5,return_train_score=True,scoring='neg_root_mean_squared_error',refit=True)\n",
        "scores_svm = clf.fit(x_train, y_train.ravel())"
      ],
      "execution_count": 0,
      "outputs": []
    },
    {
      "cell_type": "markdown",
      "metadata": {
        "id": "TSGNSexdwzp3",
        "colab_type": "text"
      },
      "source": [
        "> Plotted erros for every different configuration of SVR"
      ]
    },
    {
      "cell_type": "code",
      "metadata": {
        "trusted": true,
        "id": "8_Vy8Wb4wzp3",
        "colab_type": "code",
        "colab": {}
      },
      "source": [
        "def plot_errors(scores_svm):\n",
        "    size = len(scores_svm.cv_results_['params'])\n",
        "\n",
        "    kernels = []\n",
        "    scores = np.zeros(shape=(size))\n",
        "\n",
        "    for i in range(size):\n",
        "        param = scores_svm.cv_results_['params'][i]\n",
        "        index = str(param['kernel']) +  \" ,C=\" + str(param['C']) + \" ,e=\" + str(param['epsilon'])\n",
        "        kernels.append(index)\n",
        "        scores[i] = scores_svm.cv_results_['mean_train_score'][i]\n",
        "\n",
        "    df = pd.DataFrame({'Train Errors': scores*-1}, index=kernels)\n",
        "\n",
        "    df.plot(kind='bar',figsize=(20,6))\n",
        "    plt.grid(which='major', linestyle='-', linewidth='0.5', color='green')\n",
        "    plt.grid(which='minor', linestyle=':', linewidth='0.5', color='black')\n",
        "    plt.show()\n",
        "plot_errors(scores_svm)"
      ],
      "execution_count": 0,
      "outputs": []
    },
    {
      "cell_type": "code",
      "metadata": {
        "trusted": true,
        "id": "EqN8gHVJwzp5",
        "colab_type": "code",
        "colab": {}
      },
      "source": [
        "rmse_train_svm = scores_svm.cv_results_['mean_train_score'][scores_svm.best_index_] * -1\n",
        "rmse_val_svm = scores_svm.best_score_*-1\n",
        "\n",
        "print('Train RMSE: {}'.format(rmse_train_svm))\n",
        "print('Validation RMSE: {}'.format(rmse_val_svm))\n",
        "\n",
        "svm_model = scores_svm.best_estimator_\n",
        "y_pred = svm_model.predict(x_test) \n",
        "\n",
        "test_rmse = np.sqrt(mean_squared_error(y_test,y_pred))\n",
        "\n",
        "print('Test RMSE: {}'.format(test_rmse))"
      ],
      "execution_count": 0,
      "outputs": []
    },
    {
      "cell_type": "code",
      "metadata": {
        "trusted": true,
        "id": "atp_i_Dnwzp8",
        "colab_type": "code",
        "colab": {}
      },
      "source": [
        "scores_svm.best_params_"
      ],
      "execution_count": 0,
      "outputs": []
    },
    {
      "cell_type": "markdown",
      "metadata": {
        "id": "g2_0Xwqtwzp-",
        "colab_type": "text"
      },
      "source": [
        "> Let's now try a greedy search on the best parameters to try to decrease the error the most as possible."
      ]
    },
    {
      "cell_type": "code",
      "metadata": {
        "trusted": true,
        "id": "KnV_5wKMwzp_",
        "colab_type": "code",
        "colab": {}
      },
      "source": [
        "param_grid = {\n",
        "    'kernel' : ['rbf'],\n",
        "    'C' : [9,10,11],\n",
        "    'epsilon' : [0.8, 0.9, 1, 1.1, 1.2],\n",
        "    'tol' : [1e-3,1e-4,1e-2],\n",
        "    'shrinking': [True,False],\n",
        "}"
      ],
      "execution_count": 0,
      "outputs": []
    },
    {
      "cell_type": "code",
      "metadata": {
        "trusted": true,
        "id": "xjduBqP1wzqC",
        "colab_type": "code",
        "colab": {}
      },
      "source": [
        "svm_model = SVR()\n",
        "clf = GridSearchCV(svm_model, param_grid,cv=5,return_train_score=True,scoring='neg_root_mean_squared_error',refit=True)\n",
        "scores_svm = clf.fit(x_train, y_train.ravel())"
      ],
      "execution_count": 0,
      "outputs": []
    },
    {
      "cell_type": "code",
      "metadata": {
        "trusted": true,
        "id": "3fvTq5ANwzqE",
        "colab_type": "code",
        "colab": {}
      },
      "source": [
        "def plot_errors(scores_svm):\n",
        "    size = len(scores_svm.cv_results_['params'])\n",
        "\n",
        "    kernels = []\n",
        "    scores = np.zeros(shape=(size))\n",
        "\n",
        "    for i in range(size):\n",
        "        param = scores_svm.cv_results_['params'][i]\n",
        "        index = str(param['kernel']) +  \" ,C=\" + str(param['C']) + \" ,e=\" + str(param['epsilon'] + \" ,tol=\" + str(param['tol'] + \" ,shrinking=\" + str(param['shrinking'])\n",
        "        kernels.append(index)\n",
        "        scores[i] = scores_svm.cv_results_['mean_train_score'][i]\n",
        "\n",
        "    df = pd.DataFrame({'Train Errors': scores*-1}, index=kernels)\n",
        "\n",
        "    df.plot(kind='bar',figsize=(20,6))\n",
        "    plt.grid(which='major', linestyle='-', linewidth='0.5', color='green')\n",
        "    plt.grid(which='minor', linestyle=':', linewidth='0.5', color='black')\n",
        "    plt.show()\n",
        "plot_errors(scores_svm)"
      ],
      "execution_count": 0,
      "outputs": []
    },
    {
      "cell_type": "markdown",
      "metadata": {
        "id": "inh9X8nawzqH",
        "colab_type": "text"
      },
      "source": [
        "By observing the values, we realize the values have improved regarding the linear regression (as expected). We also notice further improvement could be made as we realize the RMSE on test set is actually lower then the RMSE on validation and training, sugesting there are other parameters (not further explored here due to limitations in time and hardware) that would push up the model's performance. Never the less, the model's results are acceptable and within reason. Below we show another bar chart on the same data plotted earlier for linear regression. By comparison, the results appear to be much more accurate regarding the real values."
      ]
    },
    {
      "cell_type": "code",
      "metadata": {
        "trusted": true,
        "id": "3j1EfA9RwzqI",
        "colab_type": "code",
        "colab": {}
      },
      "source": [
        "svm_model = scores_svm.best_estimator_\n",
        "\n",
        "y_pred = svm_model.predict(x_test) \n",
        "\n",
        "result = pd.DataFrame({'Actual': y_test.flatten(), 'Predicted': y_pred.flatten()})\n",
        "\n",
        "result1 = result.head(30)\n",
        "result1.plot(kind='bar',figsize=(16,10))\n",
        "plt.grid(which='major', linestyle='-', linewidth='0.5', color='green')\n",
        "plt.grid(which='minor', linestyle=':', linewidth='0.5', color='black')\n",
        "plt.show()"
      ],
      "execution_count": 0,
      "outputs": []
    },
    {
      "cell_type": "markdown",
      "metadata": {
        "id": "1aChJVddwzqK",
        "colab_type": "text"
      },
      "source": [
        "Next, we move on to random forests. These sort of models are one of the most powerfull in the world right now. The ensemble architecture provides some robustness (if well managed) the predictions. It is well known that ensembles of models are often better than one stand alone model, as a group of weak learners, providing that the group is large enough, will offer reasonable results regarding most typical machine learning problems."
      ]
    },
    {
      "cell_type": "code",
      "metadata": {
        "trusted": true,
        "id": "sQ6s44D3wzqL",
        "colab_type": "code",
        "colab": {}
      },
      "source": [
        "rf_params = {\n",
        "    'n_estimators' : [10,50,100, 500],\n",
        "    'min_samples_split' : [2,5,10,20,50, 100],\n",
        "    'min_samples_leaf' : [1,2,5,10,50, 100],\n",
        "    \"bootstrap\": [True, False]\n",
        "}"
      ],
      "execution_count": 0,
      "outputs": []
    },
    {
      "cell_type": "markdown",
      "metadata": {
        "id": "fSFzpKHxwzqN",
        "colab_type": "text"
      },
      "source": [
        "We define some parameters to address some important aspects. We emphasize the number of estimators as well as min_samples_split and min_samples_leaf that help adressing the problem of overfitting. Notice that we have been using grid search to provide us some more intution regarding each parameter. The downside is the time necessary to run each instance of grid search."
      ]
    },
    {
      "cell_type": "code",
      "metadata": {
        "trusted": true,
        "id": "YHjN1H0XwzqO",
        "colab_type": "code",
        "colab": {}
      },
      "source": [
        "from sklearn.ensemble import RandomForestRegressor\n",
        "random_forest = RandomForestRegressor()\n",
        "grid_search = GridSearchCV(random_forest,rf_params, cv=5, return_train_score = True , scoring='neg_root_mean_squared_error',refit=True)\n",
        "scores_rf = grid_search.fit(x_train,y_train.ravel())"
      ],
      "execution_count": 0,
      "outputs": []
    },
    {
      "cell_type": "code",
      "metadata": {
        "trusted": true,
        "id": "u9KlTsOjwzqQ",
        "colab_type": "code",
        "colab": {}
      },
      "source": [
        "rmse_train_rf = scores_rf.cv_results_['mean_train_score'][scores_svm.best_index_] * -1\n",
        "rmse_val_rf = scores_rf.best_score_*-1\n",
        "print('Train RMSE: {}'.format(rmse_train_rf))\n",
        "print('Validation RMSE: {}'.format(rmse_val_rf))\n",
        "\n",
        "rf_model = scores_rf.best_estimator_\n",
        "y_pred = rf_model.predict(x_test) \n",
        "test_rmse = np.sqrt(mean_squared_error(y_test,y_pred))\n",
        "\n",
        "print('Test RMSE: {}'.format(test_rmse))"
      ],
      "execution_count": 0,
      "outputs": []
    },
    {
      "cell_type": "code",
      "metadata": {
        "trusted": true,
        "id": "RuvTn9e3wzqS",
        "colab_type": "code",
        "colab": {}
      },
      "source": [
        "result = pd.DataFrame({'Actual': y_test.flatten(), 'Predicted': y_pred.flatten()})\n",
        "\n",
        "result1 = result.head(30)\n",
        "result1.plot(kind='bar',figsize=(16,10))\n",
        "plt.grid(which='major', linestyle='-', linewidth='0.5', color='green')\n",
        "plt.grid(which='minor', linestyle=':', linewidth='0.5', color='black')\n",
        "plt.show()"
      ],
      "execution_count": 0,
      "outputs": []
    },
    {
      "cell_type": "code",
      "metadata": {
        "id": "fE1uq8dtKRZL",
        "colab_type": "code",
        "outputId": "d76c9674-027f-4bdf-9167-3d11a56554e4",
        "colab": {
          "base_uri": "https://localhost:8080/",
          "height": 406
        }
      },
      "source": [
        "companny_stocks(\"HPQ\")"
      ],
      "execution_count": 0,
      "outputs": [
        {
          "output_type": "execute_result",
          "data": {
            "text/html": [
              "<div>\n",
              "<style scoped>\n",
              "    .dataframe tbody tr th:only-of-type {\n",
              "        vertical-align: middle;\n",
              "    }\n",
              "\n",
              "    .dataframe tbody tr th {\n",
              "        vertical-align: top;\n",
              "    }\n",
              "\n",
              "    .dataframe thead th {\n",
              "        text-align: right;\n",
              "    }\n",
              "</style>\n",
              "<table border=\"1\" class=\"dataframe\">\n",
              "  <thead>\n",
              "    <tr style=\"text-align: right;\">\n",
              "      <th></th>\n",
              "      <th>ticker</th>\n",
              "      <th>open</th>\n",
              "      <th>close</th>\n",
              "      <th>adj_close</th>\n",
              "      <th>low</th>\n",
              "      <th>high</th>\n",
              "      <th>volume</th>\n",
              "      <th>date</th>\n",
              "    </tr>\n",
              "  </thead>\n",
              "  <tbody>\n",
              "    <tr>\n",
              "      <th>14222797</th>\n",
              "      <td>HPQ</td>\n",
              "      <td>0.365435</td>\n",
              "      <td>0.363217</td>\n",
              "      <td>0.021705</td>\n",
              "      <td>0.361443</td>\n",
              "      <td>0.365435</td>\n",
              "      <td>1324700</td>\n",
              "      <td>1970-01-02</td>\n",
              "    </tr>\n",
              "    <tr>\n",
              "      <th>14222798</th>\n",
              "      <td>HPQ</td>\n",
              "      <td>0.363661</td>\n",
              "      <td>0.373861</td>\n",
              "      <td>0.022341</td>\n",
              "      <td>0.363661</td>\n",
              "      <td>0.375192</td>\n",
              "      <td>4368700</td>\n",
              "      <td>1970-01-05</td>\n",
              "    </tr>\n",
              "    <tr>\n",
              "      <th>14222799</th>\n",
              "      <td>HPQ</td>\n",
              "      <td>0.373861</td>\n",
              "      <td>0.369870</td>\n",
              "      <td>0.022103</td>\n",
              "      <td>0.369870</td>\n",
              "      <td>0.374305</td>\n",
              "      <td>2395700</td>\n",
              "      <td>1970-01-06</td>\n",
              "    </tr>\n",
              "    <tr>\n",
              "      <th>14222800</th>\n",
              "      <td>HPQ</td>\n",
              "      <td>0.370313</td>\n",
              "      <td>0.370757</td>\n",
              "      <td>0.022156</td>\n",
              "      <td>0.370313</td>\n",
              "      <td>0.372087</td>\n",
              "      <td>1014600</td>\n",
              "      <td>1970-01-07</td>\n",
              "    </tr>\n",
              "    <tr>\n",
              "      <th>14222801</th>\n",
              "      <td>HPQ</td>\n",
              "      <td>0.370757</td>\n",
              "      <td>0.374305</td>\n",
              "      <td>0.022368</td>\n",
              "      <td>0.370313</td>\n",
              "      <td>0.379183</td>\n",
              "      <td>3325900</td>\n",
              "      <td>1970-01-08</td>\n",
              "    </tr>\n",
              "    <tr>\n",
              "      <th>...</th>\n",
              "      <td>...</td>\n",
              "      <td>...</td>\n",
              "      <td>...</td>\n",
              "      <td>...</td>\n",
              "      <td>...</td>\n",
              "      <td>...</td>\n",
              "      <td>...</td>\n",
              "      <td>...</td>\n",
              "    </tr>\n",
              "    <tr>\n",
              "      <th>14329809</th>\n",
              "      <td>HPQ</td>\n",
              "      <td>24.540001</td>\n",
              "      <td>24.540001</td>\n",
              "      <td>24.540001</td>\n",
              "      <td>24.450001</td>\n",
              "      <td>24.799999</td>\n",
              "      <td>6085600</td>\n",
              "      <td>2018-08-20</td>\n",
              "    </tr>\n",
              "    <tr>\n",
              "      <th>14329813</th>\n",
              "      <td>HPQ</td>\n",
              "      <td>24.600000</td>\n",
              "      <td>24.490000</td>\n",
              "      <td>24.490000</td>\n",
              "      <td>24.350000</td>\n",
              "      <td>24.730000</td>\n",
              "      <td>8179200</td>\n",
              "      <td>2018-08-21</td>\n",
              "    </tr>\n",
              "    <tr>\n",
              "      <th>14329832</th>\n",
              "      <td>HPQ</td>\n",
              "      <td>24.459999</td>\n",
              "      <td>24.490000</td>\n",
              "      <td>24.490000</td>\n",
              "      <td>24.250000</td>\n",
              "      <td>24.629999</td>\n",
              "      <td>5273800</td>\n",
              "      <td>2018-08-22</td>\n",
              "    </tr>\n",
              "    <tr>\n",
              "      <th>14329836</th>\n",
              "      <td>HPQ</td>\n",
              "      <td>24.500000</td>\n",
              "      <td>24.629999</td>\n",
              "      <td>24.629999</td>\n",
              "      <td>24.480000</td>\n",
              "      <td>24.709999</td>\n",
              "      <td>8162100</td>\n",
              "      <td>2018-08-23</td>\n",
              "    </tr>\n",
              "    <tr>\n",
              "      <th>14329855</th>\n",
              "      <td>HPQ</td>\n",
              "      <td>24.000000</td>\n",
              "      <td>24.150000</td>\n",
              "      <td>24.150000</td>\n",
              "      <td>23.680000</td>\n",
              "      <td>24.379999</td>\n",
              "      <td>12856900</td>\n",
              "      <td>2018-08-24</td>\n",
              "    </tr>\n",
              "  </tbody>\n",
              "</table>\n",
              "<p>12274 rows × 8 columns</p>\n",
              "</div>"
            ],
            "text/plain": [
              "         ticker       open      close  ...       high    volume        date\n",
              "14222797    HPQ   0.365435   0.363217  ...   0.365435   1324700  1970-01-02\n",
              "14222798    HPQ   0.363661   0.373861  ...   0.375192   4368700  1970-01-05\n",
              "14222799    HPQ   0.373861   0.369870  ...   0.374305   2395700  1970-01-06\n",
              "14222800    HPQ   0.370313   0.370757  ...   0.372087   1014600  1970-01-07\n",
              "14222801    HPQ   0.370757   0.374305  ...   0.379183   3325900  1970-01-08\n",
              "...         ...        ...        ...  ...        ...       ...         ...\n",
              "14329809    HPQ  24.540001  24.540001  ...  24.799999   6085600  2018-08-20\n",
              "14329813    HPQ  24.600000  24.490000  ...  24.730000   8179200  2018-08-21\n",
              "14329832    HPQ  24.459999  24.490000  ...  24.629999   5273800  2018-08-22\n",
              "14329836    HPQ  24.500000  24.629999  ...  24.709999   8162100  2018-08-23\n",
              "14329855    HPQ  24.000000  24.150000  ...  24.379999  12856900  2018-08-24\n",
              "\n",
              "[12274 rows x 8 columns]"
            ]
          },
          "metadata": {
            "tags": []
          },
          "execution_count": 49
        }
      ]
    },
    {
      "cell_type": "markdown",
      "metadata": {
        "id": "rU1N6CiFz-Tn",
        "colab_type": "text"
      },
      "source": [
        "> This function plotes the accuracys and losses of the model"
      ]
    },
    {
      "cell_type": "code",
      "metadata": {
        "id": "Lt6V_7YlvNG3",
        "colab_type": "code",
        "colab": {}
      },
      "source": [
        "def show_history(history):\n",
        "    print(history.history.keys())\n",
        "\n",
        "    # summarize history for accuracy\n",
        "    plt.plot(history.history['root_mean_squared_error'])\n",
        "    plt.plot(history.history['val_root_mean_squared_error'])\n",
        "    plt.title('model accuracy')\n",
        "    plt.ylabel('accuracy')\n",
        "    plt.xlabel('epoch')\n",
        "    plt.legend(['train', 'val'], loc='upper left')\n",
        "    plt.show()\n",
        "    # summarize history for loss\n",
        "    plt.plot(history.history['loss'])\n",
        "    plt.plot(history.history['val_loss'])\n",
        "    plt.title('model loss')\n",
        "    plt.ylabel('loss')\n",
        "    plt.xlabel('epoch')\n",
        "    plt.legend(['train', 'val'], loc='upper left')\n",
        "    plt.show()"
      ],
      "execution_count": 0,
      "outputs": []
    },
    {
      "cell_type": "markdown",
      "metadata": {
        "id": "tQ45Rho1i6Gd",
        "colab_type": "text"
      },
      "source": [
        "## LSTM"
      ]
    },
    {
      "cell_type": "code",
      "metadata": {
        "id": "295guNJalgb1",
        "colab_type": "code",
        "colab": {
          "base_uri": "https://localhost:8080/",
          "height": 34
        },
        "outputId": "510de8ae-ae70-41e9-96c4-6a19eb6e2118"
      },
      "source": [
        "scaler = MinMaxScaler()\n",
        "\n",
        "x = df.iloc[:,[0,1,3,4,5,6]]\n",
        "y = df.iloc[:,[2]].to_numpy()\n",
        "\n",
        "x = scaler.fit_transform(x)\n",
        "\n",
        "x = np.hstack((x,y))\n",
        "\n",
        "print(x.shape)"
      ],
      "execution_count": 150,
      "outputs": [
        {
          "output_type": "stream",
          "text": [
            "(12274, 7)\n"
          ],
          "name": "stdout"
        }
      ]
    },
    {
      "cell_type": "code",
      "metadata": {
        "id": "6xQ4v92DjF1W",
        "colab_type": "code",
        "colab": {}
      },
      "source": [
        "labels = []\n",
        "timesteps = []\n",
        "background = 6\n",
        "\n",
        "def time_shift(dataset,background):\n",
        "\n",
        "  x = []\n",
        "  y = []\n",
        "\n",
        "  for day in range(len(dataset)):\n",
        "\n",
        "    if((day+background+1) > len(dataset)):\n",
        "      break\n",
        "\n",
        "    x.append(dataset[day:(day+background)])\n",
        "    y.append(dataset[day+background][6])\n",
        "\n",
        "  return np.asarray(x),np.asarray(y).reshape(len(y),-1)\n",
        "\n",
        "\n",
        "x,y=time_shift(x,background)"
      ],
      "execution_count": 0,
      "outputs": []
    },
    {
      "cell_type": "code",
      "metadata": {
        "id": "FoUFThfvoVs2",
        "colab_type": "code",
        "colab": {
          "base_uri": "https://localhost:8080/",
          "height": 212
        },
        "outputId": "6987e95a-9d95-4e1b-dd6f-cc466bff6619"
      },
      "source": [
        "from sklearn.model_selection import train_test_split\n",
        "\n",
        "x_train, x_test, y_train, y_test = train_test_split(\n",
        "      x, y, test_size=0.2, random_state=42,shuffle=False)\n",
        "\n",
        "x_test, x_val, y_test, y_val = train_test_split(\n",
        "      x_test, y_test, test_size=0.5, random_state=42,shuffle=False)\n",
        "\n",
        "\n",
        "print(\" --------- Info about the datasets shape --------- \")\n",
        "print(\"Train set have a shape of \" + str(x_train.shape))\n",
        "print(\"Train label have a shape of \" + str(y_train.shape))\n",
        "print(\"\\n\")\n",
        "print(\"Val set have a shape of \" + str(x_val.shape))\n",
        "print(\"Val label have a shape of \" + str(y_val.shape))\n",
        "print(\"\\n\")\n",
        "print(\"Test set have a shape of \" + str(x_test.shape))\n",
        "print(\"Test label have a shape of \" + str(y_test.shape))"
      ],
      "execution_count": 101,
      "outputs": [
        {
          "output_type": "stream",
          "text": [
            " --------- Info about the datasets shape --------- \n",
            "Train set have a shape of (9814, 6, 7)\n",
            "Train label have a shape of (9814, 1)\n",
            "\n",
            "\n",
            "Val set have a shape of (1227, 6, 7)\n",
            "Val label have a shape of (1227, 1)\n",
            "\n",
            "\n",
            "Test set have a shape of (1227, 6, 7)\n",
            "Test label have a shape of (1227, 1)\n"
          ],
          "name": "stdout"
        }
      ]
    },
    {
      "cell_type": "code",
      "metadata": {
        "id": "iWdVW-AFnSEL",
        "colab_type": "code",
        "colab": {
          "base_uri": "https://localhost:8080/",
          "height": 265
        },
        "outputId": "ad296292-8ee0-43c2-a99a-5caed33c0e61"
      },
      "source": [
        "import tensorflow as tf\n",
        "from tensorflow.keras.layers import *\n",
        "from tensorflow.keras.models import Sequential\n",
        "from tensorflow.keras.metrics import RootMeanSquaredError\n",
        "\n",
        "def build_model(input_shape,units_LSTM,units_Dense):\n",
        "\n",
        "  model = Sequential()\n",
        "\n",
        "  for i in range(len(units_LSTM)):\n",
        "    \n",
        "    #primeira LSTM\n",
        "    if(i == 0):\n",
        "      #se tiver mais que 1 return sequences True\n",
        "      if(len(units_LSTM) > 1):\n",
        "        model.add(LSTM(units_LSTM[i], return_sequences=True,input_shape=input_shape))\n",
        "      #se não tiver mais que 1 return sequences False\n",
        "      else:\n",
        "        model.add(LSTM(units_LSTM[i], return_sequences=False,input_shape=input_shape))\n",
        "    \n",
        "    #enquanto não chega à ultima LSTM, sempre a dar True\n",
        "    elif(i > 0 and i < len(units_LSTM)-1):\n",
        "        model.add(LSTM(units_LSTM[i], return_sequences=True))\n",
        "\n",
        "    #última LSTM\n",
        "    elif(i == len(units_LSTM)):\n",
        "      model.add(LSTM(units_LSTM[i], return_sequences=False))\n",
        "\n",
        "  for i in range(len(units_Dense)):\n",
        "  \n",
        "    model.add(Dense(units_Dense[i], activation = \"relu\"))\n",
        "\n",
        "\n",
        "  model.add(Dense(1,activation = \"linear\"))\n",
        "  \n",
        "  \n",
        "  model.compile(optimizer = \"adam\", loss = \"mse\", metrics = [RootMeanSquaredError()])\n",
        "\n",
        "  return model\n",
        "\n",
        "model = build_model((6,7),[32],[16])\n",
        "model.summary()"
      ],
      "execution_count": 135,
      "outputs": [
        {
          "output_type": "stream",
          "text": [
            "Model: \"sequential_3\"\n",
            "_________________________________________________________________\n",
            "Layer (type)                 Output Shape              Param #   \n",
            "=================================================================\n",
            "lstm_3 (LSTM)                (None, 32)                5120      \n",
            "_________________________________________________________________\n",
            "dense_6 (Dense)              (None, 16)                528       \n",
            "_________________________________________________________________\n",
            "dense_7 (Dense)              (None, 1)                 17        \n",
            "=================================================================\n",
            "Total params: 5,665\n",
            "Trainable params: 5,665\n",
            "Non-trainable params: 0\n",
            "_________________________________________________________________\n"
          ],
          "name": "stdout"
        }
      ]
    },
    {
      "cell_type": "code",
      "metadata": {
        "id": "p5vO0qH3uDJJ",
        "colab_type": "code",
        "colab": {}
      },
      "source": [
        "def model_fit(model,X,Y,X_val,Y_val,epochs,batch_size):\n",
        "  \n",
        "  history = model.fit(X,Y,\n",
        "              epochs = epochs,\n",
        "              batch_size = batch_size,\n",
        "              #callbacks = [PlotLossesKeras()],\n",
        "              validation_data = (X_val,Y_val),\n",
        "              shuffle = False\n",
        "            )\n",
        "  return history,model"
      ],
      "execution_count": 0,
      "outputs": []
    },
    {
      "cell_type": "code",
      "metadata": {
        "id": "kBj5f2vevILw",
        "colab_type": "code",
        "colab": {
          "base_uri": "https://localhost:8080/",
          "height": 1000
        },
        "outputId": "7ec9081d-6831-4e31-9222-7c8ad5c60336"
      },
      "source": [
        "history,model = model_fit(model,x_train,y_train,x_val,y_val,100,32)"
      ],
      "execution_count": 139,
      "outputs": [
        {
          "output_type": "stream",
          "text": [
            "Epoch 1/100\n",
            "307/307 [==============================] - 2s 6ms/step - loss: 0.0669 - root_mean_squared_error: 0.2586 - val_loss: 0.0752 - val_root_mean_squared_error: 0.2742\n",
            "Epoch 2/100\n",
            "307/307 [==============================] - 2s 5ms/step - loss: 0.0673 - root_mean_squared_error: 0.2594 - val_loss: 0.0750 - val_root_mean_squared_error: 0.2739\n",
            "Epoch 3/100\n",
            "307/307 [==============================] - 2s 5ms/step - loss: 0.0667 - root_mean_squared_error: 0.2582 - val_loss: 0.0761 - val_root_mean_squared_error: 0.2759\n",
            "Epoch 4/100\n",
            "307/307 [==============================] - 2s 5ms/step - loss: 0.0668 - root_mean_squared_error: 0.2584 - val_loss: 0.0741 - val_root_mean_squared_error: 0.2722\n",
            "Epoch 5/100\n",
            "307/307 [==============================] - 2s 5ms/step - loss: 0.0666 - root_mean_squared_error: 0.2581 - val_loss: 0.0757 - val_root_mean_squared_error: 0.2752\n",
            "Epoch 6/100\n",
            "307/307 [==============================] - 2s 5ms/step - loss: 0.0668 - root_mean_squared_error: 0.2584 - val_loss: 0.0741 - val_root_mean_squared_error: 0.2723\n",
            "Epoch 7/100\n",
            "307/307 [==============================] - 2s 5ms/step - loss: 0.0663 - root_mean_squared_error: 0.2575 - val_loss: 0.0747 - val_root_mean_squared_error: 0.2734\n",
            "Epoch 8/100\n",
            "307/307 [==============================] - 2s 5ms/step - loss: 0.0661 - root_mean_squared_error: 0.2572 - val_loss: 0.0754 - val_root_mean_squared_error: 0.2747\n",
            "Epoch 9/100\n",
            "307/307 [==============================] - 2s 5ms/step - loss: 0.0665 - root_mean_squared_error: 0.2578 - val_loss: 0.0738 - val_root_mean_squared_error: 0.2716\n",
            "Epoch 10/100\n",
            "307/307 [==============================] - 2s 5ms/step - loss: 0.0662 - root_mean_squared_error: 0.2573 - val_loss: 0.0751 - val_root_mean_squared_error: 0.2740\n",
            "Epoch 11/100\n",
            "307/307 [==============================] - 1s 5ms/step - loss: 0.0661 - root_mean_squared_error: 0.2572 - val_loss: 0.0753 - val_root_mean_squared_error: 0.2745\n",
            "Epoch 12/100\n",
            "307/307 [==============================] - 1s 5ms/step - loss: 0.0661 - root_mean_squared_error: 0.2571 - val_loss: 0.0738 - val_root_mean_squared_error: 0.2717\n",
            "Epoch 13/100\n",
            "307/307 [==============================] - 2s 5ms/step - loss: 0.0659 - root_mean_squared_error: 0.2567 - val_loss: 0.0759 - val_root_mean_squared_error: 0.2755\n",
            "Epoch 14/100\n",
            "307/307 [==============================] - 1s 5ms/step - loss: 0.0661 - root_mean_squared_error: 0.2571 - val_loss: 0.0738 - val_root_mean_squared_error: 0.2716\n",
            "Epoch 15/100\n",
            "307/307 [==============================] - 2s 5ms/step - loss: 0.0656 - root_mean_squared_error: 0.2561 - val_loss: 0.0761 - val_root_mean_squared_error: 0.2758\n",
            "Epoch 16/100\n",
            "307/307 [==============================] - 1s 5ms/step - loss: 0.0659 - root_mean_squared_error: 0.2568 - val_loss: 0.0738 - val_root_mean_squared_error: 0.2717\n",
            "Epoch 17/100\n",
            "307/307 [==============================] - 2s 5ms/step - loss: 0.0656 - root_mean_squared_error: 0.2561 - val_loss: 0.0760 - val_root_mean_squared_error: 0.2756\n",
            "Epoch 18/100\n",
            "307/307 [==============================] - 2s 5ms/step - loss: 0.0656 - root_mean_squared_error: 0.2562 - val_loss: 0.0739 - val_root_mean_squared_error: 0.2718\n",
            "Epoch 19/100\n",
            "307/307 [==============================] - 1s 5ms/step - loss: 0.0652 - root_mean_squared_error: 0.2554 - val_loss: 0.0771 - val_root_mean_squared_error: 0.2777\n",
            "Epoch 20/100\n",
            "307/307 [==============================] - 2s 5ms/step - loss: 0.0656 - root_mean_squared_error: 0.2562 - val_loss: 0.0738 - val_root_mean_squared_error: 0.2717\n",
            "Epoch 21/100\n",
            "307/307 [==============================] - 1s 5ms/step - loss: 0.0654 - root_mean_squared_error: 0.2557 - val_loss: 0.0755 - val_root_mean_squared_error: 0.2748\n",
            "Epoch 22/100\n",
            "307/307 [==============================] - 2s 6ms/step - loss: 0.0653 - root_mean_squared_error: 0.2555 - val_loss: 0.0739 - val_root_mean_squared_error: 0.2719\n",
            "Epoch 23/100\n",
            "307/307 [==============================] - 2s 5ms/step - loss: 0.0650 - root_mean_squared_error: 0.2549 - val_loss: 0.0752 - val_root_mean_squared_error: 0.2742\n",
            "Epoch 24/100\n",
            "307/307 [==============================] - 2s 5ms/step - loss: 0.0655 - root_mean_squared_error: 0.2558 - val_loss: 0.0739 - val_root_mean_squared_error: 0.2719\n",
            "Epoch 25/100\n",
            "307/307 [==============================] - 2s 6ms/step - loss: 0.0654 - root_mean_squared_error: 0.2557 - val_loss: 0.0753 - val_root_mean_squared_error: 0.2744\n",
            "Epoch 26/100\n",
            "307/307 [==============================] - 2s 5ms/step - loss: 0.0648 - root_mean_squared_error: 0.2545 - val_loss: 0.0740 - val_root_mean_squared_error: 0.2720\n",
            "Epoch 27/100\n",
            "307/307 [==============================] - 2s 5ms/step - loss: 0.0641 - root_mean_squared_error: 0.2532 - val_loss: 0.0755 - val_root_mean_squared_error: 0.2747\n",
            "Epoch 28/100\n",
            "307/307 [==============================] - 2s 5ms/step - loss: 0.0645 - root_mean_squared_error: 0.2540 - val_loss: 0.0740 - val_root_mean_squared_error: 0.2720\n",
            "Epoch 29/100\n",
            "307/307 [==============================] - 2s 5ms/step - loss: 0.0644 - root_mean_squared_error: 0.2537 - val_loss: 0.0749 - val_root_mean_squared_error: 0.2737\n",
            "Epoch 30/100\n",
            "307/307 [==============================] - 2s 5ms/step - loss: 0.0642 - root_mean_squared_error: 0.2534 - val_loss: 0.0740 - val_root_mean_squared_error: 0.2720\n",
            "Epoch 31/100\n",
            "307/307 [==============================] - 2s 5ms/step - loss: 0.0643 - root_mean_squared_error: 0.2536 - val_loss: 0.0750 - val_root_mean_squared_error: 0.2739\n",
            "Epoch 32/100\n",
            "307/307 [==============================] - 2s 5ms/step - loss: 0.0636 - root_mean_squared_error: 0.2521 - val_loss: 0.0740 - val_root_mean_squared_error: 0.2721\n",
            "Epoch 33/100\n",
            "307/307 [==============================] - 2s 5ms/step - loss: 0.0632 - root_mean_squared_error: 0.2514 - val_loss: 0.0754 - val_root_mean_squared_error: 0.2746\n",
            "Epoch 34/100\n",
            "307/307 [==============================] - 2s 5ms/step - loss: 0.0631 - root_mean_squared_error: 0.2512 - val_loss: 0.0740 - val_root_mean_squared_error: 0.2720\n",
            "Epoch 35/100\n",
            "307/307 [==============================] - 2s 5ms/step - loss: 0.0633 - root_mean_squared_error: 0.2516 - val_loss: 0.0748 - val_root_mean_squared_error: 0.2734\n",
            "Epoch 36/100\n",
            "307/307 [==============================] - 2s 5ms/step - loss: 0.0622 - root_mean_squared_error: 0.2495 - val_loss: 0.0741 - val_root_mean_squared_error: 0.2721\n",
            "Epoch 37/100\n",
            "307/307 [==============================] - 2s 5ms/step - loss: 0.0622 - root_mean_squared_error: 0.2495 - val_loss: 0.0740 - val_root_mean_squared_error: 0.2720\n",
            "Epoch 38/100\n",
            "307/307 [==============================] - 2s 5ms/step - loss: 0.0623 - root_mean_squared_error: 0.2496 - val_loss: 0.0745 - val_root_mean_squared_error: 0.2729\n",
            "Epoch 39/100\n",
            "307/307 [==============================] - 2s 5ms/step - loss: 0.0625 - root_mean_squared_error: 0.2500 - val_loss: 0.0739 - val_root_mean_squared_error: 0.2719\n",
            "Epoch 40/100\n",
            "307/307 [==============================] - 2s 5ms/step - loss: 0.0619 - root_mean_squared_error: 0.2488 - val_loss: 0.0747 - val_root_mean_squared_error: 0.2733\n",
            "Epoch 41/100\n",
            "307/307 [==============================] - 2s 5ms/step - loss: 0.0615 - root_mean_squared_error: 0.2480 - val_loss: 0.0744 - val_root_mean_squared_error: 0.2728\n",
            "Epoch 42/100\n",
            "307/307 [==============================] - 1s 5ms/step - loss: 0.0615 - root_mean_squared_error: 0.2479 - val_loss: 0.0749 - val_root_mean_squared_error: 0.2736\n",
            "Epoch 43/100\n",
            "307/307 [==============================] - 2s 5ms/step - loss: 0.0615 - root_mean_squared_error: 0.2479 - val_loss: 0.0742 - val_root_mean_squared_error: 0.2723\n",
            "Epoch 44/100\n",
            "307/307 [==============================] - 2s 5ms/step - loss: 0.0612 - root_mean_squared_error: 0.2473 - val_loss: 0.0753 - val_root_mean_squared_error: 0.2744\n",
            "Epoch 45/100\n",
            "307/307 [==============================] - 2s 6ms/step - loss: 0.0609 - root_mean_squared_error: 0.2467 - val_loss: 0.0742 - val_root_mean_squared_error: 0.2724\n",
            "Epoch 46/100\n",
            "307/307 [==============================] - 1s 5ms/step - loss: 0.0616 - root_mean_squared_error: 0.2482 - val_loss: 0.0751 - val_root_mean_squared_error: 0.2740\n",
            "Epoch 47/100\n",
            "307/307 [==============================] - 2s 5ms/step - loss: 0.0611 - root_mean_squared_error: 0.2471 - val_loss: 0.0748 - val_root_mean_squared_error: 0.2734\n",
            "Epoch 48/100\n",
            "307/307 [==============================] - 2s 5ms/step - loss: 0.0597 - root_mean_squared_error: 0.2444 - val_loss: 0.0745 - val_root_mean_squared_error: 0.2730\n",
            "Epoch 49/100\n",
            "307/307 [==============================] - 1s 5ms/step - loss: 0.0599 - root_mean_squared_error: 0.2447 - val_loss: 0.0748 - val_root_mean_squared_error: 0.2735\n",
            "Epoch 50/100\n",
            "307/307 [==============================] - 2s 5ms/step - loss: 0.0600 - root_mean_squared_error: 0.2449 - val_loss: 0.0749 - val_root_mean_squared_error: 0.2737\n",
            "Epoch 51/100\n",
            "307/307 [==============================] - 2s 5ms/step - loss: 0.0595 - root_mean_squared_error: 0.2440 - val_loss: 0.0755 - val_root_mean_squared_error: 0.2748\n",
            "Epoch 52/100\n",
            "307/307 [==============================] - 1s 5ms/step - loss: 0.0588 - root_mean_squared_error: 0.2426 - val_loss: 0.0750 - val_root_mean_squared_error: 0.2738\n",
            "Epoch 53/100\n",
            "307/307 [==============================] - 2s 5ms/step - loss: 0.0593 - root_mean_squared_error: 0.2434 - val_loss: 0.0754 - val_root_mean_squared_error: 0.2747\n",
            "Epoch 54/100\n",
            "307/307 [==============================] - 2s 5ms/step - loss: 0.0581 - root_mean_squared_error: 0.2411 - val_loss: 0.0756 - val_root_mean_squared_error: 0.2750\n",
            "Epoch 55/100\n",
            "307/307 [==============================] - 2s 5ms/step - loss: 0.0578 - root_mean_squared_error: 0.2404 - val_loss: 0.0752 - val_root_mean_squared_error: 0.2742\n",
            "Epoch 56/100\n",
            "307/307 [==============================] - 2s 5ms/step - loss: 0.0578 - root_mean_squared_error: 0.2404 - val_loss: 0.0765 - val_root_mean_squared_error: 0.2766\n",
            "Epoch 57/100\n",
            "307/307 [==============================] - 2s 5ms/step - loss: 0.0579 - root_mean_squared_error: 0.2406 - val_loss: 0.0756 - val_root_mean_squared_error: 0.2750\n",
            "Epoch 58/100\n",
            "307/307 [==============================] - 2s 5ms/step - loss: 0.0574 - root_mean_squared_error: 0.2395 - val_loss: 0.0763 - val_root_mean_squared_error: 0.2762\n",
            "Epoch 59/100\n",
            "307/307 [==============================] - 2s 6ms/step - loss: 0.0584 - root_mean_squared_error: 0.2416 - val_loss: 0.0752 - val_root_mean_squared_error: 0.2743\n",
            "Epoch 60/100\n",
            "307/307 [==============================] - 2s 5ms/step - loss: 0.0567 - root_mean_squared_error: 0.2381 - val_loss: 0.0771 - val_root_mean_squared_error: 0.2776\n",
            "Epoch 61/100\n",
            "307/307 [==============================] - 2s 5ms/step - loss: 0.0565 - root_mean_squared_error: 0.2377 - val_loss: 0.0753 - val_root_mean_squared_error: 0.2744\n",
            "Epoch 62/100\n",
            "307/307 [==============================] - 1s 5ms/step - loss: 0.0563 - root_mean_squared_error: 0.2372 - val_loss: 0.0759 - val_root_mean_squared_error: 0.2755\n",
            "Epoch 63/100\n",
            "307/307 [==============================] - 1s 5ms/step - loss: 0.0557 - root_mean_squared_error: 0.2361 - val_loss: 0.0755 - val_root_mean_squared_error: 0.2748\n",
            "Epoch 64/100\n",
            "307/307 [==============================] - 2s 5ms/step - loss: 0.0548 - root_mean_squared_error: 0.2342 - val_loss: 0.0765 - val_root_mean_squared_error: 0.2765\n",
            "Epoch 65/100\n",
            "307/307 [==============================] - 2s 5ms/step - loss: 0.0546 - root_mean_squared_error: 0.2337 - val_loss: 0.0755 - val_root_mean_squared_error: 0.2747\n",
            "Epoch 66/100\n",
            "307/307 [==============================] - 2s 5ms/step - loss: 0.0544 - root_mean_squared_error: 0.2331 - val_loss: 0.0780 - val_root_mean_squared_error: 0.2794\n",
            "Epoch 67/100\n",
            "307/307 [==============================] - 2s 5ms/step - loss: 0.0549 - root_mean_squared_error: 0.2344 - val_loss: 0.0753 - val_root_mean_squared_error: 0.2744\n",
            "Epoch 68/100\n",
            "307/307 [==============================] - 2s 5ms/step - loss: 0.0556 - root_mean_squared_error: 0.2358 - val_loss: 0.0793 - val_root_mean_squared_error: 0.2817\n",
            "Epoch 69/100\n",
            "307/307 [==============================] - 1s 5ms/step - loss: 0.0563 - root_mean_squared_error: 0.2373 - val_loss: 0.0762 - val_root_mean_squared_error: 0.2760\n",
            "Epoch 70/100\n",
            "307/307 [==============================] - 2s 5ms/step - loss: 0.0533 - root_mean_squared_error: 0.2309 - val_loss: 0.0771 - val_root_mean_squared_error: 0.2777\n",
            "Epoch 71/100\n",
            "307/307 [==============================] - 2s 5ms/step - loss: 0.0542 - root_mean_squared_error: 0.2329 - val_loss: 0.0757 - val_root_mean_squared_error: 0.2751\n",
            "Epoch 72/100\n",
            "307/307 [==============================] - 2s 5ms/step - loss: 0.0540 - root_mean_squared_error: 0.2323 - val_loss: 0.0757 - val_root_mean_squared_error: 0.2752\n",
            "Epoch 73/100\n",
            "307/307 [==============================] - 2s 6ms/step - loss: 0.0555 - root_mean_squared_error: 0.2357 - val_loss: 0.0750 - val_root_mean_squared_error: 0.2738\n",
            "Epoch 74/100\n",
            "307/307 [==============================] - 2s 6ms/step - loss: 0.0535 - root_mean_squared_error: 0.2312 - val_loss: 0.0758 - val_root_mean_squared_error: 0.2753\n",
            "Epoch 75/100\n",
            "307/307 [==============================] - 2s 5ms/step - loss: 0.0537 - root_mean_squared_error: 0.2316 - val_loss: 0.0761 - val_root_mean_squared_error: 0.2758\n",
            "Epoch 76/100\n",
            "307/307 [==============================] - 2s 5ms/step - loss: 0.0522 - root_mean_squared_error: 0.2285 - val_loss: 0.0761 - val_root_mean_squared_error: 0.2759\n",
            "Epoch 77/100\n",
            "307/307 [==============================] - 2s 5ms/step - loss: 0.0530 - root_mean_squared_error: 0.2302 - val_loss: 0.0755 - val_root_mean_squared_error: 0.2747\n",
            "Epoch 78/100\n",
            "307/307 [==============================] - 2s 5ms/step - loss: 0.0514 - root_mean_squared_error: 0.2268 - val_loss: 0.0762 - val_root_mean_squared_error: 0.2760\n",
            "Epoch 79/100\n",
            "307/307 [==============================] - 2s 5ms/step - loss: 0.0515 - root_mean_squared_error: 0.2269 - val_loss: 0.0759 - val_root_mean_squared_error: 0.2754\n",
            "Epoch 80/100\n",
            "307/307 [==============================] - 2s 5ms/step - loss: 0.0508 - root_mean_squared_error: 0.2254 - val_loss: 0.0763 - val_root_mean_squared_error: 0.2761\n",
            "Epoch 81/100\n",
            "307/307 [==============================] - 2s 5ms/step - loss: 0.0514 - root_mean_squared_error: 0.2268 - val_loss: 0.0761 - val_root_mean_squared_error: 0.2758\n",
            "Epoch 82/100\n",
            "307/307 [==============================] - 2s 5ms/step - loss: 0.0501 - root_mean_squared_error: 0.2239 - val_loss: 0.0770 - val_root_mean_squared_error: 0.2775\n",
            "Epoch 83/100\n",
            "307/307 [==============================] - 2s 6ms/step - loss: 0.0511 - root_mean_squared_error: 0.2261 - val_loss: 0.0760 - val_root_mean_squared_error: 0.2758\n",
            "Epoch 84/100\n",
            "307/307 [==============================] - 2s 6ms/step - loss: 0.0502 - root_mean_squared_error: 0.2240 - val_loss: 0.0766 - val_root_mean_squared_error: 0.2768\n",
            "Epoch 85/100\n",
            "307/307 [==============================] - 2s 6ms/step - loss: 0.0504 - root_mean_squared_error: 0.2245 - val_loss: 0.0771 - val_root_mean_squared_error: 0.2777\n",
            "Epoch 86/100\n",
            "307/307 [==============================] - 2s 6ms/step - loss: 0.0495 - root_mean_squared_error: 0.2226 - val_loss: 0.0765 - val_root_mean_squared_error: 0.2766\n",
            "Epoch 87/100\n",
            "307/307 [==============================] - 2s 6ms/step - loss: 0.0493 - root_mean_squared_error: 0.2220 - val_loss: 0.0764 - val_root_mean_squared_error: 0.2765\n",
            "Epoch 88/100\n",
            "307/307 [==============================] - 2s 6ms/step - loss: 0.0500 - root_mean_squared_error: 0.2235 - val_loss: 0.0765 - val_root_mean_squared_error: 0.2766\n",
            "Epoch 89/100\n",
            "307/307 [==============================] - 2s 5ms/step - loss: 0.0515 - root_mean_squared_error: 0.2268 - val_loss: 0.0778 - val_root_mean_squared_error: 0.2790\n",
            "Epoch 90/100\n",
            "307/307 [==============================] - 2s 5ms/step - loss: 0.0497 - root_mean_squared_error: 0.2229 - val_loss: 0.0764 - val_root_mean_squared_error: 0.2764\n",
            "Epoch 91/100\n",
            "307/307 [==============================] - 2s 5ms/step - loss: 0.0489 - root_mean_squared_error: 0.2211 - val_loss: 0.0762 - val_root_mean_squared_error: 0.2760\n",
            "Epoch 92/100\n",
            "307/307 [==============================] - 2s 5ms/step - loss: 0.0486 - root_mean_squared_error: 0.2203 - val_loss: 0.0787 - val_root_mean_squared_error: 0.2806\n",
            "Epoch 93/100\n",
            "307/307 [==============================] - 2s 5ms/step - loss: 0.0491 - root_mean_squared_error: 0.2217 - val_loss: 0.0764 - val_root_mean_squared_error: 0.2764\n",
            "Epoch 94/100\n",
            "307/307 [==============================] - 2s 5ms/step - loss: 0.0477 - root_mean_squared_error: 0.2184 - val_loss: 0.0790 - val_root_mean_squared_error: 0.2810\n",
            "Epoch 95/100\n",
            "307/307 [==============================] - 2s 5ms/step - loss: 0.0489 - root_mean_squared_error: 0.2211 - val_loss: 0.0765 - val_root_mean_squared_error: 0.2766\n",
            "Epoch 96/100\n",
            "307/307 [==============================] - 2s 5ms/step - loss: 0.0481 - root_mean_squared_error: 0.2194 - val_loss: 0.0820 - val_root_mean_squared_error: 0.2864\n",
            "Epoch 97/100\n",
            "307/307 [==============================] - 2s 5ms/step - loss: 0.0500 - root_mean_squared_error: 0.2237 - val_loss: 0.0762 - val_root_mean_squared_error: 0.2761\n",
            "Epoch 98/100\n",
            "307/307 [==============================] - 2s 5ms/step - loss: 0.0496 - root_mean_squared_error: 0.2227 - val_loss: 0.0803 - val_root_mean_squared_error: 0.2833\n",
            "Epoch 99/100\n",
            "307/307 [==============================] - 2s 5ms/step - loss: 0.0487 - root_mean_squared_error: 0.2207 - val_loss: 0.0782 - val_root_mean_squared_error: 0.2796\n",
            "Epoch 100/100\n",
            "307/307 [==============================] - 2s 5ms/step - loss: 0.0468 - root_mean_squared_error: 0.2163 - val_loss: 0.0795 - val_root_mean_squared_error: 0.2820\n"
          ],
          "name": "stdout"
        }
      ]
    },
    {
      "cell_type": "code",
      "metadata": {
        "id": "gae54UIhxIiJ",
        "colab_type": "code",
        "colab": {
          "base_uri": "https://localhost:8080/",
          "height": 591
        },
        "outputId": "f1fc9a69-5387-41ec-b6b1-3ef972e97fd2"
      },
      "source": [
        "show_history(history)"
      ],
      "execution_count": 141,
      "outputs": [
        {
          "output_type": "stream",
          "text": [
            "dict_keys(['loss', 'root_mean_squared_error', 'val_loss', 'val_root_mean_squared_error'])\n"
          ],
          "name": "stdout"
        },
        {
          "output_type": "display_data",
          "data": {
            "image/png": "[encoded data removed]",
            "text/plain": [
              "<Figure size 432x288 with 1 Axes>"
            ]
          },
          "metadata": {
            "tags": [],
            "needs_background": "light"
          }
        },
        {
          "output_type": "display_data",
          "data": {
            "image/png": "[encoded data removed]",
            "text/plain": [
              "<Figure size 432x288 with 1 Axes>"
            ]
          },
          "metadata": {
            "tags": [],
            "needs_background": "light"
          }
        }
      ]
    },
    {
      "cell_type": "code",
      "metadata": {
        "id": "65UiTWj4yiDD",
        "colab_type": "code",
        "colab": {
          "base_uri": "https://localhost:8080/",
          "height": 34
        },
        "outputId": "8e6aa37e-31f4-4119-fb32-877463887950"
      },
      "source": [
        "x_test.shape"
      ],
      "execution_count": 147,
      "outputs": [
        {
          "output_type": "execute_result",
          "data": {
            "text/plain": [
              "(1227, 6, 7)"
            ]
          },
          "metadata": {
            "tags": []
          },
          "execution_count": 147
        }
      ]
    },
    {
      "cell_type": "code",
      "metadata": {
        "id": "xNYANeSDxJ-c",
        "colab_type": "code",
        "colab": {
          "base_uri": "https://localhost:8080/",
          "height": 594
        },
        "outputId": "3e442c8f-b0ea-4e20-9d80-6964a740b6c2"
      },
      "source": [
        "y_pred = model.predict(x_test)\n",
        "result = pd.DataFrame({'Actual': y_test.flatten(), 'Predicted': y_pred.flatten()})\n",
        "\n",
        "result1 = result.head(30)\n",
        "result1.plot(kind='bar',figsize=(16,10))\n",
        "plt.grid(which='major', linestyle='-', linewidth='0.5', color='green')\n",
        "plt.grid(which='minor', linestyle=':', linewidth='0.5', color='black')\n",
        "plt.show()"
      ],
      "execution_count": 149,
      "outputs": [
        {
          "output_type": "display_data",
          "data": {
            "image/png": "[encoded data removed]",
            "text/plain": [
              "<Figure size 1152x720 with 1 Axes>"
            ]
          },
          "metadata": {
            "tags": [],
            "needs_background": "light"
          }
        }
      ]
    },
    {
      "cell_type": "code",
      "metadata": {
        "id": "6xarMIbJyoEO",
        "colab_type": "code",
        "colab": {}
      },
      "source": [
        "import tensorflow as tf\n",
        "from tensorflow.keras.wrappers.scikit_learn import KerasRegressor\n",
        "\n",
        "clf = KerasRegressor(build_fn=build_model,verbose=0)"
      ],
      "execution_count": 0,
      "outputs": []
    },
    {
      "cell_type": "code",
      "metadata": {
        "id": "_Xt0hKmj2BEC",
        "colab_type": "code",
        "colab": {}
      },
      "source": [
        "\n",
        "units_LSTM = []\n",
        "units_Dense = []\n",
        "rf_params = [ ((units_LSTM,units_Dense),(epochs,batch_size)) ]\n",
        "\n",
        "grid_search = GridSearchCV(random_forest,rf_params, cv=5, return_train_score = True , scoring='neg_root_mean_squared_error',refit=True)\n",
        "\n",
        "scores_rf = grid_search.fit(x_train,y_train.ravel())"
      ],
      "execution_count": 0,
      "outputs": []
    }
  ]
}