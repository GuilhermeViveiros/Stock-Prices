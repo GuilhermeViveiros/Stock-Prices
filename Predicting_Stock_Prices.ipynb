{
 "cells": [
  {
   "cell_type": "code",
   "execution_count": 1,
   "metadata": {
    "colab": {
     "base_uri": "https://localhost:8080/",
     "height": 125
    },
    "colab_type": "code",
    "id": "gX-811gCxFDe",
    "outputId": "e43a0bcd-22cb-4b43-8c8c-4e1449dcd72c"
   },
   "outputs": [
    {
     "name": "stdout",
     "output_type": "stream",
     "text": [
      "Go to this URL in a browser: https://accounts.google.com/o/oauth2/auth?client_id=947318989803-6bn6qk8qdgf4n4g3pfee6491hc0brc4i.apps.googleusercontent.com&redirect_uri=urn%3aietf%3awg%3aoauth%3a2.0%3aoob&response_type=code&scope=email%20https%3a%2f%2fwww.googleapis.com%2fauth%2fdocs.test%20https%3a%2f%2fwww.googleapis.com%2fauth%2fdrive%20https%3a%2f%2fwww.googleapis.com%2fauth%2fdrive.photos.readonly%20https%3a%2f%2fwww.googleapis.com%2fauth%2fpeopleapi.readonly\n",
      "\n",
      "Enter your authorization code:\n",
      "··········\n",
      "Mounted at /content/drive\n"
     ]
    }
   ],
   "source": [
    "from google.colab import drive\n",
    "drive.mount('/content/drive')"
   ]
  },
  {
   "cell_type": "markdown",
   "metadata": {
    "colab_type": "text",
    "id": "LkfNge6XwzmX"
   },
   "source": [
    "## This notebook was made too predict sotck prices with traditional machine learning algorithms and deep learning\n",
    "\n",
    "### To run this notebook ensure that you have already the dataset provided by kaggle -> daily-historical-stock-prices-1970-2018\n",
    "## if you are running on local machine or google colab skip this part\n",
    "\n",
    "> ensure that you have the folder : \n",
    "1. /kaggle/input/daily-historical-stock-prices-1970-2018/historical_stock_prices.csv\n",
    "2. /kaggle/input/daily-historical-stock-prices-1970-2018/historical_stocks.csv"
   ]
  },
  {
   "cell_type": "code",
   "execution_count": 2,
   "metadata": {
    "_cell_guid": "b1076dfc-b9ad-4769-8c92-a6c4dae69d19",
    "_uuid": "8f2839f25d086af736a60e9eeb907d3b93b6e0e5",
    "colab": {
     "base_uri": "https://localhost:8080/",
     "height": 72
    },
    "colab_type": "code",
    "id": "fTH4iatNwzmY",
    "outputId": "b112bdd0-5bd1-4284-dc90-7df7044a6589"
   },
   "outputs": [
    {
     "name": "stderr",
     "output_type": "stream",
     "text": [
      "/usr/local/lib/python3.6/dist-packages/statsmodels/tools/_testing.py:19: FutureWarning: pandas.util.testing is deprecated. Use the functions in the public API at pandas.testing instead.\n",
      "  import pandas.util.testing as tm\n"
     ]
    }
   ],
   "source": [
    "import numpy as np # linear algebra\n",
    "import pandas as pd # data processing, CSV file I/O (e.g. pd.read_csv)\n",
    "import matplotlib.pyplot as plt #ploting graphics\n",
    "import seaborn as sns\n",
    "import numpy as np # linear algebra\n",
    "\n",
    "\n",
    "import warnings\n",
    "warnings.filterwarnings('ignore')\n",
    "\n",
    "import os\n",
    "for dirname, _, filenames in os.walk('/kaggle/input'):\n",
    "    for filename in filenames:\n",
    "        print(os.path.join(dirname, filename))\n",
    "\n",
    "# Any results you write to the current directory are saved as output."
   ]
  },
  {
   "cell_type": "code",
   "execution_count": 3,
   "metadata": {
    "colab": {
     "base_uri": "https://localhost:8080/",
     "height": 52
    },
    "colab_type": "code",
    "id": "A-Sj2CR3xZ0x",
    "outputId": "0f9e9081-5a1e-41ae-a9c6-3d968ff35ec8"
   },
   "outputs": [
    {
     "name": "stdout",
     "output_type": "stream",
     "text": [
      "Archive:  drive/My Drive/historical_stock_prices.csv.zip\n",
      "  inflating: historical_stock_prices.csv  \n"
     ]
    }
   ],
   "source": [
    "#if your using colab\n",
    "!unzip drive/My\\ Drive/historical_stock_prices.csv.zip "
   ]
  },
  {
   "cell_type": "markdown",
   "metadata": {
    "colab_type": "text",
    "id": "Tk5_2Vw6wzme"
   },
   "source": [
    "Starting by visualizing data;"
   ]
  },
  {
   "cell_type": "code",
   "execution_count": 0,
   "metadata": {
    "_cell_guid": "79c7e3d0-c299-4dcb-8224-4455121ee9b0",
    "_uuid": "d629ff2d2480ee46fbb7e2d37f6b5fab8052498a",
    "colab": {},
    "colab_type": "code",
    "id": "P70U7TOLwzmf"
   },
   "outputs": [],
   "source": [
    "missing_values = [\"n/a\", \"na\", \"--\"]\n",
    "\n",
    "#colab\n",
    "stocks = pd.read_csv('/content/drive/My Drive/historical_stocks.csv',na_values = missing_values)\n",
    "\n",
    "#kaggle\n",
    "#stocks = pd.read_csv('/content/drive/My Drive/historical_stocks.csv',na_values = missing_values)"
   ]
  },
  {
   "cell_type": "markdown",
   "metadata": {
    "colab_type": "text",
    "id": "n2XepOjEwzmi"
   },
   "source": [
    "Let's start with a small preview of the corresponding dataframe read previously;"
   ]
  },
  {
   "cell_type": "code",
   "execution_count": 5,
   "metadata": {
    "colab": {
     "base_uri": "https://localhost:8080/",
     "height": 197
    },
    "colab_type": "code",
    "id": "w357Mm3Rwzmj",
    "outputId": "b8ee5046-f9a4-4c5e-b611-db15281c9ccd"
   },
   "outputs": [
    {
     "data": {
      "text/html": [
       "<div>\n",
       "<style scoped>\n",
       "    .dataframe tbody tr th:only-of-type {\n",
       "        vertical-align: middle;\n",
       "    }\n",
       "\n",
       "    .dataframe tbody tr th {\n",
       "        vertical-align: top;\n",
       "    }\n",
       "\n",
       "    .dataframe thead th {\n",
       "        text-align: right;\n",
       "    }\n",
       "</style>\n",
       "<table border=\"1\" class=\"dataframe\">\n",
       "  <thead>\n",
       "    <tr style=\"text-align: right;\">\n",
       "      <th></th>\n",
       "      <th>ticker</th>\n",
       "      <th>exchange</th>\n",
       "      <th>name</th>\n",
       "      <th>sector</th>\n",
       "      <th>industry</th>\n",
       "    </tr>\n",
       "  </thead>\n",
       "  <tbody>\n",
       "    <tr>\n",
       "      <th>0</th>\n",
       "      <td>PIH</td>\n",
       "      <td>NASDAQ</td>\n",
       "      <td>1347 PROPERTY INSURANCE HOLDINGS, INC.</td>\n",
       "      <td>FINANCE</td>\n",
       "      <td>PROPERTY-CASUALTY INSURERS</td>\n",
       "    </tr>\n",
       "    <tr>\n",
       "      <th>1</th>\n",
       "      <td>PIHPP</td>\n",
       "      <td>NASDAQ</td>\n",
       "      <td>1347 PROPERTY INSURANCE HOLDINGS, INC.</td>\n",
       "      <td>FINANCE</td>\n",
       "      <td>PROPERTY-CASUALTY INSURERS</td>\n",
       "    </tr>\n",
       "    <tr>\n",
       "      <th>2</th>\n",
       "      <td>TURN</td>\n",
       "      <td>NASDAQ</td>\n",
       "      <td>180 DEGREE CAPITAL CORP.</td>\n",
       "      <td>FINANCE</td>\n",
       "      <td>FINANCE/INVESTORS SERVICES</td>\n",
       "    </tr>\n",
       "    <tr>\n",
       "      <th>3</th>\n",
       "      <td>FLWS</td>\n",
       "      <td>NASDAQ</td>\n",
       "      <td>1-800 FLOWERS.COM, INC.</td>\n",
       "      <td>CONSUMER SERVICES</td>\n",
       "      <td>OTHER SPECIALTY STORES</td>\n",
       "    </tr>\n",
       "    <tr>\n",
       "      <th>4</th>\n",
       "      <td>FCCY</td>\n",
       "      <td>NASDAQ</td>\n",
       "      <td>1ST CONSTITUTION BANCORP (NJ)</td>\n",
       "      <td>FINANCE</td>\n",
       "      <td>SAVINGS INSTITUTIONS</td>\n",
       "    </tr>\n",
       "  </tbody>\n",
       "</table>\n",
       "</div>"
      ],
      "text/plain": [
       "  ticker exchange  ...             sector                    industry\n",
       "0    PIH   NASDAQ  ...            FINANCE  PROPERTY-CASUALTY INSURERS\n",
       "1  PIHPP   NASDAQ  ...            FINANCE  PROPERTY-CASUALTY INSURERS\n",
       "2   TURN   NASDAQ  ...            FINANCE  FINANCE/INVESTORS SERVICES\n",
       "3   FLWS   NASDAQ  ...  CONSUMER SERVICES      OTHER SPECIALTY STORES\n",
       "4   FCCY   NASDAQ  ...            FINANCE        SAVINGS INSTITUTIONS\n",
       "\n",
       "[5 rows x 5 columns]"
      ]
     },
     "execution_count": 5,
     "metadata": {
      "tags": []
     },
     "output_type": "execute_result"
    }
   ],
   "source": [
    "stocks.head()"
   ]
  },
  {
   "cell_type": "code",
   "execution_count": 6,
   "metadata": {
    "colab": {
     "base_uri": "https://localhost:8080/",
     "height": 34
    },
    "colab_type": "code",
    "id": "71LiLw62wzmm",
    "outputId": "507d8497-519f-4202-dc45-93ec433066f1"
   },
   "outputs": [
    {
     "data": {
      "text/plain": [
       "Index(['ticker', 'exchange', 'name', 'sector', 'industry'], dtype='object')"
      ]
     },
     "execution_count": 6,
     "metadata": {
      "tags": []
     },
     "output_type": "execute_result"
    }
   ],
   "source": [
    "stocks.columns"
   ]
  },
  {
   "cell_type": "code",
   "execution_count": 7,
   "metadata": {
    "colab": {
     "base_uri": "https://localhost:8080/",
     "height": 167
    },
    "colab_type": "code",
    "id": "xWxuiEzdwzmp",
    "outputId": "3f4e4efe-f17d-431b-db5a-c0c83928bb1a"
   },
   "outputs": [
    {
     "data": {
      "text/html": [
       "<div>\n",
       "<style scoped>\n",
       "    .dataframe tbody tr th:only-of-type {\n",
       "        vertical-align: middle;\n",
       "    }\n",
       "\n",
       "    .dataframe tbody tr th {\n",
       "        vertical-align: top;\n",
       "    }\n",
       "\n",
       "    .dataframe thead th {\n",
       "        text-align: right;\n",
       "    }\n",
       "</style>\n",
       "<table border=\"1\" class=\"dataframe\">\n",
       "  <thead>\n",
       "    <tr style=\"text-align: right;\">\n",
       "      <th></th>\n",
       "      <th>ticker</th>\n",
       "      <th>exchange</th>\n",
       "      <th>name</th>\n",
       "      <th>sector</th>\n",
       "      <th>industry</th>\n",
       "    </tr>\n",
       "  </thead>\n",
       "  <tbody>\n",
       "    <tr>\n",
       "      <th>count</th>\n",
       "      <td>6460</td>\n",
       "      <td>6460</td>\n",
       "      <td>6460</td>\n",
       "      <td>5020</td>\n",
       "      <td>5020</td>\n",
       "    </tr>\n",
       "    <tr>\n",
       "      <th>unique</th>\n",
       "      <td>6460</td>\n",
       "      <td>2</td>\n",
       "      <td>5462</td>\n",
       "      <td>13</td>\n",
       "      <td>136</td>\n",
       "    </tr>\n",
       "    <tr>\n",
       "      <th>top</th>\n",
       "      <td>WTFCW</td>\n",
       "      <td>NASDAQ</td>\n",
       "      <td>BANK OF AMERICA CORPORATION</td>\n",
       "      <td>FINANCE</td>\n",
       "      <td>MAJOR PHARMACEUTICALS</td>\n",
       "    </tr>\n",
       "    <tr>\n",
       "      <th>freq</th>\n",
       "      <td>1</td>\n",
       "      <td>3308</td>\n",
       "      <td>16</td>\n",
       "      <td>1022</td>\n",
       "      <td>419</td>\n",
       "    </tr>\n",
       "  </tbody>\n",
       "</table>\n",
       "</div>"
      ],
      "text/plain": [
       "       ticker exchange  ...   sector               industry\n",
       "count    6460     6460  ...     5020                   5020\n",
       "unique   6460        2  ...       13                    136\n",
       "top     WTFCW   NASDAQ  ...  FINANCE  MAJOR PHARMACEUTICALS\n",
       "freq        1     3308  ...     1022                    419\n",
       "\n",
       "[4 rows x 5 columns]"
      ]
     },
     "execution_count": 7,
     "metadata": {
      "tags": []
     },
     "output_type": "execute_result"
    }
   ],
   "source": [
    "stocks.describe()"
   ]
  },
  {
   "cell_type": "markdown",
   "metadata": {
    "colab_type": "text",
    "id": "1eti1HYtwzmt"
   },
   "source": [
    "We realize there are 5 columns and this dataset:\n",
    "\n",
    "- 'ticker' corresponds to the name of the share\n",
    "- 'exchange' corresponds to the type of exchange made \n",
    "- 'name' refers the company's name\n",
    "- 'sector' refers to the actual sector where the given company operates\n",
    "- 'industry' specifies the type of services that can be provided\n",
    "\n",
    "We also know that this dataset contains missing values :\n",
    "\n",
    "> We have missing values on columns 'sector' and 'industry'\n"
   ]
  },
  {
   "cell_type": "code",
   "execution_count": 8,
   "metadata": {
    "colab": {
     "base_uri": "https://localhost:8080/",
     "height": 34
    },
    "colab_type": "code",
    "id": "La6rmJvCwzmt",
    "outputId": "43fa3597-238f-4d11-faed-8ae7addc9758"
   },
   "outputs": [
    {
     "data": {
      "text/plain": [
       "(6460, 5)"
      ]
     },
     "execution_count": 8,
     "metadata": {
      "tags": []
     },
     "output_type": "execute_result"
    }
   ],
   "source": [
    "stocks.shape"
   ]
  },
  {
   "cell_type": "code",
   "execution_count": 9,
   "metadata": {
    "colab": {
     "base_uri": "https://localhost:8080/",
     "height": 34
    },
    "colab_type": "code",
    "id": "RFnm9LEPwzmy",
    "outputId": "f85484fe-89e6-4174-bb1d-af8e27f44048"
   },
   "outputs": [
    {
     "data": {
      "text/plain": [
       "6460"
      ]
     },
     "execution_count": 9,
     "metadata": {
      "tags": []
     },
     "output_type": "execute_result"
    }
   ],
   "source": [
    "stocks['ticker'].unique().size"
   ]
  },
  {
   "cell_type": "markdown",
   "metadata": {
    "colab_type": "text",
    "id": "Rz-F5-8Awzm2"
   },
   "source": [
    "> We realize there are 6460 entries to the table, where the unique identifiers are the share's names, meaning that a company's name can show up twice if it has, throughout the established period of time, changed the name of it's stocks. We will note that, for having to change the type of exchange, the companies also changed the name of the shares;\n",
    "\n",
    "> One example of this is:"
   ]
  },
  {
   "cell_type": "code",
   "execution_count": 10,
   "metadata": {
    "colab": {
     "base_uri": "https://localhost:8080/",
     "height": 107
    },
    "colab_type": "code",
    "id": "u_XPCzCtwzm2",
    "outputId": "1362b4f3-51df-4133-86eb-df349b508f78"
   },
   "outputs": [
    {
     "data": {
      "text/html": [
       "<div>\n",
       "<style scoped>\n",
       "    .dataframe tbody tr th:only-of-type {\n",
       "        vertical-align: middle;\n",
       "    }\n",
       "\n",
       "    .dataframe tbody tr th {\n",
       "        vertical-align: top;\n",
       "    }\n",
       "\n",
       "    .dataframe thead th {\n",
       "        text-align: right;\n",
       "    }\n",
       "</style>\n",
       "<table border=\"1\" class=\"dataframe\">\n",
       "  <thead>\n",
       "    <tr style=\"text-align: right;\">\n",
       "      <th></th>\n",
       "      <th>ticker</th>\n",
       "      <th>exchange</th>\n",
       "      <th>name</th>\n",
       "      <th>sector</th>\n",
       "      <th>industry</th>\n",
       "    </tr>\n",
       "  </thead>\n",
       "  <tbody>\n",
       "    <tr>\n",
       "      <th>0</th>\n",
       "      <td>PIH</td>\n",
       "      <td>NASDAQ</td>\n",
       "      <td>1347 PROPERTY INSURANCE HOLDINGS, INC.</td>\n",
       "      <td>FINANCE</td>\n",
       "      <td>PROPERTY-CASUALTY INSURERS</td>\n",
       "    </tr>\n",
       "    <tr>\n",
       "      <th>1</th>\n",
       "      <td>PIHPP</td>\n",
       "      <td>NASDAQ</td>\n",
       "      <td>1347 PROPERTY INSURANCE HOLDINGS, INC.</td>\n",
       "      <td>FINANCE</td>\n",
       "      <td>PROPERTY-CASUALTY INSURERS</td>\n",
       "    </tr>\n",
       "  </tbody>\n",
       "</table>\n",
       "</div>"
      ],
      "text/plain": [
       "  ticker exchange  ...   sector                    industry\n",
       "0    PIH   NASDAQ  ...  FINANCE  PROPERTY-CASUALTY INSURERS\n",
       "1  PIHPP   NASDAQ  ...  FINANCE  PROPERTY-CASUALTY INSURERS\n",
       "\n",
       "[2 rows x 5 columns]"
      ]
     },
     "execution_count": 10,
     "metadata": {
      "tags": []
     },
     "output_type": "execute_result"
    }
   ],
   "source": [
    "stocks[stocks['name'] == \"1347 PROPERTY INSURANCE HOLDINGS, INC.\"]"
   ]
  },
  {
   "cell_type": "markdown",
   "metadata": {
    "colab_type": "text",
    "id": "BAum3l_Iwzm5"
   },
   "source": [
    "## Missing values treatment\n",
    "\n",
    "#### The first step is to identify if the companies switched their share name; in the case they did, they can then contain the sector and industry present on another row\n",
    "\n",
    "> Right now we have the following missing values:\n",
    "\n",
    "1. ticker         0\n",
    "2. exchange       0\n",
    "3. name           0\n",
    "4. sector      1440\n",
    "5. industry    1440\n",
    "\n",
    "> In a 6459 rows × 5 columns matrix\n"
   ]
  },
  {
   "cell_type": "markdown",
   "metadata": {
    "colab_type": "text",
    "id": "F3vUDcWYwzm6"
   },
   "source": [
    "> We want all rows that present null values, so we can obtain the names of the companies that do."
   ]
  },
  {
   "cell_type": "code",
   "execution_count": 11,
   "metadata": {
    "colab": {
     "base_uri": "https://localhost:8080/",
     "height": 406
    },
    "colab_type": "code",
    "id": "uQIsLaa3wzm6",
    "outputId": "e1b9a988-847f-4a70-9c3a-1a18ff737681"
   },
   "outputs": [
    {
     "data": {
      "text/html": [
       "<div>\n",
       "<style scoped>\n",
       "    .dataframe tbody tr th:only-of-type {\n",
       "        vertical-align: middle;\n",
       "    }\n",
       "\n",
       "    .dataframe tbody tr th {\n",
       "        vertical-align: top;\n",
       "    }\n",
       "\n",
       "    .dataframe thead th {\n",
       "        text-align: right;\n",
       "    }\n",
       "</style>\n",
       "<table border=\"1\" class=\"dataframe\">\n",
       "  <thead>\n",
       "    <tr style=\"text-align: right;\">\n",
       "      <th></th>\n",
       "      <th>ticker</th>\n",
       "      <th>exchange</th>\n",
       "      <th>name</th>\n",
       "      <th>sector</th>\n",
       "      <th>industry</th>\n",
       "    </tr>\n",
       "  </thead>\n",
       "  <tbody>\n",
       "    <tr>\n",
       "      <th>19</th>\n",
       "      <td>ABP</td>\n",
       "      <td>NASDAQ</td>\n",
       "      <td>ABPRO CORPORATION</td>\n",
       "      <td>NaN</td>\n",
       "      <td>NaN</td>\n",
       "    </tr>\n",
       "    <tr>\n",
       "      <th>42</th>\n",
       "      <td>SQZZ</td>\n",
       "      <td>NASDAQ</td>\n",
       "      <td>ACTIVE ALTS CONTRARIAN ETF</td>\n",
       "      <td>NaN</td>\n",
       "      <td>NaN</td>\n",
       "    </tr>\n",
       "    <tr>\n",
       "      <th>62</th>\n",
       "      <td>ACT</td>\n",
       "      <td>NASDAQ</td>\n",
       "      <td>ADVISORSHARES VICE ETF</td>\n",
       "      <td>NaN</td>\n",
       "      <td>NaN</td>\n",
       "    </tr>\n",
       "    <tr>\n",
       "      <th>100</th>\n",
       "      <td>ABDC</td>\n",
       "      <td>NASDAQ</td>\n",
       "      <td>ALCENTRA CAPITAL CORP.</td>\n",
       "      <td>NaN</td>\n",
       "      <td>NaN</td>\n",
       "    </tr>\n",
       "    <tr>\n",
       "      <th>124</th>\n",
       "      <td>SMCP</td>\n",
       "      <td>NASDAQ</td>\n",
       "      <td>ALPHAMARK ACTIVELY MANAGED SMALL CAP ETF</td>\n",
       "      <td>NaN</td>\n",
       "      <td>NaN</td>\n",
       "    </tr>\n",
       "    <tr>\n",
       "      <th>...</th>\n",
       "      <td>...</td>\n",
       "      <td>...</td>\n",
       "      <td>...</td>\n",
       "      <td>...</td>\n",
       "      <td>...</td>\n",
       "    </tr>\n",
       "    <tr>\n",
       "      <th>6393</th>\n",
       "      <td>WIA</td>\n",
       "      <td>NYSE</td>\n",
       "      <td>WESTERN ASSET/CLAYMORE U.S. TREASURY INFLATION...</td>\n",
       "      <td>NaN</td>\n",
       "      <td>NaN</td>\n",
       "    </tr>\n",
       "    <tr>\n",
       "      <th>6431</th>\n",
       "      <td>XFLT</td>\n",
       "      <td>NYSE</td>\n",
       "      <td>XAI OCTAGON FLOATING RATE &amp; ALTERNATIVE INCOME...</td>\n",
       "      <td>NaN</td>\n",
       "      <td>NaN</td>\n",
       "    </tr>\n",
       "    <tr>\n",
       "      <th>6451</th>\n",
       "      <td>ZB^A</td>\n",
       "      <td>NYSE</td>\n",
       "      <td>ZIONS BANCORPORATION</td>\n",
       "      <td>NaN</td>\n",
       "      <td>NaN</td>\n",
       "    </tr>\n",
       "    <tr>\n",
       "      <th>6452</th>\n",
       "      <td>ZB^G</td>\n",
       "      <td>NYSE</td>\n",
       "      <td>ZIONS BANCORPORATION</td>\n",
       "      <td>NaN</td>\n",
       "      <td>NaN</td>\n",
       "    </tr>\n",
       "    <tr>\n",
       "      <th>6453</th>\n",
       "      <td>ZB^H</td>\n",
       "      <td>NYSE</td>\n",
       "      <td>ZIONS BANCORPORATION</td>\n",
       "      <td>NaN</td>\n",
       "      <td>NaN</td>\n",
       "    </tr>\n",
       "  </tbody>\n",
       "</table>\n",
       "<p>1440 rows × 5 columns</p>\n",
       "</div>"
      ],
      "text/plain": [
       "     ticker exchange  ... sector industry\n",
       "19      ABP   NASDAQ  ...    NaN      NaN\n",
       "42     SQZZ   NASDAQ  ...    NaN      NaN\n",
       "62      ACT   NASDAQ  ...    NaN      NaN\n",
       "100    ABDC   NASDAQ  ...    NaN      NaN\n",
       "124    SMCP   NASDAQ  ...    NaN      NaN\n",
       "...     ...      ...  ...    ...      ...\n",
       "6393    WIA     NYSE  ...    NaN      NaN\n",
       "6431   XFLT     NYSE  ...    NaN      NaN\n",
       "6451   ZB^A     NYSE  ...    NaN      NaN\n",
       "6452   ZB^G     NYSE  ...    NaN      NaN\n",
       "6453   ZB^H     NYSE  ...    NaN      NaN\n",
       "\n",
       "[1440 rows x 5 columns]"
      ]
     },
     "execution_count": 11,
     "metadata": {
      "tags": []
     },
     "output_type": "execute_result"
    }
   ],
   "source": [
    "null_data = stocks[stocks.isnull().any(axis=1)]\n",
    "null_data"
   ]
  },
  {
   "cell_type": "markdown",
   "metadata": {
    "colab_type": "text",
    "id": "JegBnfKUwzm9"
   },
   "source": [
    "> We realize that, by standard, all rows that do not have sector, do not have industry either and vice-versa."
   ]
  },
  {
   "cell_type": "markdown",
   "metadata": {
    "colab_type": "text",
    "id": "ytkz51DCwzm-"
   },
   "source": [
    "### This function checks for companies that changed their ticker name\n",
    "\n",
    "> If any did, we check if there are some other instances of that same company where the sector and industry information is present."
   ]
  },
  {
   "cell_type": "code",
   "execution_count": 0,
   "metadata": {
    "colab": {},
    "colab_type": "code",
    "id": "J5-Aq6fuwzm-"
   },
   "outputs": [],
   "source": [
    "pd.options.mode.chained_assignment = None\n",
    "names = null_data['name'].unique()\n",
    "\n",
    "for companie in names:\n",
    "    \n",
    "    data = stocks[stocks['name'] == companie]\n",
    "    \n",
    "    for index,row in data.iterrows():\n",
    "        \n",
    "        if(not pd.isnull(row['sector'])):\n",
    "            \n",
    "            sector = row['sector']\n",
    "            industry = row['industry']\n",
    "            \n",
    "            tmp = stocks[stocks['name'] == row['name']]\n",
    "            tmp[\"sector\"] = tmp[\"sector\"].fillna(sector)\n",
    "            tmp['industry'] = tmp['industry'].fillna(industry)\n",
    "            stocks[stocks['name'] == row['name']] = tmp\n"
   ]
  },
  {
   "cell_type": "code",
   "execution_count": 13,
   "metadata": {
    "colab": {
     "base_uri": "https://localhost:8080/",
     "height": 123
    },
    "colab_type": "code",
    "id": "u1h7J4wCwznB",
    "outputId": "50292182-73ab-4980-824b-da7cd91c1ef6"
   },
   "outputs": [
    {
     "data": {
      "text/plain": [
       "ticker         0\n",
       "exchange       0\n",
       "name           0\n",
       "sector      1018\n",
       "industry    1018\n",
       "dtype: int64"
      ]
     },
     "execution_count": 13,
     "metadata": {
      "tags": []
     },
     "output_type": "execute_result"
    }
   ],
   "source": [
    "stocks.isnull().sum()"
   ]
  },
  {
   "cell_type": "markdown",
   "metadata": {
    "colab_type": "text",
    "id": "_YJkspxgwznG"
   },
   "source": [
    "> After this operation, we remain with a 6459 rows × 5 columns matrix, but we have different numbers of missing values, respectively:\n",
    "\n",
    "1. ticker         0\n",
    "2. exchange       0\n",
    "3. name           0\n",
    "4. sector      1018\n",
    "5. industry    1018\n",
    "6. dtype: int64"
   ]
  },
  {
   "cell_type": "markdown",
   "metadata": {
    "colab_type": "text",
    "id": "BOhqeRWCwznH"
   },
   "source": [
    "### In this part, all remaining missing values will be removed from the dataset, mainly for the reason that there is not sufficient information that allows us to fill these values, given the variety of sector and industries existant.\n",
    "> We now have a 5442 rows × 5 columns matrix"
   ]
  },
  {
   "cell_type": "code",
   "execution_count": 14,
   "metadata": {
    "colab": {
     "base_uri": "https://localhost:8080/",
     "height": 123
    },
    "colab_type": "code",
    "id": "YBRL2KDCwznH",
    "outputId": "eb7f334d-42e0-4be6-c504-dd51805cd96a"
   },
   "outputs": [
    {
     "data": {
      "text/plain": [
       "ticker      0\n",
       "exchange    0\n",
       "name        0\n",
       "sector      0\n",
       "industry    0\n",
       "dtype: int64"
      ]
     },
     "execution_count": 14,
     "metadata": {
      "tags": []
     },
     "output_type": "execute_result"
    }
   ],
   "source": [
    "bad_tickers = stocks[stocks.isnull().any(axis=1)]\n",
    "\n",
    "\n",
    "stocks = stocks.dropna(how='any',axis=0) \n",
    "stocks.isnull().sum()"
   ]
  },
  {
   "cell_type": "markdown",
   "metadata": {
    "colab_type": "text",
    "id": "LVtd9uV6wznK"
   },
   "source": [
    "> Now we only have 5442 tickers"
   ]
  },
  {
   "cell_type": "code",
   "execution_count": 15,
   "metadata": {
    "colab": {
     "base_uri": "https://localhost:8080/",
     "height": 34
    },
    "colab_type": "code",
    "id": "bJqNIdA_wznL",
    "outputId": "39bfb1ab-ba04-4917-b013-ec6be8e9c727"
   },
   "outputs": [
    {
     "data": {
      "text/plain": [
       "5442"
      ]
     },
     "execution_count": 15,
     "metadata": {
      "tags": []
     },
     "output_type": "execute_result"
    }
   ],
   "source": [
    "stocks['ticker'].unique().size"
   ]
  },
  {
   "cell_type": "markdown",
   "metadata": {
    "colab_type": "text",
    "id": "galPB_H6wznP"
   },
   "source": [
    "# Dataset exploration\n",
    "\n",
    "> Predominant sectors\n",
    "\n",
    "> Predominant industries\n",
    "\n",
    "> Types of stock exchanges on which we operate"
   ]
  },
  {
   "cell_type": "code",
   "execution_count": 16,
   "metadata": {
    "colab": {
     "base_uri": "https://localhost:8080/",
     "height": 34
    },
    "colab_type": "code",
    "id": "sbrvhXj7wznQ",
    "outputId": "96e5b6cc-d929-4de1-b6c7-d91f58f5fa7e"
   },
   "outputs": [
    {
     "data": {
      "text/plain": [
       "4551"
      ]
     },
     "execution_count": 16,
     "metadata": {
      "tags": []
     },
     "output_type": "execute_result"
    }
   ],
   "source": [
    "stocks['name'].unique().size"
   ]
  },
  {
   "cell_type": "code",
   "execution_count": 17,
   "metadata": {
    "colab": {
     "base_uri": "https://localhost:8080/",
     "height": 70
    },
    "colab_type": "code",
    "id": "BFQ3eNczwznV",
    "outputId": "22f9c0d1-5eef-4fe3-e558-8322fecbed3f"
   },
   "outputs": [
    {
     "data": {
      "text/plain": [
       "NASDAQ    2855\n",
       "NYSE      2587\n",
       "Name: exchange, dtype: int64"
      ]
     },
     "execution_count": 17,
     "metadata": {
      "tags": []
     },
     "output_type": "execute_result"
    }
   ],
   "source": [
    "stocks['exchange'].value_counts()"
   ]
  },
  {
   "cell_type": "markdown",
   "metadata": {
    "colab_type": "text",
    "id": "eDTrOhizwzna"
   },
   "source": [
    "The number of shares in each type of exchange is rather balanced, which is good for the purpose of ML.\n",
    "We cannot make any assumptions regarding the distribution of types of exchanges due to the fact that we do not have enough information (right now). There is a chronological order to the types of exchange regarding each company that cannot be verified because there is no time stamp."
   ]
  },
  {
   "cell_type": "code",
   "execution_count": 18,
   "metadata": {
    "colab": {
     "base_uri": "https://localhost:8080/",
     "height": 332
    },
    "colab_type": "code",
    "id": "9ArXGD6Kwzna",
    "outputId": "d8a21fa8-193e-42e1-8705-cb0f36695169"
   },
   "outputs": [
    {
     "data": {
      "text/plain": [
       "<matplotlib.axes._subplots.AxesSubplot at 0x7fb04260e0f0>"
      ]
     },
     "execution_count": 18,
     "metadata": {
      "tags": []
     },
     "output_type": "execute_result"
    },
    {
     "data": {
      "image/png": "[encoded data removed]",
      "text/plain": [
       "<Figure size 432x288 with 1 Axes>"
      ]
     },
     "metadata": {
      "needs_background": "light",
      "tags": []
     },
     "output_type": "display_data"
    }
   ],
   "source": [
    "stocks['exchange'].value_counts().plot(kind='bar', title='Types of exchanges')"
   ]
  },
  {
   "cell_type": "code",
   "execution_count": 19,
   "metadata": {
    "colab": {
     "base_uri": "https://localhost:8080/",
     "height": 265
    },
    "colab_type": "code",
    "id": "s0plLLCzwznd",
    "outputId": "b7581e0b-7f74-49b1-e29e-cf55f5252cb6"
   },
   "outputs": [
    {
     "data": {
      "text/plain": [
       "FINANCE                  1222\n",
       "CONSUMER SERVICES         959\n",
       "HEALTH CARE               784\n",
       "TECHNOLOGY                609\n",
       "CAPITAL GOODS             356\n",
       "ENERGY                    295\n",
       "PUBLIC UTILITIES          287\n",
       "BASIC INDUSTRIES          276\n",
       "CONSUMER NON-DURABLES     226\n",
       "CONSUMER DURABLES         147\n",
       "MISCELLANEOUS             142\n",
       "TRANSPORTATION            138\n",
       "SECTOR                      1\n",
       "Name: sector, dtype: int64"
      ]
     },
     "execution_count": 19,
     "metadata": {
      "tags": []
     },
     "output_type": "execute_result"
    }
   ],
   "source": [
    "stocks['sector'].value_counts()"
   ]
  },
  {
   "cell_type": "code",
   "execution_count": 20,
   "metadata": {
    "colab": {
     "base_uri": "https://localhost:8080/",
     "height": 34
    },
    "colab_type": "code",
    "id": "rfvhE2Gswznf",
    "outputId": "b336f7b3-552d-4bdd-a403-9e8cbc8c564d"
   },
   "outputs": [
    {
     "data": {
      "text/plain": [
       "(5441, 5)"
      ]
     },
     "execution_count": 20,
     "metadata": {
      "tags": []
     },
     "output_type": "execute_result"
    }
   ],
   "source": [
    "stocks = stocks[stocks['sector'] != 'SECTOR']\n",
    "stocks.shape\n",
    "#remover a linha dummy"
   ]
  },
  {
   "cell_type": "code",
   "execution_count": 21,
   "metadata": {
    "colab": {
     "base_uri": "https://localhost:8080/",
     "height": 298
    },
    "colab_type": "code",
    "id": "ZTAPKtvLwzni",
    "outputId": "cb3a9d07-2c35-41fa-adba-e20d27df1a4d"
   },
   "outputs": [
    {
     "data": {
      "text/plain": [
       "<matplotlib.axes._subplots.AxesSubplot at 0x7fb042590588>"
      ]
     },
     "execution_count": 21,
     "metadata": {
      "tags": []
     },
     "output_type": "execute_result"
    },
    {
     "data": {
      "image/png": "[encoded data removed]",
      "text/plain": [
       "<Figure size 432x288 with 1 Axes>"
      ]
     },
     "metadata": {
      "needs_background": "light",
      "tags": []
     },
     "output_type": "display_data"
    }
   ],
   "source": [
    "stocks['sector'].value_counts().plot(kind='barh', title='Sectors')"
   ]
  },
  {
   "cell_type": "markdown",
   "metadata": {
    "colab_type": "text",
    "id": "N8B8CXDxwznm"
   },
   "source": [
    "We realize the, throughout the dataset, the Finances sector dominates the sector column, up there with Consumer services and Health care. We can also consider technology, if we allow such leverage."
   ]
  },
  {
   "cell_type": "code",
   "execution_count": 22,
   "metadata": {
    "colab": {
     "base_uri": "https://localhost:8080/",
     "height": 282
    },
    "colab_type": "code",
    "id": "wJAHnR98wznm",
    "outputId": "8b8f877f-17ac-4221-f557-836a324e141d"
   },
   "outputs": [
    {
     "data": {
      "text/plain": [
       "Text(0, 0.5, '')"
      ]
     },
     "execution_count": 22,
     "metadata": {
      "tags": []
     },
     "output_type": "execute_result"
    },
    {
     "data": {
      "image/png": "[encoded data removed]",
      "text/plain": [
       "<Figure size 432x288 with 1 Axes>"
      ]
     },
     "metadata": {
      "tags": []
     },
     "output_type": "display_data"
    }
   ],
   "source": [
    "ax=stocks['sector'].value_counts().plot(kind='pie', title='Sectors', )\n",
    "ax.set_ylabel('')"
   ]
  },
  {
   "cell_type": "markdown",
   "metadata": {
    "colab_type": "text",
    "id": "CLvknD5kwznp"
   },
   "source": [
    "##  Industry"
   ]
  },
  {
   "cell_type": "code",
   "execution_count": 23,
   "metadata": {
    "colab": {
     "base_uri": "https://localhost:8080/",
     "height": 230
    },
    "colab_type": "code",
    "id": "GkO5B441wznq",
    "outputId": "36facef9-51b8-491b-a202-7b9205df9989"
   },
   "outputs": [
    {
     "data": {
      "text/plain": [
       "MAJOR BANKS                        444\n",
       "MAJOR PHARMACEUTICALS              419\n",
       "REAL ESTATE INVESTMENT TRUSTS      377\n",
       "BUSINESS SERVICES                  248\n",
       "OIL & GAS PRODUCTION               162\n",
       "                                  ... \n",
       "TOOLS/HARDWARE                       1\n",
       "DIVERSIFIED ELECTRONIC PRODUCTS      1\n",
       "CONSUMER: GREETING CARDS             1\n",
       "TOBACCO                              1\n",
       "PRECISION INSTRUMENTS                1\n",
       "Name: industry, Length: 135, dtype: int64"
      ]
     },
     "execution_count": 23,
     "metadata": {
      "tags": []
     },
     "output_type": "execute_result"
    }
   ],
   "source": [
    "stocks['industry'].value_counts()"
   ]
  },
  {
   "cell_type": "code",
   "execution_count": 24,
   "metadata": {
    "colab": {
     "base_uri": "https://localhost:8080/",
     "height": 282
    },
    "colab_type": "code",
    "id": "cK8ZfOyRwznt",
    "outputId": "a75792dd-e44a-4da5-829b-e4e9729e569a"
   },
   "outputs": [
    {
     "data": {
      "text/plain": [
       "<matplotlib.axes._subplots.AxesSubplot at 0x7fb041feaba8>"
      ]
     },
     "execution_count": 24,
     "metadata": {
      "tags": []
     },
     "output_type": "execute_result"
    },
    {
     "data": {
      "image/png": "[encoded data removed]",
      "text/plain": [
       "<Figure size 432x288 with 1 Axes>"
      ]
     },
     "metadata": {
      "needs_background": "light",
      "tags": []
     },
     "output_type": "display_data"
    }
   ],
   "source": [
    "absolute_frequency_top10 = stocks['industry'].value_counts()[:10].copy()\n",
    "absolute_frequency_top10 = absolute_frequency_top10.rename('')\n",
    "absolute_frequency_top10.plot(kind='barh')"
   ]
  },
  {
   "cell_type": "markdown",
   "metadata": {
    "colab_type": "text",
    "id": "GUGJFvfywznx"
   },
   "source": [
    "We can observe two major industries ruling the dataset by a considerable margin: Major Pharmaceuticals and Major Banks."
   ]
  },
  {
   "cell_type": "code",
   "execution_count": 25,
   "metadata": {
    "colab": {
     "base_uri": "https://localhost:8080/",
     "height": 265
    },
    "colab_type": "code",
    "id": "FzdIKMy-wzny",
    "outputId": "0a5f7cab-a8ce-4210-c12f-967b129860c1"
   },
   "outputs": [
    {
     "data": {
      "text/plain": [
       "<matplotlib.axes._subplots.AxesSubplot at 0x7fb041fbbda0>"
      ]
     },
     "execution_count": 25,
     "metadata": {
      "tags": []
     },
     "output_type": "execute_result"
    },
    {
     "data": {
      "image/png": "[encoded data removed]",
      "text/plain": [
       "<Figure size 432x288 with 1 Axes>"
      ]
     },
     "metadata": {
      "tags": []
     },
     "output_type": "display_data"
    }
   ],
   "source": [
    "absolute_frequency_top10.plot(kind='pie')"
   ]
  },
  {
   "cell_type": "markdown",
   "metadata": {
    "colab_type": "text",
    "id": "LKytyH1xwzn0"
   },
   "source": [
    "## Let's dive down on the rate of changing in terms of share name.\n",
    "### As we said earlier, a company with the same name can have several shares names changed through time."
   ]
  },
  {
   "cell_type": "code",
   "execution_count": 0,
   "metadata": {
    "colab": {},
    "colab_type": "code",
    "id": "dL1MteWswzn1"
   },
   "outputs": [],
   "source": [
    "dif_exchange_x_ticker_exchange = stocks.groupby(['name','sector','industry'])['ticker'].agg(ticker_exchange=('ticker','count'), exchange=('exchange','count'))\n",
    "dif_exchange_x_ticker= stocks.groupby(['name','sector','industry'])['ticker'].agg(ticker_exchange=('ticker','count'))\n",
    "change_on = dif_exchange_x_ticker[dif_exchange_x_ticker['ticker_exchange'] >=2].sort_values(by='ticker_exchange', ascending=False).apply(lambda x : x-1)\n",
    "change_off = dif_exchange_x_ticker[dif_exchange_x_ticker['ticker_exchange'] < 2].apply(lambda x : x-1)"
   ]
  },
  {
   "cell_type": "code",
   "execution_count": 27,
   "metadata": {
    "colab": {
     "base_uri": "https://localhost:8080/",
     "height": 436
    },
    "colab_type": "code",
    "id": "0Nf_MHJywzn3",
    "outputId": "ebc97c40-4829-43e8-b826-5d7fc93f39c9"
   },
   "outputs": [
    {
     "data": {
      "text/html": [
       "<div>\n",
       "<style scoped>\n",
       "    .dataframe tbody tr th:only-of-type {\n",
       "        vertical-align: middle;\n",
       "    }\n",
       "\n",
       "    .dataframe tbody tr th {\n",
       "        vertical-align: top;\n",
       "    }\n",
       "\n",
       "    .dataframe thead th {\n",
       "        text-align: right;\n",
       "    }\n",
       "</style>\n",
       "<table border=\"1\" class=\"dataframe\">\n",
       "  <thead>\n",
       "    <tr style=\"text-align: right;\">\n",
       "      <th></th>\n",
       "      <th></th>\n",
       "      <th></th>\n",
       "      <th>ticker_exchange</th>\n",
       "      <th>exchange</th>\n",
       "    </tr>\n",
       "    <tr>\n",
       "      <th>name</th>\n",
       "      <th>sector</th>\n",
       "      <th>industry</th>\n",
       "      <th></th>\n",
       "      <th></th>\n",
       "    </tr>\n",
       "  </thead>\n",
       "  <tbody>\n",
       "    <tr>\n",
       "      <th>1-800 FLOWERS.COM, INC.</th>\n",
       "      <th>CONSUMER SERVICES</th>\n",
       "      <th>OTHER SPECIALTY STORES</th>\n",
       "      <td>1</td>\n",
       "      <td>1</td>\n",
       "    </tr>\n",
       "    <tr>\n",
       "      <th>1347 PROPERTY INSURANCE HOLDINGS, INC.</th>\n",
       "      <th>FINANCE</th>\n",
       "      <th>PROPERTY-CASUALTY INSURERS</th>\n",
       "      <td>2</td>\n",
       "      <td>2</td>\n",
       "    </tr>\n",
       "    <tr>\n",
       "      <th>180 DEGREE CAPITAL CORP.</th>\n",
       "      <th>FINANCE</th>\n",
       "      <th>FINANCE/INVESTORS SERVICES</th>\n",
       "      <td>1</td>\n",
       "      <td>1</td>\n",
       "    </tr>\n",
       "    <tr>\n",
       "      <th>1ST CONSTITUTION BANCORP (NJ)</th>\n",
       "      <th>FINANCE</th>\n",
       "      <th>SAVINGS INSTITUTIONS</th>\n",
       "      <td>1</td>\n",
       "      <td>1</td>\n",
       "    </tr>\n",
       "    <tr>\n",
       "      <th>1ST SOURCE CORPORATION</th>\n",
       "      <th>FINANCE</th>\n",
       "      <th>MAJOR BANKS</th>\n",
       "      <td>1</td>\n",
       "      <td>1</td>\n",
       "    </tr>\n",
       "    <tr>\n",
       "      <th>...</th>\n",
       "      <th>...</th>\n",
       "      <th>...</th>\n",
       "      <td>...</td>\n",
       "      <td>...</td>\n",
       "    </tr>\n",
       "    <tr>\n",
       "      <th>ZUMIEZ INC.</th>\n",
       "      <th>CONSUMER SERVICES</th>\n",
       "      <th>CLOTHING/SHOE/ACCESSORY STORES</th>\n",
       "      <td>1</td>\n",
       "      <td>1</td>\n",
       "    </tr>\n",
       "    <tr>\n",
       "      <th>ZUORA, INC.</th>\n",
       "      <th>TECHNOLOGY</th>\n",
       "      <th>COMPUTER SOFTWARE: PREPACKAGED SOFTWARE</th>\n",
       "      <td>1</td>\n",
       "      <td>1</td>\n",
       "    </tr>\n",
       "    <tr>\n",
       "      <th>ZYMEWORKS INC.</th>\n",
       "      <th>HEALTH CARE</th>\n",
       "      <th>MAJOR PHARMACEUTICALS</th>\n",
       "      <td>1</td>\n",
       "      <td>1</td>\n",
       "    </tr>\n",
       "    <tr>\n",
       "      <th>ZYNERBA PHARMACEUTICALS, INC.</th>\n",
       "      <th>HEALTH CARE</th>\n",
       "      <th>MAJOR PHARMACEUTICALS</th>\n",
       "      <td>1</td>\n",
       "      <td>1</td>\n",
       "    </tr>\n",
       "    <tr>\n",
       "      <th>ZYNGA INC.</th>\n",
       "      <th>TECHNOLOGY</th>\n",
       "      <th>EDP SERVICES</th>\n",
       "      <td>1</td>\n",
       "      <td>1</td>\n",
       "    </tr>\n",
       "  </tbody>\n",
       "</table>\n",
       "<p>4554 rows × 2 columns</p>\n",
       "</div>"
      ],
      "text/plain": [
       "                                                                                                  ticker_exchange  exchange\n",
       "name                                   sector            industry                                                          \n",
       "1-800 FLOWERS.COM, INC.                CONSUMER SERVICES OTHER SPECIALTY STORES                                 1         1\n",
       "1347 PROPERTY INSURANCE HOLDINGS, INC. FINANCE           PROPERTY-CASUALTY INSURERS                             2         2\n",
       "180 DEGREE CAPITAL CORP.               FINANCE           FINANCE/INVESTORS SERVICES                             1         1\n",
       "1ST CONSTITUTION BANCORP (NJ)          FINANCE           SAVINGS INSTITUTIONS                                   1         1\n",
       "1ST SOURCE CORPORATION                 FINANCE           MAJOR BANKS                                            1         1\n",
       "...                                                                                                           ...       ...\n",
       "ZUMIEZ INC.                            CONSUMER SERVICES CLOTHING/SHOE/ACCESSORY STORES                         1         1\n",
       "ZUORA, INC.                            TECHNOLOGY        COMPUTER SOFTWARE: PREPACKAGED SOFTWARE                1         1\n",
       "ZYMEWORKS INC.                         HEALTH CARE       MAJOR PHARMACEUTICALS                                  1         1\n",
       "ZYNERBA PHARMACEUTICALS, INC.          HEALTH CARE       MAJOR PHARMACEUTICALS                                  1         1\n",
       "ZYNGA INC.                             TECHNOLOGY        EDP SERVICES                                           1         1\n",
       "\n",
       "[4554 rows x 2 columns]"
      ]
     },
     "execution_count": 27,
     "metadata": {
      "tags": []
     },
     "output_type": "execute_result"
    }
   ],
   "source": [
    "dif_exchange_x_ticker_exchange"
   ]
  },
  {
   "cell_type": "code",
   "execution_count": 28,
   "metadata": {
    "colab": {
     "base_uri": "https://localhost:8080/",
     "height": 70
    },
    "colab_type": "code",
    "id": "a9_kgXOowzn6",
    "outputId": "52db5986-f155-4485-84b9-0b7d724a7b7c"
   },
   "outputs": [
    {
     "data": {
      "text/plain": [
       "ticker_exchange    4554\n",
       "exchange           4554\n",
       "dtype: int64"
      ]
     },
     "execution_count": 28,
     "metadata": {
      "tags": []
     },
     "output_type": "execute_result"
    }
   ],
   "source": [
    "dif_exchange_x_ticker_exchange[dif_exchange_x_ticker_exchange['exchange'] == dif_exchange_x_ticker_exchange['ticker_exchange']].count()"
   ]
  },
  {
   "cell_type": "markdown",
   "metadata": {
    "colab_type": "text",
    "id": "Fro2c5uKwzn9"
   },
   "source": [
    "By the operation above, we see that the number of ticker names and types of exchange are the same, which tells us, by knowing that there are not equal tickers in the dataset, that change to/from either type of exchange requires rebranding of the share, so we can simply identify it by the ticker, like we did priviously. We may also consider that the ticker name might be changed for marketing purposes and maintaining it's type of exchange.\n",
    "\n",
    "It is worth noting that we will not include the type of exchange as we consider that it doesn't add information: **for now**,we do not have dates of these changes nor the info regarding if the shares still exist or not, so we cannot identify if there's some sort of shitf in favor of any of the types of exchange. So we won't be using type of exchange on the rest of this topic."
   ]
  },
  {
   "cell_type": "code",
   "execution_count": 29,
   "metadata": {
    "colab": {
     "base_uri": "https://localhost:8080/",
     "height": 436
    },
    "colab_type": "code",
    "id": "mkS9AbRBwzn-",
    "outputId": "8514ce8a-6004-49a1-ccb6-600aa4af21b2"
   },
   "outputs": [
    {
     "data": {
      "text/html": [
       "<div>\n",
       "<style scoped>\n",
       "    .dataframe tbody tr th:only-of-type {\n",
       "        vertical-align: middle;\n",
       "    }\n",
       "\n",
       "    .dataframe tbody tr th {\n",
       "        vertical-align: top;\n",
       "    }\n",
       "\n",
       "    .dataframe thead th {\n",
       "        text-align: right;\n",
       "    }\n",
       "</style>\n",
       "<table border=\"1\" class=\"dataframe\">\n",
       "  <thead>\n",
       "    <tr style=\"text-align: right;\">\n",
       "      <th></th>\n",
       "      <th></th>\n",
       "      <th></th>\n",
       "      <th>ticker_exchange</th>\n",
       "    </tr>\n",
       "    <tr>\n",
       "      <th>name</th>\n",
       "      <th>sector</th>\n",
       "      <th>industry</th>\n",
       "      <th></th>\n",
       "    </tr>\n",
       "  </thead>\n",
       "  <tbody>\n",
       "    <tr>\n",
       "      <th>1-800 FLOWERS.COM, INC.</th>\n",
       "      <th>CONSUMER SERVICES</th>\n",
       "      <th>OTHER SPECIALTY STORES</th>\n",
       "      <td>0</td>\n",
       "    </tr>\n",
       "    <tr>\n",
       "      <th>180 DEGREE CAPITAL CORP.</th>\n",
       "      <th>FINANCE</th>\n",
       "      <th>FINANCE/INVESTORS SERVICES</th>\n",
       "      <td>0</td>\n",
       "    </tr>\n",
       "    <tr>\n",
       "      <th>1ST CONSTITUTION BANCORP (NJ)</th>\n",
       "      <th>FINANCE</th>\n",
       "      <th>SAVINGS INSTITUTIONS</th>\n",
       "      <td>0</td>\n",
       "    </tr>\n",
       "    <tr>\n",
       "      <th>1ST SOURCE CORPORATION</th>\n",
       "      <th>FINANCE</th>\n",
       "      <th>MAJOR BANKS</th>\n",
       "      <td>0</td>\n",
       "    </tr>\n",
       "    <tr>\n",
       "      <th>21VIANET GROUP, INC.</th>\n",
       "      <th>TECHNOLOGY</th>\n",
       "      <th>COMPUTER SOFTWARE: PROGRAMMING, DATA PROCESSING</th>\n",
       "      <td>0</td>\n",
       "    </tr>\n",
       "    <tr>\n",
       "      <th>...</th>\n",
       "      <th>...</th>\n",
       "      <th>...</th>\n",
       "      <td>...</td>\n",
       "    </tr>\n",
       "    <tr>\n",
       "      <th>ZUMIEZ INC.</th>\n",
       "      <th>CONSUMER SERVICES</th>\n",
       "      <th>CLOTHING/SHOE/ACCESSORY STORES</th>\n",
       "      <td>0</td>\n",
       "    </tr>\n",
       "    <tr>\n",
       "      <th>ZUORA, INC.</th>\n",
       "      <th>TECHNOLOGY</th>\n",
       "      <th>COMPUTER SOFTWARE: PREPACKAGED SOFTWARE</th>\n",
       "      <td>0</td>\n",
       "    </tr>\n",
       "    <tr>\n",
       "      <th>ZYMEWORKS INC.</th>\n",
       "      <th>HEALTH CARE</th>\n",
       "      <th>MAJOR PHARMACEUTICALS</th>\n",
       "      <td>0</td>\n",
       "    </tr>\n",
       "    <tr>\n",
       "      <th>ZYNERBA PHARMACEUTICALS, INC.</th>\n",
       "      <th>HEALTH CARE</th>\n",
       "      <th>MAJOR PHARMACEUTICALS</th>\n",
       "      <td>0</td>\n",
       "    </tr>\n",
       "    <tr>\n",
       "      <th>ZYNGA INC.</th>\n",
       "      <th>TECHNOLOGY</th>\n",
       "      <th>EDP SERVICES</th>\n",
       "      <td>0</td>\n",
       "    </tr>\n",
       "  </tbody>\n",
       "</table>\n",
       "<p>4086 rows × 1 columns</p>\n",
       "</div>"
      ],
      "text/plain": [
       "                                                                                                 ticker_exchange\n",
       "name                          sector            industry                                                        \n",
       "1-800 FLOWERS.COM, INC.       CONSUMER SERVICES OTHER SPECIALTY STORES                                         0\n",
       "180 DEGREE CAPITAL CORP.      FINANCE           FINANCE/INVESTORS SERVICES                                     0\n",
       "1ST CONSTITUTION BANCORP (NJ) FINANCE           SAVINGS INSTITUTIONS                                           0\n",
       "1ST SOURCE CORPORATION        FINANCE           MAJOR BANKS                                                    0\n",
       "21VIANET GROUP, INC.          TECHNOLOGY        COMPUTER SOFTWARE: PROGRAMMING, DATA PROCESSING                0\n",
       "...                                                                                                          ...\n",
       "ZUMIEZ INC.                   CONSUMER SERVICES CLOTHING/SHOE/ACCESSORY STORES                                 0\n",
       "ZUORA, INC.                   TECHNOLOGY        COMPUTER SOFTWARE: PREPACKAGED SOFTWARE                        0\n",
       "ZYMEWORKS INC.                HEALTH CARE       MAJOR PHARMACEUTICALS                                          0\n",
       "ZYNERBA PHARMACEUTICALS, INC. HEALTH CARE       MAJOR PHARMACEUTICALS                                          0\n",
       "ZYNGA INC.                    TECHNOLOGY        EDP SERVICES                                                   0\n",
       "\n",
       "[4086 rows x 1 columns]"
      ]
     },
     "execution_count": 29,
     "metadata": {
      "tags": []
     },
     "output_type": "execute_result"
    }
   ],
   "source": [
    "change_off"
   ]
  },
  {
   "cell_type": "code",
   "execution_count": 30,
   "metadata": {
    "colab": {
     "base_uri": "https://localhost:8080/",
     "height": 436
    },
    "colab_type": "code",
    "id": "Y7zfqcl_wzoB",
    "outputId": "895ae207-1684-4ed4-ff80-c1ed9f5242d9"
   },
   "outputs": [
    {
     "data": {
      "text/html": [
       "<div>\n",
       "<style scoped>\n",
       "    .dataframe tbody tr th:only-of-type {\n",
       "        vertical-align: middle;\n",
       "    }\n",
       "\n",
       "    .dataframe tbody tr th {\n",
       "        vertical-align: top;\n",
       "    }\n",
       "\n",
       "    .dataframe thead th {\n",
       "        text-align: right;\n",
       "    }\n",
       "</style>\n",
       "<table border=\"1\" class=\"dataframe\">\n",
       "  <thead>\n",
       "    <tr style=\"text-align: right;\">\n",
       "      <th></th>\n",
       "      <th></th>\n",
       "      <th></th>\n",
       "      <th>ticker_exchange</th>\n",
       "    </tr>\n",
       "    <tr>\n",
       "      <th>name</th>\n",
       "      <th>sector</th>\n",
       "      <th>industry</th>\n",
       "      <th></th>\n",
       "    </tr>\n",
       "  </thead>\n",
       "  <tbody>\n",
       "    <tr>\n",
       "      <th>BANK OF AMERICA CORPORATION</th>\n",
       "      <th>FINANCE</th>\n",
       "      <th>MAJOR BANKS</th>\n",
       "      <td>15</td>\n",
       "    </tr>\n",
       "    <tr>\n",
       "      <th>WELLS FARGO &amp; COMPANY</th>\n",
       "      <th>FINANCE</th>\n",
       "      <th>MAJOR BANKS</th>\n",
       "      <td>14</td>\n",
       "    </tr>\n",
       "    <tr>\n",
       "      <th>PUBLIC STORAGE</th>\n",
       "      <th>CONSUMER SERVICES</th>\n",
       "      <th>REAL ESTATE INVESTMENT TRUSTS</th>\n",
       "      <td>13</td>\n",
       "    </tr>\n",
       "    <tr>\n",
       "      <th>BARCLAYS PLC</th>\n",
       "      <th>FINANCE</th>\n",
       "      <th>COMMERCIAL BANKS</th>\n",
       "      <td>12</td>\n",
       "    </tr>\n",
       "    <tr>\n",
       "      <th>CREDIT SUISSE AG</th>\n",
       "      <th>FINANCE</th>\n",
       "      <th>INVESTMENT BANKERS/BROKERS/SERVICE</th>\n",
       "      <td>11</td>\n",
       "    </tr>\n",
       "    <tr>\n",
       "      <th>...</th>\n",
       "      <th>...</th>\n",
       "      <th>...</th>\n",
       "      <td>...</td>\n",
       "    </tr>\n",
       "    <tr>\n",
       "      <th>BANK OF NEW YORK MELLON CORPORATION (THE)</th>\n",
       "      <th>FINANCE</th>\n",
       "      <th>MAJOR BANKS</th>\n",
       "      <td>1</td>\n",
       "    </tr>\n",
       "    <tr>\n",
       "      <th>HOVNANIAN ENTERPRISES INC</th>\n",
       "      <th>CAPITAL GOODS</th>\n",
       "      <th>HOMEBUILDING</th>\n",
       "      <td>1</td>\n",
       "    </tr>\n",
       "    <tr>\n",
       "      <th>HOSTESS BRANDS, INC.</th>\n",
       "      <th>CONSUMER NON-DURABLES</th>\n",
       "      <th>PACKAGED FOODS</th>\n",
       "      <td>1</td>\n",
       "    </tr>\n",
       "    <tr>\n",
       "      <th>HOEGH LNG PARTNERS LP</th>\n",
       "      <th>CONSUMER SERVICES</th>\n",
       "      <th>MARINE TRANSPORTATION</th>\n",
       "      <td>1</td>\n",
       "    </tr>\n",
       "    <tr>\n",
       "      <th>1347 PROPERTY INSURANCE HOLDINGS, INC.</th>\n",
       "      <th>FINANCE</th>\n",
       "      <th>PROPERTY-CASUALTY INSURERS</th>\n",
       "      <td>1</td>\n",
       "    </tr>\n",
       "  </tbody>\n",
       "</table>\n",
       "<p>468 rows × 1 columns</p>\n",
       "</div>"
      ],
      "text/plain": [
       "                                                                                                    ticker_exchange\n",
       "name                                      sector                industry                                           \n",
       "BANK OF AMERICA CORPORATION               FINANCE               MAJOR BANKS                                      15\n",
       "WELLS FARGO & COMPANY                     FINANCE               MAJOR BANKS                                      14\n",
       "PUBLIC STORAGE                            CONSUMER SERVICES     REAL ESTATE INVESTMENT TRUSTS                    13\n",
       "BARCLAYS PLC                              FINANCE               COMMERCIAL BANKS                                 12\n",
       "CREDIT SUISSE AG                          FINANCE               INVESTMENT BANKERS/BROKERS/SERVICE               11\n",
       "...                                                                                                             ...\n",
       "BANK OF NEW YORK MELLON CORPORATION (THE) FINANCE               MAJOR BANKS                                       1\n",
       "HOVNANIAN ENTERPRISES INC                 CAPITAL GOODS         HOMEBUILDING                                      1\n",
       "HOSTESS BRANDS, INC.                      CONSUMER NON-DURABLES PACKAGED FOODS                                    1\n",
       "HOEGH LNG PARTNERS LP                     CONSUMER SERVICES     MARINE TRANSPORTATION                             1\n",
       "1347 PROPERTY INSURANCE HOLDINGS, INC.    FINANCE               PROPERTY-CASUALTY INSURERS                        1\n",
       "\n",
       "[468 rows x 1 columns]"
      ]
     },
     "execution_count": 30,
     "metadata": {
      "tags": []
     },
     "output_type": "execute_result"
    }
   ],
   "source": [
    "change_on"
   ]
  },
  {
   "cell_type": "markdown",
   "metadata": {
    "colab_type": "text",
    "id": "v0nmjBsXwzoE"
   },
   "source": [
    "We produced two distinct dataframes, grouped by the companies' names, sectors and industries,respectively, and contemplate the number of changes on ticker:\n",
    "> The first one regards to the companies that did not make any changes, going by the name 'change_off'\n",
    "\n",
    "> The second one regards to the companies that made name changes in the past, going by the name 'change_on'\n"
   ]
  },
  {
   "cell_type": "code",
   "execution_count": 31,
   "metadata": {
    "colab": {
     "base_uri": "https://localhost:8080/",
     "height": 281
    },
    "colab_type": "code",
    "id": "lS3sUXutwzoF",
    "outputId": "c6a52293-03c4-45e2-ae20-795a5b3afcd0"
   },
   "outputs": [
    {
     "data": {
      "image/png": "[encoded data removed]",
      "text/plain": [
       "<Figure size 432x288 with 1 Axes>"
      ]
     },
     "metadata": {
      "needs_background": "light",
      "tags": []
     },
     "output_type": "display_data"
    }
   ],
   "source": [
    "ax=change_on.groupby('sector').mean().sort_values(by='ticker_exchange',ascending=False).plot(kind='barh',y='ticker_exchange',legend=False, title ='Sectors')\n",
    "#ax.set_ylabel('')"
   ]
  },
  {
   "cell_type": "markdown",
   "metadata": {
    "colab_type": "text",
    "id": "Z8YNAlkpwzoH"
   },
   "source": [
    "We identify that companies on the Finances sector show a mean higher regarding the rebranding of their tickers, followed closely by Transportation and Consumer Services"
   ]
  },
  {
   "cell_type": "code",
   "execution_count": 32,
   "metadata": {
    "colab": {
     "base_uri": "https://localhost:8080/",
     "height": 281
    },
    "colab_type": "code",
    "id": "X2Ro_ZT7wzoI",
    "outputId": "4f5d5e47-91e3-47ba-9cc6-6d2009f4d6fe"
   },
   "outputs": [
    {
     "data": {
      "image/png": "[encoded data removed]",
      "text/plain": [
       "<Figure size 432x288 with 1 Axes>"
      ]
     },
     "metadata": {
      "needs_background": "light",
      "tags": []
     },
     "output_type": "display_data"
    }
   ],
   "source": [
    "ax=change_on.groupby('industry').mean().sort_values(by='ticker_exchange',ascending=False)[:10].plot(kind='barh',y='ticker_exchange',legend=False, title ='Top 10 Industries')\n",
    "#ax.set_ylabel('')"
   ]
  },
  {
   "cell_type": "markdown",
   "metadata": {
    "colab_type": "text",
    "id": "_D3Z-o8GwzoM"
   },
   "source": [
    "Industry wise, we can see that Finances show up big again, equal with Farming/Seeds/Milling. Investment Bankers/Brokers/Service follow right away."
   ]
  },
  {
   "cell_type": "markdown",
   "metadata": {
    "colab_type": "text",
    "id": "xEBqK-7YwzoM"
   },
   "source": [
    "We conclude the the shallow analysis of the first component of the Stock Prices dataset."
   ]
  },
  {
   "cell_type": "markdown",
   "metadata": {
    "colab_type": "text",
    "id": "LGmZZM_UwzoN"
   },
   "source": [
    "# Let's now explore the stock prices"
   ]
  },
  {
   "cell_type": "code",
   "execution_count": 33,
   "metadata": {
    "colab": {
     "base_uri": "https://localhost:8080/",
     "height": 406
    },
    "colab_type": "code",
    "id": "F4yRqZrzwzoO",
    "outputId": "f26bb3a9-325d-4014-d8bd-17afde07a809"
   },
   "outputs": [
    {
     "data": {
      "text/html": [
       "<div>\n",
       "<style scoped>\n",
       "    .dataframe tbody tr th:only-of-type {\n",
       "        vertical-align: middle;\n",
       "    }\n",
       "\n",
       "    .dataframe tbody tr th {\n",
       "        vertical-align: top;\n",
       "    }\n",
       "\n",
       "    .dataframe thead th {\n",
       "        text-align: right;\n",
       "    }\n",
       "</style>\n",
       "<table border=\"1\" class=\"dataframe\">\n",
       "  <thead>\n",
       "    <tr style=\"text-align: right;\">\n",
       "      <th></th>\n",
       "      <th>ticker</th>\n",
       "      <th>open</th>\n",
       "      <th>close</th>\n",
       "      <th>adj_close</th>\n",
       "      <th>low</th>\n",
       "      <th>high</th>\n",
       "      <th>volume</th>\n",
       "      <th>date</th>\n",
       "    </tr>\n",
       "  </thead>\n",
       "  <tbody>\n",
       "    <tr>\n",
       "      <th>0</th>\n",
       "      <td>AHH</td>\n",
       "      <td>11.50</td>\n",
       "      <td>11.58</td>\n",
       "      <td>8.493155</td>\n",
       "      <td>11.25</td>\n",
       "      <td>11.68</td>\n",
       "      <td>4633900</td>\n",
       "      <td>2013-05-08</td>\n",
       "    </tr>\n",
       "    <tr>\n",
       "      <th>1</th>\n",
       "      <td>AHH</td>\n",
       "      <td>11.66</td>\n",
       "      <td>11.55</td>\n",
       "      <td>8.471151</td>\n",
       "      <td>11.50</td>\n",
       "      <td>11.66</td>\n",
       "      <td>275800</td>\n",
       "      <td>2013-05-09</td>\n",
       "    </tr>\n",
       "    <tr>\n",
       "      <th>2</th>\n",
       "      <td>AHH</td>\n",
       "      <td>11.55</td>\n",
       "      <td>11.60</td>\n",
       "      <td>8.507822</td>\n",
       "      <td>11.50</td>\n",
       "      <td>11.60</td>\n",
       "      <td>277100</td>\n",
       "      <td>2013-05-10</td>\n",
       "    </tr>\n",
       "    <tr>\n",
       "      <th>3</th>\n",
       "      <td>AHH</td>\n",
       "      <td>11.63</td>\n",
       "      <td>11.65</td>\n",
       "      <td>8.544494</td>\n",
       "      <td>11.55</td>\n",
       "      <td>11.65</td>\n",
       "      <td>147400</td>\n",
       "      <td>2013-05-13</td>\n",
       "    </tr>\n",
       "    <tr>\n",
       "      <th>4</th>\n",
       "      <td>AHH</td>\n",
       "      <td>11.60</td>\n",
       "      <td>11.53</td>\n",
       "      <td>8.456484</td>\n",
       "      <td>11.50</td>\n",
       "      <td>11.60</td>\n",
       "      <td>184100</td>\n",
       "      <td>2013-05-14</td>\n",
       "    </tr>\n",
       "    <tr>\n",
       "      <th>...</th>\n",
       "      <td>...</td>\n",
       "      <td>...</td>\n",
       "      <td>...</td>\n",
       "      <td>...</td>\n",
       "      <td>...</td>\n",
       "      <td>...</td>\n",
       "      <td>...</td>\n",
       "      <td>...</td>\n",
       "    </tr>\n",
       "    <tr>\n",
       "      <th>20973884</th>\n",
       "      <td>NZF</td>\n",
       "      <td>14.60</td>\n",
       "      <td>14.59</td>\n",
       "      <td>14.590000</td>\n",
       "      <td>14.58</td>\n",
       "      <td>14.62</td>\n",
       "      <td>137500</td>\n",
       "      <td>2018-08-20</td>\n",
       "    </tr>\n",
       "    <tr>\n",
       "      <th>20973885</th>\n",
       "      <td>NZF</td>\n",
       "      <td>14.60</td>\n",
       "      <td>14.58</td>\n",
       "      <td>14.580000</td>\n",
       "      <td>14.57</td>\n",
       "      <td>14.61</td>\n",
       "      <td>151200</td>\n",
       "      <td>2018-08-21</td>\n",
       "    </tr>\n",
       "    <tr>\n",
       "      <th>20973886</th>\n",
       "      <td>NZF</td>\n",
       "      <td>14.58</td>\n",
       "      <td>14.59</td>\n",
       "      <td>14.590000</td>\n",
       "      <td>14.57</td>\n",
       "      <td>14.63</td>\n",
       "      <td>185400</td>\n",
       "      <td>2018-08-22</td>\n",
       "    </tr>\n",
       "    <tr>\n",
       "      <th>20973887</th>\n",
       "      <td>NZF</td>\n",
       "      <td>14.60</td>\n",
       "      <td>14.57</td>\n",
       "      <td>14.570000</td>\n",
       "      <td>14.57</td>\n",
       "      <td>14.64</td>\n",
       "      <td>135600</td>\n",
       "      <td>2018-08-23</td>\n",
       "    </tr>\n",
       "    <tr>\n",
       "      <th>20973888</th>\n",
       "      <td>NZF</td>\n",
       "      <td>14.60</td>\n",
       "      <td>14.69</td>\n",
       "      <td>14.690000</td>\n",
       "      <td>14.59</td>\n",
       "      <td>14.69</td>\n",
       "      <td>180900</td>\n",
       "      <td>2018-08-24</td>\n",
       "    </tr>\n",
       "  </tbody>\n",
       "</table>\n",
       "<p>20973889 rows × 8 columns</p>\n",
       "</div>"
      ],
      "text/plain": [
       "         ticker   open  close  adj_close    low   high   volume        date\n",
       "0           AHH  11.50  11.58   8.493155  11.25  11.68  4633900  2013-05-08\n",
       "1           AHH  11.66  11.55   8.471151  11.50  11.66   275800  2013-05-09\n",
       "2           AHH  11.55  11.60   8.507822  11.50  11.60   277100  2013-05-10\n",
       "3           AHH  11.63  11.65   8.544494  11.55  11.65   147400  2013-05-13\n",
       "4           AHH  11.60  11.53   8.456484  11.50  11.60   184100  2013-05-14\n",
       "...         ...    ...    ...        ...    ...    ...      ...         ...\n",
       "20973884    NZF  14.60  14.59  14.590000  14.58  14.62   137500  2018-08-20\n",
       "20973885    NZF  14.60  14.58  14.580000  14.57  14.61   151200  2018-08-21\n",
       "20973886    NZF  14.58  14.59  14.590000  14.57  14.63   185400  2018-08-22\n",
       "20973887    NZF  14.60  14.57  14.570000  14.57  14.64   135600  2018-08-23\n",
       "20973888    NZF  14.60  14.69  14.690000  14.59  14.69   180900  2018-08-24\n",
       "\n",
       "[20973889 rows x 8 columns]"
      ]
     },
     "execution_count": 33,
     "metadata": {
      "tags": []
     },
     "output_type": "execute_result"
    }
   ],
   "source": [
    "stock_prices = pd.read_csv('/content/historical_stock_prices.csv')\n",
    "stock_prices"
   ]
  },
  {
   "cell_type": "markdown",
   "metadata": {
    "colab_type": "text",
    "id": "3rGHgWnFwzoV"
   },
   "source": [
    "Short explanation about the dataset\n",
    "\n",
    "- 'ticker' corresponds to the name of the share\n",
    "- 'open' describe the open price of that share in a specific day\n",
    "- 'close' describe the final share price in the end of a day\n",
    "- 'adj-close' it´s a tricky column, describes the ajudsted price of a share, thats normally different from the close price\n",
    " > An example of this, is when a stock splits occur. \n",
    "A stock split it's a current way used for compannies to sell more stocks, by diving the price in (x), lets say x = 2, then if one share = 10€, then, when stock split occurs, let say with a split=2, the share is equal to 5€, but in the end this 2 shares represent the same as 1 share, e.g, imagine that the companny have 10 shares, if you buy 1 share you have 1% of the company, in a stock split(split=2), if you buy 2 shares you only have 1% of the comapnny two.\n",
    "\n",
    " > A stock's price is typically affected by supply and demand of market participants. However, some corporate actions, such as stock splits, dividends / distributions and rights offerings can affect a stock's price and adjustments are needed to arrive at a technically accurate reflection of the true value of that stock.\n",
    "\n",
    "- 'low' is the lowest value paid for that share\n",
    "- 'high' is the highest value paid for that share\n",
    "- 'volume' of shares purchased in that day\n",
    "- 'date' represents the date (year-month-day)"
   ]
  },
  {
   "cell_type": "markdown",
   "metadata": {
    "colab_type": "text",
    "id": "3UHeIsTpwzoV"
   },
   "source": [
    "> As we can notice by the table above, this dataset doesn't contain any missing value\n",
    "\n",
    "> We can also conclude that the open-close and low-hight columns have there values very close.\n",
    "\n",
    "> This is a common scenario in the market, the stock prices only differ a few cents."
   ]
  },
  {
   "cell_type": "code",
   "execution_count": 34,
   "metadata": {
    "colab": {
     "base_uri": "https://localhost:8080/",
     "height": 287
    },
    "colab_type": "code",
    "id": "HuVaFIEZwzoW",
    "outputId": "3d0def8a-c6e8-485c-8d9a-2841a8f0a57f"
   },
   "outputs": [
    {
     "data": {
      "text/html": [
       "<div>\n",
       "<style scoped>\n",
       "    .dataframe tbody tr th:only-of-type {\n",
       "        vertical-align: middle;\n",
       "    }\n",
       "\n",
       "    .dataframe tbody tr th {\n",
       "        vertical-align: top;\n",
       "    }\n",
       "\n",
       "    .dataframe thead th {\n",
       "        text-align: right;\n",
       "    }\n",
       "</style>\n",
       "<table border=\"1\" class=\"dataframe\">\n",
       "  <thead>\n",
       "    <tr style=\"text-align: right;\">\n",
       "      <th></th>\n",
       "      <th>open</th>\n",
       "      <th>close</th>\n",
       "      <th>adj_close</th>\n",
       "      <th>low</th>\n",
       "      <th>high</th>\n",
       "      <th>volume</th>\n",
       "    </tr>\n",
       "  </thead>\n",
       "  <tbody>\n",
       "    <tr>\n",
       "      <th>count</th>\n",
       "      <td>2.097389e+07</td>\n",
       "      <td>2.097389e+07</td>\n",
       "      <td>2.097389e+07</td>\n",
       "      <td>2.097389e+07</td>\n",
       "      <td>2.097389e+07</td>\n",
       "      <td>2.097389e+07</td>\n",
       "    </tr>\n",
       "    <tr>\n",
       "      <th>mean</th>\n",
       "      <td>7.605823e+01</td>\n",
       "      <td>7.611403e+01</td>\n",
       "      <td>1.481184e+14</td>\n",
       "      <td>7.422064e+01</td>\n",
       "      <td>7.803857e+01</td>\n",
       "      <td>1.227043e+06</td>\n",
       "    </tr>\n",
       "    <tr>\n",
       "      <th>std</th>\n",
       "      <td>2.849639e+03</td>\n",
       "      <td>2.870159e+03</td>\n",
       "      <td>4.574674e+16</td>\n",
       "      <td>2.746059e+03</td>\n",
       "      <td>2.997937e+03</td>\n",
       "      <td>1.316686e+07</td>\n",
       "    </tr>\n",
       "    <tr>\n",
       "      <th>min</th>\n",
       "      <td>4.000000e-04</td>\n",
       "      <td>2.000000e-04</td>\n",
       "      <td>2.282650e-09</td>\n",
       "      <td>1.000000e-04</td>\n",
       "      <td>4.000000e-04</td>\n",
       "      <td>1.000000e+00</td>\n",
       "    </tr>\n",
       "    <tr>\n",
       "      <th>25%</th>\n",
       "      <td>7.500000e+00</td>\n",
       "      <td>7.500000e+00</td>\n",
       "      <td>4.620000e+00</td>\n",
       "      <td>7.360000e+00</td>\n",
       "      <td>7.630000e+00</td>\n",
       "      <td>2.210000e+04</td>\n",
       "    </tr>\n",
       "    <tr>\n",
       "      <th>50%</th>\n",
       "      <td>1.545000e+01</td>\n",
       "      <td>1.545000e+01</td>\n",
       "      <td>1.138199e+01</td>\n",
       "      <td>1.524000e+01</td>\n",
       "      <td>1.566000e+01</td>\n",
       "      <td>1.260000e+05</td>\n",
       "    </tr>\n",
       "    <tr>\n",
       "      <th>75%</th>\n",
       "      <td>2.972000e+01</td>\n",
       "      <td>2.972000e+01</td>\n",
       "      <td>2.472046e+01</td>\n",
       "      <td>2.928000e+01</td>\n",
       "      <td>3.010000e+01</td>\n",
       "      <td>6.074000e+05</td>\n",
       "    </tr>\n",
       "    <tr>\n",
       "      <th>max</th>\n",
       "      <td>2.034000e+06</td>\n",
       "      <td>1.779750e+06</td>\n",
       "      <td>1.894962e+19</td>\n",
       "      <td>1.440000e+06</td>\n",
       "      <td>2.070000e+06</td>\n",
       "      <td>4.483504e+09</td>\n",
       "    </tr>\n",
       "  </tbody>\n",
       "</table>\n",
       "</div>"
      ],
      "text/plain": [
       "               open         close  ...          high        volume\n",
       "count  2.097389e+07  2.097389e+07  ...  2.097389e+07  2.097389e+07\n",
       "mean   7.605823e+01  7.611403e+01  ...  7.803857e+01  1.227043e+06\n",
       "std    2.849639e+03  2.870159e+03  ...  2.997937e+03  1.316686e+07\n",
       "min    4.000000e-04  2.000000e-04  ...  4.000000e-04  1.000000e+00\n",
       "25%    7.500000e+00  7.500000e+00  ...  7.630000e+00  2.210000e+04\n",
       "50%    1.545000e+01  1.545000e+01  ...  1.566000e+01  1.260000e+05\n",
       "75%    2.972000e+01  2.972000e+01  ...  3.010000e+01  6.074000e+05\n",
       "max    2.034000e+06  1.779750e+06  ...  2.070000e+06  4.483504e+09\n",
       "\n",
       "[8 rows x 6 columns]"
      ]
     },
     "execution_count": 34,
     "metadata": {
      "tags": []
     },
     "output_type": "execute_result"
    }
   ],
   "source": [
    "stock_prices.describe()"
   ]
  },
  {
   "cell_type": "markdown",
   "metadata": {
    "colab_type": "text",
    "id": "EKT6_7Rjwzop"
   },
   "source": [
    "# Correlation analysis"
   ]
  },
  {
   "cell_type": "code",
   "execution_count": 35,
   "metadata": {
    "colab": {
     "base_uri": "https://localhost:8080/",
     "height": 752
    },
    "colab_type": "code",
    "id": "LNuQtWYWwzoq",
    "outputId": "c90c376c-7321-4c7c-f017-7a69f9af910f"
   },
   "outputs": [
    {
     "data": {
      "image/png": "[encoded data removed]",
      "text/plain": [
       "<Figure size 1152x864 with 2 Axes>"
      ]
     },
     "metadata": {
      "needs_background": "light",
      "tags": []
     },
     "output_type": "display_data"
    }
   ],
   "source": [
    "correlation = stock_prices.corr()\n",
    "plt.figure(figsize=(16,12))\n",
    "plt.title('Correlation heatmap')\n",
    "ax = sns.heatmap(correlation, square=True, annot=True, fmt='.6f', linecolor='white')\n",
    "ax.set_xticklabels(ax.get_xticklabels(), rotation=90)\n",
    "ax.set_yticklabels(ax.get_yticklabels(), rotation=30)           \n",
    "plt.show()"
   ]
  },
  {
   "cell_type": "markdown",
   "metadata": {
    "colab_type": "text",
    "id": "hg-DwnXtwzou"
   },
   "source": [
    ">As we can expect,due to the nature of the concept of adjusted closing price, the adj_close feature isn't very corrolated with any other.\n",
    "\n",
    ">With this task, we intend to predict the values of the adjusted closing price for some company, based on historical records and price variatons. Note that we are limited buy the detail and information provided from this dataset, as we are aware that there is a lot more to know about stock prices. Many factors could be embeded in this case but we chose not to due to the vast amount of possibilites. We also consider this dataset rich enough to provide good results regarding prediction."
   ]
  },
  {
   "cell_type": "markdown",
   "metadata": {
    "colab_type": "text",
    "id": "FdkNCRJSwzov"
   },
   "source": [
    "## Let's check the rate of volumes and the mean,variance and standart deviation of the ajd_close price\n",
    "\n",
    "### As we can notice, the ajudsted close price is the key to a good trader. We want to build serveral machine learning algorithms that can accurately predict this column."
   ]
  },
  {
   "cell_type": "code",
   "execution_count": 0,
   "metadata": {
    "colab": {},
    "colab_type": "code",
    "id": "xi4IAxuawzow"
   },
   "outputs": [],
   "source": [
    "stock_adj_mean = stock_prices.groupby(['ticker'])['volume'].agg(Volume_of_trades=('Volume','sum'), Count_Ticker=('ticker','count'),Mean_adj_close =('adj_close', 'mean'))\n",
    "stock_adj_var = stock_prices.groupby(['ticker'])['volume'].agg(Var_adj_close =('adj_close', 'var'))\n",
    "stock_adj_std = stock_prices.groupby(['ticker'])['volume'].agg(Std_adj_close =('adj_close', 'std'))\n",
    "\n",
    "\n",
    "stocks_adj_close = stock_adj_mean.join(stock_adj_var, how = 'left', lsuffix = 'ticker').join(stock_adj_std, how = 'left', lsuffix = 'ticker')"
   ]
  },
  {
   "cell_type": "code",
   "execution_count": 37,
   "metadata": {
    "colab": {
     "base_uri": "https://localhost:8080/",
     "height": 436
    },
    "colab_type": "code",
    "id": "4UGH2kgnwzoz",
    "outputId": "e3e7236f-aa16-46e8-b6bd-9159e0d6f877"
   },
   "outputs": [
    {
     "data": {
      "text/html": [
       "<div>\n",
       "<style scoped>\n",
       "    .dataframe tbody tr th:only-of-type {\n",
       "        vertical-align: middle;\n",
       "    }\n",
       "\n",
       "    .dataframe tbody tr th {\n",
       "        vertical-align: top;\n",
       "    }\n",
       "\n",
       "    .dataframe thead th {\n",
       "        text-align: right;\n",
       "    }\n",
       "</style>\n",
       "<table border=\"1\" class=\"dataframe\">\n",
       "  <thead>\n",
       "    <tr style=\"text-align: right;\">\n",
       "      <th></th>\n",
       "      <th>Volume_of_trades</th>\n",
       "      <th>Count_Ticker</th>\n",
       "      <th>Mean_adj_close</th>\n",
       "      <th>Var_adj_close</th>\n",
       "      <th>Std_adj_close</th>\n",
       "    </tr>\n",
       "    <tr>\n",
       "      <th>ticker</th>\n",
       "      <th></th>\n",
       "      <th></th>\n",
       "      <th></th>\n",
       "      <th></th>\n",
       "      <th></th>\n",
       "    </tr>\n",
       "  </thead>\n",
       "  <tbody>\n",
       "    <tr>\n",
       "      <th>A</th>\n",
       "      <td>18000650300</td>\n",
       "      <td>4722</td>\n",
       "      <td>3.812082e+06</td>\n",
       "      <td>6.380635e+12</td>\n",
       "      <td>2.525992e+06</td>\n",
       "    </tr>\n",
       "    <tr>\n",
       "      <th>AA</th>\n",
       "      <td>36347414100</td>\n",
       "      <td>12273</td>\n",
       "      <td>2.961575e+06</td>\n",
       "      <td>2.092626e+13</td>\n",
       "      <td>4.574523e+06</td>\n",
       "    </tr>\n",
       "    <tr>\n",
       "      <th>AABA</th>\n",
       "      <td>128688111700</td>\n",
       "      <td>5632</td>\n",
       "      <td>2.284945e+07</td>\n",
       "      <td>4.443794e+14</td>\n",
       "      <td>2.108031e+07</td>\n",
       "    </tr>\n",
       "    <tr>\n",
       "      <th>AAC</th>\n",
       "      <td>26540200</td>\n",
       "      <td>155</td>\n",
       "      <td>1.712271e+05</td>\n",
       "      <td>2.339867e+10</td>\n",
       "      <td>1.529662e+05</td>\n",
       "    </tr>\n",
       "    <tr>\n",
       "      <th>AAL</th>\n",
       "      <td>24310877700</td>\n",
       "      <td>3251</td>\n",
       "      <td>7.477969e+06</td>\n",
       "      <td>3.614027e+13</td>\n",
       "      <td>6.011678e+06</td>\n",
       "    </tr>\n",
       "    <tr>\n",
       "      <th>...</th>\n",
       "      <td>...</td>\n",
       "      <td>...</td>\n",
       "      <td>...</td>\n",
       "      <td>...</td>\n",
       "      <td>...</td>\n",
       "    </tr>\n",
       "    <tr>\n",
       "      <th>ZTS</th>\n",
       "      <td>5072412900</td>\n",
       "      <td>1402</td>\n",
       "      <td>3.617984e+06</td>\n",
       "      <td>1.104259e+13</td>\n",
       "      <td>3.323039e+06</td>\n",
       "    </tr>\n",
       "    <tr>\n",
       "      <th>ZUMZ</th>\n",
       "      <td>1521606500</td>\n",
       "      <td>3350</td>\n",
       "      <td>4.542109e+05</td>\n",
       "      <td>1.989288e+11</td>\n",
       "      <td>4.460143e+05</td>\n",
       "    </tr>\n",
       "    <tr>\n",
       "      <th>ZUO</th>\n",
       "      <td>111821500</td>\n",
       "      <td>95</td>\n",
       "      <td>1.177068e+06</td>\n",
       "      <td>2.120118e+12</td>\n",
       "      <td>1.456063e+06</td>\n",
       "    </tr>\n",
       "    <tr>\n",
       "      <th>ZYME</th>\n",
       "      <td>20819400</td>\n",
       "      <td>335</td>\n",
       "      <td>6.214746e+04</td>\n",
       "      <td>1.675123e+10</td>\n",
       "      <td>1.294265e+05</td>\n",
       "    </tr>\n",
       "    <tr>\n",
       "      <th>ZYNE</th>\n",
       "      <td>283411600</td>\n",
       "      <td>771</td>\n",
       "      <td>3.675896e+05</td>\n",
       "      <td>5.165037e+11</td>\n",
       "      <td>7.186819e+05</td>\n",
       "    </tr>\n",
       "  </tbody>\n",
       "</table>\n",
       "<p>5685 rows × 5 columns</p>\n",
       "</div>"
      ],
      "text/plain": [
       "        Volume_of_trades  Count_Ticker  ...  Var_adj_close  Std_adj_close\n",
       "ticker                                  ...                              \n",
       "A            18000650300          4722  ...   6.380635e+12   2.525992e+06\n",
       "AA           36347414100         12273  ...   2.092626e+13   4.574523e+06\n",
       "AABA        128688111700          5632  ...   4.443794e+14   2.108031e+07\n",
       "AAC             26540200           155  ...   2.339867e+10   1.529662e+05\n",
       "AAL          24310877700          3251  ...   3.614027e+13   6.011678e+06\n",
       "...                  ...           ...  ...            ...            ...\n",
       "ZTS           5072412900          1402  ...   1.104259e+13   3.323039e+06\n",
       "ZUMZ          1521606500          3350  ...   1.989288e+11   4.460143e+05\n",
       "ZUO            111821500            95  ...   2.120118e+12   1.456063e+06\n",
       "ZYME            20819400           335  ...   1.675123e+10   1.294265e+05\n",
       "ZYNE           283411600           771  ...   5.165037e+11   7.186819e+05\n",
       "\n",
       "[5685 rows x 5 columns]"
      ]
     },
     "execution_count": 37,
     "metadata": {
      "tags": []
     },
     "output_type": "execute_result"
    }
   ],
   "source": [
    "stocks_adj_close"
   ]
  },
  {
   "cell_type": "markdown",
   "metadata": {
    "colab_type": "text",
    "id": "nTj14ydSwzo2"
   },
   "source": [
    "## As we can see by the table, some companies appear more than others.\n",
    "### We will try to predict the adjusted close price for the companies that have more tickets/rows on the dataset, meaning we are choosing the companies with more data, for more potentially accurate predictions"
   ]
  },
  {
   "cell_type": "code",
   "execution_count": 38,
   "metadata": {
    "colab": {
     "base_uri": "https://localhost:8080/",
     "height": 287
    },
    "colab_type": "code",
    "id": "aUHrwef1wzo2",
    "outputId": "adffb47b-bda0-4f67-8de0-3ddc2d4aa4ae"
   },
   "outputs": [
    {
     "data": {
      "text/html": [
       "<div>\n",
       "<style scoped>\n",
       "    .dataframe tbody tr th:only-of-type {\n",
       "        vertical-align: middle;\n",
       "    }\n",
       "\n",
       "    .dataframe tbody tr th {\n",
       "        vertical-align: top;\n",
       "    }\n",
       "\n",
       "    .dataframe thead th {\n",
       "        text-align: right;\n",
       "    }\n",
       "</style>\n",
       "<table border=\"1\" class=\"dataframe\">\n",
       "  <thead>\n",
       "    <tr style=\"text-align: right;\">\n",
       "      <th></th>\n",
       "      <th>Volume_of_trades</th>\n",
       "      <th>Count_Ticker</th>\n",
       "      <th>Mean_adj_close</th>\n",
       "      <th>Var_adj_close</th>\n",
       "      <th>Std_adj_close</th>\n",
       "    </tr>\n",
       "  </thead>\n",
       "  <tbody>\n",
       "    <tr>\n",
       "      <th>count</th>\n",
       "      <td>5.685000e+03</td>\n",
       "      <td>5685.000000</td>\n",
       "      <td>5.685000e+03</td>\n",
       "      <td>5.684000e+03</td>\n",
       "      <td>5.684000e+03</td>\n",
       "    </tr>\n",
       "    <tr>\n",
       "      <th>mean</th>\n",
       "      <td>4.526977e+09</td>\n",
       "      <td>3689.338434</td>\n",
       "      <td>9.140485e+05</td>\n",
       "      <td>1.014622e+14</td>\n",
       "      <td>1.098775e+06</td>\n",
       "    </tr>\n",
       "    <tr>\n",
       "      <th>std</th>\n",
       "      <td>3.468412e+10</td>\n",
       "      <td>2973.716495</td>\n",
       "      <td>9.430167e+06</td>\n",
       "      <td>6.870001e+15</td>\n",
       "      <td>1.001362e+07</td>\n",
       "    </tr>\n",
       "    <tr>\n",
       "      <th>min</th>\n",
       "      <td>6.000000e+02</td>\n",
       "      <td>1.000000</td>\n",
       "      <td>2.000000e+02</td>\n",
       "      <td>0.000000e+00</td>\n",
       "      <td>0.000000e+00</td>\n",
       "    </tr>\n",
       "    <tr>\n",
       "      <th>25%</th>\n",
       "      <td>8.620490e+07</td>\n",
       "      <td>1104.000000</td>\n",
       "      <td>4.679925e+04</td>\n",
       "      <td>6.366286e+09</td>\n",
       "      <td>7.978900e+04</td>\n",
       "    </tr>\n",
       "    <tr>\n",
       "      <th>50%</th>\n",
       "      <td>3.941124e+08</td>\n",
       "      <td>2978.000000</td>\n",
       "      <td>1.739812e+05</td>\n",
       "      <td>9.008156e+10</td>\n",
       "      <td>3.001359e+05</td>\n",
       "    </tr>\n",
       "    <tr>\n",
       "      <th>75%</th>\n",
       "      <td>1.807450e+09</td>\n",
       "      <td>5735.000000</td>\n",
       "      <td>5.696173e+05</td>\n",
       "      <td>7.144775e+11</td>\n",
       "      <td>8.452677e+05</td>\n",
       "    </tr>\n",
       "    <tr>\n",
       "      <th>max</th>\n",
       "      <td>2.037690e+12</td>\n",
       "      <td>12274.000000</td>\n",
       "      <td>6.771986e+08</td>\n",
       "      <td>5.178087e+17</td>\n",
       "      <td>7.195893e+08</td>\n",
       "    </tr>\n",
       "  </tbody>\n",
       "</table>\n",
       "</div>"
      ],
      "text/plain": [
       "       Volume_of_trades  Count_Ticker  ...  Var_adj_close  Std_adj_close\n",
       "count      5.685000e+03   5685.000000  ...   5.684000e+03   5.684000e+03\n",
       "mean       4.526977e+09   3689.338434  ...   1.014622e+14   1.098775e+06\n",
       "std        3.468412e+10   2973.716495  ...   6.870001e+15   1.001362e+07\n",
       "min        6.000000e+02      1.000000  ...   0.000000e+00   0.000000e+00\n",
       "25%        8.620490e+07   1104.000000  ...   6.366286e+09   7.978900e+04\n",
       "50%        3.941124e+08   2978.000000  ...   9.008156e+10   3.001359e+05\n",
       "75%        1.807450e+09   5735.000000  ...   7.144775e+11   8.452677e+05\n",
       "max        2.037690e+12  12274.000000  ...   5.178087e+17   7.195893e+08\n",
       "\n",
       "[8 rows x 5 columns]"
      ]
     },
     "execution_count": 38,
     "metadata": {
      "tags": []
     },
     "output_type": "execute_result"
    }
   ],
   "source": [
    "stocks_adj_close.describe()"
   ]
  },
  {
   "cell_type": "code",
   "execution_count": 39,
   "metadata": {
    "colab": {
     "base_uri": "https://localhost:8080/",
     "height": 230
    },
    "colab_type": "code",
    "id": "PzKe30fewzo4",
    "outputId": "236630cb-53c7-43ac-ad2d-f9b4ae06b407"
   },
   "outputs": [
    {
     "data": {
      "text/plain": [
       "ticker\n",
       "HPQ     12274\n",
       "BA      12274\n",
       "IP      12274\n",
       "CAT     12274\n",
       "AEP     12274\n",
       "NAV     12274\n",
       "DIS     12274\n",
       "ARNC    12274\n",
       "JNJ     12274\n",
       "FL      12274\n",
       "Name: , dtype: int64"
      ]
     },
     "execution_count": 39,
     "metadata": {
      "tags": []
     },
     "output_type": "execute_result"
    }
   ],
   "source": [
    "stocks_adj_close_top_10 = stocks_adj_close['Count_Ticker'].sort_values(ascending = False)[:10].copy()\n",
    "stocks_adj_close_top_10 = stocks_adj_close_top_10.rename('')\n",
    "stocks_adj_close_top_10"
   ]
  },
  {
   "cell_type": "markdown",
   "metadata": {
    "colab_type": "text",
    "id": "WyGqYypmwzo7"
   },
   "source": [
    "## We want to predict the stock prices to a specific company.\n",
    "### So the first step it's to make a dataframe with a unique ticker.\n",
    "\n",
    "# Let's start by making an algorithm to predict the ajudsted close price of the HPQ"
   ]
  },
  {
   "cell_type": "code",
   "execution_count": 40,
   "metadata": {
    "colab": {
     "base_uri": "https://localhost:8080/",
     "height": 647
    },
    "colab_type": "code",
    "id": "2vwJmFGRwzo8",
    "outputId": "294df196-3fd6-48ae-915f-b1efad53e116"
   },
   "outputs": [
    {
     "data": {
      "text/html": [
       "<div>\n",
       "<style scoped>\n",
       "    .dataframe tbody tr th:only-of-type {\n",
       "        vertical-align: middle;\n",
       "    }\n",
       "\n",
       "    .dataframe tbody tr th {\n",
       "        vertical-align: top;\n",
       "    }\n",
       "\n",
       "    .dataframe thead th {\n",
       "        text-align: right;\n",
       "    }\n",
       "</style>\n",
       "<table border=\"1\" class=\"dataframe\">\n",
       "  <thead>\n",
       "    <tr style=\"text-align: right;\">\n",
       "      <th></th>\n",
       "      <th>open</th>\n",
       "      <th>close</th>\n",
       "      <th>adj_close</th>\n",
       "      <th>low</th>\n",
       "      <th>high</th>\n",
       "      <th>volume</th>\n",
       "      <th>date</th>\n",
       "    </tr>\n",
       "  </thead>\n",
       "  <tbody>\n",
       "    <tr>\n",
       "      <th>14222912</th>\n",
       "      <td>0.313103</td>\n",
       "      <td>0.313990</td>\n",
       "      <td>0.018849</td>\n",
       "      <td>0.310442</td>\n",
       "      <td>0.313990</td>\n",
       "      <td>1282400</td>\n",
       "      <td>1970-03-31</td>\n",
       "    </tr>\n",
       "    <tr>\n",
       "      <th>14222913</th>\n",
       "      <td>0.313990</td>\n",
       "      <td>0.321973</td>\n",
       "      <td>0.019329</td>\n",
       "      <td>0.313103</td>\n",
       "      <td>0.321973</td>\n",
       "      <td>2578900</td>\n",
       "      <td>1970-04-01</td>\n",
       "    </tr>\n",
       "    <tr>\n",
       "      <th>14222914</th>\n",
       "      <td>0.321973</td>\n",
       "      <td>0.320199</td>\n",
       "      <td>0.019222</td>\n",
       "      <td>0.317538</td>\n",
       "      <td>0.325521</td>\n",
       "      <td>12218400</td>\n",
       "      <td>1970-04-02</td>\n",
       "    </tr>\n",
       "    <tr>\n",
       "      <th>14222915</th>\n",
       "      <td>0.320199</td>\n",
       "      <td>0.318425</td>\n",
       "      <td>0.019116</td>\n",
       "      <td>0.315764</td>\n",
       "      <td>0.320199</td>\n",
       "      <td>3833200</td>\n",
       "      <td>1970-04-03</td>\n",
       "    </tr>\n",
       "    <tr>\n",
       "      <th>14222925</th>\n",
       "      <td>0.318425</td>\n",
       "      <td>0.297138</td>\n",
       "      <td>0.017838</td>\n",
       "      <td>0.295364</td>\n",
       "      <td>0.318425</td>\n",
       "      <td>6031700</td>\n",
       "      <td>1970-04-06</td>\n",
       "    </tr>\n",
       "    <tr>\n",
       "      <th>14222926</th>\n",
       "      <td>0.297138</td>\n",
       "      <td>0.290929</td>\n",
       "      <td>0.017465</td>\n",
       "      <td>0.285607</td>\n",
       "      <td>0.298025</td>\n",
       "      <td>3311800</td>\n",
       "      <td>1970-04-07</td>\n",
       "    </tr>\n",
       "    <tr>\n",
       "      <th>14222927</th>\n",
       "      <td>0.290929</td>\n",
       "      <td>0.297138</td>\n",
       "      <td>0.017838</td>\n",
       "      <td>0.290929</td>\n",
       "      <td>0.298912</td>\n",
       "      <td>2381600</td>\n",
       "      <td>1970-04-08</td>\n",
       "    </tr>\n",
       "    <tr>\n",
       "      <th>14222928</th>\n",
       "      <td>0.297138</td>\n",
       "      <td>0.297138</td>\n",
       "      <td>0.017838</td>\n",
       "      <td>0.295364</td>\n",
       "      <td>0.300685</td>\n",
       "      <td>3339900</td>\n",
       "      <td>1970-04-09</td>\n",
       "    </tr>\n",
       "    <tr>\n",
       "      <th>14222941</th>\n",
       "      <td>0.297138</td>\n",
       "      <td>0.304233</td>\n",
       "      <td>0.018264</td>\n",
       "      <td>0.296251</td>\n",
       "      <td>0.305120</td>\n",
       "      <td>1916600</td>\n",
       "      <td>1970-04-10</td>\n",
       "    </tr>\n",
       "    <tr>\n",
       "      <th>14222951</th>\n",
       "      <td>0.304233</td>\n",
       "      <td>0.303346</td>\n",
       "      <td>0.018210</td>\n",
       "      <td>0.303346</td>\n",
       "      <td>0.305120</td>\n",
       "      <td>930100</td>\n",
       "      <td>1970-04-13</td>\n",
       "    </tr>\n",
       "    <tr>\n",
       "      <th>14222963</th>\n",
       "      <td>0.303346</td>\n",
       "      <td>0.306007</td>\n",
       "      <td>0.018370</td>\n",
       "      <td>0.300685</td>\n",
       "      <td>0.306007</td>\n",
       "      <td>1958800</td>\n",
       "      <td>1970-04-14</td>\n",
       "    </tr>\n",
       "    <tr>\n",
       "      <th>14222973</th>\n",
       "      <td>0.306007</td>\n",
       "      <td>0.298912</td>\n",
       "      <td>0.017944</td>\n",
       "      <td>0.298912</td>\n",
       "      <td>0.312216</td>\n",
       "      <td>2071600</td>\n",
       "      <td>1970-04-15</td>\n",
       "    </tr>\n",
       "    <tr>\n",
       "      <th>14222985</th>\n",
       "      <td>0.298025</td>\n",
       "      <td>0.290042</td>\n",
       "      <td>0.017412</td>\n",
       "      <td>0.289155</td>\n",
       "      <td>0.298025</td>\n",
       "      <td>2198400</td>\n",
       "      <td>1970-04-16</td>\n",
       "    </tr>\n",
       "    <tr>\n",
       "      <th>14222995</th>\n",
       "      <td>0.288268</td>\n",
       "      <td>0.287381</td>\n",
       "      <td>0.017252</td>\n",
       "      <td>0.285607</td>\n",
       "      <td>0.288268</td>\n",
       "      <td>1916600</td>\n",
       "      <td>1970-04-17</td>\n",
       "    </tr>\n",
       "    <tr>\n",
       "      <th>14223006</th>\n",
       "      <td>0.287381</td>\n",
       "      <td>0.285607</td>\n",
       "      <td>0.017145</td>\n",
       "      <td>0.284720</td>\n",
       "      <td>0.288268</td>\n",
       "      <td>3100400</td>\n",
       "      <td>1970-04-20</td>\n",
       "    </tr>\n",
       "    <tr>\n",
       "      <th>14223016</th>\n",
       "      <td>0.285607</td>\n",
       "      <td>0.283833</td>\n",
       "      <td>0.017039</td>\n",
       "      <td>0.283833</td>\n",
       "      <td>0.287381</td>\n",
       "      <td>1522000</td>\n",
       "      <td>1970-04-21</td>\n",
       "    </tr>\n",
       "    <tr>\n",
       "      <th>14223028</th>\n",
       "      <td>0.283833</td>\n",
       "      <td>0.272302</td>\n",
       "      <td>0.016347</td>\n",
       "      <td>0.270528</td>\n",
       "      <td>0.284720</td>\n",
       "      <td>1789700</td>\n",
       "      <td>1970-04-22</td>\n",
       "    </tr>\n",
       "    <tr>\n",
       "      <th>14223038</th>\n",
       "      <td>0.272302</td>\n",
       "      <td>0.272302</td>\n",
       "      <td>0.016347</td>\n",
       "      <td>0.269641</td>\n",
       "      <td>0.274963</td>\n",
       "      <td>1789700</td>\n",
       "      <td>1970-04-23</td>\n",
       "    </tr>\n",
       "    <tr>\n",
       "      <th>14223051</th>\n",
       "      <td>0.272302</td>\n",
       "      <td>0.279398</td>\n",
       "      <td>0.016773</td>\n",
       "      <td>0.272302</td>\n",
       "      <td>0.279398</td>\n",
       "      <td>2578900</td>\n",
       "      <td>1970-04-24</td>\n",
       "    </tr>\n",
       "    <tr>\n",
       "      <th>14223061</th>\n",
       "      <td>0.277624</td>\n",
       "      <td>0.274963</td>\n",
       "      <td>0.016507</td>\n",
       "      <td>0.273189</td>\n",
       "      <td>0.277624</td>\n",
       "      <td>2254800</td>\n",
       "      <td>1970-04-27</td>\n",
       "    </tr>\n",
       "  </tbody>\n",
       "</table>\n",
       "</div>"
      ],
      "text/plain": [
       "              open     close  adj_close  ...      high    volume        date\n",
       "14222912  0.313103  0.313990   0.018849  ...  0.313990   1282400  1970-03-31\n",
       "14222913  0.313990  0.321973   0.019329  ...  0.321973   2578900  1970-04-01\n",
       "14222914  0.321973  0.320199   0.019222  ...  0.325521  12218400  1970-04-02\n",
       "14222915  0.320199  0.318425   0.019116  ...  0.320199   3833200  1970-04-03\n",
       "14222925  0.318425  0.297138   0.017838  ...  0.318425   6031700  1970-04-06\n",
       "14222926  0.297138  0.290929   0.017465  ...  0.298025   3311800  1970-04-07\n",
       "14222927  0.290929  0.297138   0.017838  ...  0.298912   2381600  1970-04-08\n",
       "14222928  0.297138  0.297138   0.017838  ...  0.300685   3339900  1970-04-09\n",
       "14222941  0.297138  0.304233   0.018264  ...  0.305120   1916600  1970-04-10\n",
       "14222951  0.304233  0.303346   0.018210  ...  0.305120    930100  1970-04-13\n",
       "14222963  0.303346  0.306007   0.018370  ...  0.306007   1958800  1970-04-14\n",
       "14222973  0.306007  0.298912   0.017944  ...  0.312216   2071600  1970-04-15\n",
       "14222985  0.298025  0.290042   0.017412  ...  0.298025   2198400  1970-04-16\n",
       "14222995  0.288268  0.287381   0.017252  ...  0.288268   1916600  1970-04-17\n",
       "14223006  0.287381  0.285607   0.017145  ...  0.288268   3100400  1970-04-20\n",
       "14223016  0.285607  0.283833   0.017039  ...  0.287381   1522000  1970-04-21\n",
       "14223028  0.283833  0.272302   0.016347  ...  0.284720   1789700  1970-04-22\n",
       "14223038  0.272302  0.272302   0.016347  ...  0.274963   1789700  1970-04-23\n",
       "14223051  0.272302  0.279398   0.016773  ...  0.279398   2578900  1970-04-24\n",
       "14223061  0.277624  0.274963   0.016507  ...  0.277624   2254800  1970-04-27\n",
       "\n",
       "[20 rows x 7 columns]"
      ]
     },
     "execution_count": 40,
     "metadata": {
      "tags": []
     },
     "output_type": "execute_result"
    }
   ],
   "source": [
    "def companny_stocks(ticker):\n",
    "    return stock_prices[stock_prices[\"ticker\"] == ticker]\n",
    "\n",
    "df = companny_stocks(\"HPQ\")\n",
    "df = df.drop([\"ticker\"],axis=1)\n",
    "df[60:80]"
   ]
  },
  {
   "cell_type": "markdown",
   "metadata": {
    "colab_type": "text",
    "id": "DIBlfAZMwzo-"
   },
   "source": [
    "> As we can see by the image, we can't conclude that the days with more volumes are related to the difference between then open and close price of this stock compannie, as we said early, this is a very variated problem, we can't find any dependencies here that can help us to \"make\" new features more correlated to the adj_close."
   ]
  },
  {
   "cell_type": "code",
   "execution_count": 41,
   "metadata": {
    "colab": {
     "base_uri": "https://localhost:8080/",
     "height": 347
    },
    "colab_type": "code",
    "id": "rcnY5o0qwzo_",
    "outputId": "affff16f-78d9-4a0f-99c2-956d009e3693"
   },
   "outputs": [
    {
     "data": {
      "text/html": [
       "<div>\n",
       "<style scoped>\n",
       "    .dataframe tbody tr th:only-of-type {\n",
       "        vertical-align: middle;\n",
       "    }\n",
       "\n",
       "    .dataframe tbody tr th {\n",
       "        vertical-align: top;\n",
       "    }\n",
       "\n",
       "    .dataframe thead th {\n",
       "        text-align: right;\n",
       "    }\n",
       "</style>\n",
       "<table border=\"1\" class=\"dataframe\">\n",
       "  <thead>\n",
       "    <tr style=\"text-align: right;\">\n",
       "      <th></th>\n",
       "      <th>open</th>\n",
       "      <th>close</th>\n",
       "      <th>adj_close</th>\n",
       "      <th>low</th>\n",
       "      <th>high</th>\n",
       "      <th>volume</th>\n",
       "      <th>date</th>\n",
       "    </tr>\n",
       "  </thead>\n",
       "  <tbody>\n",
       "    <tr>\n",
       "      <th>14311291</th>\n",
       "      <td>19.741144</td>\n",
       "      <td>19.346048</td>\n",
       "      <td>13.910851</td>\n",
       "      <td>19.268847</td>\n",
       "      <td>19.909174</td>\n",
       "      <td>442012300</td>\n",
       "      <td>2010-08-09</td>\n",
       "    </tr>\n",
       "    <tr>\n",
       "      <th>14317660</th>\n",
       "      <td>5.286104</td>\n",
       "      <td>5.317893</td>\n",
       "      <td>4.153480</td>\n",
       "      <td>5.154405</td>\n",
       "      <td>5.476839</td>\n",
       "      <td>340591200</td>\n",
       "      <td>2012-11-20</td>\n",
       "    </tr>\n",
       "    <tr>\n",
       "      <th>14305336</th>\n",
       "      <td>20.158947</td>\n",
       "      <td>20.104450</td>\n",
       "      <td>13.913208</td>\n",
       "      <td>19.650318</td>\n",
       "      <td>20.821980</td>\n",
       "      <td>312113000</td>\n",
       "      <td>2008-05-13</td>\n",
       "    </tr>\n",
       "    <tr>\n",
       "      <th>14317267</th>\n",
       "      <td>7.824705</td>\n",
       "      <td>6.771117</td>\n",
       "      <td>5.288505</td>\n",
       "      <td>6.743869</td>\n",
       "      <td>7.879201</td>\n",
       "      <td>310536600</td>\n",
       "      <td>2012-10-03</td>\n",
       "    </tr>\n",
       "    <tr>\n",
       "      <th>14318305</th>\n",
       "      <td>8.269754</td>\n",
       "      <td>8.719346</td>\n",
       "      <td>6.955170</td>\n",
       "      <td>8.224341</td>\n",
       "      <td>9.005449</td>\n",
       "      <td>293423300</td>\n",
       "      <td>2013-02-22</td>\n",
       "    </tr>\n",
       "    <tr>\n",
       "      <th>14314059</th>\n",
       "      <td>10.717529</td>\n",
       "      <td>10.717529</td>\n",
       "      <td>7.866162</td>\n",
       "      <td>10.331517</td>\n",
       "      <td>10.903724</td>\n",
       "      <td>283937900</td>\n",
       "      <td>2011-08-19</td>\n",
       "    </tr>\n",
       "    <tr>\n",
       "      <th>14296714</th>\n",
       "      <td>10.036330</td>\n",
       "      <td>9.777475</td>\n",
       "      <td>6.320040</td>\n",
       "      <td>9.545867</td>\n",
       "      <td>10.108992</td>\n",
       "      <td>224995900</td>\n",
       "      <td>2005-02-09</td>\n",
       "    </tr>\n",
       "    <tr>\n",
       "      <th>14313319</th>\n",
       "      <td>17.061762</td>\n",
       "      <td>16.762035</td>\n",
       "      <td>12.210326</td>\n",
       "      <td>16.366940</td>\n",
       "      <td>17.102634</td>\n",
       "      <td>221134000</td>\n",
       "      <td>2011-05-17</td>\n",
       "    </tr>\n",
       "    <tr>\n",
       "      <th>14312741</th>\n",
       "      <td>19.836512</td>\n",
       "      <td>19.795641</td>\n",
       "      <td>14.359287</td>\n",
       "      <td>19.332424</td>\n",
       "      <td>19.854677</td>\n",
       "      <td>212846600</td>\n",
       "      <td>2011-02-23</td>\n",
       "    </tr>\n",
       "    <tr>\n",
       "      <th>14314057</th>\n",
       "      <td>13.560400</td>\n",
       "      <td>13.401453</td>\n",
       "      <td>9.836040</td>\n",
       "      <td>13.006358</td>\n",
       "      <td>15.440509</td>\n",
       "      <td>211412900</td>\n",
       "      <td>2011-08-18</td>\n",
       "    </tr>\n",
       "  </tbody>\n",
       "</table>\n",
       "</div>"
      ],
      "text/plain": [
       "               open      close  adj_close  ...       high     volume        date\n",
       "14311291  19.741144  19.346048  13.910851  ...  19.909174  442012300  2010-08-09\n",
       "14317660   5.286104   5.317893   4.153480  ...   5.476839  340591200  2012-11-20\n",
       "14305336  20.158947  20.104450  13.913208  ...  20.821980  312113000  2008-05-13\n",
       "14317267   7.824705   6.771117   5.288505  ...   7.879201  310536600  2012-10-03\n",
       "14318305   8.269754   8.719346   6.955170  ...   9.005449  293423300  2013-02-22\n",
       "14314059  10.717529  10.717529   7.866162  ...  10.903724  283937900  2011-08-19\n",
       "14296714  10.036330   9.777475   6.320040  ...  10.108992  224995900  2005-02-09\n",
       "14313319  17.061762  16.762035  12.210326  ...  17.102634  221134000  2011-05-17\n",
       "14312741  19.836512  19.795641  14.359287  ...  19.854677  212846600  2011-02-23\n",
       "14314057  13.560400  13.401453   9.836040  ...  15.440509  211412900  2011-08-18\n",
       "\n",
       "[10 rows x 7 columns]"
      ]
     },
     "execution_count": 41,
     "metadata": {
      "tags": []
     },
     "output_type": "execute_result"
    }
   ],
   "source": [
    "df.sort_values(by = 'volume', ascending = False)[0:10]"
   ]
  },
  {
   "cell_type": "markdown",
   "metadata": {
    "colab_type": "text",
    "id": "2CIPbaaLwzpB"
   },
   "source": [
    "> Data corresponding to the company with the HPQ ticker\n",
    "\n",
    "> All rows are ordered by date, we can see that there are some hops, for example from 1970-04-24 to 1970-04-27, as we can see in the last two rows of this dataset, but these hops are derived from the wekends, where the trading market is closed and sometimes holidays."
   ]
  },
  {
   "cell_type": "code",
   "execution_count": 42,
   "metadata": {
    "colab": {
     "base_uri": "https://localhost:8080/",
     "height": 287
    },
    "colab_type": "code",
    "id": "FWFJBBMTwzpC",
    "outputId": "bae0f228-d856-4bc5-ad9d-684029a6c87f"
   },
   "outputs": [
    {
     "data": {
      "text/html": [
       "<div>\n",
       "<style scoped>\n",
       "    .dataframe tbody tr th:only-of-type {\n",
       "        vertical-align: middle;\n",
       "    }\n",
       "\n",
       "    .dataframe tbody tr th {\n",
       "        vertical-align: top;\n",
       "    }\n",
       "\n",
       "    .dataframe thead th {\n",
       "        text-align: right;\n",
       "    }\n",
       "</style>\n",
       "<table border=\"1\" class=\"dataframe\">\n",
       "  <thead>\n",
       "    <tr style=\"text-align: right;\">\n",
       "      <th></th>\n",
       "      <th>open</th>\n",
       "      <th>close</th>\n",
       "      <th>adj_close</th>\n",
       "      <th>low</th>\n",
       "      <th>high</th>\n",
       "      <th>volume</th>\n",
       "    </tr>\n",
       "  </thead>\n",
       "  <tbody>\n",
       "    <tr>\n",
       "      <th>count</th>\n",
       "      <td>12274.000000</td>\n",
       "      <td>12274.000000</td>\n",
       "      <td>12274.000000</td>\n",
       "      <td>12274.000000</td>\n",
       "      <td>12274.000000</td>\n",
       "      <td>1.227400e+04</td>\n",
       "    </tr>\n",
       "    <tr>\n",
       "      <th>mean</th>\n",
       "      <td>8.056883</td>\n",
       "      <td>8.063258</td>\n",
       "      <td>4.899850</td>\n",
       "      <td>7.949466</td>\n",
       "      <td>8.174336</td>\n",
       "      <td>1.678352e+07</td>\n",
       "    </tr>\n",
       "    <tr>\n",
       "      <th>std</th>\n",
       "      <td>7.510812</td>\n",
       "      <td>7.517546</td>\n",
       "      <td>5.869501</td>\n",
       "      <td>7.407970</td>\n",
       "      <td>7.622849</td>\n",
       "      <td>1.806805e+07</td>\n",
       "    </tr>\n",
       "    <tr>\n",
       "      <th>min</th>\n",
       "      <td>0.140142</td>\n",
       "      <td>0.137482</td>\n",
       "      <td>0.008253</td>\n",
       "      <td>0.137482</td>\n",
       "      <td>0.141916</td>\n",
       "      <td>1.510000e+04</td>\n",
       "    </tr>\n",
       "    <tr>\n",
       "      <th>25%</th>\n",
       "      <td>1.284344</td>\n",
       "      <td>1.287892</td>\n",
       "      <td>0.090425</td>\n",
       "      <td>1.270152</td>\n",
       "      <td>1.302083</td>\n",
       "      <td>5.971800e+06</td>\n",
       "    </tr>\n",
       "    <tr>\n",
       "      <th>50%</th>\n",
       "      <td>4.672599</td>\n",
       "      <td>4.669051</td>\n",
       "      <td>1.210172</td>\n",
       "      <td>4.605188</td>\n",
       "      <td>4.718721</td>\n",
       "      <td>1.180180e+07</td>\n",
       "    </tr>\n",
       "    <tr>\n",
       "      <th>75%</th>\n",
       "      <td>13.836853</td>\n",
       "      <td>13.836853</td>\n",
       "      <td>8.975129</td>\n",
       "      <td>13.627384</td>\n",
       "      <td>14.039310</td>\n",
       "      <td>2.208455e+07</td>\n",
       "    </tr>\n",
       "    <tr>\n",
       "      <th>max</th>\n",
       "      <td>34.826294</td>\n",
       "      <td>35.422344</td>\n",
       "      <td>24.629999</td>\n",
       "      <td>33.293598</td>\n",
       "      <td>35.422344</td>\n",
       "      <td>4.420123e+08</td>\n",
       "    </tr>\n",
       "  </tbody>\n",
       "</table>\n",
       "</div>"
      ],
      "text/plain": [
       "               open         close  ...          high        volume\n",
       "count  12274.000000  12274.000000  ...  12274.000000  1.227400e+04\n",
       "mean       8.056883      8.063258  ...      8.174336  1.678352e+07\n",
       "std        7.510812      7.517546  ...      7.622849  1.806805e+07\n",
       "min        0.140142      0.137482  ...      0.141916  1.510000e+04\n",
       "25%        1.284344      1.287892  ...      1.302083  5.971800e+06\n",
       "50%        4.672599      4.669051  ...      4.718721  1.180180e+07\n",
       "75%       13.836853     13.836853  ...     14.039310  2.208455e+07\n",
       "max       34.826294     35.422344  ...     35.422344  4.420123e+08\n",
       "\n",
       "[8 rows x 6 columns]"
      ]
     },
     "execution_count": 42,
     "metadata": {
      "tags": []
     },
     "output_type": "execute_result"
    }
   ],
   "source": [
    "df = df.drop([\"date\"],axis=1)\n",
    "df.describe()"
   ]
  },
  {
   "cell_type": "markdown",
   "metadata": {
    "colab_type": "text",
    "id": "vyOm9YQWwzpF"
   },
   "source": [
    "### This companie have the NYSE Exhange and is Sector is Technology"
   ]
  },
  {
   "cell_type": "code",
   "execution_count": 43,
   "metadata": {
    "colab": {
     "base_uri": "https://localhost:8080/",
     "height": 77
    },
    "colab_type": "code",
    "id": "DuoUXD0gwzpF",
    "outputId": "7edb176d-d31b-4cb3-a7b5-8f28f28e5f04"
   },
   "outputs": [
    {
     "data": {
      "text/html": [
       "<div>\n",
       "<style scoped>\n",
       "    .dataframe tbody tr th:only-of-type {\n",
       "        vertical-align: middle;\n",
       "    }\n",
       "\n",
       "    .dataframe tbody tr th {\n",
       "        vertical-align: top;\n",
       "    }\n",
       "\n",
       "    .dataframe thead th {\n",
       "        text-align: right;\n",
       "    }\n",
       "</style>\n",
       "<table border=\"1\" class=\"dataframe\">\n",
       "  <thead>\n",
       "    <tr style=\"text-align: right;\">\n",
       "      <th></th>\n",
       "      <th>ticker</th>\n",
       "      <th>exchange</th>\n",
       "      <th>name</th>\n",
       "      <th>sector</th>\n",
       "      <th>industry</th>\n",
       "    </tr>\n",
       "  </thead>\n",
       "  <tbody>\n",
       "    <tr>\n",
       "      <th>4757</th>\n",
       "      <td>HPQ</td>\n",
       "      <td>NYSE</td>\n",
       "      <td>HP INC.</td>\n",
       "      <td>TECHNOLOGY</td>\n",
       "      <td>COMPUTER MANUFACTURING</td>\n",
       "    </tr>\n",
       "  </tbody>\n",
       "</table>\n",
       "</div>"
      ],
      "text/plain": [
       "     ticker exchange     name      sector                industry\n",
       "4757    HPQ     NYSE  HP INC.  TECHNOLOGY  COMPUTER MANUFACTURING"
      ]
     },
     "execution_count": 43,
     "metadata": {
      "tags": []
     },
     "output_type": "execute_result"
    }
   ],
   "source": [
    "stocks[stocks['ticker'] == 'HPQ']"
   ]
  },
  {
   "cell_type": "markdown",
   "metadata": {
    "colab_type": "text",
    "id": "5tlUXuKZ7emm"
   },
   "source": [
    "## Important\n",
    "\n",
    "## We added a new feature, the one we mean to predict.\n",
    "\n",
    "Given the variation of stock prices, instead of trying to predict the close or the adjusted close price, we decided to see the problem from another angle.\n",
    "The new feature, called variation_info, which represents the variation, negative or positive, of the close price of two given days (current day and previous one).\n",
    "Our model will try to detect the variation that is going to happen as best as possible, meaning, if the stock price will rise or fall.\n",
    "\n",
    "This way, even if the results aren't too precise, we still manage to have intuition regarding the gain or loss almost bound to happen.\n",
    "\n",
    "Function that create the new feature for some company corresponding to the variation between the close price of the current day and the one before it."
   ]
  },
  {
   "cell_type": "markdown",
   "metadata": {
    "colab_type": "text",
    "id": "UCWeVMBB8Tes"
   },
   "source": [
    "> Função que cria adiciona a nova feature para uma determinada empresa correspondente à variação entre closed prices do dia atual e do dia seguinte."
   ]
  },
  {
   "cell_type": "code",
   "execution_count": 0,
   "metadata": {
    "colab": {},
    "colab_type": "code",
    "id": "RiEKy4iZwzoZ"
   },
   "outputs": [],
   "source": [
    "#Last row have 0 in variation, cause we dont have the next row, should we remove it?\n",
    "\n",
    "#Mudar frase\n",
    "#Variação é entre o atual e o de amanhã, para qd fizermos a previsão termos o modelo a inferir cenas corretas\n",
    "\n",
    "def make_variation_info_for_company(df):\n",
    "\n",
    "  variation_info = []\n",
    "  variation_info.append(0)\n",
    "  tmp = 0\n",
    "\n",
    "  for index,row in df.iterrows():\n",
    "  \n",
    "    if(tmp == 0):\n",
    "        close_price = row[1]\n",
    "        tmp+=1\n",
    "    \n",
    "    else:\n",
    "      variation = row[1] - close_price\n",
    "      close_price = row[1]\n",
    "      variation_info.append(variation)\n",
    "  \n",
    "  df.insert(2, \"Variation_info\", variation_info, True)\n",
    "\n",
    "make_variation_info_for_company(df)"
   ]
  },
  {
   "cell_type": "code",
   "execution_count": 45,
   "metadata": {
    "colab": {
     "base_uri": "https://localhost:8080/",
     "height": 197
    },
    "colab_type": "code",
    "id": "TzrsRjTeHA8x",
    "outputId": "2bc0e3d4-16d1-4040-f205-6331253f5543"
   },
   "outputs": [
    {
     "data": {
      "text/html": [
       "<div>\n",
       "<style scoped>\n",
       "    .dataframe tbody tr th:only-of-type {\n",
       "        vertical-align: middle;\n",
       "    }\n",
       "\n",
       "    .dataframe tbody tr th {\n",
       "        vertical-align: top;\n",
       "    }\n",
       "\n",
       "    .dataframe thead th {\n",
       "        text-align: right;\n",
       "    }\n",
       "</style>\n",
       "<table border=\"1\" class=\"dataframe\">\n",
       "  <thead>\n",
       "    <tr style=\"text-align: right;\">\n",
       "      <th></th>\n",
       "      <th>open</th>\n",
       "      <th>close</th>\n",
       "      <th>Variation_info</th>\n",
       "      <th>adj_close</th>\n",
       "      <th>low</th>\n",
       "      <th>high</th>\n",
       "      <th>volume</th>\n",
       "    </tr>\n",
       "  </thead>\n",
       "  <tbody>\n",
       "    <tr>\n",
       "      <th>14222797</th>\n",
       "      <td>0.365435</td>\n",
       "      <td>0.363217</td>\n",
       "      <td>0.000000</td>\n",
       "      <td>0.021705</td>\n",
       "      <td>0.361443</td>\n",
       "      <td>0.365435</td>\n",
       "      <td>1324700</td>\n",
       "    </tr>\n",
       "    <tr>\n",
       "      <th>14222798</th>\n",
       "      <td>0.363661</td>\n",
       "      <td>0.373861</td>\n",
       "      <td>0.010644</td>\n",
       "      <td>0.022341</td>\n",
       "      <td>0.363661</td>\n",
       "      <td>0.375192</td>\n",
       "      <td>4368700</td>\n",
       "    </tr>\n",
       "    <tr>\n",
       "      <th>14222799</th>\n",
       "      <td>0.373861</td>\n",
       "      <td>0.369870</td>\n",
       "      <td>-0.003991</td>\n",
       "      <td>0.022103</td>\n",
       "      <td>0.369870</td>\n",
       "      <td>0.374305</td>\n",
       "      <td>2395700</td>\n",
       "    </tr>\n",
       "    <tr>\n",
       "      <th>14222800</th>\n",
       "      <td>0.370313</td>\n",
       "      <td>0.370757</td>\n",
       "      <td>0.000887</td>\n",
       "      <td>0.022156</td>\n",
       "      <td>0.370313</td>\n",
       "      <td>0.372087</td>\n",
       "      <td>1014600</td>\n",
       "    </tr>\n",
       "    <tr>\n",
       "      <th>14222801</th>\n",
       "      <td>0.370757</td>\n",
       "      <td>0.374305</td>\n",
       "      <td>0.003548</td>\n",
       "      <td>0.022368</td>\n",
       "      <td>0.370313</td>\n",
       "      <td>0.379183</td>\n",
       "      <td>3325900</td>\n",
       "    </tr>\n",
       "  </tbody>\n",
       "</table>\n",
       "</div>"
      ],
      "text/plain": [
       "              open     close  Variation_info  ...       low      high   volume\n",
       "14222797  0.365435  0.363217        0.000000  ...  0.361443  0.365435  1324700\n",
       "14222798  0.363661  0.373861        0.010644  ...  0.363661  0.375192  4368700\n",
       "14222799  0.373861  0.369870       -0.003991  ...  0.369870  0.374305  2395700\n",
       "14222800  0.370313  0.370757        0.000887  ...  0.370313  0.372087  1014600\n",
       "14222801  0.370757  0.374305        0.003548  ...  0.370313  0.379183  3325900\n",
       "\n",
       "[5 rows x 7 columns]"
      ]
     },
     "execution_count": 45,
     "metadata": {
      "tags": []
     },
     "output_type": "execute_result"
    }
   ],
   "source": [
    "df.head()"
   ]
  },
  {
   "cell_type": "code",
   "execution_count": 46,
   "metadata": {
    "colab": {
     "base_uri": "https://localhost:8080/",
     "height": 287
    },
    "colab_type": "code",
    "id": "UY_9Bdln_VUy",
    "outputId": "bcfe15d4-259c-4dc0-8d37-85975ce7079c"
   },
   "outputs": [
    {
     "data": {
      "text/html": [
       "<div>\n",
       "<style scoped>\n",
       "    .dataframe tbody tr th:only-of-type {\n",
       "        vertical-align: middle;\n",
       "    }\n",
       "\n",
       "    .dataframe tbody tr th {\n",
       "        vertical-align: top;\n",
       "    }\n",
       "\n",
       "    .dataframe thead th {\n",
       "        text-align: right;\n",
       "    }\n",
       "</style>\n",
       "<table border=\"1\" class=\"dataframe\">\n",
       "  <thead>\n",
       "    <tr style=\"text-align: right;\">\n",
       "      <th></th>\n",
       "      <th>open</th>\n",
       "      <th>close</th>\n",
       "      <th>Variation_info</th>\n",
       "      <th>adj_close</th>\n",
       "      <th>low</th>\n",
       "      <th>high</th>\n",
       "      <th>volume</th>\n",
       "    </tr>\n",
       "  </thead>\n",
       "  <tbody>\n",
       "    <tr>\n",
       "      <th>count</th>\n",
       "      <td>12274.000000</td>\n",
       "      <td>12274.000000</td>\n",
       "      <td>12274.000000</td>\n",
       "      <td>12274.000000</td>\n",
       "      <td>12274.000000</td>\n",
       "      <td>12274.000000</td>\n",
       "      <td>1.227400e+04</td>\n",
       "    </tr>\n",
       "    <tr>\n",
       "      <th>mean</th>\n",
       "      <td>8.056883</td>\n",
       "      <td>8.063258</td>\n",
       "      <td>0.001938</td>\n",
       "      <td>4.899850</td>\n",
       "      <td>7.949466</td>\n",
       "      <td>8.174336</td>\n",
       "      <td>1.678352e+07</td>\n",
       "    </tr>\n",
       "    <tr>\n",
       "      <th>std</th>\n",
       "      <td>7.510812</td>\n",
       "      <td>7.517546</td>\n",
       "      <td>0.265847</td>\n",
       "      <td>5.869501</td>\n",
       "      <td>7.407970</td>\n",
       "      <td>7.622849</td>\n",
       "      <td>1.806805e+07</td>\n",
       "    </tr>\n",
       "    <tr>\n",
       "      <th>min</th>\n",
       "      <td>0.140142</td>\n",
       "      <td>0.137482</td>\n",
       "      <td>-4.952883</td>\n",
       "      <td>0.008253</td>\n",
       "      <td>0.137482</td>\n",
       "      <td>0.141916</td>\n",
       "      <td>1.510000e+04</td>\n",
       "    </tr>\n",
       "    <tr>\n",
       "      <th>25%</th>\n",
       "      <td>1.284344</td>\n",
       "      <td>1.287892</td>\n",
       "      <td>-0.042575</td>\n",
       "      <td>0.090425</td>\n",
       "      <td>1.270152</td>\n",
       "      <td>1.302083</td>\n",
       "      <td>5.971800e+06</td>\n",
       "    </tr>\n",
       "    <tr>\n",
       "      <th>50%</th>\n",
       "      <td>4.672599</td>\n",
       "      <td>4.669051</td>\n",
       "      <td>0.000000</td>\n",
       "      <td>1.210172</td>\n",
       "      <td>4.605188</td>\n",
       "      <td>4.718721</td>\n",
       "      <td>1.180180e+07</td>\n",
       "    </tr>\n",
       "    <tr>\n",
       "      <th>75%</th>\n",
       "      <td>13.836853</td>\n",
       "      <td>13.836853</td>\n",
       "      <td>0.049954</td>\n",
       "      <td>8.975129</td>\n",
       "      <td>13.627384</td>\n",
       "      <td>14.039310</td>\n",
       "      <td>2.208455e+07</td>\n",
       "    </tr>\n",
       "    <tr>\n",
       "      <th>max</th>\n",
       "      <td>34.826294</td>\n",
       "      <td>35.422344</td>\n",
       "      <td>3.193121</td>\n",
       "      <td>24.629999</td>\n",
       "      <td>33.293598</td>\n",
       "      <td>35.422344</td>\n",
       "      <td>4.420123e+08</td>\n",
       "    </tr>\n",
       "  </tbody>\n",
       "</table>\n",
       "</div>"
      ],
      "text/plain": [
       "               open         close  ...          high        volume\n",
       "count  12274.000000  12274.000000  ...  12274.000000  1.227400e+04\n",
       "mean       8.056883      8.063258  ...      8.174336  1.678352e+07\n",
       "std        7.510812      7.517546  ...      7.622849  1.806805e+07\n",
       "min        0.140142      0.137482  ...      0.141916  1.510000e+04\n",
       "25%        1.284344      1.287892  ...      1.302083  5.971800e+06\n",
       "50%        4.672599      4.669051  ...      4.718721  1.180180e+07\n",
       "75%       13.836853     13.836853  ...     14.039310  2.208455e+07\n",
       "max       34.826294     35.422344  ...     35.422344  4.420123e+08\n",
       "\n",
       "[8 rows x 7 columns]"
      ]
     },
     "execution_count": 46,
     "metadata": {
      "tags": []
     },
     "output_type": "execute_result"
    }
   ],
   "source": [
    "df.describe()"
   ]
  },
  {
   "cell_type": "markdown",
   "metadata": {
    "colab_type": "text",
    "id": "vSgBtzYkwzpK"
   },
   "source": [
    "# Machine Learning algorithms"
   ]
  },
  {
   "cell_type": "markdown",
   "metadata": {
    "colab_type": "text",
    "id": "EN1eIC7swzpL"
   },
   "source": [
    "1. Linear Regression\n",
    "2. Support Vectors Classifers for Regression SVR\n",
    "3. Decisions Tree / Random Forest\n",
    "4. Recurrent Neural Networks (RNN) / LSTM\n",
    "\n"
   ]
  },
  {
   "cell_type": "markdown",
   "metadata": {
    "colab_type": "text",
    "id": "JxZYfykMwzpL"
   },
   "source": [
    "> First lets prepare the small dataset corresponding to the comapny HPQ:\n",
    "\n",
    "> The adj_close price column it's the label column and the rest of the features are independent variables\n",
    "\n",
    "> Lets normalize all the variables, and then make a x_train and y_train\n"
   ]
  },
  {
   "cell_type": "code",
   "execution_count": 47,
   "metadata": {
    "colab": {
     "base_uri": "https://localhost:8080/",
     "height": 204
    },
    "colab_type": "code",
    "id": "7gJCUdBDwzpM",
    "outputId": "564c77b8-baf0-4bf8-86b4-7705f58a2b0f"
   },
   "outputs": [
    {
     "data": {
      "image/png": "[encoded data removed]",
      "text/plain": [
       "<Figure size 5040x216 with 7 Axes>"
      ]
     },
     "metadata": {
      "needs_background": "light",
      "tags": []
     },
     "output_type": "display_data"
    }
   ],
   "source": [
    "def show_distribution(df):\n",
    "    plt.figure(figsize=(70, 3))\n",
    "    i = 0\n",
    "    \n",
    "    for feature in df:\n",
    "        plt.subplot(1, 20, i+1)\n",
    "        plt.plot(df[feature])\n",
    "        plt.xlabel(feature)\n",
    "        i += 1\n",
    "    plt.show()\n",
    "\n",
    "show_distribution(df)"
   ]
  },
  {
   "cell_type": "markdown",
   "metadata": {
    "colab_type": "text",
    "id": "5W6_K8-8wzpT"
   },
   "source": [
    ">As we can see, all these distributions are very similar, but none of them is close to a normal distribution, so we will normalize the data using the min-max normalizer."
   ]
  },
  {
   "cell_type": "markdown",
   "metadata": {
    "colab_type": "text",
    "id": "8z2hL_yHwzpU"
   },
   "source": [
    "# Normalizing and splitting the data"
   ]
  },
  {
   "cell_type": "code",
   "execution_count": 0,
   "metadata": {
    "colab": {},
    "colab_type": "code",
    "id": "Y5pbyY3LwzpX"
   },
   "outputs": [],
   "source": [
    "from sklearn.preprocessing import MinMaxScaler\n",
    "\n",
    "scaler = MinMaxScaler()\n",
    "\n",
    "x = df.iloc[:,[0,1,3,4,5,6]]\n",
    "y = df.iloc[:,[2]].to_numpy()\n",
    "x = scaler.fit_transform(x)"
   ]
  },
  {
   "cell_type": "markdown",
   "metadata": {
    "colab_type": "text",
    "id": "a8hDSymvwzpa"
   },
   "source": [
    "# Spliting the data\n",
    "\n",
    "## Should we use Time Series Split?\n",
    "## For now im justing using 10% of the final data to represent the test set and another 10% for validation purposes"
   ]
  },
  {
   "cell_type": "code",
   "execution_count": 49,
   "metadata": {
    "colab": {
     "base_uri": "https://localhost:8080/",
     "height": 141
    },
    "colab_type": "code",
    "id": "ir9KKb4Swzpa",
    "outputId": "814c92cf-c767-407e-d1d3-6bd89fa054a8"
   },
   "outputs": [
    {
     "name": "stdout",
     "output_type": "stream",
     "text": [
      " --------- Info about the datasets shape --------- \n",
      "Train set have a shape of (9819, 6)\n",
      "Train label have a shape of (9819, 1)\n",
      "\n",
      "\n",
      "Test set have a shape of (2455, 6)\n",
      "Test label have a shape of (2455, 1)\n"
     ]
    }
   ],
   "source": [
    "#10% equivale 1227\n",
    "\n",
    "from sklearn.model_selection import train_test_split\n",
    "\n",
    "x_train, x_test, y_train, y_test = train_test_split(\n",
    "      x, y, test_size=0.2, random_state=42,shuffle=False)\n",
    "\n",
    "\n",
    "print(\" --------- Info about the datasets shape --------- \")\n",
    "print(\"Train set have a shape of \" + str(x_train.shape))\n",
    "print(\"Train label have a shape of \" + str(y_train.shape))\n",
    "print(\"\\n\")\n",
    "\n",
    "print(\"Test set have a shape of \" + str(x_test.shape))\n",
    "print(\"Test label have a shape of \" + str(y_test.shape))"
   ]
  },
  {
   "cell_type": "code",
   "execution_count": 50,
   "metadata": {
    "colab": {
     "base_uri": "https://localhost:8080/",
     "height": 443
    },
    "colab_type": "code",
    "id": "9v61yURtwzph",
    "outputId": "8b5f95be-59b0-4caa-a14b-e022465acd3c"
   },
   "outputs": [
    {
     "name": "stdout",
     "output_type": "stream",
     "text": [
      "Info about the values on y train :\n",
      "                 0\n",
      "count  9819.000000\n",
      "mean      0.001565\n",
      "std       0.258383\n",
      "min      -4.952883\n",
      "25%      -0.028383\n",
      "50%       0.000000\n",
      "75%       0.035479\n",
      "max       3.193121\n",
      "\n",
      "\n",
      "Info about the values on y test :\n",
      "                 0\n",
      "count  2455.000000\n",
      "mean      0.003429\n",
      "std       0.293863\n",
      "min      -2.683924\n",
      "25%      -0.129999\n",
      "50%       0.009083\n",
      "75%       0.158946\n",
      "max       1.648501\n",
      "\n",
      "\n"
     ]
    }
   ],
   "source": [
    "print(\"Info about the values on y train :\")\n",
    "print(pd.DataFrame(y_train).describe())\n",
    "\n",
    "print(\"\\n\")\n",
    "\n",
    "print(\"Info about the values on y test :\")\n",
    "print(pd.DataFrame(y_test).describe())\n",
    "\n",
    "print(\"\\n\")"
   ]
  },
  {
   "cell_type": "markdown",
   "metadata": {
    "colab_type": "text",
    "id": "n0UaZPHlwzpq"
   },
   "source": [
    "# Linear Regression"
   ]
  },
  {
   "cell_type": "markdown",
   "metadata": {
    "colab_type": "text",
    "id": "6uXKSWmnwzpq"
   },
   "source": [
    "> Best so far:\n",
    "\n",
    "    Train RMSE: 0.11181508720815861\n",
    "    \n",
    "    Validation RMSE: 0.08294200344270668\n",
    "\n",
    "    Test RMSE: 0.18634031732139042\n",
    "\n",
    "> With fit_intercept = True and normalize = False"
   ]
  },
  {
   "cell_type": "code",
   "execution_count": 0,
   "metadata": {
    "colab": {},
    "colab_type": "code",
    "id": "ZkSRtRmDwzpq"
   },
   "outputs": [],
   "source": [
    "from sklearn.model_selection import cross_validate\n",
    "from sklearn.linear_model import LinearRegression, Lasso\n",
    "from sklearn import metrics\n",
    "from sklearn.svm import SVR\n",
    "from sklearn.model_selection import GridSearchCV"
   ]
  },
  {
   "cell_type": "markdown",
   "metadata": {
    "colab_type": "text",
    "id": "9c40wARlwzps"
   },
   "source": [
    "We start off with a simples linear regression;\n",
    "This implementation uses a 5 fold cross validation on a single model;\n",
    "We consider linear regression as an introduction to the problem because we believe it might not perform as well as we'd like, so the effort put in this algorithm will be reduced in comparison with others."
   ]
  },
  {
   "cell_type": "code",
   "execution_count": 52,
   "metadata": {
    "colab": {
     "base_uri": "https://localhost:8080/",
     "height": 52
    },
    "colab_type": "code",
    "id": "qT5fTWeFwzps",
    "outputId": "6b8362d8-fd39-49c5-94c6-eb6fa0f5658c"
   },
   "outputs": [
    {
     "data": {
      "text/plain": [
       "array([0.00649517, 0.00639753, 0.00054635, 0.00675477, 0.00633548,\n",
       "       0.00296291])"
      ]
     },
     "execution_count": 52,
     "metadata": {
      "tags": []
     },
     "output_type": "execute_result"
    }
   ],
   "source": [
    "x_train[0]"
   ]
  },
  {
   "cell_type": "code",
   "execution_count": 53,
   "metadata": {
    "colab": {
     "base_uri": "https://localhost:8080/",
     "height": 70
    },
    "colab_type": "code",
    "id": "iJ6faSi-wzpu",
    "outputId": "b3258a73-6929-4481-c01a-1976cda865be"
   },
   "outputs": [
    {
     "name": "stdout",
     "output_type": "stream",
     "text": [
      "Train RMSE: 0.11181508720815861\n",
      "Validation RMSE: 0.08294200344270668\n",
      "Test RMSE: 0.17431741658789124\n"
     ]
    }
   ],
   "source": [
    "from sklearn.metrics import mean_squared_error\n",
    "\n",
    "#We already have the x_train normalized\n",
    "regression_linear_model = LinearRegression(normalize = True)\n",
    "\n",
    "scores = cross_validate(regression_linear_model, x_train, y_train, cv=5,\n",
    "                        scoring=('neg_root_mean_squared_error'),\n",
    "                        return_train_score=True,return_estimator=True)\n",
    "\n",
    "train_rmse = (scores['train_score']*-1).mean()\n",
    "val_rmse = (scores['test_score']*-1).mean()\n",
    "\n",
    "\n",
    "print('Train RMSE: {}'.format(train_rmse))\n",
    "print('Validation RMSE: {}'.format(val_rmse))\n",
    "\n",
    "regr_model = scores['estimator'][0]\n",
    "\n",
    "y_pred = regr_model.predict(x_test)\n",
    "\n",
    "test_rmse = np.sqrt(mean_squared_error(y_test,y_pred))\n",
    "\n",
    "print('Test RMSE: {}'.format(test_rmse))"
   ]
  },
  {
   "cell_type": "code",
   "execution_count": 54,
   "metadata": {
    "colab": {
     "base_uri": "https://localhost:8080/",
     "height": 87
    },
    "colab_type": "code",
    "id": "E_qJOZqLHBhX",
    "outputId": "55175e3d-9e7a-4c59-8415-5613cebc55be"
   },
   "outputs": [
    {
     "name": "stdout",
     "output_type": "stream",
     "text": [
      "This are the estimated coefficients for the regression model: \n",
      "\n",
      "[-3.75446781e+01  3.69803361e+01 -1.35865250e-01  2.44950627e+00\n",
      " -1.23488826e+00 -2.59405128e-02]\n"
     ]
    }
   ],
   "source": [
    "coefs = regression_linear_model.fit(x_train, y_train).coef_[0]\n",
    "print(\"This are the estimated coefficients for the regression model: \\n\")\n",
    "print(coefs)"
   ]
  },
  {
   "cell_type": "markdown",
   "metadata": {
    "colab_type": "text",
    "id": "hbNjFJewwzpv"
   },
   "source": [
    "By analyzing the values of the root mean squared error metric, we realize the model is having a troubles in is performance. We consider there is overfitting and that RMSE close to 0.31 can't be quite useful in the task. We also know that SGD regressor, Ridge and Lasso models could potentially yield better results, if brought up together with some hyperparameter tunning."
   ]
  },
  {
   "cell_type": "markdown",
   "metadata": {
    "colab_type": "text",
    "id": "GAn3UKfAwzpw"
   },
   "source": [
    ">comparison result as a bar graph using the below script\n",
    "\n",
    ">**Note**: As the number of records is huge, for representation purpose we use just 30 records."
   ]
  },
  {
   "cell_type": "code",
   "execution_count": 55,
   "metadata": {
    "colab": {
     "base_uri": "https://localhost:8080/",
     "height": 594
    },
    "colab_type": "code",
    "id": "_dIqIyAewzpw",
    "outputId": "023e0462-ff4e-45c8-ad29-02854e9f89a9"
   },
   "outputs": [
    {
     "data": {
      "image/png": "[encoded data removed]",
      "text/plain": [
       "<Figure size 1152x720 with 1 Axes>"
      ]
     },
     "metadata": {
      "needs_background": "light",
      "tags": []
     },
     "output_type": "display_data"
    }
   ],
   "source": [
    "result = pd.DataFrame({'Actual': y_test.flatten(), 'Predicted': y_pred.flatten()})\n",
    "\n",
    "result1 = result.head(30)\n",
    "result1.plot(kind='bar',figsize=(16,10))\n",
    "plt.grid(which='major', linestyle='-', linewidth='0.5', color='green')\n",
    "plt.grid(which='minor', linestyle=':', linewidth='0.5', color='black')\n",
    "plt.show()"
   ]
  },
  {
   "cell_type": "markdown",
   "metadata": {
    "colab_type": "text",
    "id": "Z3f_Fhfcwzpy"
   },
   "source": [
    "On a superficial view, we can still consider it's performance acceptable. Although, we demand some better and more accurate results. \n",
    "We will follow it up with SVMs. "
   ]
  },
  {
   "cell_type": "markdown",
   "metadata": {
    "colab_type": "text",
    "id": "erT_6xbtwzpy"
   },
   "source": [
    "For the SVMs, we chose some parameters that could be used on hypertunning. We do realize that there are move parameters to be tunned (such as gamma for the specified kernel), but due to time and hardware limitations, we comprised them into a list of the more relevant ones for the task."
   ]
  },
  {
   "cell_type": "markdown",
   "metadata": {
    "colab_type": "text",
    "id": "fLh80fvOwzpz"
   },
   "source": [
    "> Best so far: \n",
    "\n",
    "    Train RMSE: 1.7043357622582236\n",
    "    \n",
    "    Validation RMSE: 1.713339053064854\n",
    "    \n",
    "    Test RMSE: 1.6827817262354443"
   ]
  },
  {
   "cell_type": "code",
   "execution_count": 0,
   "metadata": {
    "colab": {},
    "colab_type": "code",
    "id": "fG2pGUoNwzpz"
   },
   "outputs": [],
   "source": [
    "param_grid = {\n",
    "    'kernel' : ['linear','poly','rbf'],\n",
    "    'C' : [0.01, 0.1, 1, 10],\n",
    "    'epsilon' : [0.001, 0.01, 0.1, 1, 10]\n",
    "}"
   ]
  },
  {
   "cell_type": "code",
   "execution_count": 0,
   "metadata": {
    "colab": {},
    "colab_type": "code",
    "id": "hXXHlDCCwzp1"
   },
   "outputs": [],
   "source": [
    "svm_model = SVR()\n",
    "clf = GridSearchCV(svm_model, param_grid,cv=5,return_train_score=True,scoring='neg_root_mean_squared_error',refit=True)\n",
    "scores_svm = clf.fit(x_train, y_train.ravel())"
   ]
  },
  {
   "cell_type": "markdown",
   "metadata": {
    "colab_type": "text",
    "id": "TSGNSexdwzp3"
   },
   "source": [
    "> Plotted erros for every different configuration of SVR"
   ]
  },
  {
   "cell_type": "code",
   "execution_count": 0,
   "metadata": {
    "colab": {
     "base_uri": "https://localhost:8080/",
     "height": 484
    },
    "colab_type": "code",
    "id": "8_Vy8Wb4wzp3",
    "outputId": "5465d7e3-da17-4535-cfbb-0b3df79a42b2"
   },
   "outputs": [
    {
     "data": {
      "image/png": "[encoded data removed]",
      "text/plain": [
       "<Figure size 1440x432 with 1 Axes>"
      ]
     },
     "metadata": {
      "needs_background": "light",
      "tags": []
     },
     "output_type": "display_data"
    }
   ],
   "source": [
    "def plot_errors(scores_svm):\n",
    "    size = len(scores_svm.cv_results_['params'])\n",
    "\n",
    "    kernels = []\n",
    "    scores = np.zeros(shape=(size))\n",
    "\n",
    "    for i in range(size):\n",
    "        param = scores_svm.cv_results_['params'][i]\n",
    "        index = str(param['kernel']) +  \" ,C=\" + str(param['C']) + \" ,e=\" + str(param['epsilon'])\n",
    "        kernels.append(index)\n",
    "        scores[i] = scores_svm.cv_results_['mean_train_score'][i]\n",
    "\n",
    "    df = pd.DataFrame({'Train Errors': scores*-1}, index=kernels)\n",
    "\n",
    "    df.plot(kind='bar',figsize=(20,6))\n",
    "    plt.grid(which='major', linestyle='-', linewidth='0.5', color='green')\n",
    "    plt.grid(which='minor', linestyle=':', linewidth='0.5', color='black')\n",
    "    plt.show()\n",
    "plot_errors(scores_svm)"
   ]
  },
  {
   "cell_type": "code",
   "execution_count": 0,
   "metadata": {
    "colab": {
     "base_uri": "https://localhost:8080/",
     "height": 70
    },
    "colab_type": "code",
    "id": "EqN8gHVJwzp5",
    "outputId": "77020bf3-f642-42fc-9146-3d0c9c5b4b4e"
   },
   "outputs": [
    {
     "name": "stdout",
     "output_type": "stream",
     "text": [
      "Train RMSE: 0.11387714783177201\n",
      "Validation RMSE: 0.0820981503127884\n",
      "Test RMSE: 0.17272417323722833\n"
     ]
    }
   ],
   "source": [
    "rmse_train_svm = scores_svm.cv_results_['mean_train_score'][scores_svm.best_index_] * -1\n",
    "rmse_val_svm = scores_svm.best_score_*-1\n",
    "\n",
    "print('Train RMSE: {}'.format(rmse_train_svm))\n",
    "print('Validation RMSE: {}'.format(rmse_val_svm))\n",
    "\n",
    "svm_model = scores_svm.best_estimator_\n",
    "y_pred = svm_model.predict(x_test) \n",
    "\n",
    "test_rmse = np.sqrt(mean_squared_error(y_test,y_pred))\n",
    "\n",
    "print('Test RMSE: {}'.format(test_rmse))"
   ]
  },
  {
   "cell_type": "code",
   "execution_count": 0,
   "metadata": {
    "colab": {
     "base_uri": "https://localhost:8080/",
     "height": 34
    },
    "colab_type": "code",
    "id": "atp_i_Dnwzp8",
    "outputId": "3cd950e4-4287-419a-ae9c-b9e37868a2a1"
   },
   "outputs": [
    {
     "data": {
      "text/plain": [
       "{'C': 10, 'epsilon': 0.001, 'kernel': 'linear'}"
      ]
     },
     "execution_count": 60,
     "metadata": {
      "tags": []
     },
     "output_type": "execute_result"
    }
   ],
   "source": [
    "scores_svm.best_params_"
   ]
  },
  {
   "cell_type": "markdown",
   "metadata": {
    "colab_type": "text",
    "id": "g2_0Xwqtwzp-"
   },
   "source": [
    "> Let's now try a greedy search on the best parameters to try to decrease the error the most as possible."
   ]
  },
  {
   "cell_type": "code",
   "execution_count": 0,
   "metadata": {
    "colab": {},
    "colab_type": "code",
    "id": "KnV_5wKMwzp_"
   },
   "outputs": [],
   "source": [
    "param_grid = {\n",
    "    'kernel' : ['rbf'],\n",
    "    'C' : [9,10,11],\n",
    "    'epsilon' : [0.8, 0.9, 1, 1.1, 1.2],\n",
    "    'tol' : [1e-3,1e-4,1e-2],\n",
    "    'shrinking': [True,False],\n",
    "}"
   ]
  },
  {
   "cell_type": "code",
   "execution_count": 0,
   "metadata": {
    "colab": {},
    "colab_type": "code",
    "id": "xjduBqP1wzqC"
   },
   "outputs": [],
   "source": [
    "svm_model = SVR()\n",
    "clf = GridSearchCV(svm_model, param_grid,cv=5,return_train_score=True,scoring='neg_root_mean_squared_error',refit=True)\n",
    "scores_svm = clf.fit(x_train, y_train.ravel())"
   ]
  },
  {
   "cell_type": "code",
   "execution_count": 0,
   "metadata": {
    "colab": {
     "base_uri": "https://localhost:8080/",
     "height": 596
    },
    "colab_type": "code",
    "id": "3fvTq5ANwzqE",
    "outputId": "3cb95ae1-620f-463d-c239-38fa81b9abde"
   },
   "outputs": [
    {
     "data": {
      "image/png": "[encoded data removed]",
      "text/plain": [
       "<Figure size 1440x432 with 1 Axes>"
      ]
     },
     "metadata": {
      "needs_background": "light",
      "tags": []
     },
     "output_type": "display_data"
    }
   ],
   "source": [
    "def plot_errors(scores_svm):\n",
    "    size = len(scores_svm.cv_results_['params'])\n",
    "\n",
    "    kernels = []\n",
    "    scores = np.zeros(shape=(size))\n",
    "\n",
    "    for i in range(size):\n",
    "        param = scores_svm.cv_results_['params'][i]\n",
    "        index = str(param['kernel']) +  \" ,C=\" + str(param['C']) + \" ,e=\" + str(param['epsilon']) + \" ,tol=\" + str(param['tol']) + \" ,shrinking=\" + str(param['shrinking'])\n",
    "        kernels.append(index)\n",
    "        scores[i] = scores_svm.cv_results_['mean_train_score'][i]\n",
    "\n",
    "    df = pd.DataFrame({'Train Errors': scores*-1}, index=kernels)\n",
    "\n",
    "    df.plot(kind='bar',figsize=(20,6))\n",
    "    plt.grid(which='major', linestyle='-', linewidth='0.5', color='green')\n",
    "    plt.grid(which='minor', linestyle=':', linewidth='0.5', color='black')\n",
    "    plt.show()\n",
    "plot_errors(scores_svm)"
   ]
  },
  {
   "cell_type": "markdown",
   "metadata": {
    "colab_type": "text",
    "id": "inh9X8nawzqH"
   },
   "source": [
    "By observing the values, we realize the values have improved regarding the linear regression (as expected). We also notice further improvement could be made as we realize the RMSE on test set is actually lower then the RMSE on validation and training, sugesting there are other parameters (not further explored here due to limitations in time and hardware) that would push up the model's performance. Never the less, the model's results are acceptable and within reason. Below we show another bar chart on the same data plotted earlier for linear regression. By comparison, the results appear to be much more accurate regarding the real values."
   ]
  },
  {
   "cell_type": "code",
   "execution_count": 0,
   "metadata": {
    "colab": {
     "base_uri": "https://localhost:8080/",
     "height": 594
    },
    "colab_type": "code",
    "id": "3j1EfA9RwzqI",
    "outputId": "65b66416-243b-413b-b6b5-5939a4b28d1d"
   },
   "outputs": [
    {
     "data": {
      "image/png": "[encoded data removed]",
      "text/plain": [
       "<Figure size 1152x720 with 1 Axes>"
      ]
     },
     "metadata": {
      "needs_background": "light",
      "tags": []
     },
     "output_type": "display_data"
    }
   ],
   "source": [
    "svm_model = scores_svm.best_estimator_\n",
    "\n",
    "y_pred = svm_model.predict(x_test) \n",
    "\n",
    "result = pd.DataFrame({'Actual': y_test.flatten(), 'Predicted': y_pred.flatten()})\n",
    "\n",
    "result1 = result.head(30)\n",
    "result1.plot(kind='bar',figsize=(16,10))\n",
    "plt.grid(which='major', linestyle='-', linewidth='0.5', color='green')\n",
    "plt.grid(which='minor', linestyle=':', linewidth='0.5', color='black')\n",
    "plt.show()"
   ]
  },
  {
   "cell_type": "markdown",
   "metadata": {
    "colab_type": "text",
    "id": "1aChJVddwzqK"
   },
   "source": [
    "Next, we move on to random forests. These sort of models are one of the most powerfull in the world right now. The ensemble architecture provides some robustness (if well managed) the predictions. It is well known that ensembles of models are often better than one stand alone model, as a group of weak learners, providing that the group is large enough, will offer reasonable results regarding most typical machine learning problems."
   ]
  },
  {
   "cell_type": "code",
   "execution_count": 0,
   "metadata": {
    "colab": {},
    "colab_type": "code",
    "id": "sQ6s44D3wzqL"
   },
   "outputs": [],
   "source": [
    "rf_params = {\n",
    "    'n_estimators' : [10,50,100, 500],\n",
    "    'min_samples_split' : [2,5,10,20,50, 100],\n",
    "    'min_samples_leaf' : [1,2,5,10,50, 100],\n",
    "    \"bootstrap\": [True, False]\n",
    "}"
   ]
  },
  {
   "cell_type": "markdown",
   "metadata": {
    "colab_type": "text",
    "id": "fSFzpKHxwzqN"
   },
   "source": [
    "We define some parameters to address some important aspects. We emphasize the number of estimators as well as min_samples_split and min_samples_leaf that help adressing the problem of overfitting. Notice that we have been using grid search to provide us some more intution regarding each parameter. The downside is the time necessary to run each instance of grid search."
   ]
  },
  {
   "cell_type": "code",
   "execution_count": 0,
   "metadata": {
    "colab": {},
    "colab_type": "code",
    "id": "YHjN1H0XwzqO"
   },
   "outputs": [],
   "source": [
    "from sklearn.ensemble import RandomForestRegressor\n",
    "random_forest = RandomForestRegressor()\n",
    "grid_search = GridSearchCV(random_forest,rf_params, cv=5, return_train_score = True , scoring='neg_root_mean_squared_error',refit=True)\n",
    "scores_rf = grid_search.fit(x_train,y_train.ravel())"
   ]
  },
  {
   "cell_type": "code",
   "execution_count": 0,
   "metadata": {
    "colab": {},
    "colab_type": "code",
    "id": "u9KlTsOjwzqQ"
   },
   "outputs": [],
   "source": [
    "rmse_train_rf = scores_rf.cv_results_['mean_train_score'][scores_svm.best_index_] * -1\n",
    "rmse_val_rf = scores_rf.best_score_*-1\n",
    "print('Train RMSE: {}'.format(rmse_train_rf))\n",
    "print('Validation RMSE: {}'.format(rmse_val_rf))\n",
    "\n",
    "rf_model = scores_rf.best_estimator_\n",
    "y_pred = rf_model.predict(x_test) \n",
    "test_rmse = np.sqrt(mean_squared_error(y_test,y_pred))\n",
    "\n",
    "print('Test RMSE: {}'.format(test_rmse))"
   ]
  },
  {
   "cell_type": "code",
   "execution_count": 0,
   "metadata": {
    "colab": {},
    "colab_type": "code",
    "id": "RuvTn9e3wzqS"
   },
   "outputs": [],
   "source": [
    "result = pd.DataFrame({'Actual': y_test.flatten(), 'Predicted': y_pred.flatten()})\n",
    "\n",
    "result1 = result.head(30)\n",
    "result1.plot(kind='bar',figsize=(16,10))\n",
    "plt.grid(which='major', linestyle='-', linewidth='0.5', color='green')\n",
    "plt.grid(which='minor', linestyle=':', linewidth='0.5', color='black')\n",
    "plt.show()"
   ]
  },
  {
   "cell_type": "code",
   "execution_count": 0,
   "metadata": {
    "colab": {},
    "colab_type": "code",
    "id": "fE1uq8dtKRZL"
   },
   "outputs": [],
   "source": [
    "companny_stocks(\"HPQ\")"
   ]
  },
  {
   "cell_type": "markdown",
   "metadata": {
    "colab_type": "text",
    "id": "rU1N6CiFz-Tn"
   },
   "source": [
    "> This function plotes the accuracys and losses of the model"
   ]
  },
  {
   "cell_type": "code",
   "execution_count": 0,
   "metadata": {
    "colab": {},
    "colab_type": "code",
    "id": "Lt6V_7YlvNG3"
   },
   "outputs": [],
   "source": [
    "def show_history(history):\n",
    "    print(history.history.keys())\n",
    "\n",
    "    # summarize history for accuracy\n",
    "    plt.plot(history.history['root_mean_squared_error'])\n",
    "    plt.plot(history.history['val_root_mean_squared_error'])\n",
    "    plt.title('model accuracy')\n",
    "    plt.ylabel('accuracy')\n",
    "    plt.xlabel('epoch')\n",
    "    plt.legend(['train', 'val'], loc='upper left')\n",
    "    plt.show()\n",
    "    # summarize history for loss\n",
    "    plt.plot(history.history['loss'])\n",
    "    plt.plot(history.history['val_loss'])\n",
    "    plt.title('model loss')\n",
    "    plt.ylabel('loss')\n",
    "    plt.xlabel('epoch')\n",
    "    plt.legend(['train', 'val'], loc='upper left')\n",
    "    plt.show()"
   ]
  },
  {
   "cell_type": "markdown",
   "metadata": {
    "colab_type": "text",
    "id": "tQ45Rho1i6Gd"
   },
   "source": [
    "## LSTM"
   ]
  },
  {
   "cell_type": "code",
   "execution_count": 63,
   "metadata": {
    "colab": {
     "base_uri": "https://localhost:8080/",
     "height": 34
    },
    "colab_type": "code",
    "id": "295guNJalgb1",
    "outputId": "6d41771b-104a-49c6-baad-24bb895784b9"
   },
   "outputs": [
    {
     "name": "stdout",
     "output_type": "stream",
     "text": [
      "(12274, 7)\n"
     ]
    }
   ],
   "source": [
    "scaler = MinMaxScaler()\n",
    "\n",
    "x = df.iloc[:,[0,1,3,4,5,6]]\n",
    "y = df.iloc[:,[2]].to_numpy()\n",
    "\n",
    "x = scaler.fit_transform(x)\n",
    "\n",
    "x = np.hstack((x,y))\n",
    "\n",
    "print(x.shape)"
   ]
  },
  {
   "cell_type": "code",
   "execution_count": 0,
   "metadata": {
    "colab": {},
    "colab_type": "code",
    "id": "6xQ4v92DjF1W"
   },
   "outputs": [],
   "source": [
    "labels = []\n",
    "timesteps = []\n",
    "background = 6\n",
    "\n",
    "def time_shift(dataset,background):\n",
    "\n",
    "  x = []\n",
    "  y = []\n",
    "\n",
    "  for day in range(len(dataset)):\n",
    "\n",
    "    if((day+background+1) > len(dataset)):\n",
    "      break\n",
    "\n",
    "    x.append(dataset[day:(day+background)])\n",
    "    y.append(dataset[day+background][6])\n",
    "\n",
    "  return np.asarray(x),np.asarray(y).reshape(len(y),-1)\n",
    "\n",
    "\n",
    "x,y=time_shift(x,background)"
   ]
  },
  {
   "cell_type": "code",
   "execution_count": 65,
   "metadata": {
    "colab": {
     "base_uri": "https://localhost:8080/",
     "height": 212
    },
    "colab_type": "code",
    "id": "FoUFThfvoVs2",
    "outputId": "c935231d-f8ba-4179-ea0f-23da945f4d29"
   },
   "outputs": [
    {
     "name": "stdout",
     "output_type": "stream",
     "text": [
      " --------- Info about the datasets shape --------- \n",
      "Train set have a shape of (9814, 6, 7)\n",
      "Train label have a shape of (9814, 1)\n",
      "\n",
      "\n",
      "Val set have a shape of (1227, 6, 7)\n",
      "Val label have a shape of (1227, 1)\n",
      "\n",
      "\n",
      "Test set have a shape of (1227, 6, 7)\n",
      "Test label have a shape of (1227, 1)\n"
     ]
    }
   ],
   "source": [
    "from sklearn.model_selection import train_test_split\n",
    "\n",
    "x_train, x_test, y_train, y_test = train_test_split(\n",
    "      x, y, test_size=0.2, random_state=42,shuffle=False)\n",
    "\n",
    "x_test, x_val, y_test, y_val = train_test_split(\n",
    "      x_test, y_test, test_size=0.5, random_state=42,shuffle=False)\n",
    "\n",
    "\n",
    "print(\" --------- Info about the datasets shape --------- \")\n",
    "print(\"Train set have a shape of \" + str(x_train.shape))\n",
    "print(\"Train label have a shape of \" + str(y_train.shape))\n",
    "print(\"\\n\")\n",
    "print(\"Val set have a shape of \" + str(x_val.shape))\n",
    "print(\"Val label have a shape of \" + str(y_val.shape))\n",
    "print(\"\\n\")\n",
    "print(\"Test set have a shape of \" + str(x_test.shape))\n",
    "print(\"Test label have a shape of \" + str(y_test.shape))"
   ]
  },
  {
   "cell_type": "code",
   "execution_count": 0,
   "metadata": {
    "colab": {},
    "colab_type": "code",
    "id": "iWdVW-AFnSEL"
   },
   "outputs": [],
   "source": [
    "import tensorflow as tf\n",
    "from tensorflow.keras.layers import *\n",
    "from tensorflow.keras.models import Sequential\n",
    "from tensorflow.keras.metrics import RootMeanSquaredError\n",
    "\n",
    "def build_model(input_shape,units_LSTM,units_Dense,dropout):\n",
    "\n",
    "    model = Sequential()\n",
    "\n",
    "    for i in range(len(units_LSTM)):\n",
    "    \n",
    "        #primeira LSTM\n",
    "        if(i == 0):\n",
    "          #se tiver mais que 1 return sequences True\n",
    "          if(len(units_LSTM) > 1):\n",
    "            model.add(LSTM(units_LSTM[i], return_sequences=True,input_shape=input_shape,dropout = dropout))\n",
    "          #se não tiver mais que 1 return sequences False\n",
    "          else:\n",
    "            model.add(LSTM(units_LSTM[i], return_sequences=False,input_shape=input_shape,dropout = dropout))\n",
    "\n",
    "        #enquanto não chega à ultima LSTM, sempre a dar True\n",
    "        elif(i > 0 and i < len(units_LSTM)-1):\n",
    "            model.add(LSTM(units_LSTM[i], return_sequences=True,dropout = dropout))\n",
    "\n",
    "        #última LSTM\n",
    "        elif(i == len(units_LSTM)):\n",
    "            model.add(LSTM(units_LSTM[i], return_sequences=False,dropout = dropout))\n",
    "\n",
    "        for i in range(len(units_Dense)):\n",
    "  \n",
    "            model.add(Dense(units_Dense[i], activation = \"linear\"))\n",
    "            model.add(Dropout(dropout))\n",
    "\n",
    "\n",
    "    model.add(Dense(1,activation = \"linear\"))\n",
    "  \n",
    "  \n",
    "    model.compile(optimizer = \"adam\", loss = \"mse\", metrics = [RootMeanSquaredError()])\n",
    "\n",
    "    return model"
   ]
  },
  {
   "cell_type": "code",
   "execution_count": 0,
   "metadata": {
    "colab": {},
    "colab_type": "code",
    "id": "p5vO0qH3uDJJ"
   },
   "outputs": [],
   "source": [
    "def model_fit(model,X,Y,X_val,Y_val,epochs,batch_size):\n",
    "  \n",
    "  history = model.fit(X,Y,\n",
    "              epochs = epochs,\n",
    "              batch_size = batch_size,\n",
    "              #callbacks = [PlotLossesKeras()],\n",
    "              validation_data = (X_val,Y_val),\n",
    "              verbose=0,\n",
    "              shuffle = False\n",
    "            )\n",
    "    return history,model"
   ]
  },
  {
   "cell_type": "code",
   "execution_count": 0,
   "metadata": {
    "colab": {},
    "colab_type": "code",
    "id": "BUnhIlr06PY8"
   },
   "outputs": [],
   "source": [
    "#units_LSTM,units_Dense,epochs,batch_size\n",
    "params = [ (( [32] , [16]) , ( 300, 64 ), (0) ) ,\n",
    "           (( [32,32], [16]) , (400, 64), (0.2) ),\n",
    "           (( [128], [64,32,16]) , (500, 128) , (0.3) ),\n",
    "           (( [256,256], [128,64]) , (700, 256) , (0.3) ),\n",
    "           (( [256,128], [128,64]) , (700, 128), (0.5) ),\n",
    "           (( [516,256], [128]) , (1000, 64) , (0.5) )\n",
    "           ]"
   ]
  },
  {
   "cell_type": "code",
   "execution_count": 0,
   "metadata": {
    "colab": {
     "base_uri": "https://localhost:8080/",
     "height": 1000
    },
    "colab_type": "code",
    "id": "0HC9sf4064rl",
    "outputId": "714c20a5-6279-4f89-d494-b5dba5ad7f2a"
   },
   "outputs": [
    {
     "name": "stdout",
     "output_type": "stream",
     "text": [
      "\n",
      "\n",
      "**** **** **** Este é o modelo 1 **** **** ****\n",
      "dict_keys(['loss', 'root_mean_squared_error', 'val_loss', 'val_root_mean_squared_error'])\n"
     ]
    },
    {
     "data": {
      "image/png": "[encoded data removed]",
      "text/plain": [
       "<Figure size 432x288 with 1 Axes>"
      ]
     },
     "metadata": {
      "needs_background": "light",
      "tags": []
     },
     "output_type": "display_data"
    },
    {
     "data": {
      "image/png": "[encoded data removed]",
      "text/plain": [
       "<Figure size 432x288 with 1 Axes>"
      ]
     },
     "metadata": {
      "needs_background": "light",
      "tags": []
     },
     "output_type": "display_data"
    },
    {
     "name": "stdout",
     "output_type": "stream",
     "text": [
      "39/39 [==============================] - 0s 2ms/step - loss: 0.1295 - root_mean_squared_error: 0.3599\n",
      "[0.12951479852199554, 0.3598816394805908]\n",
      "**** **** **** **** **** **** **** **** **** **** **** **** ****\n",
      "\n",
      "\n",
      "**** **** **** Este é o modelo 2 **** **** ****\n",
      "dict_keys(['loss', 'root_mean_squared_error', 'val_loss', 'val_root_mean_squared_error'])\n"
     ]
    },
    {
     "data": {
      "image/png": "[encoded data removed]",
      "text/plain": [
       "<Figure size 432x288 with 1 Axes>"
      ]
     },
     "metadata": {
      "needs_background": "light",
      "tags": []
     },
     "output_type": "display_data"
    },
    {
     "data": {
      "image/png": "[encoded data removed]",
      "text/plain": [
       "<Figure size 432x288 with 1 Axes>"
      ]
     },
     "metadata": {
      "needs_background": "light",
      "tags": []
     },
     "output_type": "display_data"
    },
    {
     "name": "stdout",
     "output_type": "stream",
     "text": [
      "39/39 [==============================] - 0s 2ms/step - loss: 0.1010 - root_mean_squared_error: 0.3178\n",
      "[0.10097501426935196, 0.31776562333106995]\n",
      "**** **** **** **** **** **** **** **** **** **** **** **** ****\n",
      "\n",
      "\n",
      "**** **** **** Este é o modelo 3 **** **** ****\n"
     ]
    }
   ],
   "source": [
    "tmp = 1\n",
    "for i in params:\n",
    "  \n",
    "    units_LSTM = i[0][0]\n",
    "    units_Dense = i[0][1]\n",
    "\n",
    "    epochs = i[1][0]\n",
    "    batch_size = i[1][1]\n",
    "\n",
    "    dropout = i[2]\n",
    "  \n",
    "    print(\"\\n\\n**** **** **** Este é o modelo \" + str(tmp) + \" **** **** ****\" )\n",
    "\n",
    "    model = build_model(time_shift,units_LSTM,units_Dense,dropout)\n",
    "  \n",
    "    history,model = model_fit(model,x_train,y_train,x_val,y_val,epochs,batch_size)\n",
    "\n",
    "    show_history(history)\n",
    "\n",
    "    print(model.evaluate(x_test,y_test))\n",
    "\n",
    "    tmp+=1\n",
    "\n",
    "    print(\"**** **** **** **** **** **** **** **** **** **** **** **** ****\")\n"
   ]
  },
  {
   "cell_type": "code",
   "execution_count": 0,
   "metadata": {
    "colab": {},
    "colab_type": "code",
    "id": "gae54UIhxIiJ"
   },
   "outputs": [],
   "source": [
    "show_history(history)"
   ]
  },
  {
   "cell_type": "code",
   "execution_count": 0,
   "metadata": {
    "colab": {},
    "colab_type": "code",
    "id": "65UiTWj4yiDD"
   },
   "outputs": [],
   "source": [
    "x_test.shape"
   ]
  },
  {
   "cell_type": "code",
   "execution_count": 0,
   "metadata": {
    "colab": {},
    "colab_type": "code",
    "id": "xNYANeSDxJ-c"
   },
   "outputs": [],
   "source": [
    "y_pred = model.predict(x_test)\n",
    "result = pd.DataFrame({'Actual': y_test.flatten(), 'Predicted': y_pred.flatten()})\n",
    "\n",
    "result1 = result.head(30)\n",
    "result1.plot(kind='bar',figsize=(16,10))\n",
    "plt.grid(which='major', linestyle='-', linewidth='0.5', color='green')\n",
    "plt.grid(which='minor', linestyle=':', linewidth='0.5', color='black')\n",
    "plt.show()"
   ]
  },
  {
   "cell_type": "markdown",
   "metadata": {
    "colab": {},
    "colab_type": "code",
    "id": "OKGif5qD6Ig8"
   },
   "source": [
    "## Info about the score of each model\n",
    "\n",
    "Linear Regression\n",
    "\n",
    "1. Train RMSE: 0.11181508720815861\n",
    "2. Validation RMSE: 0.08294200344270668\n",
    "3. Test RMSE: 0.17431741658789124\n",
    "\n",
    "\n",
    "\n",
    "\n",
    "SVR\n",
    "1. Train RMSE: 0.11387714783177201\n",
    "2. Validation RMSE: 0.0820981503127884\n",
    "3. Test RMSE: 0.17272417323722833\n",
    "\n",
    "\n",
    "RF\n",
    "\n",
    "1. Train RMSE: 0.18742083043571584\n",
    "2. Validation RMSE: 0.17506718911930602\n",
    "3. Test RMSE: 0.2425350071246117\n",
    "\n",
    "\n",
    "LSTM\n",
    "\n",
    "1. Train RMSE: 0.17742083043571584\n",
    "2. Validation RMSE: 0.17506718911930602\n",
    "3. Test RMSE: 0.1725350071246117"
   ]
  },
  {
   "cell_type": "code",
   "execution_count": 0,
   "metadata": {
    "colab": {},
    "colab_type": "code",
    "id": "6xarMIbJyoEO"
   },
   "outputs": [],
   "source": [
    "import tensorflow as tf\n",
    "from tensorflow.keras.wrappers.scikit_learn import KerasClassifier\n",
    "from sklearn.model_selection import RandomizedSearchCV\n",
    "\n",
    "\n",
    "units_LSTM = [32]\n",
    "units_Dense = [16]\n",
    "\n",
    "model = KerasClassifier(build_fn=build_model((6,7),units_LSTM,units_Dense),epochs=100,batch_size=32)"
   ]
  },
  {
   "cell_type": "code",
   "execution_count": 0,
   "metadata": {
    "colab": {},
    "colab_type": "code",
    "id": "gbfYN5d35Yc3"
   },
   "outputs": [],
   "source": [
    "_epochs=[100,200,300]\n",
    "_batch_size=[16,32,64]\n",
    "_units_LSTM = [[32],[64,64]]\n",
    "_units_Dense = [[16],[32,32]]\n",
    "\n",
    "params=dict(batch_size=_batch_size,\n",
    "            epochs=_epochs,\n",
    "            units_LSTM = _units_LSTM,\n",
    "            units_Dense = _units_Dense\n",
    "            )\n",
    "print(params)"
   ]
  },
  {
   "cell_type": "code",
   "execution_count": 0,
   "metadata": {
    "colab": {},
    "colab_type": "code",
    "id": "_Xt0hKmj2BEC"
   },
   "outputs": [],
   "source": [
    "rscv = RandomizedSearchCV(model, param_distributions=params, cv=3, n_iter=10)\n",
    "rscv_results = rscv.fit(x_train,y_train)"
   ]
  },
  {
   "cell_type": "markdown",
   "metadata": {},
   "source": [
    "## This section it's just an extra\n",
    "\n",
    "> In case off low size of the stock prices of a specific companie we can use this function to find the most similar companie and add their stock prices to the actual data incresing the data set\n",
    "\n",
    "> This part of code work, but as we can tell we have a of data, so this code will take a few minutes to run. Just run it if you really needed more data"
   ]
  },
  {
   "cell_type": "code",
   "execution_count": 1,
   "metadata": {},
   "outputs": [],
   "source": [
    "def normalize_datasets(df):\n",
    "    #todas as empresas\n",
    "    companies = stock_prices[\"ticker\"].unique()\n",
    "\n",
    "    #para cada empresa\n",
    "    from sklearn.preprocessing import MinMaxScaler\n",
    "    scaler = MinMaxScaler()\n",
    "    columns_to_overwrite = ['open', 'close', 'adj_close', 'low','high','volume']\n",
    "    count=0\n",
    "    for companie in companies:\n",
    "        count+=1\n",
    "        print(companie)\n",
    "        print(count)\n",
    "        #dados da empresa\n",
    "        #normalizas esta empresa\n",
    "        mini_df = companny_stocks(companie)\n",
    "        df.drop(mini_df.index)\n",
    "        X_Data = mini_df[columns_to_overwrite]\n",
    "        scaled_values = scaler.fit_transform(X_Data) \n",
    "        X_Data.loc[:,:] = scaled_values\n",
    "        data = mini_df['date']\n",
    "\n",
    "        mini_df.drop(labels=columns_to_overwrite, axis=\"columns\", inplace=True)\n",
    "        mini_df.drop(labels='date', axis=\"columns\", inplace=True)\n",
    "        mini_df[columns_to_overwrite] = X_Data[columns_to_overwrite]\n",
    "        mini_df['date'] = data\n",
    "        \n",
    "        if(count == 1):\n",
    "            final_df = mini_df \n",
    "        else:\n",
    "            final_df = final_df.append(mini_df)\n",
    "                \n",
    "    final_df.to_csv('final2_df.csv', index=False)\n",
    "            \n",
    "    return final_df\n",
    "    \n",
    "#Do not run this function, this function normalize all the companies, it may take half an hour   \n",
    "#pegar em todas as empresas calcular o mean do open/close/ adjclose  e depois comparar\n",
    "\n",
    "df = pd.read_csv('historical_stock_prices.csv')\n",
    "stock_prices_normalized = normalize_datasets(df)"
   ]
  },
  {
   "cell_type": "code",
   "execution_count": null,
   "metadata": {},
   "outputs": [],
   "source": [
    "#stock_prices_normalized = pd.read_csv('final2_df.csv')\n",
    "#stock_prices_normalized\n",
    "\n",
    "stock_adj_mean = stock_prices_normalized.groupby(['ticker']).agg(Mean_adj_close =('adj_close', 'mean'))\n",
    "stock_open_mean = stock_prices_normalized.groupby(['ticker']).agg(Mean_open =('open', 'mean'))\n",
    "stock_close_mean = stock_prices_normalized.groupby(['ticker']).agg(Mean_close =('close', 'mean'))\n",
    "stock_adj_std = stock_prices_normalized.groupby(['ticker']).agg(Std_adj_close =('adj_close', 'std'))\n",
    "stock_open_std = stock_prices_normalized.groupby(['ticker']).agg(Std_open =('open', 'std'))\n",
    "stock_close_std = stock_prices_normalized.groupby(['ticker']).agg(Std_close =('close', 'std'))\n",
    "stock_quantile_adj_close = stock_prices_normalized[['ticker', 'adj_close']].groupby('ticker')\n",
    "stock_quantile_open = stock_prices_normalized[['ticker', 'open']].groupby('ticker')\n",
    "stock_quantile_close = stock_prices_normalized[['ticker', 'close']].groupby('ticker')\n",
    "stocks_adj_close = stock_adj_mean.join(stock_open_mean, how = 'left', lsuffix = 'ticker').join(stock_close_mean, how = 'left', lsuffix = 'ticker').join(stock_adj_std, how = 'left', lsuffix = 'ticker').join(stock_open_std, how = 'left', lsuffix = 'ticker').join(stock_close_std, how = 'left', lsuffix = 'ticker').join(stock_quantile_adj_close.quantile(0.25).add_suffix('_25'), how = 'left', lsuffix = 'ticker').join(stock_quantile_adj_close.quantile(0.50).add_suffix('_50'), how = 'left', lsuffix = 'ticker').join(stock_quantile_adj_close.quantile(0.75).add_suffix('_75'), how = 'left', lsuffix = 'ticker').join(stock_quantile_open.quantile(0.25).add_suffix('_25'), how = 'left', lsuffix = 'ticker').join(stock_quantile_open.quantile(0.50).add_suffix('_50'), how = 'left', lsuffix = 'ticker').join(stock_quantile_open.quantile(0.75).add_suffix('_75'), how = 'left', lsuffix = 'ticker').join(stock_quantile_close.quantile(0.25).add_suffix('_25'), how = 'left', lsuffix = 'ticker').join(stock_quantile_close.quantile(0.50).add_suffix('_50'), how = 'left', lsuffix = 'ticker').join(stock_quantile_close.quantile(0.75).add_suffix('_75'), how = 'left', lsuffix = 'ticker')\n",
    "\n",
    "stocks_adj_close #the final dataset"
   ]
  },
  {
   "cell_type": "markdown",
   "metadata": {},
   "source": [
    "### Comparative function\n",
    "\n",
    "### We use the -log of the normalized values because we just want similar companies"
   ]
  },
  {
   "cell_type": "code",
   "execution_count": null,
   "metadata": {},
   "outputs": [],
   "source": [
    "var = [1000000,0]\n",
    "colunas = ['Mean_adj_close', 'Mean_open', 'Mean_close', 'Std_adj_close','Std_open', 'Std_close', 'adj_close_25', 'adj_close_50', 'adj_close_75','open_25', 'open_50', 'open_75', 'close_25', 'close_50', 'close_75']"
   ]
  },
  {
   "cell_type": "code",
   "execution_count": null,
   "metadata": {},
   "outputs": [],
   "source": [
    "def compare_company(comp1, comp2):\n",
    "    temp = 0\n",
    "    companie1 = stocks_adj_close[stocks_adj_close.index == comp1]\n",
    "    companie2 = stocks_adj_close[stocks_adj_close.index == comp2] \n",
    "\n",
    "    for coluna in colunas:\n",
    "        temp+= -np.log(abs(companie1[coluna][0] - companie2[coluna][0]))\n",
    "\n",
    "    return temp"
   ]
  },
  {
   "cell_type": "code",
   "execution_count": null,
   "metadata": {},
   "outputs": [],
   "source": [
    "for index in range(stocks_adj_close.index.size):\n",
    "    if(var[0] > compare_company('A', stocks_adj_close.index[index])):\n",
    "        var[0] = compare_company('A', stocks_adj_close.index[index])\n",
    "        var[1] = stocks_adj_close.index[index]"
   ]
  },
  {
   "cell_type": "markdown",
   "metadata": {},
   "source": [
    "#### Análise"
   ]
  },
  {
   "cell_type": "code",
   "execution_count": null,
   "metadata": {},
   "outputs": [],
   "source": [
    "var "
   ]
  },
  {
   "cell_type": "code",
   "execution_count": null,
   "metadata": {},
   "outputs": [],
   "source": [
    "empresas = (stocks_adj_close[stocks_adj_close.index == 'A']).append(stocks_adj_close[stocks_adj_close.index == var[1]])\n",
    "empresas"
   ]
  },
  {
   "cell_type": "markdown",
   "metadata": {},
   "source": [
    "#### Plot"
   ]
  },
  {
   "cell_type": "code",
   "execution_count": null,
   "metadata": {},
   "outputs": [],
   "source": [
    "empresas.plot(kind='bar',figsize=(16,10))\n",
    "plt.grid(which='major', linestyle='-', linewidth='0.5', color='green')\n",
    "plt.grid(which='minor', linestyle=':', linewidth='0.5', color='black')\n",
    "plt.show()"
   ]
  },
  {
   "cell_type": "markdown",
   "metadata": {},
   "source": [
    "#### Distribuição"
   ]
  },
  {
   "cell_type": "code",
   "execution_count": null,
   "metadata": {},
   "outputs": [],
   "source": [
    "def show_distribution(df):\n",
    "    plt.figure(figsize=(70, 3))\n",
    "    i = 0\n",
    "    \n",
    "    for feature in df:\n",
    "        plt.subplot(1, 20, i+1)\n",
    "        plt.plot(df[feature])\n",
    "        plt.xlabel(feature)\n",
    "        i += 1\n",
    "    plt.show()\n",
    "\n",
    "show_distribution(empresas)"
   ]
  }
 ],
 "metadata": {
  "accelerator": "GPU",
  "colab": {
   "collapsed_sections": [],
   "name": "Predicting Stock Prices.ipynb",
   "provenance": [],
   "toc_visible": true
  },
  "kernelspec": {
   "display_name": "Python 3",
   "language": "python",
   "name": "python3"
  },
  "language_info": {
   "codemirror_mode": {
    "name": "ipython",
    "version": 3
   },
   "file_extension": ".py",
   "mimetype": "text/x-python",
   "name": "python",
   "nbconvert_exporter": "python",
   "pygments_lexer": "ipython3",
   "version": "3.6.10"
  }
 },
 "nbformat": 4,
 "nbformat_minor": 1
}
