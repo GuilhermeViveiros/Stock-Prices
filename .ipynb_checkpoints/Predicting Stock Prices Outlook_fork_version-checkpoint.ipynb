{
 "cells": [
  {
   "cell_type": "markdown",
   "metadata": {},
   "source": [
    "## This notebook was made too predict sotck prices with traditional machine learning algorithms and deep learning\n",
    "\n",
    "### To run this notebook ensure that you have already the dataset provided by kaggle -> daily-historical-stock-prices-1970-2018\n",
    "\n",
    "> ensure thatyou have the folder : \n",
    "1. /kaggle/input/daily-historical-stock-prices-1970-2018/historical_stock_prices.csv\n",
    "2. /kaggle/input/daily-historical-stock-prices-1970-2018/historical_stocks.csv"
   ]
  },
  {
   "cell_type": "code",
   "execution_count": 1,
   "metadata": {
    "_cell_guid": "b1076dfc-b9ad-4769-8c92-a6c4dae69d19",
    "_uuid": "8f2839f25d086af736a60e9eeb907d3b93b6e0e5"
   },
   "outputs": [
    {
     "name": "stdout",
     "output_type": "stream",
     "text": [
      "/kaggle/input/daily-historical-stock-prices-1970-2018/historical_stock_prices.csv\n",
      "/kaggle/input/daily-historical-stock-prices-1970-2018/historical_stocks.csv\n"
     ]
    }
   ],
   "source": [
    "# This Python 3 environment comes with many helpful analytics libraries installed\n",
    "# It is defined by the kaggle/python docker image: https://github.com/kaggle/docker-python\n",
    "# For example, here's several helpful packages to load in \n",
    "\n",
    "import numpy as np # linear algebra\n",
    "import pandas as pd # data processing, CSV file I/O (e.g. pd.read_csv)\n",
    "import matplotlib.pyplot as plt #ploting graphics\n",
    "\n",
    "import os\n",
    "for dirname, _, filenames in os.walk('/kaggle/input'):\n",
    "    for filename in filenames:\n",
    "        print(os.path.join(dirname, filename))\n",
    "\n",
    "# Any results you write to the current directory are saved as output."
   ]
  },
  {
   "cell_type": "markdown",
   "metadata": {},
   "source": [
    "Starting by visualizing data;"
   ]
  },
  {
   "cell_type": "code",
   "execution_count": 2,
   "metadata": {
    "_cell_guid": "79c7e3d0-c299-4dcb-8224-4455121ee9b0",
    "_uuid": "d629ff2d2480ee46fbb7e2d37f6b5fab8052498a"
   },
   "outputs": [],
   "source": [
    "missing_values = [\"n/a\", \"na\", \"--\"]\n",
    "\n",
    "#stock_prices = pd.read_csv('../input/daily-historical-stock-prices-1970-2018/historical_stock_prices.csv')\n",
    "stocks = pd.read_csv('../input/daily-historical-stock-prices-1970-2018/historical_stocks.csv',na_values = missing_values)"
   ]
  },
  {
   "cell_type": "markdown",
   "metadata": {},
   "source": [
    "Let's start with a small preview of the corresponding dataframe read previously;"
   ]
  },
  {
   "cell_type": "code",
   "execution_count": 3,
   "metadata": {},
   "outputs": [
    {
     "data": {
      "text/html": [
       "<div>\n",
       "<style scoped>\n",
       "    .dataframe tbody tr th:only-of-type {\n",
       "        vertical-align: middle;\n",
       "    }\n",
       "\n",
       "    .dataframe tbody tr th {\n",
       "        vertical-align: top;\n",
       "    }\n",
       "\n",
       "    .dataframe thead th {\n",
       "        text-align: right;\n",
       "    }\n",
       "</style>\n",
       "<table border=\"1\" class=\"dataframe\">\n",
       "  <thead>\n",
       "    <tr style=\"text-align: right;\">\n",
       "      <th></th>\n",
       "      <th>ticker</th>\n",
       "      <th>exchange</th>\n",
       "      <th>name</th>\n",
       "      <th>sector</th>\n",
       "      <th>industry</th>\n",
       "    </tr>\n",
       "  </thead>\n",
       "  <tbody>\n",
       "    <tr>\n",
       "      <th>0</th>\n",
       "      <td>PIH</td>\n",
       "      <td>NASDAQ</td>\n",
       "      <td>1347 PROPERTY INSURANCE HOLDINGS, INC.</td>\n",
       "      <td>FINANCE</td>\n",
       "      <td>PROPERTY-CASUALTY INSURERS</td>\n",
       "    </tr>\n",
       "    <tr>\n",
       "      <th>1</th>\n",
       "      <td>PIHPP</td>\n",
       "      <td>NASDAQ</td>\n",
       "      <td>1347 PROPERTY INSURANCE HOLDINGS, INC.</td>\n",
       "      <td>FINANCE</td>\n",
       "      <td>PROPERTY-CASUALTY INSURERS</td>\n",
       "    </tr>\n",
       "    <tr>\n",
       "      <th>2</th>\n",
       "      <td>TURN</td>\n",
       "      <td>NASDAQ</td>\n",
       "      <td>180 DEGREE CAPITAL CORP.</td>\n",
       "      <td>FINANCE</td>\n",
       "      <td>FINANCE/INVESTORS SERVICES</td>\n",
       "    </tr>\n",
       "    <tr>\n",
       "      <th>3</th>\n",
       "      <td>FLWS</td>\n",
       "      <td>NASDAQ</td>\n",
       "      <td>1-800 FLOWERS.COM, INC.</td>\n",
       "      <td>CONSUMER SERVICES</td>\n",
       "      <td>OTHER SPECIALTY STORES</td>\n",
       "    </tr>\n",
       "    <tr>\n",
       "      <th>4</th>\n",
       "      <td>FCCY</td>\n",
       "      <td>NASDAQ</td>\n",
       "      <td>1ST CONSTITUTION BANCORP (NJ)</td>\n",
       "      <td>FINANCE</td>\n",
       "      <td>SAVINGS INSTITUTIONS</td>\n",
       "    </tr>\n",
       "  </tbody>\n",
       "</table>\n",
       "</div>"
      ],
      "text/plain": [
       "  ticker exchange                                    name             sector  \\\n",
       "0    PIH   NASDAQ  1347 PROPERTY INSURANCE HOLDINGS, INC.            FINANCE   \n",
       "1  PIHPP   NASDAQ  1347 PROPERTY INSURANCE HOLDINGS, INC.            FINANCE   \n",
       "2   TURN   NASDAQ                180 DEGREE CAPITAL CORP.            FINANCE   \n",
       "3   FLWS   NASDAQ                 1-800 FLOWERS.COM, INC.  CONSUMER SERVICES   \n",
       "4   FCCY   NASDAQ           1ST CONSTITUTION BANCORP (NJ)            FINANCE   \n",
       "\n",
       "                     industry  \n",
       "0  PROPERTY-CASUALTY INSURERS  \n",
       "1  PROPERTY-CASUALTY INSURERS  \n",
       "2  FINANCE/INVESTORS SERVICES  \n",
       "3      OTHER SPECIALTY STORES  \n",
       "4        SAVINGS INSTITUTIONS  "
      ]
     },
     "execution_count": 3,
     "metadata": {},
     "output_type": "execute_result"
    }
   ],
   "source": [
    "stocks.head()"
   ]
  },
  {
   "cell_type": "code",
   "execution_count": 4,
   "metadata": {},
   "outputs": [
    {
     "data": {
      "text/plain": [
       "Index(['ticker', 'exchange', 'name', 'sector', 'industry'], dtype='object')"
      ]
     },
     "execution_count": 4,
     "metadata": {},
     "output_type": "execute_result"
    }
   ],
   "source": [
    "stocks.columns"
   ]
  },
  {
   "cell_type": "markdown",
   "metadata": {},
   "source": [
    "We realize there are 5 columns:\n",
    "- 'ticker' corresponds to the name of the share\n",
    "- 'exchange' corresponds to the type of exchange made \n",
    "- 'name' refers the company's name\n",
    "- 'sector' refers to the actual sector where the given company operates\n",
    "- 'industry' specifies the type of services that can be provided"
   ]
  },
  {
   "cell_type": "code",
   "execution_count": 5,
   "metadata": {},
   "outputs": [
    {
     "data": {
      "text/plain": [
       "(6460, 5)"
      ]
     },
     "execution_count": 5,
     "metadata": {},
     "output_type": "execute_result"
    }
   ],
   "source": [
    "stocks.shape"
   ]
  },
  {
   "cell_type": "code",
   "execution_count": 6,
   "metadata": {},
   "outputs": [
    {
     "data": {
      "text/plain": [
       "6460"
      ]
     },
     "execution_count": 6,
     "metadata": {},
     "output_type": "execute_result"
    }
   ],
   "source": [
    "stocks['ticker'].unique().size"
   ]
  },
  {
   "cell_type": "markdown",
   "metadata": {},
   "source": [
    "> We realize there are 6460 entries to the table, where the unique identifiers are the share's names, meaning that a company's name can show up twice if it has, throughout the established period of time, changed the name of it's stocks. We will note that, for having to change the type of exchange, the companies also changed the name of the shares;\n",
    "\n",
    "> One example of this is:"
   ]
  },
  {
   "cell_type": "code",
   "execution_count": 7,
   "metadata": {},
   "outputs": [
    {
     "data": {
      "text/html": [
       "<div>\n",
       "<style scoped>\n",
       "    .dataframe tbody tr th:only-of-type {\n",
       "        vertical-align: middle;\n",
       "    }\n",
       "\n",
       "    .dataframe tbody tr th {\n",
       "        vertical-align: top;\n",
       "    }\n",
       "\n",
       "    .dataframe thead th {\n",
       "        text-align: right;\n",
       "    }\n",
       "</style>\n",
       "<table border=\"1\" class=\"dataframe\">\n",
       "  <thead>\n",
       "    <tr style=\"text-align: right;\">\n",
       "      <th></th>\n",
       "      <th>ticker</th>\n",
       "      <th>exchange</th>\n",
       "      <th>name</th>\n",
       "      <th>sector</th>\n",
       "      <th>industry</th>\n",
       "    </tr>\n",
       "  </thead>\n",
       "  <tbody>\n",
       "    <tr>\n",
       "      <th>0</th>\n",
       "      <td>PIH</td>\n",
       "      <td>NASDAQ</td>\n",
       "      <td>1347 PROPERTY INSURANCE HOLDINGS, INC.</td>\n",
       "      <td>FINANCE</td>\n",
       "      <td>PROPERTY-CASUALTY INSURERS</td>\n",
       "    </tr>\n",
       "    <tr>\n",
       "      <th>1</th>\n",
       "      <td>PIHPP</td>\n",
       "      <td>NASDAQ</td>\n",
       "      <td>1347 PROPERTY INSURANCE HOLDINGS, INC.</td>\n",
       "      <td>FINANCE</td>\n",
       "      <td>PROPERTY-CASUALTY INSURERS</td>\n",
       "    </tr>\n",
       "  </tbody>\n",
       "</table>\n",
       "</div>"
      ],
      "text/plain": [
       "  ticker exchange                                    name   sector  \\\n",
       "0    PIH   NASDAQ  1347 PROPERTY INSURANCE HOLDINGS, INC.  FINANCE   \n",
       "1  PIHPP   NASDAQ  1347 PROPERTY INSURANCE HOLDINGS, INC.  FINANCE   \n",
       "\n",
       "                     industry  \n",
       "0  PROPERTY-CASUALTY INSURERS  \n",
       "1  PROPERTY-CASUALTY INSURERS  "
      ]
     },
     "execution_count": 7,
     "metadata": {},
     "output_type": "execute_result"
    }
   ],
   "source": [
    "stocks[stocks['name'] == \"1347 PROPERTY INSURANCE HOLDINGS, INC.\"]"
   ]
  },
  {
   "cell_type": "markdown",
   "metadata": {},
   "source": [
    "> The dataset presents missing values on columns 'sector' and 'industry'"
   ]
  },
  {
   "cell_type": "markdown",
   "metadata": {},
   "source": [
    "## Missing values treatment\n",
    "\n",
    "#### The first step is to identify if the companies switched their share name; in the case they did, they can then contain the sector and industry present on another row\n",
    "\n",
    "> Right now we have the following missing values:\n",
    "\n",
    "1. ticker         0\n",
    "2. exchange       0\n",
    "3. name           0\n",
    "4. sector      1440\n",
    "5. industry    1440\n",
    "\n",
    "> In a 6459 rows × 5 columns matrix\n"
   ]
  },
  {
   "cell_type": "markdown",
   "metadata": {},
   "source": [
    "> We want all rows that present null values, so we can obtain the names of the companies that do."
   ]
  },
  {
   "cell_type": "code",
   "execution_count": 8,
   "metadata": {},
   "outputs": [
    {
     "data": {
      "text/html": [
       "<div>\n",
       "<style scoped>\n",
       "    .dataframe tbody tr th:only-of-type {\n",
       "        vertical-align: middle;\n",
       "    }\n",
       "\n",
       "    .dataframe tbody tr th {\n",
       "        vertical-align: top;\n",
       "    }\n",
       "\n",
       "    .dataframe thead th {\n",
       "        text-align: right;\n",
       "    }\n",
       "</style>\n",
       "<table border=\"1\" class=\"dataframe\">\n",
       "  <thead>\n",
       "    <tr style=\"text-align: right;\">\n",
       "      <th></th>\n",
       "      <th>ticker</th>\n",
       "      <th>exchange</th>\n",
       "      <th>name</th>\n",
       "      <th>sector</th>\n",
       "      <th>industry</th>\n",
       "    </tr>\n",
       "  </thead>\n",
       "  <tbody>\n",
       "    <tr>\n",
       "      <th>19</th>\n",
       "      <td>ABP</td>\n",
       "      <td>NASDAQ</td>\n",
       "      <td>ABPRO CORPORATION</td>\n",
       "      <td>NaN</td>\n",
       "      <td>NaN</td>\n",
       "    </tr>\n",
       "    <tr>\n",
       "      <th>42</th>\n",
       "      <td>SQZZ</td>\n",
       "      <td>NASDAQ</td>\n",
       "      <td>ACTIVE ALTS CONTRARIAN ETF</td>\n",
       "      <td>NaN</td>\n",
       "      <td>NaN</td>\n",
       "    </tr>\n",
       "    <tr>\n",
       "      <th>62</th>\n",
       "      <td>ACT</td>\n",
       "      <td>NASDAQ</td>\n",
       "      <td>ADVISORSHARES VICE ETF</td>\n",
       "      <td>NaN</td>\n",
       "      <td>NaN</td>\n",
       "    </tr>\n",
       "    <tr>\n",
       "      <th>100</th>\n",
       "      <td>ABDC</td>\n",
       "      <td>NASDAQ</td>\n",
       "      <td>ALCENTRA CAPITAL CORP.</td>\n",
       "      <td>NaN</td>\n",
       "      <td>NaN</td>\n",
       "    </tr>\n",
       "    <tr>\n",
       "      <th>124</th>\n",
       "      <td>SMCP</td>\n",
       "      <td>NASDAQ</td>\n",
       "      <td>ALPHAMARK ACTIVELY MANAGED SMALL CAP ETF</td>\n",
       "      <td>NaN</td>\n",
       "      <td>NaN</td>\n",
       "    </tr>\n",
       "    <tr>\n",
       "      <th>...</th>\n",
       "      <td>...</td>\n",
       "      <td>...</td>\n",
       "      <td>...</td>\n",
       "      <td>...</td>\n",
       "      <td>...</td>\n",
       "    </tr>\n",
       "    <tr>\n",
       "      <th>6393</th>\n",
       "      <td>WIA</td>\n",
       "      <td>NYSE</td>\n",
       "      <td>WESTERN ASSET/CLAYMORE U.S. TREASURY INFLATION...</td>\n",
       "      <td>NaN</td>\n",
       "      <td>NaN</td>\n",
       "    </tr>\n",
       "    <tr>\n",
       "      <th>6431</th>\n",
       "      <td>XFLT</td>\n",
       "      <td>NYSE</td>\n",
       "      <td>XAI OCTAGON FLOATING RATE &amp; ALTERNATIVE INCOME...</td>\n",
       "      <td>NaN</td>\n",
       "      <td>NaN</td>\n",
       "    </tr>\n",
       "    <tr>\n",
       "      <th>6451</th>\n",
       "      <td>ZB^A</td>\n",
       "      <td>NYSE</td>\n",
       "      <td>ZIONS BANCORPORATION</td>\n",
       "      <td>NaN</td>\n",
       "      <td>NaN</td>\n",
       "    </tr>\n",
       "    <tr>\n",
       "      <th>6452</th>\n",
       "      <td>ZB^G</td>\n",
       "      <td>NYSE</td>\n",
       "      <td>ZIONS BANCORPORATION</td>\n",
       "      <td>NaN</td>\n",
       "      <td>NaN</td>\n",
       "    </tr>\n",
       "    <tr>\n",
       "      <th>6453</th>\n",
       "      <td>ZB^H</td>\n",
       "      <td>NYSE</td>\n",
       "      <td>ZIONS BANCORPORATION</td>\n",
       "      <td>NaN</td>\n",
       "      <td>NaN</td>\n",
       "    </tr>\n",
       "  </tbody>\n",
       "</table>\n",
       "<p>1440 rows × 5 columns</p>\n",
       "</div>"
      ],
      "text/plain": [
       "     ticker exchange                                               name  \\\n",
       "19      ABP   NASDAQ                                  ABPRO CORPORATION   \n",
       "42     SQZZ   NASDAQ                         ACTIVE ALTS CONTRARIAN ETF   \n",
       "62      ACT   NASDAQ                             ADVISORSHARES VICE ETF   \n",
       "100    ABDC   NASDAQ                             ALCENTRA CAPITAL CORP.   \n",
       "124    SMCP   NASDAQ           ALPHAMARK ACTIVELY MANAGED SMALL CAP ETF   \n",
       "...     ...      ...                                                ...   \n",
       "6393    WIA     NYSE  WESTERN ASSET/CLAYMORE U.S. TREASURY INFLATION...   \n",
       "6431   XFLT     NYSE  XAI OCTAGON FLOATING RATE & ALTERNATIVE INCOME...   \n",
       "6451   ZB^A     NYSE                               ZIONS BANCORPORATION   \n",
       "6452   ZB^G     NYSE                               ZIONS BANCORPORATION   \n",
       "6453   ZB^H     NYSE                               ZIONS BANCORPORATION   \n",
       "\n",
       "     sector industry  \n",
       "19      NaN      NaN  \n",
       "42      NaN      NaN  \n",
       "62      NaN      NaN  \n",
       "100     NaN      NaN  \n",
       "124     NaN      NaN  \n",
       "...     ...      ...  \n",
       "6393    NaN      NaN  \n",
       "6431    NaN      NaN  \n",
       "6451    NaN      NaN  \n",
       "6452    NaN      NaN  \n",
       "6453    NaN      NaN  \n",
       "\n",
       "[1440 rows x 5 columns]"
      ]
     },
     "execution_count": 8,
     "metadata": {},
     "output_type": "execute_result"
    }
   ],
   "source": [
    "null_data = stocks[stocks.isnull().any(axis=1)]\n",
    "null_data"
   ]
  },
  {
   "cell_type": "markdown",
   "metadata": {},
   "source": [
    "> We realize that, by standard, all rows that do not have sector, do not have industry either and vice-versa."
   ]
  },
  {
   "cell_type": "markdown",
   "metadata": {},
   "source": [
    "### This function checks for companies that changed their ticker name\n",
    "\n",
    "> If any did, we check if there are some other instances of that same company where the sector and industry information is present."
   ]
  },
  {
   "cell_type": "code",
   "execution_count": 9,
   "metadata": {},
   "outputs": [],
   "source": [
    "pd.options.mode.chained_assignment = None\n",
    "names = null_data['name'].unique()\n",
    "\n",
    "for companie in names:\n",
    "    \n",
    "    data = stocks[stocks['name'] == companie]\n",
    "    \n",
    "    for index,row in data.iterrows():\n",
    "        \n",
    "        if(not pd.isnull(row['sector'])):\n",
    "            \n",
    "            sector = row['sector']\n",
    "            industry = row['industry']\n",
    "            \n",
    "            tmp = stocks[stocks['name'] == row['name']]\n",
    "            tmp[\"sector\"] = tmp[\"sector\"].fillna(sector)\n",
    "            tmp['industry'] = tmp['industry'].fillna(industry)\n",
    "            stocks[stocks['name'] == row['name']] = tmp\n"
   ]
  },
  {
   "cell_type": "code",
   "execution_count": 10,
   "metadata": {},
   "outputs": [
    {
     "data": {
      "text/plain": [
       "ticker         0\n",
       "exchange       0\n",
       "name           0\n",
       "sector      1018\n",
       "industry    1018\n",
       "dtype: int64"
      ]
     },
     "execution_count": 10,
     "metadata": {},
     "output_type": "execute_result"
    }
   ],
   "source": [
    "stocks.isnull().sum()"
   ]
  },
  {
   "cell_type": "markdown",
   "metadata": {},
   "source": [
    "> After this operation, we remain with a 6459 rows × 5 columns matrix, but we have different numbers of missing values, respectively:\n",
    "\n",
    "1. ticker         0\n",
    "2. exchange       0\n",
    "3. name           0\n",
    "4. sector      1018\n",
    "5. industry    1018\n",
    "6. dtype: int64"
   ]
  },
  {
   "cell_type": "markdown",
   "metadata": {},
   "source": [
    "### In this part, all remaining missing values will be removed from the dataset, mainly for the reason that there is not sufficient information that allows us to fill these values, given the variety of sector and industries existant.\n",
    "> We now have a 5442 rows × 5 columns matrix"
   ]
  },
  {
   "cell_type": "code",
   "execution_count": 11,
   "metadata": {},
   "outputs": [
    {
     "data": {
      "text/plain": [
       "ticker      0\n",
       "exchange    0\n",
       "name        0\n",
       "sector      0\n",
       "industry    0\n",
       "dtype: int64"
      ]
     },
     "execution_count": 11,
     "metadata": {},
     "output_type": "execute_result"
    }
   ],
   "source": [
    "stocks = stocks.dropna(how='any',axis=0) \n",
    "stocks.isnull().sum()"
   ]
  },
  {
   "cell_type": "markdown",
   "metadata": {},
   "source": [
    "# Dataset exploration\n",
    "\n",
    "> Predominant sectors\n",
    "\n",
    "> Predominant industries\n",
    "\n",
    "> Types of stock exchanges on which we operate"
   ]
  },
  {
   "cell_type": "code",
   "execution_count": 12,
   "metadata": {},
   "outputs": [
    {
     "data": {
      "text/plain": [
       "4551"
      ]
     },
     "execution_count": 12,
     "metadata": {},
     "output_type": "execute_result"
    }
   ],
   "source": [
    "stocks['name'].unique().size"
   ]
  },
  {
   "cell_type": "code",
   "execution_count": 13,
   "metadata": {},
   "outputs": [
    {
     "data": {
      "text/plain": [
       "NASDAQ    2855\n",
       "NYSE      2587\n",
       "Name: exchange, dtype: int64"
      ]
     },
     "execution_count": 13,
     "metadata": {},
     "output_type": "execute_result"
    }
   ],
   "source": [
    "stocks['exchange'].value_counts()"
   ]
  },
  {
   "cell_type": "code",
   "execution_count": 14,
   "metadata": {},
   "outputs": [
    {
     "data": {
      "text/plain": [
       "<matplotlib.axes._subplots.AxesSubplot at 0x7fd17b56eda0>"
      ]
     },
     "execution_count": 14,
     "metadata": {},
     "output_type": "execute_result"
    },
    {
     "data": {
      "image/png": "[encoded data removed]",
      "text/plain": [
       "<Figure size 432x288 with 1 Axes>"
      ]
     },
     "metadata": {
      "needs_background": "light"
     },
     "output_type": "display_data"
    }
   ],
   "source": [
    "stocks['exchange'].value_counts().plot(kind='bar', title='Types of exchanges')"
   ]
  },
  {
   "cell_type": "markdown",
   "metadata": {},
   "source": [
    "The number of shares in each type of exchange is rather balanced, which is good for the purpose of ML."
   ]
  },
  {
   "cell_type": "code",
   "execution_count": 15,
   "metadata": {},
   "outputs": [
    {
     "data": {
      "text/plain": [
       "FINANCE                  1222\n",
       "CONSUMER SERVICES         959\n",
       "HEALTH CARE               784\n",
       "TECHNOLOGY                609\n",
       "CAPITAL GOODS             356\n",
       "ENERGY                    295\n",
       "PUBLIC UTILITIES          287\n",
       "BASIC INDUSTRIES          276\n",
       "CONSUMER NON-DURABLES     226\n",
       "CONSUMER DURABLES         147\n",
       "MISCELLANEOUS             142\n",
       "TRANSPORTATION            138\n",
       "SECTOR                      1\n",
       "Name: sector, dtype: int64"
      ]
     },
     "execution_count": 15,
     "metadata": {},
     "output_type": "execute_result"
    }
   ],
   "source": [
    "stocks['sector'].value_counts()"
   ]
  },
  {
   "cell_type": "code",
   "execution_count": 16,
   "metadata": {},
   "outputs": [
    {
     "data": {
      "text/plain": [
       "(5441, 5)"
      ]
     },
     "execution_count": 16,
     "metadata": {},
     "output_type": "execute_result"
    }
   ],
   "source": [
    "stocks = stocks[stocks['sector'] != 'SECTOR']\n",
    "stocks.shape\n",
    "#remover a linha dummy"
   ]
  },
  {
   "cell_type": "code",
   "execution_count": 17,
   "metadata": {},
   "outputs": [
    {
     "data": {
      "text/plain": [
       "<matplotlib.axes._subplots.AxesSubplot at 0x7fd17b4bf5c0>"
      ]
     },
     "execution_count": 17,
     "metadata": {},
     "output_type": "execute_result"
    },
    {
     "data": {
      "image/png": "[encoded data removed]",
      "text/plain": [
       "<Figure size 432x288 with 1 Axes>"
      ]
     },
     "metadata": {
      "needs_background": "light"
     },
     "output_type": "display_data"
    }
   ],
   "source": [
    "stocks['sector'].value_counts().plot(kind='barh', title='Sectors')"
   ]
  },
  {
   "cell_type": "markdown",
   "metadata": {},
   "source": [
    "We realize the, throughout the dataset, the Finances sector dominates the sector column, up there with Consumer services and Health care. We can also consider technology, if we allow such leverage."
   ]
  },
  {
   "cell_type": "code",
   "execution_count": 29,
   "metadata": {},
   "outputs": [
    {
     "data": {
      "text/plain": [
       "Text(0, 0.5, '')"
      ]
     },
     "execution_count": 29,
     "metadata": {},
     "output_type": "execute_result"
    },
    {
     "data": {
      "image/png": "[encoded data removed]",
      "text/plain": [
       "<Figure size 432x288 with 1 Axes>"
      ]
     },
     "metadata": {},
     "output_type": "display_data"
    }
   ],
   "source": [
    "ax=stocks['sector'].value_counts().plot(kind='pie', title='Sectors', )\n",
    "ax.set_ylabel('')"
   ]
  },
  {
   "cell_type": "markdown",
   "metadata": {},
   "source": [
    "##  Industry"
   ]
  },
  {
   "cell_type": "code",
   "execution_count": 19,
   "metadata": {},
   "outputs": [
    {
     "data": {
      "text/plain": [
       "MAJOR BANKS                                        444\n",
       "MAJOR PHARMACEUTICALS                              419\n",
       "REAL ESTATE INVESTMENT TRUSTS                      377\n",
       "BUSINESS SERVICES                                  248\n",
       "OIL & GAS PRODUCTION                               162\n",
       "                                                  ... \n",
       "PRECISION INSTRUMENTS                                1\n",
       "DIVERSIFIED ELECTRONIC PRODUCTS                      1\n",
       "CONSUMER: GREETING CARDS                             1\n",
       "TOOLS/HARDWARE                                       1\n",
       "GENERAL BLDG CONTRACTORS - NONRESIDENTIAL BLDGS      1\n",
       "Name: industry, Length: 135, dtype: int64"
      ]
     },
     "execution_count": 19,
     "metadata": {},
     "output_type": "execute_result"
    }
   ],
   "source": [
    "stocks['industry'].value_counts()"
   ]
  },
  {
   "cell_type": "code",
   "execution_count": 20,
   "metadata": {},
   "outputs": [
    {
     "data": {
      "text/plain": [
       "<matplotlib.axes._subplots.AxesSubplot at 0x7fd17930a7f0>"
      ]
     },
     "execution_count": 20,
     "metadata": {},
     "output_type": "execute_result"
    },
    {
     "data": {
      "image/png": "[encoded data removed]",
      "text/plain": [
       "<Figure size 432x288 with 1 Axes>"
      ]
     },
     "metadata": {
      "needs_background": "light"
     },
     "output_type": "display_data"
    }
   ],
   "source": [
    "absolute_frequency_top10 = stocks['industry'].value_counts()[:10].copy()\n",
    "absolute_frequency_top10 = absolute_frequency_top10.rename('')\n",
    "absolute_frequency_top10.plot(kind='barh')"
   ]
  },
  {
   "cell_type": "markdown",
   "metadata": {},
   "source": [
    "We can observe two major industries ruling the dataset by a considerable margin: Major Pharmaceuticals and Major Banks."
   ]
  },
  {
   "cell_type": "code",
   "execution_count": 21,
   "metadata": {},
   "outputs": [
    {
     "data": {
      "text/plain": [
       "<matplotlib.axes._subplots.AxesSubplot at 0x7fd1792ebd68>"
      ]
     },
     "execution_count": 21,
     "metadata": {},
     "output_type": "execute_result"
    },
    {
     "data": {
      "image/png": "[encoded data removed]",
      "text/plain": [
       "<Figure size 432x288 with 1 Axes>"
      ]
     },
     "metadata": {},
     "output_type": "display_data"
    }
   ],
   "source": [
    "absolute_frequency_top10.plot(kind='pie')"
   ]
  },
  {
   "cell_type": "markdown",
   "metadata": {},
   "source": [
    "Let's dive down on the rate of changing in terms of share name."
   ]
  },
  {
   "cell_type": "code",
   "execution_count": 22,
   "metadata": {},
   "outputs": [],
   "source": [
    "dif_exchange_x_ticker_exchange = stocks.groupby(['name','sector','industry'])['ticker'].agg(ticker_exchange=('ticker','count'), exchange=('exchange','count'))\n",
    "dif_exchange_x_ticker= stocks.groupby(['name','sector','industry'])['ticker'].agg(ticker_exchange=('ticker','count'))\n",
    "change_on = dif_exchange_x_ticker[dif_exchange_x_ticker['ticker_exchange'] >=2].sort_values(by='ticker_exchange', ascending=False).apply(lambda x : x-1)\n",
    "change_off = dif_exchange_x_ticker[dif_exchange_x_ticker['ticker_exchange'] < 2].apply(lambda x : x-1)"
   ]
  },
  {
   "cell_type": "code",
   "execution_count": 23,
   "metadata": {},
   "outputs": [
    {
     "data": {
      "text/html": [
       "<div>\n",
       "<style scoped>\n",
       "    .dataframe tbody tr th:only-of-type {\n",
       "        vertical-align: middle;\n",
       "    }\n",
       "\n",
       "    .dataframe tbody tr th {\n",
       "        vertical-align: top;\n",
       "    }\n",
       "\n",
       "    .dataframe thead th {\n",
       "        text-align: right;\n",
       "    }\n",
       "</style>\n",
       "<table border=\"1\" class=\"dataframe\">\n",
       "  <thead>\n",
       "    <tr style=\"text-align: right;\">\n",
       "      <th></th>\n",
       "      <th></th>\n",
       "      <th></th>\n",
       "      <th>ticker_exchange</th>\n",
       "      <th>exchange</th>\n",
       "    </tr>\n",
       "    <tr>\n",
       "      <th>name</th>\n",
       "      <th>sector</th>\n",
       "      <th>industry</th>\n",
       "      <th></th>\n",
       "      <th></th>\n",
       "    </tr>\n",
       "  </thead>\n",
       "  <tbody>\n",
       "    <tr>\n",
       "      <th>1-800 FLOWERS.COM, INC.</th>\n",
       "      <th>CONSUMER SERVICES</th>\n",
       "      <th>OTHER SPECIALTY STORES</th>\n",
       "      <td>1</td>\n",
       "      <td>1</td>\n",
       "    </tr>\n",
       "    <tr>\n",
       "      <th>1347 PROPERTY INSURANCE HOLDINGS, INC.</th>\n",
       "      <th>FINANCE</th>\n",
       "      <th>PROPERTY-CASUALTY INSURERS</th>\n",
       "      <td>2</td>\n",
       "      <td>2</td>\n",
       "    </tr>\n",
       "    <tr>\n",
       "      <th>180 DEGREE CAPITAL CORP.</th>\n",
       "      <th>FINANCE</th>\n",
       "      <th>FINANCE/INVESTORS SERVICES</th>\n",
       "      <td>1</td>\n",
       "      <td>1</td>\n",
       "    </tr>\n",
       "    <tr>\n",
       "      <th>1ST CONSTITUTION BANCORP (NJ)</th>\n",
       "      <th>FINANCE</th>\n",
       "      <th>SAVINGS INSTITUTIONS</th>\n",
       "      <td>1</td>\n",
       "      <td>1</td>\n",
       "    </tr>\n",
       "    <tr>\n",
       "      <th>1ST SOURCE CORPORATION</th>\n",
       "      <th>FINANCE</th>\n",
       "      <th>MAJOR BANKS</th>\n",
       "      <td>1</td>\n",
       "      <td>1</td>\n",
       "    </tr>\n",
       "    <tr>\n",
       "      <th>...</th>\n",
       "      <th>...</th>\n",
       "      <th>...</th>\n",
       "      <td>...</td>\n",
       "      <td>...</td>\n",
       "    </tr>\n",
       "    <tr>\n",
       "      <th>ZUMIEZ INC.</th>\n",
       "      <th>CONSUMER SERVICES</th>\n",
       "      <th>CLOTHING/SHOE/ACCESSORY STORES</th>\n",
       "      <td>1</td>\n",
       "      <td>1</td>\n",
       "    </tr>\n",
       "    <tr>\n",
       "      <th>ZUORA, INC.</th>\n",
       "      <th>TECHNOLOGY</th>\n",
       "      <th>COMPUTER SOFTWARE: PREPACKAGED SOFTWARE</th>\n",
       "      <td>1</td>\n",
       "      <td>1</td>\n",
       "    </tr>\n",
       "    <tr>\n",
       "      <th>ZYMEWORKS INC.</th>\n",
       "      <th>HEALTH CARE</th>\n",
       "      <th>MAJOR PHARMACEUTICALS</th>\n",
       "      <td>1</td>\n",
       "      <td>1</td>\n",
       "    </tr>\n",
       "    <tr>\n",
       "      <th>ZYNERBA PHARMACEUTICALS, INC.</th>\n",
       "      <th>HEALTH CARE</th>\n",
       "      <th>MAJOR PHARMACEUTICALS</th>\n",
       "      <td>1</td>\n",
       "      <td>1</td>\n",
       "    </tr>\n",
       "    <tr>\n",
       "      <th>ZYNGA INC.</th>\n",
       "      <th>TECHNOLOGY</th>\n",
       "      <th>EDP SERVICES</th>\n",
       "      <td>1</td>\n",
       "      <td>1</td>\n",
       "    </tr>\n",
       "  </tbody>\n",
       "</table>\n",
       "<p>4554 rows × 2 columns</p>\n",
       "</div>"
      ],
      "text/plain": [
       "                                                                                                  ticker_exchange  \\\n",
       "name                                   sector            industry                                                   \n",
       "1-800 FLOWERS.COM, INC.                CONSUMER SERVICES OTHER SPECIALTY STORES                                 1   \n",
       "1347 PROPERTY INSURANCE HOLDINGS, INC. FINANCE           PROPERTY-CASUALTY INSURERS                             2   \n",
       "180 DEGREE CAPITAL CORP.               FINANCE           FINANCE/INVESTORS SERVICES                             1   \n",
       "1ST CONSTITUTION BANCORP (NJ)          FINANCE           SAVINGS INSTITUTIONS                                   1   \n",
       "1ST SOURCE CORPORATION                 FINANCE           MAJOR BANKS                                            1   \n",
       "...                                                                                                           ...   \n",
       "ZUMIEZ INC.                            CONSUMER SERVICES CLOTHING/SHOE/ACCESSORY STORES                         1   \n",
       "ZUORA, INC.                            TECHNOLOGY        COMPUTER SOFTWARE: PREPACKAGED SOFTWARE                1   \n",
       "ZYMEWORKS INC.                         HEALTH CARE       MAJOR PHARMACEUTICALS                                  1   \n",
       "ZYNERBA PHARMACEUTICALS, INC.          HEALTH CARE       MAJOR PHARMACEUTICALS                                  1   \n",
       "ZYNGA INC.                             TECHNOLOGY        EDP SERVICES                                           1   \n",
       "\n",
       "                                                                                                  exchange  \n",
       "name                                   sector            industry                                           \n",
       "1-800 FLOWERS.COM, INC.                CONSUMER SERVICES OTHER SPECIALTY STORES                          1  \n",
       "1347 PROPERTY INSURANCE HOLDINGS, INC. FINANCE           PROPERTY-CASUALTY INSURERS                      2  \n",
       "180 DEGREE CAPITAL CORP.               FINANCE           FINANCE/INVESTORS SERVICES                      1  \n",
       "1ST CONSTITUTION BANCORP (NJ)          FINANCE           SAVINGS INSTITUTIONS                            1  \n",
       "1ST SOURCE CORPORATION                 FINANCE           MAJOR BANKS                                     1  \n",
       "...                                                                                                    ...  \n",
       "ZUMIEZ INC.                            CONSUMER SERVICES CLOTHING/SHOE/ACCESSORY STORES                  1  \n",
       "ZUORA, INC.                            TECHNOLOGY        COMPUTER SOFTWARE: PREPACKAGED SOFTWARE         1  \n",
       "ZYMEWORKS INC.                         HEALTH CARE       MAJOR PHARMACEUTICALS                           1  \n",
       "ZYNERBA PHARMACEUTICALS, INC.          HEALTH CARE       MAJOR PHARMACEUTICALS                           1  \n",
       "ZYNGA INC.                             TECHNOLOGY        EDP SERVICES                                    1  \n",
       "\n",
       "[4554 rows x 2 columns]"
      ]
     },
     "execution_count": 23,
     "metadata": {},
     "output_type": "execute_result"
    }
   ],
   "source": [
    "dif_exchange_x_ticker_exchange"
   ]
  },
  {
   "cell_type": "code",
   "execution_count": 24,
   "metadata": {},
   "outputs": [
    {
     "data": {
      "text/plain": [
       "ticker_exchange    4554\n",
       "exchange           4554\n",
       "dtype: int64"
      ]
     },
     "execution_count": 24,
     "metadata": {},
     "output_type": "execute_result"
    }
   ],
   "source": [
    "dif_exchange_x_ticker_exchange[dif_exchange_x_ticker_exchange['exchange'] == dif_exchange_x_ticker_exchange['ticker_exchange']].count()"
   ]
  },
  {
   "cell_type": "markdown",
   "metadata": {},
   "source": [
    "By the operation above, we see that the number of ticker names and types of exchange are the same, which tells us, by knowing that there are not equal tickers in the dataset, that change to/from either type of exchange requires rebranding of the share, so we can simply identify it by the ticker, like we did priviously. We may also consider that the ticker name might be changed for marketing purposes and maintaining it's type of exchange.\n",
    "\n",
    "It is worth noting that we will not include the type of exchange as we consider that it doesn't add information: **for now**,we do not have dates of these changes nor the info regarding if the shares still exist or not, so we cannot identify if there's some sort of shitf in favor of any of the types of exchange. So we won't be using type of exchange on the rest of this topic."
   ]
  },
  {
   "cell_type": "code",
   "execution_count": 25,
   "metadata": {},
   "outputs": [
    {
     "data": {
      "text/html": [
       "<div>\n",
       "<style scoped>\n",
       "    .dataframe tbody tr th:only-of-type {\n",
       "        vertical-align: middle;\n",
       "    }\n",
       "\n",
       "    .dataframe tbody tr th {\n",
       "        vertical-align: top;\n",
       "    }\n",
       "\n",
       "    .dataframe thead th {\n",
       "        text-align: right;\n",
       "    }\n",
       "</style>\n",
       "<table border=\"1\" class=\"dataframe\">\n",
       "  <thead>\n",
       "    <tr style=\"text-align: right;\">\n",
       "      <th></th>\n",
       "      <th></th>\n",
       "      <th></th>\n",
       "      <th>ticker_exchange</th>\n",
       "    </tr>\n",
       "    <tr>\n",
       "      <th>name</th>\n",
       "      <th>sector</th>\n",
       "      <th>industry</th>\n",
       "      <th></th>\n",
       "    </tr>\n",
       "  </thead>\n",
       "  <tbody>\n",
       "    <tr>\n",
       "      <th>1-800 FLOWERS.COM, INC.</th>\n",
       "      <th>CONSUMER SERVICES</th>\n",
       "      <th>OTHER SPECIALTY STORES</th>\n",
       "      <td>0</td>\n",
       "    </tr>\n",
       "    <tr>\n",
       "      <th>180 DEGREE CAPITAL CORP.</th>\n",
       "      <th>FINANCE</th>\n",
       "      <th>FINANCE/INVESTORS SERVICES</th>\n",
       "      <td>0</td>\n",
       "    </tr>\n",
       "    <tr>\n",
       "      <th>1ST CONSTITUTION BANCORP (NJ)</th>\n",
       "      <th>FINANCE</th>\n",
       "      <th>SAVINGS INSTITUTIONS</th>\n",
       "      <td>0</td>\n",
       "    </tr>\n",
       "    <tr>\n",
       "      <th>1ST SOURCE CORPORATION</th>\n",
       "      <th>FINANCE</th>\n",
       "      <th>MAJOR BANKS</th>\n",
       "      <td>0</td>\n",
       "    </tr>\n",
       "    <tr>\n",
       "      <th>21VIANET GROUP, INC.</th>\n",
       "      <th>TECHNOLOGY</th>\n",
       "      <th>COMPUTER SOFTWARE: PROGRAMMING, DATA PROCESSING</th>\n",
       "      <td>0</td>\n",
       "    </tr>\n",
       "    <tr>\n",
       "      <th>...</th>\n",
       "      <th>...</th>\n",
       "      <th>...</th>\n",
       "      <td>...</td>\n",
       "    </tr>\n",
       "    <tr>\n",
       "      <th>ZUMIEZ INC.</th>\n",
       "      <th>CONSUMER SERVICES</th>\n",
       "      <th>CLOTHING/SHOE/ACCESSORY STORES</th>\n",
       "      <td>0</td>\n",
       "    </tr>\n",
       "    <tr>\n",
       "      <th>ZUORA, INC.</th>\n",
       "      <th>TECHNOLOGY</th>\n",
       "      <th>COMPUTER SOFTWARE: PREPACKAGED SOFTWARE</th>\n",
       "      <td>0</td>\n",
       "    </tr>\n",
       "    <tr>\n",
       "      <th>ZYMEWORKS INC.</th>\n",
       "      <th>HEALTH CARE</th>\n",
       "      <th>MAJOR PHARMACEUTICALS</th>\n",
       "      <td>0</td>\n",
       "    </tr>\n",
       "    <tr>\n",
       "      <th>ZYNERBA PHARMACEUTICALS, INC.</th>\n",
       "      <th>HEALTH CARE</th>\n",
       "      <th>MAJOR PHARMACEUTICALS</th>\n",
       "      <td>0</td>\n",
       "    </tr>\n",
       "    <tr>\n",
       "      <th>ZYNGA INC.</th>\n",
       "      <th>TECHNOLOGY</th>\n",
       "      <th>EDP SERVICES</th>\n",
       "      <td>0</td>\n",
       "    </tr>\n",
       "  </tbody>\n",
       "</table>\n",
       "<p>4086 rows × 1 columns</p>\n",
       "</div>"
      ],
      "text/plain": [
       "                                                                                                 ticker_exchange\n",
       "name                          sector            industry                                                        \n",
       "1-800 FLOWERS.COM, INC.       CONSUMER SERVICES OTHER SPECIALTY STORES                                         0\n",
       "180 DEGREE CAPITAL CORP.      FINANCE           FINANCE/INVESTORS SERVICES                                     0\n",
       "1ST CONSTITUTION BANCORP (NJ) FINANCE           SAVINGS INSTITUTIONS                                           0\n",
       "1ST SOURCE CORPORATION        FINANCE           MAJOR BANKS                                                    0\n",
       "21VIANET GROUP, INC.          TECHNOLOGY        COMPUTER SOFTWARE: PROGRAMMING, DATA PROCESSING                0\n",
       "...                                                                                                          ...\n",
       "ZUMIEZ INC.                   CONSUMER SERVICES CLOTHING/SHOE/ACCESSORY STORES                                 0\n",
       "ZUORA, INC.                   TECHNOLOGY        COMPUTER SOFTWARE: PREPACKAGED SOFTWARE                        0\n",
       "ZYMEWORKS INC.                HEALTH CARE       MAJOR PHARMACEUTICALS                                          0\n",
       "ZYNERBA PHARMACEUTICALS, INC. HEALTH CARE       MAJOR PHARMACEUTICALS                                          0\n",
       "ZYNGA INC.                    TECHNOLOGY        EDP SERVICES                                                   0\n",
       "\n",
       "[4086 rows x 1 columns]"
      ]
     },
     "execution_count": 25,
     "metadata": {},
     "output_type": "execute_result"
    }
   ],
   "source": [
    "change_off"
   ]
  },
  {
   "cell_type": "code",
   "execution_count": 26,
   "metadata": {},
   "outputs": [
    {
     "data": {
      "text/html": [
       "<div>\n",
       "<style scoped>\n",
       "    .dataframe tbody tr th:only-of-type {\n",
       "        vertical-align: middle;\n",
       "    }\n",
       "\n",
       "    .dataframe tbody tr th {\n",
       "        vertical-align: top;\n",
       "    }\n",
       "\n",
       "    .dataframe thead th {\n",
       "        text-align: right;\n",
       "    }\n",
       "</style>\n",
       "<table border=\"1\" class=\"dataframe\">\n",
       "  <thead>\n",
       "    <tr style=\"text-align: right;\">\n",
       "      <th></th>\n",
       "      <th></th>\n",
       "      <th></th>\n",
       "      <th>ticker_exchange</th>\n",
       "    </tr>\n",
       "    <tr>\n",
       "      <th>name</th>\n",
       "      <th>sector</th>\n",
       "      <th>industry</th>\n",
       "      <th></th>\n",
       "    </tr>\n",
       "  </thead>\n",
       "  <tbody>\n",
       "    <tr>\n",
       "      <th>BANK OF AMERICA CORPORATION</th>\n",
       "      <th>FINANCE</th>\n",
       "      <th>MAJOR BANKS</th>\n",
       "      <td>15</td>\n",
       "    </tr>\n",
       "    <tr>\n",
       "      <th>WELLS FARGO &amp; COMPANY</th>\n",
       "      <th>FINANCE</th>\n",
       "      <th>MAJOR BANKS</th>\n",
       "      <td>14</td>\n",
       "    </tr>\n",
       "    <tr>\n",
       "      <th>PUBLIC STORAGE</th>\n",
       "      <th>CONSUMER SERVICES</th>\n",
       "      <th>REAL ESTATE INVESTMENT TRUSTS</th>\n",
       "      <td>13</td>\n",
       "    </tr>\n",
       "    <tr>\n",
       "      <th>BARCLAYS PLC</th>\n",
       "      <th>FINANCE</th>\n",
       "      <th>COMMERCIAL BANKS</th>\n",
       "      <td>12</td>\n",
       "    </tr>\n",
       "    <tr>\n",
       "      <th>CREDIT SUISSE AG</th>\n",
       "      <th>FINANCE</th>\n",
       "      <th>INVESTMENT BANKERS/BROKERS/SERVICE</th>\n",
       "      <td>11</td>\n",
       "    </tr>\n",
       "    <tr>\n",
       "      <th>...</th>\n",
       "      <th>...</th>\n",
       "      <th>...</th>\n",
       "      <td>...</td>\n",
       "    </tr>\n",
       "    <tr>\n",
       "      <th>BANK OF NEW YORK MELLON CORPORATION (THE)</th>\n",
       "      <th>FINANCE</th>\n",
       "      <th>MAJOR BANKS</th>\n",
       "      <td>1</td>\n",
       "    </tr>\n",
       "    <tr>\n",
       "      <th>HOVNANIAN ENTERPRISES INC</th>\n",
       "      <th>CAPITAL GOODS</th>\n",
       "      <th>HOMEBUILDING</th>\n",
       "      <td>1</td>\n",
       "    </tr>\n",
       "    <tr>\n",
       "      <th>HOSTESS BRANDS, INC.</th>\n",
       "      <th>CONSUMER NON-DURABLES</th>\n",
       "      <th>PACKAGED FOODS</th>\n",
       "      <td>1</td>\n",
       "    </tr>\n",
       "    <tr>\n",
       "      <th>HOEGH LNG PARTNERS LP</th>\n",
       "      <th>CONSUMER SERVICES</th>\n",
       "      <th>MARINE TRANSPORTATION</th>\n",
       "      <td>1</td>\n",
       "    </tr>\n",
       "    <tr>\n",
       "      <th>1347 PROPERTY INSURANCE HOLDINGS, INC.</th>\n",
       "      <th>FINANCE</th>\n",
       "      <th>PROPERTY-CASUALTY INSURERS</th>\n",
       "      <td>1</td>\n",
       "    </tr>\n",
       "  </tbody>\n",
       "</table>\n",
       "<p>468 rows × 1 columns</p>\n",
       "</div>"
      ],
      "text/plain": [
       "                                                                                                    ticker_exchange\n",
       "name                                      sector                industry                                           \n",
       "BANK OF AMERICA CORPORATION               FINANCE               MAJOR BANKS                                      15\n",
       "WELLS FARGO & COMPANY                     FINANCE               MAJOR BANKS                                      14\n",
       "PUBLIC STORAGE                            CONSUMER SERVICES     REAL ESTATE INVESTMENT TRUSTS                    13\n",
       "BARCLAYS PLC                              FINANCE               COMMERCIAL BANKS                                 12\n",
       "CREDIT SUISSE AG                          FINANCE               INVESTMENT BANKERS/BROKERS/SERVICE               11\n",
       "...                                                                                                             ...\n",
       "BANK OF NEW YORK MELLON CORPORATION (THE) FINANCE               MAJOR BANKS                                       1\n",
       "HOVNANIAN ENTERPRISES INC                 CAPITAL GOODS         HOMEBUILDING                                      1\n",
       "HOSTESS BRANDS, INC.                      CONSUMER NON-DURABLES PACKAGED FOODS                                    1\n",
       "HOEGH LNG PARTNERS LP                     CONSUMER SERVICES     MARINE TRANSPORTATION                             1\n",
       "1347 PROPERTY INSURANCE HOLDINGS, INC.    FINANCE               PROPERTY-CASUALTY INSURERS                        1\n",
       "\n",
       "[468 rows x 1 columns]"
      ]
     },
     "execution_count": 26,
     "metadata": {},
     "output_type": "execute_result"
    }
   ],
   "source": [
    "change_on"
   ]
  },
  {
   "cell_type": "markdown",
   "metadata": {},
   "source": [
    "We produced two distinct dataframes, grouped by the companies' names, names, sectors and industries,respectively, and contemplate the number of changes on ticker:\n",
    "> The first one regards to the companies that did not make any changes, going by the name 'change_off'\n",
    "\n",
    "> The second one regards to the companies that made name changes in the past, going by the name 'change_on'\n"
   ]
  },
  {
   "cell_type": "code",
   "execution_count": 37,
   "metadata": {},
   "outputs": [
    {
     "data": {
      "image/png": "[encoded data removed]",
      "text/plain": [
       "<Figure size 432x288 with 1 Axes>"
      ]
     },
     "metadata": {
      "needs_background": "light"
     },
     "output_type": "display_data"
    }
   ],
   "source": [
    "ax=change_on.groupby('sector').mean().sort_values(by='ticker_exchange',ascending=False).plot(kind='barh',y='ticker_exchange',legend=False, title ='Sectors')\n",
    "#ax.set_ylabel('')"
   ]
  },
  {
   "cell_type": "markdown",
   "metadata": {},
   "source": [
    "We identify that companies on the Finances sector show a mean higher regarding the rebranding of their tickers, followed closely by Transportation and Consumer Services"
   ]
  },
  {
   "cell_type": "code",
   "execution_count": 39,
   "metadata": {},
   "outputs": [
    {
     "data": {
      "image/png": "[encoded data removed]",
      "text/plain": [
       "<Figure size 432x288 with 1 Axes>"
      ]
     },
     "metadata": {
      "needs_background": "light"
     },
     "output_type": "display_data"
    }
   ],
   "source": [
    "ax=change_on.groupby('industry').mean().sort_values(by='ticker_exchange',ascending=False)[:10].plot(kind='barh',y='ticker_exchange',legend=False, title ='Top 10 Industries')\n",
    "#ax.set_ylabel('')"
   ]
  },
  {
   "cell_type": "markdown",
   "metadata": {},
   "source": [
    "Industry wise, we can see that Finances show up big again, equal with Farming/Seeds/Milling. Investment Bankers/Brokers/Service follow right away."
   ]
  },
  {
   "cell_type": "markdown",
   "metadata": {},
   "source": [
    "We conclude the the shallow analysis of the first component of the Stock Prices dataset."
   ]
  }
 ],
 "metadata": {
  "kernelspec": {
   "display_name": "Python 3",
   "language": "python",
   "name": "python3"
  },
  "language_info": {
   "codemirror_mode": {
    "name": "ipython",
    "version": 3
   },
   "file_extension": ".py",
   "mimetype": "text/x-python",
   "name": "python",
   "nbconvert_exporter": "python",
   "pygments_lexer": "ipython3",
   "version": "3.7.3"
  }
 },
 "nbformat": 4,
 "nbformat_minor": 4
}
